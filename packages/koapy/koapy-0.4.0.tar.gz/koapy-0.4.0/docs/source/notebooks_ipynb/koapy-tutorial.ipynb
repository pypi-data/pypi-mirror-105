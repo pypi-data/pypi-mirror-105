{
 "cells": [
  {
   "cell_type": "markdown",
   "metadata": {},
   "source": [
    "# 키움증권 OpenAPI+ 사용 예시"
   ]
  },
  {
   "cell_type": "code",
   "execution_count": 1,
   "metadata": {},
   "outputs": [],
   "source": [
    "import pandas as pd\n",
    "import numpy as np\n",
    "\n",
    "import matplotlib.pyplot as plt"
   ]
  },
  {
   "cell_type": "code",
   "execution_count": 2,
   "metadata": {},
   "outputs": [],
   "source": [
    "import logging\n",
    "\n",
    "logging.basicConfig(\n",
    "    format='%(asctime)s [%(levelname)s] %(message)s - %(filename)s:%(lineno)d',\n",
    "    level=logging.DEBUG)"
   ]
  },
  {
   "cell_type": "code",
   "execution_count": 3,
   "metadata": {},
   "outputs": [],
   "source": [
    "logging.getLogger('matplotlib').setLevel(logging.WARNING)"
   ]
  },
  {
   "cell_type": "markdown",
   "metadata": {},
   "source": [
    "## 1. 엔트리포인트 객체 생성"
   ]
  },
  {
   "cell_type": "code",
   "execution_count": 4,
   "metadata": {},
   "outputs": [
    {
     "name": "stderr",
     "output_type": "stream",
     "text": [
      "2021-05-13 23:46:01,155 [INFO] Note: NumExpr detected 12 cores but \"NUMEXPR_MAX_THREADS\" not set, so enforcing safe limit of 8. - utils.py:129\n",
      "2021-05-13 23:46:01,158 [INFO] NumExpr defaulting to 8 threads. - utils.py:141\n"
     ]
    }
   ],
   "source": [
    "from koapy import KiwoomOpenApiPlusEntrypoint"
   ]
  },
  {
   "cell_type": "code",
   "execution_count": 5,
   "metadata": {},
   "outputs": [
    {
     "name": "stderr",
     "output_type": "stream",
     "text": [
      "2021-05-13 23:46:06,458 [DEBUG] Testing if client is ready... - KiwoomOpenApiPlusEntrypoint.py:96\n",
      "2021-05-13 23:46:06,467 [DEBUG] Client is ready, using existing server - KiwoomOpenApiPlusEntrypoint.py:106\n"
     ]
    }
   ],
   "source": [
    "entrypoint = KiwoomOpenApiPlusEntrypoint()"
   ]
  },
  {
   "cell_type": "markdown",
   "metadata": {},
   "source": [
    "주요한 기능들은 해당 엔트리포인트의 멤버함수로써 제공된다.\n",
    "\n",
    "예를 들어 아래와 같이 서버 접속 이전에도 실행 가능한 아래 함수를 활용하면 OpenAPI 가 정상적으로 로드되었는지 간접적으로 확인 가능하다."
   ]
  },
  {
   "cell_type": "code",
   "execution_count": 6,
   "metadata": {},
   "outputs": [],
   "source": [
    "module_path = entrypoint.GetAPIModulePath()"
   ]
  },
  {
   "cell_type": "code",
   "execution_count": 7,
   "metadata": {},
   "outputs": [
    {
     "data": {
      "text/plain": [
       "'C:\\\\OpenAPI'"
      ]
     },
     "execution_count": 7,
     "metadata": {},
     "output_type": "execute_result"
    }
   ],
   "source": [
    "module_path"
   ]
  },
  {
   "cell_type": "markdown",
   "metadata": {},
   "source": [
    "## 2. 서버 접속"
   ]
  },
  {
   "cell_type": "code",
   "execution_count": 8,
   "metadata": {},
   "outputs": [
    {
     "data": {
      "text/plain": [
       "0"
      ]
     },
     "execution_count": 8,
     "metadata": {},
     "output_type": "execute_result"
    }
   ],
   "source": [
    "entrypoint.EnsureConnected()"
   ]
  },
  {
   "cell_type": "markdown",
   "metadata": {},
   "source": [
    "자동 로그인 설정이 되어있는 경우 로그인이 자동으로 처리되며, 그렇지 않은 경우에는 수동으로 아이디, 비밀번호 등 로그인 정보를 입력해 처리해주어야 한다."
   ]
  },
  {
   "cell_type": "markdown",
   "metadata": {},
   "source": [
    "만약에 함수 인자로 `credential` 정보를 주는 경우 [`pywinauto`](https://github.com/pywinauto/pywinauto) 를 활용하여 자동으로 로그인 처리를 진행한다.\n",
    "앞서 언급한 키움증권에서 기본으로 제공하는 자동 로그인이 아니라 기존에 수동으로 처리하던 과정을 매크로 형태로 자동으로 처리하는 방식이다.\n",
    "참고로 [`pywinauto`](https://github.com/pywinauto/pywinauto) 사용을 위해서는 **관리자 권한**이 필요하다."
   ]
  },
  {
   "cell_type": "code",
   "execution_count": 9,
   "metadata": {},
   "outputs": [],
   "source": [
    "credential = {\n",
    "    'user_id': 'id',\n",
    "    'user_password': 'password',\n",
    "    'cert_password': 'password',\n",
    "    'is_simulation': True,\n",
    "    'account_passwords': {\n",
    "        '0000000000': '0000',\n",
    "    }    \n",
    "}"
   ]
  },
  {
   "cell_type": "code",
   "execution_count": 10,
   "metadata": {},
   "outputs": [
    {
     "data": {
      "text/plain": [
       "0"
      ]
     },
     "execution_count": 10,
     "metadata": {},
     "output_type": "execute_result"
    }
   ],
   "source": [
    "entrypoint.EnsureConnected(credential)"
   ]
  },
  {
   "cell_type": "markdown",
   "metadata": {},
   "source": [
    "참고로 여기서는 이미 로그인이 되어있는 상황이므로 위의 함수가 추가적인 로그인처리를 진행하지는 않게 된다."
   ]
  },
  {
   "cell_type": "markdown",
   "metadata": {},
   "source": [
    "## 3. 기본 함수 실행"
   ]
  },
  {
   "cell_type": "markdown",
   "metadata": {},
   "source": [
    "다시 한번 기본 함수를 통해 접속상태를 확인해보자. 아래 값이 1 인 경우 정상 접속 상태이다. 접속되어 있지 않은 경우라면 0 을 반환한다."
   ]
  },
  {
   "cell_type": "code",
   "execution_count": 11,
   "metadata": {},
   "outputs": [
    {
     "data": {
      "text/plain": [
       "1"
      ]
     },
     "execution_count": 11,
     "metadata": {},
     "output_type": "execute_result"
    }
   ],
   "source": [
    "entrypoint.GetConnectState()"
   ]
  },
  {
   "cell_type": "markdown",
   "metadata": {},
   "source": [
    "이후 예시들에서 사용하기 위해 삼성전자의 코드를 확인한다."
   ]
  },
  {
   "cell_type": "code",
   "execution_count": 12,
   "metadata": {},
   "outputs": [],
   "source": [
    "codes = entrypoint.GetCodeListByMarketAsList('0')\n",
    "names = [entrypoint.GetMasterCodeName(code) for code in codes]"
   ]
  },
  {
   "cell_type": "code",
   "execution_count": 13,
   "metadata": {},
   "outputs": [],
   "source": [
    "codes_by_name = dict(zip(names, codes))"
   ]
  },
  {
   "cell_type": "markdown",
   "metadata": {},
   "source": [
    "위에서 `GetCodeListByMarketAsList()` 함수는 기존의 `GetCodeListByMarket()` 함수 호출시 나오는 문자열 형태의 결과를 편의를 위해 리스트 형태로 변환해서 제공한다."
   ]
  },
  {
   "cell_type": "code",
   "execution_count": 14,
   "metadata": {},
   "outputs": [],
   "source": [
    "code = samsung_code = codes_by_name['삼성전자']"
   ]
  },
  {
   "cell_type": "code",
   "execution_count": 15,
   "metadata": {},
   "outputs": [
    {
     "data": {
      "text/plain": [
       "'005930'"
      ]
     },
     "execution_count": 15,
     "metadata": {},
     "output_type": "execute_result"
    }
   ],
   "source": [
    "code"
   ]
  },
  {
   "cell_type": "markdown",
   "metadata": {},
   "source": [
    "## 4. TR 요청 예시"
   ]
  },
  {
   "cell_type": "markdown",
   "metadata": {},
   "source": [
    "### 상위 함수 사용 예시"
   ]
  },
  {
   "cell_type": "markdown",
   "metadata": {},
   "source": [
    "몇가지 자주 쓰이는 TR 들에 대해서는 요청 및 결과 이벤트 처리까지 완료해서 결과물만 반환하는 상위함수를 제공하고 있다."
   ]
  },
  {
   "cell_type": "code",
   "execution_count": 16,
   "metadata": {},
   "outputs": [],
   "source": [
    "info = entrypoint.GetStockBasicInfoAsDict(code) # opt10001"
   ]
  },
  {
   "cell_type": "code",
   "execution_count": 17,
   "metadata": {},
   "outputs": [
    {
     "data": {
      "text/plain": [
       "{'종목코드': '005930',\n",
       " '종목명': '삼성전자',\n",
       " '결산월': '12',\n",
       " '액면가': '100',\n",
       " '자본금': '7780',\n",
       " '상장주식': '5969783',\n",
       " '신용비율': '+0.16',\n",
       " '연중최고': '+96800',\n",
       " '연중최저': '-78400',\n",
       " '시가총액': '4686279',\n",
       " '시가총액비중': '',\n",
       " '외인소진률': '+53.91',\n",
       " '대용가': '64000',\n",
       " 'PER': '20.44',\n",
       " 'EPS': '3841',\n",
       " 'ROE': '10.0',\n",
       " 'PBR': '1.99',\n",
       " 'EV': '5.49',\n",
       " 'BPS': '39406',\n",
       " '매출액': '2368070',\n",
       " '영업이익': '359939',\n",
       " '당기순이익': '264078',\n",
       " '250최고': '+96800',\n",
       " '250최저': '-47200',\n",
       " '시가': '-78900',\n",
       " '고가': '-79600',\n",
       " '저가': '-78400',\n",
       " '상한가': '+104000',\n",
       " '하한가': '-56000',\n",
       " '기준가': '80000',\n",
       " '예상체결가': '-0',\n",
       " '예상체결수량': '0',\n",
       " '250최고가일': '20210111',\n",
       " '250최고가대비율': '-18.90',\n",
       " '250최저가일': '20200513',\n",
       " '250최저가대비율': '+66.31',\n",
       " '현재가': '-78500',\n",
       " '대비기호': '5',\n",
       " '전일대비': '-1500',\n",
       " '등락율': '-1.88',\n",
       " '거래량': '31490096',\n",
       " '거래대비': '-87.93',\n",
       " '액면가단위': '원',\n",
       " '유통주식': '4706743',\n",
       " '유통비율': '78.8'}"
      ]
     },
     "execution_count": 17,
     "metadata": {},
     "output_type": "execute_result"
    }
   ],
   "source": [
    "info"
   ]
  },
  {
   "cell_type": "code",
   "execution_count": 18,
   "metadata": {},
   "outputs": [
    {
     "name": "stderr",
     "output_type": "stream",
     "text": [
      "2021-05-13 23:46:07,968 [DEBUG] Received 600 records from 2021-05-13 00:00:00 to 2018-12-06 00:00:00 for code 005930 - KiwoomOpenApiPlusServiceClientStubWrapper.py:599\n",
      "2021-05-13 23:46:08,342 [DEBUG] Received 600 records from 2018-12-05 00:00:00 to 2016-06-27 00:00:00 for code 005930 - KiwoomOpenApiPlusServiceClientStubWrapper.py:599\n",
      "2021-05-13 23:46:08,755 [DEBUG] Received 600 records from 2016-06-24 00:00:00 to 2014-01-16 00:00:00 for code 005930 - KiwoomOpenApiPlusServiceClientStubWrapper.py:599\n",
      "2021-05-13 23:46:09,147 [DEBUG] Received 600 records from 2014-01-15 00:00:00 to 2011-08-16 00:00:00 for code 005930 - KiwoomOpenApiPlusServiceClientStubWrapper.py:599\n",
      "2021-05-13 23:47:37,942 [DEBUG] Received 600 records from 2011-08-12 00:00:00 to 2009-03-26 00:00:00 for code 005930 - KiwoomOpenApiPlusServiceClientStubWrapper.py:599\n",
      "2021-05-13 23:47:55,994 [DEBUG] Received 600 records from 2009-03-25 00:00:00 to 2006-10-20 00:00:00 for code 005930 - KiwoomOpenApiPlusServiceClientStubWrapper.py:599\n",
      "2021-05-13 23:47:56,432 [DEBUG] Received 600 records from 2006-10-19 00:00:00 to 2004-05-27 00:00:00 for code 005930 - KiwoomOpenApiPlusServiceClientStubWrapper.py:599\n",
      "2021-05-13 23:47:56,889 [DEBUG] Received 600 records from 2004-05-25 00:00:00 to 2001-12-11 00:00:00 for code 005930 - KiwoomOpenApiPlusServiceClientStubWrapper.py:599\n",
      "2021-05-13 23:47:57,299 [DEBUG] Received 600 records from 2001-12-10 00:00:00 to 1999-07-02 00:00:00 for code 005930 - KiwoomOpenApiPlusServiceClientStubWrapper.py:599\n",
      "2021-05-13 23:48:13,915 [DEBUG] Received 600 records from 1999-07-01 00:00:00 to 1997-05-16 00:00:00 for code 005930 - KiwoomOpenApiPlusServiceClientStubWrapper.py:599\n",
      "2021-05-13 23:48:14,389 [DEBUG] Received 600 records from 1997-05-15 00:00:00 to 1995-04-27 00:00:00 for code 005930 - KiwoomOpenApiPlusServiceClientStubWrapper.py:599\n",
      "2021-05-13 23:48:14,799 [DEBUG] Received 600 records from 1995-04-26 00:00:00 to 1993-04-19 00:00:00 for code 005930 - KiwoomOpenApiPlusServiceClientStubWrapper.py:599\n",
      "2021-05-13 23:48:15,247 [DEBUG] Received 600 records from 1993-04-17 00:00:00 to 1991-04-02 00:00:00 for code 005930 - KiwoomOpenApiPlusServiceClientStubWrapper.py:599\n",
      "2021-05-13 23:48:32,000 [DEBUG] Received 600 records from 1991-04-01 00:00:00 to 1989-03-08 00:00:00 for code 005930 - KiwoomOpenApiPlusServiceClientStubWrapper.py:599\n",
      "2021-05-13 23:48:32,813 [DEBUG] Received 600 records from 1989-03-07 00:00:00 to 1987-02-17 00:00:00 for code 005930 - KiwoomOpenApiPlusServiceClientStubWrapper.py:599\n",
      "2021-05-13 23:48:33,248 [DEBUG] Received 600 records from 1987-02-16 00:00:00 to 1985-01-30 00:00:00 for code 005930 - KiwoomOpenApiPlusServiceClientStubWrapper.py:599\n",
      "2021-05-13 23:48:49,583 [DEBUG] Received 22 records from 1985-01-29 00:00:00 to 1985-01-04 00:00:00 for code 005930 - KiwoomOpenApiPlusServiceClientStubWrapper.py:599\n"
     ]
    }
   ],
   "source": [
    "data = entrypoint.GetDailyStockDataAsDataFrame(code) # opt10081"
   ]
  },
  {
   "cell_type": "code",
   "execution_count": 19,
   "metadata": {},
   "outputs": [
    {
     "data": {
      "text/html": [
       "<div>\n",
       "<style scoped>\n",
       "    .dataframe tbody tr th:only-of-type {\n",
       "        vertical-align: middle;\n",
       "    }\n",
       "\n",
       "    .dataframe tbody tr th {\n",
       "        vertical-align: top;\n",
       "    }\n",
       "\n",
       "    .dataframe thead th {\n",
       "        text-align: right;\n",
       "    }\n",
       "</style>\n",
       "<table border=\"1\" class=\"dataframe\">\n",
       "  <thead>\n",
       "    <tr style=\"text-align: right;\">\n",
       "      <th></th>\n",
       "      <th>종목코드</th>\n",
       "      <th>현재가</th>\n",
       "      <th>거래량</th>\n",
       "      <th>거래대금</th>\n",
       "      <th>일자</th>\n",
       "      <th>시가</th>\n",
       "      <th>고가</th>\n",
       "      <th>저가</th>\n",
       "      <th>수정주가구분</th>\n",
       "      <th>수정비율</th>\n",
       "      <th>대업종구분</th>\n",
       "      <th>소업종구분</th>\n",
       "      <th>종목정보</th>\n",
       "      <th>수정주가이벤트</th>\n",
       "      <th>전일종가</th>\n",
       "    </tr>\n",
       "  </thead>\n",
       "  <tbody>\n",
       "    <tr>\n",
       "      <th>0</th>\n",
       "      <td>005930</td>\n",
       "      <td>78500</td>\n",
       "      <td>31490096</td>\n",
       "      <td>2482903</td>\n",
       "      <td>20210513</td>\n",
       "      <td>78900</td>\n",
       "      <td>79600</td>\n",
       "      <td>78400</td>\n",
       "      <td></td>\n",
       "      <td></td>\n",
       "      <td></td>\n",
       "      <td></td>\n",
       "      <td></td>\n",
       "      <td></td>\n",
       "      <td></td>\n",
       "    </tr>\n",
       "    <tr>\n",
       "      <th>1</th>\n",
       "      <td></td>\n",
       "      <td>80000</td>\n",
       "      <td>35812268</td>\n",
       "      <td>2876602</td>\n",
       "      <td>20210512</td>\n",
       "      <td>80800</td>\n",
       "      <td>81200</td>\n",
       "      <td>79800</td>\n",
       "      <td></td>\n",
       "      <td></td>\n",
       "      <td></td>\n",
       "      <td></td>\n",
       "      <td></td>\n",
       "      <td></td>\n",
       "      <td></td>\n",
       "    </tr>\n",
       "    <tr>\n",
       "      <th>2</th>\n",
       "      <td></td>\n",
       "      <td>81200</td>\n",
       "      <td>28996680</td>\n",
       "      <td>2365998</td>\n",
       "      <td>20210511</td>\n",
       "      <td>82500</td>\n",
       "      <td>82600</td>\n",
       "      <td>81100</td>\n",
       "      <td></td>\n",
       "      <td></td>\n",
       "      <td></td>\n",
       "      <td></td>\n",
       "      <td></td>\n",
       "      <td></td>\n",
       "      <td></td>\n",
       "    </tr>\n",
       "    <tr>\n",
       "      <th>3</th>\n",
       "      <td></td>\n",
       "      <td>83200</td>\n",
       "      <td>19385027</td>\n",
       "      <td>1603729</td>\n",
       "      <td>20210510</td>\n",
       "      <td>82300</td>\n",
       "      <td>83500</td>\n",
       "      <td>81800</td>\n",
       "      <td></td>\n",
       "      <td></td>\n",
       "      <td></td>\n",
       "      <td></td>\n",
       "      <td></td>\n",
       "      <td></td>\n",
       "      <td></td>\n",
       "    </tr>\n",
       "    <tr>\n",
       "      <th>4</th>\n",
       "      <td></td>\n",
       "      <td>81900</td>\n",
       "      <td>14154882</td>\n",
       "      <td>1158685</td>\n",
       "      <td>20210507</td>\n",
       "      <td>81800</td>\n",
       "      <td>82100</td>\n",
       "      <td>81500</td>\n",
       "      <td></td>\n",
       "      <td></td>\n",
       "      <td></td>\n",
       "      <td></td>\n",
       "      <td></td>\n",
       "      <td></td>\n",
       "      <td></td>\n",
       "    </tr>\n",
       "    <tr>\n",
       "      <th>...</th>\n",
       "      <td>...</td>\n",
       "      <td>...</td>\n",
       "      <td>...</td>\n",
       "      <td>...</td>\n",
       "      <td>...</td>\n",
       "      <td>...</td>\n",
       "      <td>...</td>\n",
       "      <td>...</td>\n",
       "      <td>...</td>\n",
       "      <td>...</td>\n",
       "      <td>...</td>\n",
       "      <td>...</td>\n",
       "      <td>...</td>\n",
       "      <td>...</td>\n",
       "      <td>...</td>\n",
       "    </tr>\n",
       "    <tr>\n",
       "      <th>9617</th>\n",
       "      <td></td>\n",
       "      <td>8010</td>\n",
       "      <td>4970</td>\n",
       "      <td>1</td>\n",
       "      <td>19850109</td>\n",
       "      <td>8240</td>\n",
       "      <td>8240</td>\n",
       "      <td>7950</td>\n",
       "      <td></td>\n",
       "      <td></td>\n",
       "      <td></td>\n",
       "      <td></td>\n",
       "      <td></td>\n",
       "      <td></td>\n",
       "      <td></td>\n",
       "    </tr>\n",
       "    <tr>\n",
       "      <th>9618</th>\n",
       "      <td></td>\n",
       "      <td>8300</td>\n",
       "      <td>12930</td>\n",
       "      <td>4</td>\n",
       "      <td>19850108</td>\n",
       "      <td>8400</td>\n",
       "      <td>8400</td>\n",
       "      <td>8300</td>\n",
       "      <td></td>\n",
       "      <td></td>\n",
       "      <td></td>\n",
       "      <td></td>\n",
       "      <td></td>\n",
       "      <td></td>\n",
       "      <td></td>\n",
       "    </tr>\n",
       "    <tr>\n",
       "      <th>9619</th>\n",
       "      <td></td>\n",
       "      <td>8410</td>\n",
       "      <td>11810</td>\n",
       "      <td>3</td>\n",
       "      <td>19850107</td>\n",
       "      <td>8400</td>\n",
       "      <td>8500</td>\n",
       "      <td>8390</td>\n",
       "      <td></td>\n",
       "      <td></td>\n",
       "      <td></td>\n",
       "      <td></td>\n",
       "      <td></td>\n",
       "      <td></td>\n",
       "      <td></td>\n",
       "    </tr>\n",
       "    <tr>\n",
       "      <th>9620</th>\n",
       "      <td></td>\n",
       "      <td>8390</td>\n",
       "      <td>1660</td>\n",
       "      <td>0</td>\n",
       "      <td>19850105</td>\n",
       "      <td>8400</td>\n",
       "      <td>8440</td>\n",
       "      <td>8390</td>\n",
       "      <td></td>\n",
       "      <td></td>\n",
       "      <td></td>\n",
       "      <td></td>\n",
       "      <td></td>\n",
       "      <td></td>\n",
       "      <td></td>\n",
       "    </tr>\n",
       "    <tr>\n",
       "      <th>9621</th>\n",
       "      <td></td>\n",
       "      <td>8450</td>\n",
       "      <td>1710</td>\n",
       "      <td>0</td>\n",
       "      <td>19850104</td>\n",
       "      <td>8500</td>\n",
       "      <td>8500</td>\n",
       "      <td>8450</td>\n",
       "      <td></td>\n",
       "      <td></td>\n",
       "      <td></td>\n",
       "      <td></td>\n",
       "      <td></td>\n",
       "      <td></td>\n",
       "      <td></td>\n",
       "    </tr>\n",
       "  </tbody>\n",
       "</table>\n",
       "<p>9622 rows × 15 columns</p>\n",
       "</div>"
      ],
      "text/plain": [
       "        종목코드    현재가       거래량     거래대금        일자     시가     고가     저가 수정주가구분  \\\n",
       "0     005930  78500  31490096  2482903  20210513  78900  79600  78400          \n",
       "1             80000  35812268  2876602  20210512  80800  81200  79800          \n",
       "2             81200  28996680  2365998  20210511  82500  82600  81100          \n",
       "3             83200  19385027  1603729  20210510  82300  83500  81800          \n",
       "4             81900  14154882  1158685  20210507  81800  82100  81500          \n",
       "...      ...    ...       ...      ...       ...    ...    ...    ...    ...   \n",
       "9617           8010      4970        1  19850109   8240   8240   7950          \n",
       "9618           8300     12930        4  19850108   8400   8400   8300          \n",
       "9619           8410     11810        3  19850107   8400   8500   8390          \n",
       "9620           8390      1660        0  19850105   8400   8440   8390          \n",
       "9621           8450      1710        0  19850104   8500   8500   8450          \n",
       "\n",
       "     수정비율 대업종구분 소업종구분 종목정보 수정주가이벤트 전일종가  \n",
       "0                                        \n",
       "1                                        \n",
       "2                                        \n",
       "3                                        \n",
       "4                                        \n",
       "...   ...   ...   ...  ...     ...  ...  \n",
       "9617                                     \n",
       "9618                                     \n",
       "9619                                     \n",
       "9620                                     \n",
       "9621                                     \n",
       "\n",
       "[9622 rows x 15 columns]"
      ]
     },
     "execution_count": 19,
     "metadata": {},
     "output_type": "execute_result"
    }
   ],
   "source": [
    "data"
   ]
  },
  {
   "cell_type": "markdown",
   "metadata": {},
   "source": [
    "데이터가 최대한 있는 그대로 (주로 문자열 형태로) 반환되기 때문에 필요하다면 타입 변환을 거쳐 사용한다."
   ]
  },
  {
   "cell_type": "code",
   "execution_count": 20,
   "metadata": {},
   "outputs": [],
   "source": [
    "dates = pd.to_datetime(data['일자'], format='%Y%m%d')\n",
    "closes = pd.to_numeric(data['현재가'])"
   ]
  },
  {
   "cell_type": "code",
   "execution_count": 21,
   "metadata": {},
   "outputs": [
    {
     "data": {
      "text/plain": [
       "[<matplotlib.lines.Line2D at 0x17f400a4f10>]"
      ]
     },
     "execution_count": 21,
     "metadata": {},
     "output_type": "execute_result"
    },
    {
     "data": {
      "image/png": "[encoded data removed]",
      "text/plain": [
       "<Figure size 432x288 with 1 Axes>"
      ]
     },
     "metadata": {
      "needs_background": "light"
     },
     "output_type": "display_data"
    }
   ],
   "source": [
    "plt.plot(dates, closes)"
   ]
  },
  {
   "cell_type": "markdown",
   "metadata": {},
   "source": [
    "주가 데이터에서 수정주가가 필요한 경우에는 `adjusted_price=True` 파라미터를 설정해 호출한다."
   ]
  },
  {
   "cell_type": "code",
   "execution_count": 22,
   "metadata": {},
   "outputs": [
    {
     "name": "stderr",
     "output_type": "stream",
     "text": [
      "2021-05-13 23:48:50,289 [DEBUG] Received 600 records from 2021-05-13 00:00:00 to 2018-12-06 00:00:00 for code 005930 - KiwoomOpenApiPlusServiceClientStubWrapper.py:599\n",
      "2021-05-13 23:48:50,887 [DEBUG] Received 600 records from 2018-12-05 00:00:00 to 2016-06-27 00:00:00 for code 005930 - KiwoomOpenApiPlusServiceClientStubWrapper.py:599\n",
      "2021-05-13 23:49:07,971 [DEBUG] Received 600 records from 2016-06-24 00:00:00 to 2014-01-16 00:00:00 for code 005930 - KiwoomOpenApiPlusServiceClientStubWrapper.py:599\n",
      "2021-05-13 23:49:08,337 [DEBUG] Received 600 records from 2014-01-15 00:00:00 to 2011-08-16 00:00:00 for code 005930 - KiwoomOpenApiPlusServiceClientStubWrapper.py:599\n",
      "2021-05-13 23:49:08,854 [DEBUG] Received 600 records from 2011-08-12 00:00:00 to 2009-03-26 00:00:00 for code 005930 - KiwoomOpenApiPlusServiceClientStubWrapper.py:599\n",
      "2021-05-13 23:49:09,220 [DEBUG] Received 600 records from 2009-03-25 00:00:00 to 2006-10-20 00:00:00 for code 005930 - KiwoomOpenApiPlusServiceClientStubWrapper.py:599\n",
      "2021-05-13 23:49:25,954 [DEBUG] Received 600 records from 2006-10-19 00:00:00 to 2004-05-27 00:00:00 for code 005930 - KiwoomOpenApiPlusServiceClientStubWrapper.py:599\n",
      "2021-05-13 23:49:26,396 [DEBUG] Received 600 records from 2004-05-25 00:00:00 to 2001-12-11 00:00:00 for code 005930 - KiwoomOpenApiPlusServiceClientStubWrapper.py:599\n",
      "2021-05-13 23:49:26,867 [DEBUG] Received 600 records from 2001-12-10 00:00:00 to 1999-07-02 00:00:00 for code 005930 - KiwoomOpenApiPlusServiceClientStubWrapper.py:599\n",
      "2021-05-13 23:49:43,995 [DEBUG] Received 600 records from 1999-07-01 00:00:00 to 1997-05-16 00:00:00 for code 005930 - KiwoomOpenApiPlusServiceClientStubWrapper.py:599\n",
      "2021-05-13 23:49:44,358 [DEBUG] Received 600 records from 1997-05-15 00:00:00 to 1995-04-27 00:00:00 for code 005930 - KiwoomOpenApiPlusServiceClientStubWrapper.py:599\n",
      "2021-05-13 23:49:44,842 [DEBUG] Received 600 records from 1995-04-26 00:00:00 to 1993-04-19 00:00:00 for code 005930 - KiwoomOpenApiPlusServiceClientStubWrapper.py:599\n",
      "2021-05-13 23:50:37,908 [DEBUG] Received 600 records from 1993-04-17 00:00:00 to 1991-04-02 00:00:00 for code 005930 - KiwoomOpenApiPlusServiceClientStubWrapper.py:599\n",
      "2021-05-13 23:50:55,959 [DEBUG] Received 600 records from 1991-04-01 00:00:00 to 1989-03-08 00:00:00 for code 005930 - KiwoomOpenApiPlusServiceClientStubWrapper.py:599\n",
      "2021-05-13 23:50:56,408 [DEBUG] Received 600 records from 1989-03-07 00:00:00 to 1987-02-17 00:00:00 for code 005930 - KiwoomOpenApiPlusServiceClientStubWrapper.py:599\n",
      "2021-05-13 23:50:56,843 [DEBUG] Received 600 records from 1987-02-16 00:00:00 to 1985-01-30 00:00:00 for code 005930 - KiwoomOpenApiPlusServiceClientStubWrapper.py:599\n",
      "2021-05-13 23:50:56,847 [DEBUG] Received 22 records from 1985-01-29 00:00:00 to 1985-01-04 00:00:00 for code 005930 - KiwoomOpenApiPlusServiceClientStubWrapper.py:599\n"
     ]
    }
   ],
   "source": [
    "data_adjusted = entrypoint.GetDailyStockDataAsDataFrame(code, adjusted_price=True)"
   ]
  },
  {
   "cell_type": "code",
   "execution_count": 23,
   "metadata": {},
   "outputs": [],
   "source": [
    "dates = pd.to_datetime(data_adjusted['일자'], format='%Y%m%d')\n",
    "closes = pd.to_numeric(data_adjusted['현재가'])"
   ]
  },
  {
   "cell_type": "code",
   "execution_count": 24,
   "metadata": {},
   "outputs": [
    {
     "data": {
      "text/plain": [
       "[<matplotlib.lines.Line2D at 0x17f40a85730>]"
      ]
     },
     "execution_count": 24,
     "metadata": {},
     "output_type": "execute_result"
    },
    {
     "data": {
      "image/png": "[encoded data removed]",
      "text/plain": [
       "<Figure size 432x288 with 1 Axes>"
      ]
     },
     "metadata": {
      "needs_background": "light"
     },
     "output_type": "display_data"
    }
   ],
   "source": [
    "plt.plot(dates, closes)"
   ]
  },
  {
   "cell_type": "markdown",
   "metadata": {},
   "source": [
    "### 하위 함수 사용 예시"
   ]
  },
  {
   "cell_type": "markdown",
   "metadata": {},
   "source": [
    "만약에 필요한 TR 에 대한 편의함수가 제공되지 않는 경우라면 아래처럼 직접 TR 요청에 필요한 입력값을 설정해 요청하고, 이후 스트림 형태로 들어오는 이벤트 또한 직접 처리해주는 방식으로 사용할 수 있다."
   ]
  },
  {
   "cell_type": "code",
   "execution_count": 25,
   "metadata": {},
   "outputs": [],
   "source": [
    "rqname = '주식기본정보요청'\n",
    "trcode = 'opt10001'\n",
    "screen_no = '0001' # 화면번호, 0000 을 제외한 4자리 숫자 임의로 지정\n",
    "inputs = {'종목코드': code}"
   ]
  },
  {
   "cell_type": "code",
   "execution_count": 26,
   "metadata": {},
   "outputs": [],
   "source": [
    "output = {}"
   ]
  },
  {
   "cell_type": "code",
   "execution_count": 27,
   "metadata": {},
   "outputs": [
    {
     "name": "stderr",
     "output_type": "stream",
     "text": [
      "2021-05-13 23:50:57,083 [INFO] Requesting data for request name: 주식기본정보요청 - <ipython-input-27-84e17a5232d0>:1\n",
      "2021-05-13 23:51:13,550 [INFO] Got event for request: 주식기본정보요청 - <ipython-input-27-84e17a5232d0>:3\n"
     ]
    }
   ],
   "source": [
    "logging.info('Requesting data for request name: %s', rqname)\n",
    "for event in entrypoint.TransactionCall(rqname, trcode, screen_no, inputs):\n",
    "    logging.info('Got event for request: %s', rqname)\n",
    "    names = event.single_data.names\n",
    "    values = event.single_data.values\n",
    "    for name, value in zip(names, values):\n",
    "        output[name] = value"
   ]
  },
  {
   "cell_type": "code",
   "execution_count": 28,
   "metadata": {},
   "outputs": [
    {
     "data": {
      "text/plain": [
       "{'종목코드': '005930',\n",
       " '종목명': '삼성전자',\n",
       " '결산월': '12',\n",
       " '액면가': '100',\n",
       " '자본금': '7780',\n",
       " '상장주식': '5969783',\n",
       " '신용비율': '+0.16',\n",
       " '연중최고': '+96800',\n",
       " '연중최저': '-78400',\n",
       " '시가총액': '4686279',\n",
       " '시가총액비중': '',\n",
       " '외인소진률': '+53.91',\n",
       " '대용가': '64000',\n",
       " 'PER': '20.44',\n",
       " 'EPS': '3841',\n",
       " 'ROE': '10.0',\n",
       " 'PBR': '1.99',\n",
       " 'EV': '5.49',\n",
       " 'BPS': '39406',\n",
       " '매출액': '2368070',\n",
       " '영업이익': '359939',\n",
       " '당기순이익': '264078',\n",
       " '250최고': '+96800',\n",
       " '250최저': '-47200',\n",
       " '시가': '-78900',\n",
       " '고가': '-79600',\n",
       " '저가': '-78400',\n",
       " '상한가': '+104000',\n",
       " '하한가': '-56000',\n",
       " '기준가': '80000',\n",
       " '예상체결가': '-0',\n",
       " '예상체결수량': '0',\n",
       " '250최고가일': '20210111',\n",
       " '250최고가대비율': '-18.90',\n",
       " '250최저가일': '20200513',\n",
       " '250최저가대비율': '+66.31',\n",
       " '현재가': '-78500',\n",
       " '대비기호': '5',\n",
       " '전일대비': '-1500',\n",
       " '등락율': '-1.88',\n",
       " '거래량': '31490096',\n",
       " '거래대비': '-87.93',\n",
       " '액면가단위': '원',\n",
       " '유통주식': '4706743',\n",
       " '유통비율': '78.8'}"
      ]
     },
     "execution_count": 28,
     "metadata": {},
     "output_type": "execute_result"
    }
   ],
   "source": [
    "output"
   ]
  },
  {
   "cell_type": "markdown",
   "metadata": {},
   "source": [
    "위의 코드에서 `TransactionCall()` 함수의 경우 반환되는 스트림의 `event` 객체는 `ListenResponse` 타입의 gRPC 메시지 형태로 반환된다."
   ]
  },
  {
   "cell_type": "code",
   "execution_count": 29,
   "metadata": {},
   "outputs": [],
   "source": [
    "from pprint import PrettyPrinter\n",
    "from google.protobuf.json_format import MessageToDict\n",
    "\n",
    "pp = PrettyPrinter()\n",
    "\n",
    "def pprint_event(event):\n",
    "    pp.pprint(MessageToDict(event, preserving_proto_field_name=True))"
   ]
  },
  {
   "cell_type": "code",
   "execution_count": 30,
   "metadata": {},
   "outputs": [
    {
     "name": "stdout",
     "output_type": "stream",
     "text": [
      "{'arguments': [{'string_value': '0001'},\n",
      "               {'string_value': '주식기본정보요청'},\n",
      "               {'string_value': 'opt10001'},\n",
      "               {'string_value': ''},\n",
      "               {'string_value': '0'}],\n",
      " 'name': 'OnReceiveTrData',\n",
      " 'single_data': {'names': ['종목코드',\n",
      "                           '종목명',\n",
      "                           '결산월',\n",
      "                           '액면가',\n",
      "                           '자본금',\n",
      "                           '상장주식',\n",
      "                           '신용비율',\n",
      "                           '연중최고',\n",
      "                           '연중최저',\n",
      "                           '시가총액',\n",
      "                           '시가총액비중',\n",
      "                           '외인소진률',\n",
      "                           '대용가',\n",
      "                           'PER',\n",
      "                           'EPS',\n",
      "                           'ROE',\n",
      "                           'PBR',\n",
      "                           'EV',\n",
      "                           'BPS',\n",
      "                           '매출액',\n",
      "                           '영업이익',\n",
      "                           '당기순이익',\n",
      "                           '250최고',\n",
      "                           '250최저',\n",
      "                           '시가',\n",
      "                           '고가',\n",
      "                           '저가',\n",
      "                           '상한가',\n",
      "                           '하한가',\n",
      "                           '기준가',\n",
      "                           '예상체결가',\n",
      "                           '예상체결수량',\n",
      "                           '250최고가일',\n",
      "                           '250최고가대비율',\n",
      "                           '250최저가일',\n",
      "                           '250최저가대비율',\n",
      "                           '현재가',\n",
      "                           '대비기호',\n",
      "                           '전일대비',\n",
      "                           '등락율',\n",
      "                           '거래량',\n",
      "                           '거래대비',\n",
      "                           '액면가단위',\n",
      "                           '유통주식',\n",
      "                           '유통비율'],\n",
      "                 'values': ['005930',\n",
      "                            '삼성전자',\n",
      "                            '12',\n",
      "                            '100',\n",
      "                            '7780',\n",
      "                            '5969783',\n",
      "                            '+0.16',\n",
      "                            '+96800',\n",
      "                            '-78400',\n",
      "                            '4686279',\n",
      "                            '',\n",
      "                            '+53.91',\n",
      "                            '64000',\n",
      "                            '20.44',\n",
      "                            '3841',\n",
      "                            '10.0',\n",
      "                            '1.99',\n",
      "                            '5.49',\n",
      "                            '39406',\n",
      "                            '2368070',\n",
      "                            '359939',\n",
      "                            '264078',\n",
      "                            '+96800',\n",
      "                            '-47200',\n",
      "                            '-78900',\n",
      "                            '-79600',\n",
      "                            '-78400',\n",
      "                            '+104000',\n",
      "                            '-56000',\n",
      "                            '80000',\n",
      "                            '-0',\n",
      "                            '0',\n",
      "                            '20210111',\n",
      "                            '-18.90',\n",
      "                            '20200513',\n",
      "                            '+66.31',\n",
      "                            '-78500',\n",
      "                            '5',\n",
      "                            '-1500',\n",
      "                            '-1.88',\n",
      "                            '31490096',\n",
      "                            '-87.93',\n",
      "                            '원',\n",
      "                            '4706743',\n",
      "                            '78.8']}}\n"
     ]
    }
   ],
   "source": [
    "pprint_event(event)"
   ]
  },
  {
   "cell_type": "markdown",
   "metadata": {},
   "source": [
    "해당 메시지의 형태는 [`koapy/backend/kiwoom_open_api_plus/grpc/KiwoomOpenApiPlusService.proto`](https://github.com/elbakramer/koapy/blob/master/koapy/backend/kiwoom_open_api_plus/grpc/KiwoomOpenApiPlusService.proto) 파일의 내용, 구체적으로 아래와 같은 메시지의 정의 부분을 참고하기 바란다.\n",
    "\n",
    "```proto\n",
    "message SingleData {\n",
    "  repeated string names = 1;\n",
    "  repeated string values = 2;\n",
    "}\n",
    "\n",
    "message RepeatedString {\n",
    "  repeated string values = 1;\n",
    "}\n",
    "\n",
    "message MultiData {\n",
    "  repeated string names = 1;\n",
    "  repeated RepeatedString values = 2;\n",
    "}\n",
    "\n",
    "message ListenResponse {\n",
    "  string name = 1;\n",
    "  repeated Argument arguments = 2;\n",
    "  SingleData single_data = 3;\n",
    "  MultiData multi_data = 4;\n",
    "}\n",
    "```\n",
    "\n",
    "각 TR 에 따라 싱글데이터/멀티데이터가 선택적으로 설정되어 반환되는데, 그러한 입력/출력과 관련된 정보들은 [KOAStudio](https://download.kiwoom.com/web/openapi/kiwoom_openapi_plus_devguide_ver_1.5.pdf#page=7) 프로그램을 활용하거나 아니면 아래처럼 `KiwoomOpenApiPlusTrInfo` 를 통해 확인할 수 있다."
   ]
  },
  {
   "cell_type": "code",
   "execution_count": 31,
   "metadata": {},
   "outputs": [],
   "source": [
    "from koapy import KiwoomOpenApiPlusTrInfo"
   ]
  },
  {
   "cell_type": "code",
   "execution_count": 32,
   "metadata": {},
   "outputs": [],
   "source": [
    "tr_info = KiwoomOpenApiPlusTrInfo.get_trinfo_by_code('opt10001')"
   ]
  },
  {
   "cell_type": "code",
   "execution_count": 33,
   "metadata": {},
   "outputs": [
    {
     "data": {
      "text/plain": [
       "[KiwoomOpenApiPlusTrInfo.Field('종목코드', 0, 6, 9001)]"
      ]
     },
     "execution_count": 33,
     "metadata": {},
     "output_type": "execute_result"
    }
   ],
   "source": [
    "tr_info.inputs"
   ]
  },
  {
   "cell_type": "code",
   "execution_count": 34,
   "metadata": {},
   "outputs": [
    {
     "data": {
      "text/plain": [
       "[KiwoomOpenApiPlusTrInfo.Field('종목코드', 0, 20, 389),\n",
       " KiwoomOpenApiPlusTrInfo.Field('종목명', 20, 50, 302),\n",
       " KiwoomOpenApiPlusTrInfo.Field('결산월', 40, 20, 315),\n",
       " KiwoomOpenApiPlusTrInfo.Field('액면가', 60, 20, 310),\n",
       " KiwoomOpenApiPlusTrInfo.Field('자본금', 80, 20, 309),\n",
       " KiwoomOpenApiPlusTrInfo.Field('상장주식', 100, 20, 312),\n",
       " KiwoomOpenApiPlusTrInfo.Field('신용비율', 120, 20, 329),\n",
       " KiwoomOpenApiPlusTrInfo.Field('연중최고', 140, 20, 1006),\n",
       " KiwoomOpenApiPlusTrInfo.Field('연중최저', 160, 20, 1009),\n",
       " KiwoomOpenApiPlusTrInfo.Field('시가총액', 180, 20, 311),\n",
       " KiwoomOpenApiPlusTrInfo.Field('시가총액비중', 200, 20, 336),\n",
       " KiwoomOpenApiPlusTrInfo.Field('외인소진률', 220, 20, 314),\n",
       " KiwoomOpenApiPlusTrInfo.Field('대용가', 240, 20, 308),\n",
       " KiwoomOpenApiPlusTrInfo.Field('PER', 260, 20, 1600),\n",
       " KiwoomOpenApiPlusTrInfo.Field('EPS', 280, 20, 1604),\n",
       " KiwoomOpenApiPlusTrInfo.Field('ROE', 300, 20, 1630),\n",
       " KiwoomOpenApiPlusTrInfo.Field('PBR', 320, 20, 1601),\n",
       " KiwoomOpenApiPlusTrInfo.Field('EV', 340, 20, 1608),\n",
       " KiwoomOpenApiPlusTrInfo.Field('BPS', 360, 20, 1605),\n",
       " KiwoomOpenApiPlusTrInfo.Field('매출액', 380, 20, 1610),\n",
       " KiwoomOpenApiPlusTrInfo.Field('영업이익', 400, 20, 1611),\n",
       " KiwoomOpenApiPlusTrInfo.Field('당기순이익', 420, 20, 1614),\n",
       " KiwoomOpenApiPlusTrInfo.Field('250최고', 440, 20, 1000),\n",
       " KiwoomOpenApiPlusTrInfo.Field('250최저', 460, 20, 1003),\n",
       " KiwoomOpenApiPlusTrInfo.Field('시가', 480, 20, 16),\n",
       " KiwoomOpenApiPlusTrInfo.Field('고가', 500, 20, 17),\n",
       " KiwoomOpenApiPlusTrInfo.Field('저가', 520, 20, 18),\n",
       " KiwoomOpenApiPlusTrInfo.Field('상한가', 540, 20, 305),\n",
       " KiwoomOpenApiPlusTrInfo.Field('하한가', 560, 20, 306),\n",
       " KiwoomOpenApiPlusTrInfo.Field('기준가', 580, 20, 307),\n",
       " KiwoomOpenApiPlusTrInfo.Field('예상체결가', 600, 20, 10023),\n",
       " KiwoomOpenApiPlusTrInfo.Field('예상체결수량', 620, 20, 10024),\n",
       " KiwoomOpenApiPlusTrInfo.Field('250최고가일', 640, 20, 1001),\n",
       " KiwoomOpenApiPlusTrInfo.Field('250최고가대비율', 660, 20, 1002),\n",
       " KiwoomOpenApiPlusTrInfo.Field('250최저가일', 680, 20, 1004),\n",
       " KiwoomOpenApiPlusTrInfo.Field('250최저가대비율', 700, 20, 1005),\n",
       " KiwoomOpenApiPlusTrInfo.Field('현재가', 720, 20, 10),\n",
       " KiwoomOpenApiPlusTrInfo.Field('대비기호', 740, 20, 25),\n",
       " KiwoomOpenApiPlusTrInfo.Field('전일대비', 760, 20, 11),\n",
       " KiwoomOpenApiPlusTrInfo.Field('등락율', 780, 20, 12),\n",
       " KiwoomOpenApiPlusTrInfo.Field('거래량', 800, 20, 13),\n",
       " KiwoomOpenApiPlusTrInfo.Field('거래대비', 820, 20, 30),\n",
       " KiwoomOpenApiPlusTrInfo.Field('액면가단위', 840, 20, 796),\n",
       " KiwoomOpenApiPlusTrInfo.Field('유통주식', 840, 20, 1683),\n",
       " KiwoomOpenApiPlusTrInfo.Field('유통비율', 840, 20, 1684)]"
      ]
     },
     "execution_count": 34,
     "metadata": {},
     "output_type": "execute_result"
    }
   ],
   "source": [
    "tr_info.single_outputs"
   ]
  },
  {
   "cell_type": "code",
   "execution_count": 35,
   "metadata": {},
   "outputs": [
    {
     "data": {
      "text/plain": [
       "[]"
      ]
     },
     "execution_count": 35,
     "metadata": {},
     "output_type": "execute_result"
    }
   ],
   "source": [
    "tr_info.multi_outputs"
   ]
  },
  {
   "cell_type": "markdown",
   "metadata": {},
   "source": [
    "## 5. 조건검색 예시"
   ]
  },
  {
   "cell_type": "markdown",
   "metadata": {},
   "source": [
    "조건검색을 사용하기 위해서는 먼저 서버에 저장된 조건들을 불러와야 한다."
   ]
  },
  {
   "cell_type": "code",
   "execution_count": 36,
   "metadata": {},
   "outputs": [
    {
     "data": {
      "text/plain": [
       "1"
      ]
     },
     "execution_count": 36,
     "metadata": {},
     "output_type": "execute_result"
    }
   ],
   "source": [
    "entrypoint.EnsureConditionLoaded()"
   ]
  },
  {
   "cell_type": "markdown",
   "metadata": {},
   "source": [
    "불러온 조건들의 목록은 아래 함수로 확인이 가능하다."
   ]
  },
  {
   "cell_type": "code",
   "execution_count": 37,
   "metadata": {},
   "outputs": [],
   "source": [
    "conditions = entrypoint.GetConditionNameListAsList()"
   ]
  },
  {
   "cell_type": "code",
   "execution_count": 38,
   "metadata": {},
   "outputs": [
    {
     "data": {
      "text/plain": [
       "[(0, '대형 저평가 우량주'), (1, '중소형 저평가주')]"
      ]
     },
     "execution_count": 38,
     "metadata": {},
     "output_type": "execute_result"
    }
   ],
   "source": [
    "conditions"
   ]
  },
  {
   "cell_type": "markdown",
   "metadata": {},
   "source": [
    "이후 예시의 정상동작을 위해서는 아래에서 사용되는 조건들과 같은 이름을 가지는 조건들이 미리 저장되어 있어야 한다.\n",
    "\n",
    "- 대형 저평가 우량주\n",
    "- 중소형 저평가주\n",
    "\n",
    "위의 조건식들은 키움에서 예시로 제공하는 추천식들을 그대로 이름을 똑같이 해서 저장한 것들이다.\n",
    "참고로 조건들을 편집하고 저장하는건 영웅문 HTS 내부에서만 가능하기 때문에 따로 HTS 를 열어 편집해주어야 한다."
   ]
  },
  {
   "cell_type": "markdown",
   "metadata": {},
   "source": [
    "조건식이 편집된 이후에 해당 조건식을 기존에 동작중인 OpenAPI 에도 갱신하고 싶은 경우, 아래 함수를 통해 편집된 조건식을 새로 불러온다."
   ]
  },
  {
   "cell_type": "code",
   "execution_count": 39,
   "metadata": {},
   "outputs": [
    {
     "data": {
      "text/plain": [
       "1"
      ]
     },
     "execution_count": 39,
     "metadata": {},
     "output_type": "execute_result"
    }
   ],
   "source": [
    "entrypoint.LoadCondition()"
   ]
  },
  {
   "cell_type": "markdown",
   "metadata": {},
   "source": [
    "### 일반 조건검색 예시"
   ]
  },
  {
   "cell_type": "code",
   "execution_count": 40,
   "metadata": {},
   "outputs": [],
   "source": [
    "condition_name = '대형 저평가 우량주'"
   ]
  },
  {
   "cell_type": "code",
   "execution_count": 41,
   "metadata": {},
   "outputs": [],
   "source": [
    "codes, info = entrypoint.GetCodeListByCondition(condition_name, with_info=True)"
   ]
  },
  {
   "cell_type": "markdown",
   "metadata": {},
   "source": [
    "위의 함수에서 `with_info=True` 로 호출하게 되면 조건을 만족하는 코드 목록 (`codes`) 뿐만 아니라 해당 종목들에 대한 기본정보들도 (`info`) 같이 가져와 DataFrame 형태로 제공한다."
   ]
  },
  {
   "cell_type": "code",
   "execution_count": 42,
   "metadata": {},
   "outputs": [
    {
     "data": {
      "text/html": [
       "<div>\n",
       "<style scoped>\n",
       "    .dataframe tbody tr th:only-of-type {\n",
       "        vertical-align: middle;\n",
       "    }\n",
       "\n",
       "    .dataframe tbody tr th {\n",
       "        vertical-align: top;\n",
       "    }\n",
       "\n",
       "    .dataframe thead th {\n",
       "        text-align: right;\n",
       "    }\n",
       "</style>\n",
       "<table border=\"1\" class=\"dataframe\">\n",
       "  <thead>\n",
       "    <tr style=\"text-align: right;\">\n",
       "      <th></th>\n",
       "      <th>종목코드</th>\n",
       "      <th>종목명</th>\n",
       "      <th>현재가</th>\n",
       "      <th>기준가</th>\n",
       "      <th>전일대비</th>\n",
       "      <th>전일대비기호</th>\n",
       "      <th>등락율</th>\n",
       "      <th>거래량</th>\n",
       "      <th>거래대금</th>\n",
       "      <th>체결량</th>\n",
       "      <th>...</th>\n",
       "      <th>ELW만기일</th>\n",
       "      <th>미결제약정</th>\n",
       "      <th>미결제전일대비</th>\n",
       "      <th>이론가</th>\n",
       "      <th>내재변동성</th>\n",
       "      <th>델타</th>\n",
       "      <th>감마</th>\n",
       "      <th>쎄타</th>\n",
       "      <th>베가</th>\n",
       "      <th>로</th>\n",
       "    </tr>\n",
       "  </thead>\n",
       "  <tbody>\n",
       "    <tr>\n",
       "      <th>0</th>\n",
       "      <td>000240</td>\n",
       "      <td>한국앤컴퍼니</td>\n",
       "      <td>-18650</td>\n",
       "      <td>19050</td>\n",
       "      <td>-400</td>\n",
       "      <td>5</td>\n",
       "      <td>-2.10</td>\n",
       "      <td>209278</td>\n",
       "      <td>3937</td>\n",
       "      <td>-3</td>\n",
       "      <td>...</td>\n",
       "      <td>00000000</td>\n",
       "      <td></td>\n",
       "      <td></td>\n",
       "      <td></td>\n",
       "      <td></td>\n",
       "      <td></td>\n",
       "      <td></td>\n",
       "      <td></td>\n",
       "      <td></td>\n",
       "      <td></td>\n",
       "    </tr>\n",
       "    <tr>\n",
       "      <th>1</th>\n",
       "      <td>001630</td>\n",
       "      <td>종근당홀딩스</td>\n",
       "      <td>+110500</td>\n",
       "      <td>110000</td>\n",
       "      <td>+500</td>\n",
       "      <td>2</td>\n",
       "      <td>+0.45</td>\n",
       "      <td>16107</td>\n",
       "      <td>1759</td>\n",
       "      <td>+3</td>\n",
       "      <td>...</td>\n",
       "      <td>00000000</td>\n",
       "      <td></td>\n",
       "      <td></td>\n",
       "      <td></td>\n",
       "      <td></td>\n",
       "      <td></td>\n",
       "      <td></td>\n",
       "      <td></td>\n",
       "      <td></td>\n",
       "      <td></td>\n",
       "    </tr>\n",
       "    <tr>\n",
       "      <th>2</th>\n",
       "      <td>001800</td>\n",
       "      <td>오리온홀딩스</td>\n",
       "      <td>+17900</td>\n",
       "      <td>17800</td>\n",
       "      <td>+100</td>\n",
       "      <td>2</td>\n",
       "      <td>+0.56</td>\n",
       "      <td>498369</td>\n",
       "      <td>8919</td>\n",
       "      <td>-1</td>\n",
       "      <td>...</td>\n",
       "      <td>00000000</td>\n",
       "      <td></td>\n",
       "      <td></td>\n",
       "      <td></td>\n",
       "      <td></td>\n",
       "      <td></td>\n",
       "      <td></td>\n",
       "      <td></td>\n",
       "      <td></td>\n",
       "      <td></td>\n",
       "    </tr>\n",
       "    <tr>\n",
       "      <th>3</th>\n",
       "      <td>001880</td>\n",
       "      <td>DL건설</td>\n",
       "      <td>-35600</td>\n",
       "      <td>36450</td>\n",
       "      <td>-850</td>\n",
       "      <td>5</td>\n",
       "      <td>-2.33</td>\n",
       "      <td>115738</td>\n",
       "      <td>4128</td>\n",
       "      <td>-9</td>\n",
       "      <td>...</td>\n",
       "      <td>00000000</td>\n",
       "      <td></td>\n",
       "      <td></td>\n",
       "      <td></td>\n",
       "      <td></td>\n",
       "      <td></td>\n",
       "      <td></td>\n",
       "      <td></td>\n",
       "      <td></td>\n",
       "      <td></td>\n",
       "    </tr>\n",
       "    <tr>\n",
       "      <th>4</th>\n",
       "      <td>003230</td>\n",
       "      <td>삼양식품</td>\n",
       "      <td>+97500</td>\n",
       "      <td>95100</td>\n",
       "      <td>+2400</td>\n",
       "      <td>2</td>\n",
       "      <td>+2.52</td>\n",
       "      <td>140072</td>\n",
       "      <td>13480</td>\n",
       "      <td>+1</td>\n",
       "      <td>...</td>\n",
       "      <td>00000000</td>\n",
       "      <td></td>\n",
       "      <td></td>\n",
       "      <td></td>\n",
       "      <td></td>\n",
       "      <td></td>\n",
       "      <td></td>\n",
       "      <td></td>\n",
       "      <td></td>\n",
       "      <td></td>\n",
       "    </tr>\n",
       "    <tr>\n",
       "      <th>5</th>\n",
       "      <td>003800</td>\n",
       "      <td>에이스침대</td>\n",
       "      <td>+46000</td>\n",
       "      <td>42650</td>\n",
       "      <td>+3350</td>\n",
       "      <td>2</td>\n",
       "      <td>+7.85</td>\n",
       "      <td>17107</td>\n",
       "      <td>762</td>\n",
       "      <td>+3</td>\n",
       "      <td>...</td>\n",
       "      <td>00000000</td>\n",
       "      <td></td>\n",
       "      <td></td>\n",
       "      <td></td>\n",
       "      <td></td>\n",
       "      <td></td>\n",
       "      <td></td>\n",
       "      <td></td>\n",
       "      <td></td>\n",
       "      <td></td>\n",
       "    </tr>\n",
       "    <tr>\n",
       "      <th>6</th>\n",
       "      <td>004000</td>\n",
       "      <td>롯데정밀화학</td>\n",
       "      <td>-60800</td>\n",
       "      <td>61500</td>\n",
       "      <td>-700</td>\n",
       "      <td>5</td>\n",
       "      <td>-1.14</td>\n",
       "      <td>265348</td>\n",
       "      <td>16250</td>\n",
       "      <td>+69</td>\n",
       "      <td>...</td>\n",
       "      <td>00000000</td>\n",
       "      <td></td>\n",
       "      <td></td>\n",
       "      <td></td>\n",
       "      <td></td>\n",
       "      <td></td>\n",
       "      <td></td>\n",
       "      <td></td>\n",
       "      <td></td>\n",
       "      <td></td>\n",
       "    </tr>\n",
       "    <tr>\n",
       "      <th>7</th>\n",
       "      <td>006040</td>\n",
       "      <td>동원산업</td>\n",
       "      <td>-303000</td>\n",
       "      <td>303500</td>\n",
       "      <td>-500</td>\n",
       "      <td>5</td>\n",
       "      <td>-0.16</td>\n",
       "      <td>8320</td>\n",
       "      <td>2532</td>\n",
       "      <td>-1</td>\n",
       "      <td>...</td>\n",
       "      <td>00000000</td>\n",
       "      <td></td>\n",
       "      <td></td>\n",
       "      <td></td>\n",
       "      <td></td>\n",
       "      <td></td>\n",
       "      <td></td>\n",
       "      <td></td>\n",
       "      <td></td>\n",
       "      <td></td>\n",
       "    </tr>\n",
       "    <tr>\n",
       "      <th>8</th>\n",
       "      <td>006390</td>\n",
       "      <td>한일현대시멘트</td>\n",
       "      <td>-41750</td>\n",
       "      <td>42400</td>\n",
       "      <td>-650</td>\n",
       "      <td>5</td>\n",
       "      <td>-1.53</td>\n",
       "      <td>45490</td>\n",
       "      <td>1911</td>\n",
       "      <td>-3</td>\n",
       "      <td>...</td>\n",
       "      <td>00000000</td>\n",
       "      <td></td>\n",
       "      <td></td>\n",
       "      <td></td>\n",
       "      <td></td>\n",
       "      <td></td>\n",
       "      <td></td>\n",
       "      <td></td>\n",
       "      <td></td>\n",
       "      <td></td>\n",
       "    </tr>\n",
       "    <tr>\n",
       "      <th>9</th>\n",
       "      <td>006650</td>\n",
       "      <td>대한유화</td>\n",
       "      <td>-267500</td>\n",
       "      <td>276500</td>\n",
       "      <td>-9000</td>\n",
       "      <td>5</td>\n",
       "      <td>-3.25</td>\n",
       "      <td>87900</td>\n",
       "      <td>23776</td>\n",
       "      <td>+1</td>\n",
       "      <td>...</td>\n",
       "      <td>00000000</td>\n",
       "      <td></td>\n",
       "      <td></td>\n",
       "      <td></td>\n",
       "      <td></td>\n",
       "      <td></td>\n",
       "      <td></td>\n",
       "      <td></td>\n",
       "      <td></td>\n",
       "      <td></td>\n",
       "    </tr>\n",
       "    <tr>\n",
       "      <th>10</th>\n",
       "      <td>008490</td>\n",
       "      <td>서흥</td>\n",
       "      <td>+54400</td>\n",
       "      <td>53900</td>\n",
       "      <td>+500</td>\n",
       "      <td>2</td>\n",
       "      <td>+0.93</td>\n",
       "      <td>29526</td>\n",
       "      <td>1597</td>\n",
       "      <td>-3</td>\n",
       "      <td>...</td>\n",
       "      <td>00000000</td>\n",
       "      <td></td>\n",
       "      <td></td>\n",
       "      <td></td>\n",
       "      <td></td>\n",
       "      <td></td>\n",
       "      <td></td>\n",
       "      <td></td>\n",
       "      <td></td>\n",
       "      <td></td>\n",
       "    </tr>\n",
       "    <tr>\n",
       "      <th>11</th>\n",
       "      <td>009970</td>\n",
       "      <td>영원무역홀딩스</td>\n",
       "      <td>-53000</td>\n",
       "      <td>54800</td>\n",
       "      <td>-1800</td>\n",
       "      <td>5</td>\n",
       "      <td>-3.28</td>\n",
       "      <td>27530</td>\n",
       "      <td>1476</td>\n",
       "      <td>-6</td>\n",
       "      <td>...</td>\n",
       "      <td>00000000</td>\n",
       "      <td></td>\n",
       "      <td></td>\n",
       "      <td></td>\n",
       "      <td></td>\n",
       "      <td></td>\n",
       "      <td></td>\n",
       "      <td></td>\n",
       "      <td></td>\n",
       "      <td></td>\n",
       "    </tr>\n",
       "    <tr>\n",
       "      <th>12</th>\n",
       "      <td>011780</td>\n",
       "      <td>금호석유</td>\n",
       "      <td>-236500</td>\n",
       "      <td>250500</td>\n",
       "      <td>-14000</td>\n",
       "      <td>5</td>\n",
       "      <td>-5.59</td>\n",
       "      <td>1178557</td>\n",
       "      <td>280638</td>\n",
       "      <td>+12</td>\n",
       "      <td>...</td>\n",
       "      <td>00000000</td>\n",
       "      <td></td>\n",
       "      <td></td>\n",
       "      <td></td>\n",
       "      <td></td>\n",
       "      <td></td>\n",
       "      <td></td>\n",
       "      <td></td>\n",
       "      <td></td>\n",
       "      <td></td>\n",
       "    </tr>\n",
       "    <tr>\n",
       "      <th>13</th>\n",
       "      <td>012630</td>\n",
       "      <td>HDC</td>\n",
       "      <td>-14200</td>\n",
       "      <td>14600</td>\n",
       "      <td>-400</td>\n",
       "      <td>5</td>\n",
       "      <td>-2.74</td>\n",
       "      <td>1429993</td>\n",
       "      <td>20429</td>\n",
       "      <td>-520</td>\n",
       "      <td>...</td>\n",
       "      <td>00000000</td>\n",
       "      <td></td>\n",
       "      <td></td>\n",
       "      <td></td>\n",
       "      <td></td>\n",
       "      <td></td>\n",
       "      <td></td>\n",
       "      <td></td>\n",
       "      <td></td>\n",
       "      <td></td>\n",
       "    </tr>\n",
       "    <tr>\n",
       "      <th>14</th>\n",
       "      <td>013120</td>\n",
       "      <td>동원개발</td>\n",
       "      <td>-6240</td>\n",
       "      <td>6400</td>\n",
       "      <td>-160</td>\n",
       "      <td>5</td>\n",
       "      <td>-2.50</td>\n",
       "      <td>340464</td>\n",
       "      <td>2128</td>\n",
       "      <td>+6</td>\n",
       "      <td>...</td>\n",
       "      <td>00000000</td>\n",
       "      <td></td>\n",
       "      <td></td>\n",
       "      <td></td>\n",
       "      <td></td>\n",
       "      <td></td>\n",
       "      <td></td>\n",
       "      <td></td>\n",
       "      <td></td>\n",
       "      <td></td>\n",
       "    </tr>\n",
       "    <tr>\n",
       "      <th>15</th>\n",
       "      <td>014830</td>\n",
       "      <td>유니드</td>\n",
       "      <td>-78100</td>\n",
       "      <td>80000</td>\n",
       "      <td>-1900</td>\n",
       "      <td>5</td>\n",
       "      <td>-2.38</td>\n",
       "      <td>68792</td>\n",
       "      <td>5363</td>\n",
       "      <td>+2</td>\n",
       "      <td>...</td>\n",
       "      <td>00000000</td>\n",
       "      <td></td>\n",
       "      <td></td>\n",
       "      <td></td>\n",
       "      <td></td>\n",
       "      <td></td>\n",
       "      <td></td>\n",
       "      <td></td>\n",
       "      <td></td>\n",
       "      <td></td>\n",
       "    </tr>\n",
       "    <tr>\n",
       "      <th>16</th>\n",
       "      <td>016800</td>\n",
       "      <td>퍼시스</td>\n",
       "      <td>-44000</td>\n",
       "      <td>44100</td>\n",
       "      <td>-100</td>\n",
       "      <td>5</td>\n",
       "      <td>-0.23</td>\n",
       "      <td>61478</td>\n",
       "      <td>2783</td>\n",
       "      <td>1280</td>\n",
       "      <td>...</td>\n",
       "      <td>00000000</td>\n",
       "      <td></td>\n",
       "      <td></td>\n",
       "      <td></td>\n",
       "      <td></td>\n",
       "      <td></td>\n",
       "      <td></td>\n",
       "      <td></td>\n",
       "      <td></td>\n",
       "      <td></td>\n",
       "    </tr>\n",
       "    <tr>\n",
       "      <th>17</th>\n",
       "      <td>017960</td>\n",
       "      <td>한국카본</td>\n",
       "      <td>-11750</td>\n",
       "      <td>12000</td>\n",
       "      <td>-250</td>\n",
       "      <td>5</td>\n",
       "      <td>-2.08</td>\n",
       "      <td>696742</td>\n",
       "      <td>8219</td>\n",
       "      <td>-10</td>\n",
       "      <td>...</td>\n",
       "      <td>00000000</td>\n",
       "      <td></td>\n",
       "      <td></td>\n",
       "      <td></td>\n",
       "      <td></td>\n",
       "      <td></td>\n",
       "      <td></td>\n",
       "      <td></td>\n",
       "      <td></td>\n",
       "      <td></td>\n",
       "    </tr>\n",
       "    <tr>\n",
       "      <th>18</th>\n",
       "      <td>020000</td>\n",
       "      <td>한섬</td>\n",
       "      <td>-48850</td>\n",
       "      <td>49700</td>\n",
       "      <td>-850</td>\n",
       "      <td>5</td>\n",
       "      <td>-1.71</td>\n",
       "      <td>151204</td>\n",
       "      <td>7400</td>\n",
       "      <td>-10</td>\n",
       "      <td>...</td>\n",
       "      <td>00000000</td>\n",
       "      <td></td>\n",
       "      <td></td>\n",
       "      <td></td>\n",
       "      <td></td>\n",
       "      <td></td>\n",
       "      <td></td>\n",
       "      <td></td>\n",
       "      <td></td>\n",
       "      <td></td>\n",
       "    </tr>\n",
       "    <tr>\n",
       "      <th>19</th>\n",
       "      <td>021240</td>\n",
       "      <td>코웨이</td>\n",
       "      <td>+76600</td>\n",
       "      <td>69900</td>\n",
       "      <td>+6700</td>\n",
       "      <td>2</td>\n",
       "      <td>+9.59</td>\n",
       "      <td>1755822</td>\n",
       "      <td>131428</td>\n",
       "      <td>-48</td>\n",
       "      <td>...</td>\n",
       "      <td>00000000</td>\n",
       "      <td></td>\n",
       "      <td></td>\n",
       "      <td></td>\n",
       "      <td></td>\n",
       "      <td></td>\n",
       "      <td></td>\n",
       "      <td></td>\n",
       "      <td></td>\n",
       "      <td></td>\n",
       "    </tr>\n",
       "    <tr>\n",
       "      <th>20</th>\n",
       "      <td>024720</td>\n",
       "      <td>한국콜마홀딩스</td>\n",
       "      <td>-31200</td>\n",
       "      <td>31300</td>\n",
       "      <td>-100</td>\n",
       "      <td>5</td>\n",
       "      <td>-0.32</td>\n",
       "      <td>93228</td>\n",
       "      <td>2900</td>\n",
       "      <td>-1</td>\n",
       "      <td>...</td>\n",
       "      <td>00000000</td>\n",
       "      <td></td>\n",
       "      <td></td>\n",
       "      <td></td>\n",
       "      <td></td>\n",
       "      <td></td>\n",
       "      <td></td>\n",
       "      <td></td>\n",
       "      <td></td>\n",
       "      <td></td>\n",
       "    </tr>\n",
       "    <tr>\n",
       "      <th>21</th>\n",
       "      <td>025540</td>\n",
       "      <td>한국단자</td>\n",
       "      <td>+80200</td>\n",
       "      <td>79800</td>\n",
       "      <td>+400</td>\n",
       "      <td>2</td>\n",
       "      <td>+0.50</td>\n",
       "      <td>57605</td>\n",
       "      <td>4616</td>\n",
       "      <td>+3</td>\n",
       "      <td>...</td>\n",
       "      <td>00000000</td>\n",
       "      <td></td>\n",
       "      <td></td>\n",
       "      <td></td>\n",
       "      <td></td>\n",
       "      <td></td>\n",
       "      <td></td>\n",
       "      <td></td>\n",
       "      <td></td>\n",
       "      <td></td>\n",
       "    </tr>\n",
       "    <tr>\n",
       "      <th>22</th>\n",
       "      <td>028150</td>\n",
       "      <td>GS홈쇼핑</td>\n",
       "      <td>-146300</td>\n",
       "      <td>148700</td>\n",
       "      <td>-2400</td>\n",
       "      <td>5</td>\n",
       "      <td>-1.61</td>\n",
       "      <td>25105</td>\n",
       "      <td>3678</td>\n",
       "      <td>-2</td>\n",
       "      <td>...</td>\n",
       "      <td>00000000</td>\n",
       "      <td></td>\n",
       "      <td></td>\n",
       "      <td></td>\n",
       "      <td></td>\n",
       "      <td></td>\n",
       "      <td></td>\n",
       "      <td></td>\n",
       "      <td></td>\n",
       "      <td></td>\n",
       "    </tr>\n",
       "    <tr>\n",
       "      <th>23</th>\n",
       "      <td>033290</td>\n",
       "      <td>코웰패션</td>\n",
       "      <td>-6600</td>\n",
       "      <td>6670</td>\n",
       "      <td>-70</td>\n",
       "      <td>5</td>\n",
       "      <td>-1.05</td>\n",
       "      <td>426139</td>\n",
       "      <td>2821</td>\n",
       "      <td>-161</td>\n",
       "      <td>...</td>\n",
       "      <td>00000000</td>\n",
       "      <td></td>\n",
       "      <td></td>\n",
       "      <td></td>\n",
       "      <td></td>\n",
       "      <td></td>\n",
       "      <td></td>\n",
       "      <td></td>\n",
       "      <td></td>\n",
       "      <td></td>\n",
       "    </tr>\n",
       "    <tr>\n",
       "      <th>24</th>\n",
       "      <td>033780</td>\n",
       "      <td>KT&amp;G</td>\n",
       "      <td>-82000</td>\n",
       "      <td>82600</td>\n",
       "      <td>-600</td>\n",
       "      <td>5</td>\n",
       "      <td>-0.73</td>\n",
       "      <td>906987</td>\n",
       "      <td>74439</td>\n",
       "      <td>-10</td>\n",
       "      <td>...</td>\n",
       "      <td>00000000</td>\n",
       "      <td></td>\n",
       "      <td></td>\n",
       "      <td></td>\n",
       "      <td></td>\n",
       "      <td></td>\n",
       "      <td></td>\n",
       "      <td></td>\n",
       "      <td></td>\n",
       "      <td></td>\n",
       "    </tr>\n",
       "    <tr>\n",
       "      <th>25</th>\n",
       "      <td>036830</td>\n",
       "      <td>솔브레인홀딩스</td>\n",
       "      <td>-39150</td>\n",
       "      <td>40100</td>\n",
       "      <td>-950</td>\n",
       "      <td>5</td>\n",
       "      <td>-2.37</td>\n",
       "      <td>73709</td>\n",
       "      <td>2905</td>\n",
       "      <td>-10</td>\n",
       "      <td>...</td>\n",
       "      <td>00000000</td>\n",
       "      <td></td>\n",
       "      <td></td>\n",
       "      <td></td>\n",
       "      <td></td>\n",
       "      <td></td>\n",
       "      <td></td>\n",
       "      <td></td>\n",
       "      <td></td>\n",
       "      <td></td>\n",
       "    </tr>\n",
       "    <tr>\n",
       "      <th>26</th>\n",
       "      <td>049070</td>\n",
       "      <td>인탑스</td>\n",
       "      <td>29450</td>\n",
       "      <td>29450</td>\n",
       "      <td>0</td>\n",
       "      <td>3</td>\n",
       "      <td>0.00</td>\n",
       "      <td>48531</td>\n",
       "      <td>1415</td>\n",
       "      <td>-11</td>\n",
       "      <td>...</td>\n",
       "      <td>00000000</td>\n",
       "      <td></td>\n",
       "      <td></td>\n",
       "      <td></td>\n",
       "      <td></td>\n",
       "      <td></td>\n",
       "      <td></td>\n",
       "      <td></td>\n",
       "      <td></td>\n",
       "      <td></td>\n",
       "    </tr>\n",
       "    <tr>\n",
       "      <th>27</th>\n",
       "      <td>056190</td>\n",
       "      <td>에스에프에이</td>\n",
       "      <td>-39650</td>\n",
       "      <td>40250</td>\n",
       "      <td>-600</td>\n",
       "      <td>5</td>\n",
       "      <td>-1.49</td>\n",
       "      <td>181122</td>\n",
       "      <td>7236</td>\n",
       "      <td>-5</td>\n",
       "      <td>...</td>\n",
       "      <td>00000000</td>\n",
       "      <td></td>\n",
       "      <td></td>\n",
       "      <td></td>\n",
       "      <td></td>\n",
       "      <td></td>\n",
       "      <td></td>\n",
       "      <td></td>\n",
       "      <td></td>\n",
       "      <td></td>\n",
       "    </tr>\n",
       "    <tr>\n",
       "      <th>28</th>\n",
       "      <td>069080</td>\n",
       "      <td>웹젠</td>\n",
       "      <td>-31300</td>\n",
       "      <td>31800</td>\n",
       "      <td>-500</td>\n",
       "      <td>5</td>\n",
       "      <td>-1.57</td>\n",
       "      <td>318901</td>\n",
       "      <td>10105</td>\n",
       "      <td>-8</td>\n",
       "      <td>...</td>\n",
       "      <td>00000000</td>\n",
       "      <td></td>\n",
       "      <td></td>\n",
       "      <td></td>\n",
       "      <td></td>\n",
       "      <td></td>\n",
       "      <td></td>\n",
       "      <td></td>\n",
       "      <td></td>\n",
       "      <td></td>\n",
       "    </tr>\n",
       "    <tr>\n",
       "      <th>29</th>\n",
       "      <td>084010</td>\n",
       "      <td>대한제강</td>\n",
       "      <td>-21550</td>\n",
       "      <td>24450</td>\n",
       "      <td>-2900</td>\n",
       "      <td>5</td>\n",
       "      <td>-11.86</td>\n",
       "      <td>945476</td>\n",
       "      <td>21474</td>\n",
       "      <td>+10</td>\n",
       "      <td>...</td>\n",
       "      <td>00000000</td>\n",
       "      <td></td>\n",
       "      <td></td>\n",
       "      <td></td>\n",
       "      <td></td>\n",
       "      <td></td>\n",
       "      <td></td>\n",
       "      <td></td>\n",
       "      <td></td>\n",
       "      <td></td>\n",
       "    </tr>\n",
       "    <tr>\n",
       "      <th>30</th>\n",
       "      <td>095660</td>\n",
       "      <td>네오위즈</td>\n",
       "      <td>+24600</td>\n",
       "      <td>23200</td>\n",
       "      <td>+1400</td>\n",
       "      <td>2</td>\n",
       "      <td>+6.03</td>\n",
       "      <td>1101355</td>\n",
       "      <td>27174</td>\n",
       "      <td>+1</td>\n",
       "      <td>...</td>\n",
       "      <td>00000000</td>\n",
       "      <td></td>\n",
       "      <td></td>\n",
       "      <td></td>\n",
       "      <td></td>\n",
       "      <td></td>\n",
       "      <td></td>\n",
       "      <td></td>\n",
       "      <td></td>\n",
       "      <td></td>\n",
       "    </tr>\n",
       "    <tr>\n",
       "      <th>31</th>\n",
       "      <td>096530</td>\n",
       "      <td>씨젠</td>\n",
       "      <td>-79000</td>\n",
       "      <td>80000</td>\n",
       "      <td>-1000</td>\n",
       "      <td>5</td>\n",
       "      <td>-1.25</td>\n",
       "      <td>512611</td>\n",
       "      <td>40508</td>\n",
       "      <td>+1</td>\n",
       "      <td>...</td>\n",
       "      <td>00000000</td>\n",
       "      <td></td>\n",
       "      <td></td>\n",
       "      <td></td>\n",
       "      <td></td>\n",
       "      <td></td>\n",
       "      <td></td>\n",
       "      <td></td>\n",
       "      <td></td>\n",
       "      <td></td>\n",
       "    </tr>\n",
       "    <tr>\n",
       "      <th>32</th>\n",
       "      <td>102710</td>\n",
       "      <td>이엔에프테크놀로지</td>\n",
       "      <td>-36350</td>\n",
       "      <td>36900</td>\n",
       "      <td>-550</td>\n",
       "      <td>5</td>\n",
       "      <td>-1.49</td>\n",
       "      <td>158493</td>\n",
       "      <td>5777</td>\n",
       "      <td>-100</td>\n",
       "      <td>...</td>\n",
       "      <td>00000000</td>\n",
       "      <td></td>\n",
       "      <td></td>\n",
       "      <td></td>\n",
       "      <td></td>\n",
       "      <td></td>\n",
       "      <td></td>\n",
       "      <td></td>\n",
       "      <td></td>\n",
       "      <td></td>\n",
       "    </tr>\n",
       "    <tr>\n",
       "      <th>33</th>\n",
       "      <td>111770</td>\n",
       "      <td>영원무역</td>\n",
       "      <td>-46250</td>\n",
       "      <td>48200</td>\n",
       "      <td>-1950</td>\n",
       "      <td>5</td>\n",
       "      <td>-4.05</td>\n",
       "      <td>262358</td>\n",
       "      <td>12412</td>\n",
       "      <td>-9</td>\n",
       "      <td>...</td>\n",
       "      <td>00000000</td>\n",
       "      <td></td>\n",
       "      <td></td>\n",
       "      <td></td>\n",
       "      <td></td>\n",
       "      <td></td>\n",
       "      <td></td>\n",
       "      <td></td>\n",
       "      <td></td>\n",
       "      <td></td>\n",
       "    </tr>\n",
       "    <tr>\n",
       "      <th>34</th>\n",
       "      <td>161890</td>\n",
       "      <td>한국콜마</td>\n",
       "      <td>+57000</td>\n",
       "      <td>56900</td>\n",
       "      <td>+100</td>\n",
       "      <td>2</td>\n",
       "      <td>+0.18</td>\n",
       "      <td>172586</td>\n",
       "      <td>9785</td>\n",
       "      <td>-1</td>\n",
       "      <td>...</td>\n",
       "      <td>00000000</td>\n",
       "      <td></td>\n",
       "      <td></td>\n",
       "      <td></td>\n",
       "      <td></td>\n",
       "      <td></td>\n",
       "      <td></td>\n",
       "      <td></td>\n",
       "      <td></td>\n",
       "      <td></td>\n",
       "    </tr>\n",
       "    <tr>\n",
       "      <th>35</th>\n",
       "      <td>192080</td>\n",
       "      <td>더블유게임즈</td>\n",
       "      <td>-64800</td>\n",
       "      <td>65500</td>\n",
       "      <td>-700</td>\n",
       "      <td>5</td>\n",
       "      <td>-1.07</td>\n",
       "      <td>122822</td>\n",
       "      <td>7933</td>\n",
       "      <td>-3</td>\n",
       "      <td>...</td>\n",
       "      <td>00000000</td>\n",
       "      <td></td>\n",
       "      <td></td>\n",
       "      <td></td>\n",
       "      <td></td>\n",
       "      <td></td>\n",
       "      <td></td>\n",
       "      <td></td>\n",
       "      <td></td>\n",
       "      <td></td>\n",
       "    </tr>\n",
       "    <tr>\n",
       "      <th>36</th>\n",
       "      <td>192400</td>\n",
       "      <td>쿠쿠홀딩스</td>\n",
       "      <td>-133500</td>\n",
       "      <td>135500</td>\n",
       "      <td>-2000</td>\n",
       "      <td>5</td>\n",
       "      <td>-1.48</td>\n",
       "      <td>7979</td>\n",
       "      <td>1071</td>\n",
       "      <td>+2</td>\n",
       "      <td>...</td>\n",
       "      <td>00000000</td>\n",
       "      <td></td>\n",
       "      <td></td>\n",
       "      <td></td>\n",
       "      <td></td>\n",
       "      <td></td>\n",
       "      <td></td>\n",
       "      <td></td>\n",
       "      <td></td>\n",
       "      <td></td>\n",
       "    </tr>\n",
       "    <tr>\n",
       "      <th>37</th>\n",
       "      <td>204270</td>\n",
       "      <td>제이앤티씨</td>\n",
       "      <td>-9910</td>\n",
       "      <td>10050</td>\n",
       "      <td>-140</td>\n",
       "      <td>5</td>\n",
       "      <td>-1.39</td>\n",
       "      <td>179804</td>\n",
       "      <td>1782</td>\n",
       "      <td>+8</td>\n",
       "      <td>...</td>\n",
       "      <td>00000000</td>\n",
       "      <td></td>\n",
       "      <td></td>\n",
       "      <td></td>\n",
       "      <td></td>\n",
       "      <td></td>\n",
       "      <td></td>\n",
       "      <td></td>\n",
       "      <td></td>\n",
       "      <td></td>\n",
       "    </tr>\n",
       "    <tr>\n",
       "      <th>38</th>\n",
       "      <td>230360</td>\n",
       "      <td>에코마케팅</td>\n",
       "      <td>-23700</td>\n",
       "      <td>23950</td>\n",
       "      <td>-250</td>\n",
       "      <td>5</td>\n",
       "      <td>-1.04</td>\n",
       "      <td>147151</td>\n",
       "      <td>3501</td>\n",
       "      <td>+7</td>\n",
       "      <td>...</td>\n",
       "      <td>00000000</td>\n",
       "      <td></td>\n",
       "      <td></td>\n",
       "      <td></td>\n",
       "      <td></td>\n",
       "      <td></td>\n",
       "      <td></td>\n",
       "      <td></td>\n",
       "      <td></td>\n",
       "      <td></td>\n",
       "    </tr>\n",
       "    <tr>\n",
       "      <th>39</th>\n",
       "      <td>243070</td>\n",
       "      <td>휴온스</td>\n",
       "      <td>-62900</td>\n",
       "      <td>63300</td>\n",
       "      <td>-400</td>\n",
       "      <td>5</td>\n",
       "      <td>-0.63</td>\n",
       "      <td>545279</td>\n",
       "      <td>35090</td>\n",
       "      <td>+300</td>\n",
       "      <td>...</td>\n",
       "      <td>00000000</td>\n",
       "      <td></td>\n",
       "      <td></td>\n",
       "      <td></td>\n",
       "      <td></td>\n",
       "      <td></td>\n",
       "      <td></td>\n",
       "      <td></td>\n",
       "      <td></td>\n",
       "      <td></td>\n",
       "    </tr>\n",
       "    <tr>\n",
       "      <th>40</th>\n",
       "      <td>281820</td>\n",
       "      <td>케이씨텍</td>\n",
       "      <td>-27700</td>\n",
       "      <td>28600</td>\n",
       "      <td>-900</td>\n",
       "      <td>5</td>\n",
       "      <td>-3.15</td>\n",
       "      <td>146173</td>\n",
       "      <td>4071</td>\n",
       "      <td>+2</td>\n",
       "      <td>...</td>\n",
       "      <td>00000000</td>\n",
       "      <td></td>\n",
       "      <td></td>\n",
       "      <td></td>\n",
       "      <td></td>\n",
       "      <td></td>\n",
       "      <td></td>\n",
       "      <td></td>\n",
       "      <td></td>\n",
       "      <td></td>\n",
       "    </tr>\n",
       "    <tr>\n",
       "      <th>41</th>\n",
       "      <td>284740</td>\n",
       "      <td>쿠쿠홈시스</td>\n",
       "      <td>+45300</td>\n",
       "      <td>41300</td>\n",
       "      <td>+4000</td>\n",
       "      <td>2</td>\n",
       "      <td>+9.69</td>\n",
       "      <td>349859</td>\n",
       "      <td>15601</td>\n",
       "      <td>-100</td>\n",
       "      <td>...</td>\n",
       "      <td>00000000</td>\n",
       "      <td></td>\n",
       "      <td></td>\n",
       "      <td></td>\n",
       "      <td></td>\n",
       "      <td></td>\n",
       "      <td></td>\n",
       "      <td></td>\n",
       "      <td></td>\n",
       "      <td></td>\n",
       "    </tr>\n",
       "    <tr>\n",
       "      <th>42</th>\n",
       "      <td>285130</td>\n",
       "      <td>SK케미칼</td>\n",
       "      <td>-250000</td>\n",
       "      <td>252000</td>\n",
       "      <td>-2000</td>\n",
       "      <td>5</td>\n",
       "      <td>-0.79</td>\n",
       "      <td>97315</td>\n",
       "      <td>24305</td>\n",
       "      <td>+1</td>\n",
       "      <td>...</td>\n",
       "      <td>00000000</td>\n",
       "      <td></td>\n",
       "      <td></td>\n",
       "      <td></td>\n",
       "      <td></td>\n",
       "      <td></td>\n",
       "      <td></td>\n",
       "      <td></td>\n",
       "      <td></td>\n",
       "      <td></td>\n",
       "    </tr>\n",
       "    <tr>\n",
       "      <th>43</th>\n",
       "      <td>294870</td>\n",
       "      <td>HDC현대산업개발</td>\n",
       "      <td>-28600</td>\n",
       "      <td>29000</td>\n",
       "      <td>-400</td>\n",
       "      <td>5</td>\n",
       "      <td>-1.38</td>\n",
       "      <td>668065</td>\n",
       "      <td>19168</td>\n",
       "      <td>-99</td>\n",
       "      <td>...</td>\n",
       "      <td>00000000</td>\n",
       "      <td></td>\n",
       "      <td></td>\n",
       "      <td></td>\n",
       "      <td></td>\n",
       "      <td></td>\n",
       "      <td></td>\n",
       "      <td></td>\n",
       "      <td></td>\n",
       "      <td></td>\n",
       "    </tr>\n",
       "    <tr>\n",
       "      <th>44</th>\n",
       "      <td>300720</td>\n",
       "      <td>한일시멘트</td>\n",
       "      <td>-160500</td>\n",
       "      <td>166500</td>\n",
       "      <td>-6000</td>\n",
       "      <td>5</td>\n",
       "      <td>-3.60</td>\n",
       "      <td>15679</td>\n",
       "      <td>2553</td>\n",
       "      <td>+1</td>\n",
       "      <td>...</td>\n",
       "      <td>00000000</td>\n",
       "      <td></td>\n",
       "      <td></td>\n",
       "      <td></td>\n",
       "      <td></td>\n",
       "      <td></td>\n",
       "      <td></td>\n",
       "      <td></td>\n",
       "      <td></td>\n",
       "      <td></td>\n",
       "    </tr>\n",
       "  </tbody>\n",
       "</table>\n",
       "<p>45 rows × 63 columns</p>\n",
       "</div>"
      ],
      "text/plain": [
       "      종목코드        종목명      현재가     기준가    전일대비 전일대비기호     등락율      거래량  \\\n",
       "0   000240     한국앤컴퍼니   -18650   19050    -400      5   -2.10   209278   \n",
       "1   001630     종근당홀딩스  +110500  110000    +500      2   +0.45    16107   \n",
       "2   001800     오리온홀딩스   +17900   17800    +100      2   +0.56   498369   \n",
       "3   001880       DL건설   -35600   36450    -850      5   -2.33   115738   \n",
       "4   003230       삼양식품   +97500   95100   +2400      2   +2.52   140072   \n",
       "5   003800      에이스침대   +46000   42650   +3350      2   +7.85    17107   \n",
       "6   004000     롯데정밀화학   -60800   61500    -700      5   -1.14   265348   \n",
       "7   006040       동원산업  -303000  303500    -500      5   -0.16     8320   \n",
       "8   006390    한일현대시멘트   -41750   42400    -650      5   -1.53    45490   \n",
       "9   006650       대한유화  -267500  276500   -9000      5   -3.25    87900   \n",
       "10  008490         서흥   +54400   53900    +500      2   +0.93    29526   \n",
       "11  009970    영원무역홀딩스   -53000   54800   -1800      5   -3.28    27530   \n",
       "12  011780       금호석유  -236500  250500  -14000      5   -5.59  1178557   \n",
       "13  012630        HDC   -14200   14600    -400      5   -2.74  1429993   \n",
       "14  013120       동원개발    -6240    6400    -160      5   -2.50   340464   \n",
       "15  014830        유니드   -78100   80000   -1900      5   -2.38    68792   \n",
       "16  016800        퍼시스   -44000   44100    -100      5   -0.23    61478   \n",
       "17  017960       한국카본   -11750   12000    -250      5   -2.08   696742   \n",
       "18  020000         한섬   -48850   49700    -850      5   -1.71   151204   \n",
       "19  021240        코웨이   +76600   69900   +6700      2   +9.59  1755822   \n",
       "20  024720    한국콜마홀딩스   -31200   31300    -100      5   -0.32    93228   \n",
       "21  025540       한국단자   +80200   79800    +400      2   +0.50    57605   \n",
       "22  028150      GS홈쇼핑  -146300  148700   -2400      5   -1.61    25105   \n",
       "23  033290       코웰패션    -6600    6670     -70      5   -1.05   426139   \n",
       "24  033780       KT&G   -82000   82600    -600      5   -0.73   906987   \n",
       "25  036830    솔브레인홀딩스   -39150   40100    -950      5   -2.37    73709   \n",
       "26  049070        인탑스    29450   29450       0      3    0.00    48531   \n",
       "27  056190     에스에프에이   -39650   40250    -600      5   -1.49   181122   \n",
       "28  069080         웹젠   -31300   31800    -500      5   -1.57   318901   \n",
       "29  084010       대한제강   -21550   24450   -2900      5  -11.86   945476   \n",
       "30  095660       네오위즈   +24600   23200   +1400      2   +6.03  1101355   \n",
       "31  096530         씨젠   -79000   80000   -1000      5   -1.25   512611   \n",
       "32  102710  이엔에프테크놀로지   -36350   36900    -550      5   -1.49   158493   \n",
       "33  111770       영원무역   -46250   48200   -1950      5   -4.05   262358   \n",
       "34  161890       한국콜마   +57000   56900    +100      2   +0.18   172586   \n",
       "35  192080     더블유게임즈   -64800   65500    -700      5   -1.07   122822   \n",
       "36  192400      쿠쿠홀딩스  -133500  135500   -2000      5   -1.48     7979   \n",
       "37  204270      제이앤티씨    -9910   10050    -140      5   -1.39   179804   \n",
       "38  230360      에코마케팅   -23700   23950    -250      5   -1.04   147151   \n",
       "39  243070        휴온스   -62900   63300    -400      5   -0.63   545279   \n",
       "40  281820       케이씨텍   -27700   28600    -900      5   -3.15   146173   \n",
       "41  284740      쿠쿠홈시스   +45300   41300   +4000      2   +9.69   349859   \n",
       "42  285130      SK케미칼  -250000  252000   -2000      5   -0.79    97315   \n",
       "43  294870  HDC현대산업개발   -28600   29000    -400      5   -1.38   668065   \n",
       "44  300720      한일시멘트  -160500  166500   -6000      5   -3.60    15679   \n",
       "\n",
       "      거래대금   체결량  ...    ELW만기일 미결제약정 미결제전일대비 이론가 내재변동성 델타 감마 쎄타 베가 로  \n",
       "0     3937    -3  ...  00000000                                        \n",
       "1     1759    +3  ...  00000000                                        \n",
       "2     8919    -1  ...  00000000                                        \n",
       "3     4128    -9  ...  00000000                                        \n",
       "4    13480    +1  ...  00000000                                        \n",
       "5      762    +3  ...  00000000                                        \n",
       "6    16250   +69  ...  00000000                                        \n",
       "7     2532    -1  ...  00000000                                        \n",
       "8     1911    -3  ...  00000000                                        \n",
       "9    23776    +1  ...  00000000                                        \n",
       "10    1597    -3  ...  00000000                                        \n",
       "11    1476    -6  ...  00000000                                        \n",
       "12  280638   +12  ...  00000000                                        \n",
       "13   20429  -520  ...  00000000                                        \n",
       "14    2128    +6  ...  00000000                                        \n",
       "15    5363    +2  ...  00000000                                        \n",
       "16    2783  1280  ...  00000000                                        \n",
       "17    8219   -10  ...  00000000                                        \n",
       "18    7400   -10  ...  00000000                                        \n",
       "19  131428   -48  ...  00000000                                        \n",
       "20    2900    -1  ...  00000000                                        \n",
       "21    4616    +3  ...  00000000                                        \n",
       "22    3678    -2  ...  00000000                                        \n",
       "23    2821  -161  ...  00000000                                        \n",
       "24   74439   -10  ...  00000000                                        \n",
       "25    2905   -10  ...  00000000                                        \n",
       "26    1415   -11  ...  00000000                                        \n",
       "27    7236    -5  ...  00000000                                        \n",
       "28   10105    -8  ...  00000000                                        \n",
       "29   21474   +10  ...  00000000                                        \n",
       "30   27174    +1  ...  00000000                                        \n",
       "31   40508    +1  ...  00000000                                        \n",
       "32    5777  -100  ...  00000000                                        \n",
       "33   12412    -9  ...  00000000                                        \n",
       "34    9785    -1  ...  00000000                                        \n",
       "35    7933    -3  ...  00000000                                        \n",
       "36    1071    +2  ...  00000000                                        \n",
       "37    1782    +8  ...  00000000                                        \n",
       "38    3501    +7  ...  00000000                                        \n",
       "39   35090  +300  ...  00000000                                        \n",
       "40    4071    +2  ...  00000000                                        \n",
       "41   15601  -100  ...  00000000                                        \n",
       "42   24305    +1  ...  00000000                                        \n",
       "43   19168   -99  ...  00000000                                        \n",
       "44    2553    +1  ...  00000000                                        \n",
       "\n",
       "[45 rows x 63 columns]"
      ]
     },
     "execution_count": 42,
     "metadata": {},
     "output_type": "execute_result"
    }
   ],
   "source": [
    "info"
   ]
  },
  {
   "cell_type": "markdown",
   "metadata": {},
   "source": [
    "### 실시간 조건검색 예시\n",
    "\n",
    "같은 조건식은 1분에 1건 제한이므로 예시 실행시 제한을 회피하기 위해서 새로 설정한다."
   ]
  },
  {
   "cell_type": "code",
   "execution_count": 43,
   "metadata": {},
   "outputs": [],
   "source": [
    "condition_name = '중소형 저평가주'"
   ]
  },
  {
   "cell_type": "code",
   "execution_count": 44,
   "metadata": {},
   "outputs": [
    {
     "name": "stderr",
     "output_type": "stream",
     "text": [
      "2021-05-13 23:51:14,292 [INFO] Start listening realtime condition stream... - <ipython-input-44-f04b6a919f1c>:1\n"
     ]
    }
   ],
   "source": [
    "logging.info('Start listening realtime condition stream...')\n",
    "stream = entrypoint.GetCodeListByConditionAsStream(condition_name)"
   ]
  },
  {
   "cell_type": "markdown",
   "metadata": {},
   "source": [
    "실시간 조건검색의 경우 조건에 만족/불만족하는 종목이 편입/이탈할때마다 계속해서 이벤트를 반환한다. 예시에서는 10초 동안만 이벤트를 확인해본다."
   ]
  },
  {
   "cell_type": "code",
   "execution_count": 45,
   "metadata": {},
   "outputs": [],
   "source": [
    "import threading\n",
    "\n",
    "def stop_listening():\n",
    "    logging.info('Stop listening realtime condition events...')\n",
    "    stream.cancel()\n",
    "    \n",
    "threading.Timer(10.0, stop_listening).start() # 10초 이후에 gRPC 커넥션 종료하도록 설정"
   ]
  },
  {
   "cell_type": "code",
   "execution_count": 46,
   "metadata": {},
   "outputs": [
    {
     "name": "stdout",
     "output_type": "stream",
     "text": [
      "{'arguments': [{'string_value': '2372'},\n",
      "               {'string_value': '900290;900340;002170;036190;037710;042420;046940;083550;084650;225220;248170;352700;950190;'},\n",
      "               {'string_value': '중소형 저평가주'},\n",
      "               {'long_value': '1'},\n",
      "               {'long_value': '0'}],\n",
      " 'name': 'OnReceiveTrCondition'}\n"
     ]
    },
    {
     "name": "stderr",
     "output_type": "stream",
     "text": [
      "2021-05-13 23:51:24,321 [INFO] Stop listening realtime condition events... - <ipython-input-45-c769dc00f6f7>:4\n"
     ]
    }
   ],
   "source": [
    "import grpc\n",
    "\n",
    "try:\n",
    "    for event in stream:\n",
    "        pprint_event(event)\n",
    "except grpc.RpcError as e:\n",
    "    pass"
   ]
  },
  {
   "cell_type": "markdown",
   "metadata": {},
   "source": [
    "위에서 `stream` 결과는 [`grpc`](https://grpc.github.io/grpc/python/) 의 [`_MultiThreadedRendezvous`](https://github.com/grpc/grpc/blob/53ba4a101e80e1a67d4ec741b7e1aad6ea8d790f/src/python/grpcio/grpc/_channel.py#L652) 객체인데 사실 해당 타입은 직접적으로 외부에 노출되는 타입은 아님. 대신에 해당 타입은 내부적으로 [`grpc.RpcError`](https://grpc.github.io/grpc/python/grpc.html?highlight=rpcerror#grpc.RpcError), [`grpc.RpcContext`](https://grpc.github.io/grpc/python/grpc.html?highlight=rpccontext#grpc.RpcContext), [`grpc.Call`](https://grpc.github.io/grpc/python/grpc.html?highlight=call#grpc.Call), [`grpc.Future`]() 인터페이스를 구현하고 있으므로 해당 객체의 사용법과 관련해서는 각각의 인터페이스를 참고하기 바람."
   ]
  },
  {
   "cell_type": "markdown",
   "metadata": {},
   "source": [
    "## 6. 주문처리 예시"
   ]
  },
  {
   "cell_type": "code",
   "execution_count": 47,
   "metadata": {},
   "outputs": [],
   "source": [
    "first_account_no = entrypoint.GetFirstAvailableAccount()"
   ]
  },
  {
   "cell_type": "code",
   "execution_count": 48,
   "metadata": {},
   "outputs": [],
   "source": [
    "request_name = '삼성전자 1주 시장가 신규 매수' # 사용자 구분명, 구분가능한 임의의 문자열\n",
    "screen_no = '0001'                           # 화면번호, 0000 을 제외한 4자리 숫자 임의로 지정\n",
    "account_no = first_account_no                # 계좌번호 10자리, 여기서는 계좌번호 목록에서 첫번째로 발견한 계좌번호로 매수처리\n",
    "order_type = 1         # 주문유형, 1 : 신규매수\n",
    "code = samsung_code    # 종목코드, 앞의 삼성전자 종목코드\n",
    "quantity = 1           # 주문수량, 1주 매수\n",
    "price = 0              # 주문가격, 시장가 매수는 가격설정 의미없음\n",
    "quote_type = '03'      # 거래구분, 03 : 시장가\n",
    "original_order_no = '' # 원주문번호, 주문 정정/취소 등에서 사용"
   ]
  },
  {
   "cell_type": "markdown",
   "metadata": {},
   "source": [
    "주문유형 및 거래구분 등과 관련된 자세한 정보들은 [KOAStudio](https://download.kiwoom.com/web/openapi/kiwoom_openapi_plus_devguide_ver_1.5.pdf#page=7) 프로그램에서 확인할 수 있다."
   ]
  },
  {
   "cell_type": "markdown",
   "metadata": {},
   "source": [
    "주문처리는 실제 시장이 열려있는 동안에만 테스트해볼 수 있기 때문에, 현재 장이 열려 있는지 먼저 확인하고 해당 경우에 한정해서 테스트를 진행한다."
   ]
  },
  {
   "cell_type": "code",
   "execution_count": 49,
   "metadata": {},
   "outputs": [],
   "source": [
    "from pandas import Timestamp\n",
    "from exchange_calendars import get_calendar\n",
    "\n",
    "krx_calendar = get_calendar('XKRX')\n",
    "\n",
    "def is_currently_in_session():\n",
    "    now = Timestamp.now(tz=krx_calendar.tz)\n",
    "    previous_open = krx_calendar.previous_open(now).astimezone(krx_calendar.tz)\n",
    "    next_close = krx_calendar.next_close(previous_open).astimezone(krx_calendar.tz)\n",
    "    return previous_open <= now <= next_close"
   ]
  },
  {
   "cell_type": "code",
   "execution_count": 50,
   "metadata": {},
   "outputs": [
    {
     "name": "stderr",
     "output_type": "stream",
     "text": [
      "2021-05-13 23:51:24,641 [INFO] Cannot send an order while market is not open, skipping... - <ipython-input-50-37048f99b24d>:6\n"
     ]
    }
   ],
   "source": [
    "if is_currently_in_session():\n",
    "    logging.info('Sending order to buy %s, quantity of 1 stock, at market price...', code)\n",
    "    for event in entrypoint.OrderCall(request_name, screen_no, account_no, order_type, code, quantity, price, quote_type, original_order_no):\n",
    "        pprint_event(event)\n",
    "else:\n",
    "    logging.info('Cannot send an order while market is not open, skipping...')"
   ]
  },
  {
   "cell_type": "markdown",
   "metadata": {},
   "source": [
    "주문 이벤트는 기본적으로 주문수량이 모두 소진되기 전까지 이벤트를 듣도록 되어있으며, 다른 이벤트 스트림과 동일하게 `stream.cancel()` 의 형태로 이벤트 스트림을 더이상 듣지 않도록 하는것이 가능하다. 다만 이벤트 스트림을 취소하는 것이 기존 주문까지 취소하는 것은 아니기 때문에 주문취소나 정정등을 위해서는 별도의 취소/정정 주문을 넣어줘야 한다.\n",
    "\n",
    "여기서 반환되는 이벤트 객체 역시 앞선 TR 예시에서와 동일하게 `ListenResponse` 타입의 gRPC 메시지 형태로 반환된다. "
   ]
  },
  {
   "cell_type": "markdown",
   "metadata": {},
   "source": [
    "## 7. 실시간 데이터 처리 예시"
   ]
  },
  {
   "cell_type": "code",
   "execution_count": 51,
   "metadata": {},
   "outputs": [],
   "source": [
    "from koapy import KiwoomOpenApiPlusRealType"
   ]
  },
  {
   "cell_type": "code",
   "execution_count": 52,
   "metadata": {},
   "outputs": [],
   "source": [
    "code_list = [code]\n",
    "fid_list = KiwoomOpenApiPlusRealType.get_fids_by_realtype_name('주식시세')\n",
    "real_type = '0' # 기존 화면에 추가가 아니라 신규 생성, 1 의 경우 기존 화면번호에 추가"
   ]
  },
  {
   "cell_type": "code",
   "execution_count": 53,
   "metadata": {},
   "outputs": [
    {
     "name": "stderr",
     "output_type": "stream",
     "text": [
      "2021-05-13 23:51:24,690 [INFO] Start listening realtime stock data for code: 005930 - <ipython-input-53-d908d1a08033>:1\n"
     ]
    }
   ],
   "source": [
    "logging.info('Start listening realtime stock data for code: %s', code)\n",
    "stream = entrypoint.GetRealDataForCodesAsStream(code_list, fid_list, real_type, screen_no=None, infer_fids=True, readable_names=True, fast_parse=False)"
   ]
  },
  {
   "cell_type": "code",
   "execution_count": 54,
   "metadata": {},
   "outputs": [],
   "source": [
    "import threading\n",
    "\n",
    "def stop_listening():\n",
    "    logging.info('Stop listening realtime events...')\n",
    "    stream.cancel()\n",
    "    \n",
    "threading.Timer(10.0, stop_listening).start() # 10초 이후에 gRPC 커넥션 종료하도록 설정"
   ]
  },
  {
   "cell_type": "code",
   "execution_count": 55,
   "metadata": {},
   "outputs": [
    {
     "name": "stderr",
     "output_type": "stream",
     "text": [
      "2021-05-13 23:51:34,717 [INFO] Stop listening realtime events... - <ipython-input-54-f9a2c4046337>:4\n"
     ]
    },
    {
     "name": "stdout",
     "output_type": "stream",
     "text": [
      "<_MultiThreadedRendezvous of RPC that terminated with:\n",
      "\tstatus = StatusCode.CANCELLED\n",
      "\tdetails = \"Locally cancelled by application!\"\n",
      "\tdebug_error_string = \"None\"\n",
      ">\n"
     ]
    }
   ],
   "source": [
    "import grpc\n",
    "\n",
    "try:\n",
    "    for i, event in enumerate(stream):\n",
    "        if i < 10:\n",
    "            pprint_event(event) # 노트북 출력이 너무 길어질 수 있어 최초 10개만 출력\n",
    "except grpc.RpcError as e:\n",
    "    print(e)"
   ]
  },
  {
   "cell_type": "code",
   "execution_count": null,
   "metadata": {},
   "outputs": [],
   "source": []
  }
 ],
 "metadata": {
  "kernelspec": {
   "display_name": "Python 3",
   "language": "python",
   "name": "python3"
  },
  "language_info": {
   "codemirror_mode": {
    "name": "ipython",
    "version": 3
   },
   "file_extension": ".py",
   "mimetype": "text/x-python",
   "name": "python",
   "nbconvert_exporter": "python",
   "pygments_lexer": "ipython3",
   "version": "3.8.3"
  }
 },
 "nbformat": 4,
 "nbformat_minor": 4
}
