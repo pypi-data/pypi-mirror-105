{
 "cells": [
  {
   "cell_type": "code",
   "execution_count": 1,
   "metadata": {},
   "outputs": [],
   "source": [
    "from IPython.core.display import HTML,display\n",
    "\n",
    "from cdci_osa_plugin.osa_lightcurve_query import DummyOsaRes, OsaLigthtCurve"
   ]
  },
  {
   "cell_type": "code",
   "execution_count": 3,
   "metadata": {},
   "outputs": [
    {
     "name": "stdout",
     "output_type": "stream",
     "text": [
      "-> ['./data/jemx_query_lc.fits.gz'] ['crab']\n",
      "--> NAME PRIMARY\n",
      "--> NAME GROUPING\n",
      "--> NAME JMX1-SRC.-LCR\n",
      "--> NAME PRIMARY\n",
      "--> NAME GROUPING\n",
      "--> NAME JMX1-SRC.-LCR\n"
     ]
    }
   ],
   "source": [
    "res = DummyOsaRes()\n",
    "res.__setattr__('lc_crab', './data/jemx_query_lc.fits.gz')\n",
    "prod_list = OsaLigthtCurve.build_jemx_lc_from_ddosa_res(res,\n",
    "                                                        prod_prefix='test',\n",
    "                                                        file_dir='./',\n",
    "                                                        api=False)\n",
    "lc=prod_list[0]"
   ]
  },
  {
   "cell_type": "code",
   "execution_count": 4,
   "metadata": {},
   "outputs": [],
   "source": [
    "lc.write('test_jemx_query_lc.fits')"
   ]
  },
  {
   "cell_type": "code",
   "execution_count": 5,
   "metadata": {
    "scrolled": false
   },
   "outputs": [
    {
     "name": "stdout",
     "output_type": "stream",
     "text": [
      "--> NAME PRIMARY\n",
      "--> NAME GROUPING\n",
      "--> NAME JMX1-SRC.-LCR\n",
      "--> NAME PRIMARY\n",
      "--> NAME GROUPING\n",
      "--> NAME JMX1-SRC.-LCR\n",
      "--> NAME PRIMARY\n",
      "--> NAME GROUPING\n",
      "--> NAME JMX1-SRC.-LCR\n"
     ]
    },
    {
     "name": "stderr",
     "output_type": "stream",
     "text": [
      "BokehDeprecationWarning: 'legend' keyword is deprecated, use explicit 'legend_label', 'legend_field', or 'legend_group' keywords instead\n",
      "BokehDeprecationWarning: 'legend' keyword is deprecated, use explicit 'legend_label', 'legend_field', or 'legend_group' keywords instead\n"
     ]
    }
   ],
   "source": [
    "lc_dict=lc.get_html_draw()"
   ]
  },
  {
   "cell_type": "code",
   "execution_count": 6,
   "metadata": {},
   "outputs": [
    {
     "data": {
      "text/plain": [
       "dict_keys(['image', 'header_text', 'table_text', 'footer_text'])"
      ]
     },
     "execution_count": 6,
     "metadata": {},
     "output_type": "execute_result"
    }
   ],
   "source": [
    "lc_dict.keys()"
   ]
  },
  {
   "cell_type": "code",
   "execution_count": 7,
   "metadata": {
    "scrolled": false
   },
   "outputs": [],
   "source": [
    "html_dict=lc_dict['image']"
   ]
  },
  {
   "cell_type": "code",
   "execution_count": 8,
   "metadata": {
    "scrolled": false
   },
   "outputs": [
    {
     "data": {
      "text/plain": [
       "dict_keys(['script', 'div'])"
      ]
     },
     "execution_count": 8,
     "metadata": {},
     "output_type": "execute_result"
    }
   ],
   "source": [
    "html_dict.keys()"
   ]
  },
  {
   "cell_type": "code",
   "execution_count": 9,
   "metadata": {},
   "outputs": [],
   "source": [
    "i=str(html_dict['script'])\n",
    "d=str(html_dict['div'])\n",
    "l=''' <script type=\"text/javascript\" src=\"https://cdn.pydata.org/bokeh/release/bokeh-1.3.4.min.js\"></script>\n",
    "<script type=\"text/javascript\" src=\"https://cdn.pydata.org/bokeh/release/bokeh-widgets-1.3.4.min.js\"></script>\n",
    "<script type=\"text/javascript\" src=\"https://cdn.pydata.org/bokeh/release/bokeh-tables-1.3.4.min.js\"></script>\n",
    "<script type=\"text/javascript\" src=\"https://cdn.pydata.org/bokeh/release/bokeh-gl-1.3.4.min.js\"></script>\n",
    "<script type=\"text/javascript\" src=\"https://cdn.pydata.org/bokeh/release/bokeh-api-1.3.4.min.js\"></script>\n",
    "\\n\n",
    "'''"
   ]
  },
  {
   "cell_type": "code",
   "execution_count": 10,
   "metadata": {
    "scrolled": false
   },
   "outputs": [
    {
     "data": {
      "text/html": [
       " <script type=\"text/javascript\" src=\"https://cdn.pydata.org/bokeh/release/bokeh-1.3.4.min.js\"></script>\n",
       "<script type=\"text/javascript\" src=\"https://cdn.pydata.org/bokeh/release/bokeh-widgets-1.3.4.min.js\"></script>\n",
       "<script type=\"text/javascript\" src=\"https://cdn.pydata.org/bokeh/release/bokeh-tables-1.3.4.min.js\"></script>\n",
       "<script type=\"text/javascript\" src=\"https://cdn.pydata.org/bokeh/release/bokeh-gl-1.3.4.min.js\"></script>\n",
       "<script type=\"text/javascript\" src=\"https://cdn.pydata.org/bokeh/release/bokeh-api-1.3.4.min.js\"></script>\n",
       "\n",
       "\n",
       "\n",
       "<script type=\"text/javascript\">\n",
       "    (function() {\n",
       "          var fn = function() {\n",
       "            Bokeh.safely(function() {\n",
       "              (function(root) {\n",
       "                function embed_document(root) {\n",
       "                  \n",
       "                var docs_json = '{\"3f5cbfd9-1df2-4446-be76-af55cfc03be2\":{\"roots\":{\"references\":[{\"attributes\":{\"line_color\":{\"value\":\"red\"},\"xs\":{\"field\":\"xs\"},\"ys\":{\"field\":\"ys\"}},\"id\":\"1049\",\"type\":\"MultiLine\"},{\"attributes\":{},\"id\":\"1110\",\"type\":\"UnionRenderers\"},{\"attributes\":{\"axis_label\":\"MJD-52866  (days)\",\"formatter\":{\"id\":\"1059\",\"type\":\"BasicTickFormatter\"},\"ticker\":{\"id\":\"1013\",\"type\":\"BasicTicker\"}},\"id\":\"1012\",\"type\":\"LinearAxis\"},{\"attributes\":{\"callback\":null,\"overlay\":{\"id\":\"1064\",\"type\":\"BoxAnnotation\"}},\"id\":\"1024\",\"type\":\"BoxSelectTool\"},{\"attributes\":{\"data_source\":{\"id\":\"1043\",\"type\":\"ColumnDataSource\"},\"glyph\":{\"id\":\"1044\",\"type\":\"MultiLine\"},\"hover_glyph\":null,\"muted_glyph\":null,\"nonselection_glyph\":{\"id\":\"1045\",\"type\":\"MultiLine\"},\"selection_glyph\":null,\"view\":{\"id\":\"1047\",\"type\":\"CDSView\"}},\"id\":\"1046\",\"type\":\"GlyphRenderer\"},{\"attributes\":{\"callback\":null},\"id\":\"1004\",\"type\":\"DataRange1d\"},{\"attributes\":{\"dimension\":1,\"ticker\":{\"id\":\"1018\",\"type\":\"BasicTicker\"}},\"id\":\"1021\",\"type\":\"Grid\"},{\"attributes\":{\"overlay\":{\"id\":\"1063\",\"type\":\"BoxAnnotation\"}},\"id\":\"1023\",\"type\":\"BoxZoomTool\"},{\"attributes\":{\"callback\":null},\"id\":\"1006\",\"type\":\"DataRange1d\"},{\"attributes\":{\"callback\":null,\"data\":{\"x\":{\"__ndarray__\":\"AHj5GrEB5z8ACKaOlgPnPwCYUgJ8Bec/ACj/dWEH5z8AuKvpRgnnPwBIWF0sC+c/ANgE0REN5z8AaLFE9w7nPwD4XbjcEOc/AIgKLMIS5z8AGLefpxTnPwCoYxONFuc/ADgQh3IY5z8AyLz6VxrnPwBYaW49HOc/AOgV4iIe5z8AeMJVCCDnPwAIb8ntIec/AJgbPdMj5z8AKMiwuCXnPwC4dCSeJ+c/AEghmIMp5z8A2M0LaSvnPwBoen9OLec/APgm8zMv5z8AiNNmGTHnPwAYgNr+Muc/AKgsTuQ05z8AONnByTbnPwDIhTWvOOc/AFgyqZQ65z8A6N4cejznPwB4i5BfPuc/AAg4BEVA5z8AmOR3KkLnPwAokesPROc/ALg9X/VF5z8ASOrS2kfnPwDYlkbASec/AGhDuqVL5z8A+O8ti03nPwCInKFwT+c/ABhJFVZR5z8AqPWIO1PnPwA4ovwgVec/AMhOcAZX5z8AWPvj61jnPwDop1fRWuc/AHhUy7Zc5z8ACAE/nF7nPwCYrbKBYOc/AChaJmdi5z8AuAaaTGTnPwBIsw0yZuc/ANhfgRdo5z8AaAz1/GnnPwD4uGjia+c/AIhl3Mdt5z8AGBJQrW/nPwCovsOScec/ADhrN3hz5z8AyBerXXXnPwBYxB5Dd+c/AOhwkih55z8AeB0GDnvnPwAIynnzfOc/AJh27dh+5z8AKCNhvoDnPwC4z9Sjguc/AEh8SImE5z8A2Ci8bobnPwBo1S9UiOc/APiBozmK5z8AiC4XH4znPwAY24oEjuc/AKiH/umP5z8AODRyz5HnPwDI4OW0k+c/AFiNWZqV5z8A6DnNf5fnPwB45kBlmec/AAiTtEqb5z8AmD8oMJ3nPwAo7JsVn+c/ALiYD/ug5z8ASEWD4KLnPwDY8fbFpOc/AGieaqum5z8A+ErekKjnPwCI91F2quc/ABikxVus5z8AqFA5Qa7nPwA4/awmsOc/AMipIAyy5z8AWFaU8bPnPwDoAgjXtec/\",\"dtype\":\"float64\",\"shape\":[96]},\"y\":[131.684326171875,134.00222778320312,141.36245727539062,133.73452758789062,124.35093688964844,131.16683959960938,131.95567321777344,134.22305297851562,135.2184600830078,136.5658721923828,158.86351013183594,143.61038208007812,127.01898956298828,129.49208068847656,134.9204864501953,145.80101013183594,143.95326232910156,130.11854553222656,139.9220428466797,143.47581481933594,140.62191772460938,147.89999389648438,144.84500122070312,135.679443359375,128.54776000976562,134.5354766845703,135.83523559570312,135.2906494140625,135.64328002929688,135.61441040039062,136.86598205566406,124.3016128540039,128.982177734375,141.3610076904297,130.28526306152344,125.23929595947266,135.8852996826172,128.99142456054688,122.61624145507812,154.67935180664062,124.50833892822266,132.17213439941406,137.43792724609375,117.1561508178711,143.4724578857422,131.8966522216797,138.42807006835938,157.40914916992188,160.51620483398438,148.99822998046875,127.01517486572266,129.93382263183594,105.38713073730469,144.72743225097656,158.1119384765625,101.62751770019531,141.7168426513672,124.87455749511719,176.83023071289062,129.0919952392578,170.33152770996094,149.741455078125,127.93281555175781,139.56089782714844,129.99053955078125,144.7479705810547,127.61465454101562,143.16983032226562,121.84700012207031,115.91056823730469,143.51617431640625,148.29287719726562,190.585693359375,169.91250610351562,133.89598083496094,124.00274658203125,166.283935546875,124.0058822631836,124.01769256591797,141.4230499267578,111.71610260009766,126.72029876708984,152.67398071289062,175.89044189453125,139.69097900390625,123.97607421875,111.95758056640625,119.80519104003906,144.42811584472656,133.82907104492188,138.0749969482422,88.72856903076172,113.62405395507812,109.29048919677734,140.091796875,124.72953796386719]},\"selected\":{\"id\":\"1066\",\"type\":\"Selection\"},\"selection_policy\":{\"id\":\"1065\",\"type\":\"UnionRenderers\"}},\"id\":\"1038\",\"type\":\"ColumnDataSource\"},{\"attributes\":{\"line_color\":\"orange\",\"x\":{\"field\":\"x\"},\"y\":{\"field\":\"y\"}},\"id\":\"1074\",\"type\":\"Line\"},{\"attributes\":{},\"id\":\"1022\",\"type\":\"PanTool\"},{\"attributes\":{},\"id\":\"1013\",\"type\":\"BasicTicker\"},{\"attributes\":{\"source\":{\"id\":\"1053\",\"type\":\"ColumnDataSource\"}},\"id\":\"1057\",\"type\":\"CDSView\"},{\"attributes\":{\"line_alpha\":0.1,\"line_color\":\"#1f77b4\",\"x\":{\"field\":\"x\"},\"y\":{\"field\":\"y\"}},\"id\":\"1055\",\"type\":\"Line\"},{\"attributes\":{},\"id\":\"1070\",\"type\":\"Selection\"},{\"attributes\":{\"line_alpha\":{\"value\":0.1},\"line_color\":{\"value\":\"#1f77b4\"},\"xs\":{\"field\":\"xs\"},\"ys\":{\"field\":\"ys\"}},\"id\":\"1045\",\"type\":\"MultiLine\"},{\"attributes\":{\"line_alpha\":{\"value\":0.1},\"line_color\":{\"value\":\"#1f77b4\"},\"xs\":{\"field\":\"xs\"},\"ys\":{\"field\":\"ys\"}},\"id\":\"1050\",\"type\":\"MultiLine\"},{\"attributes\":{\"bottom_units\":\"screen\",\"fill_alpha\":{\"value\":0.5},\"fill_color\":{\"value\":\"lightgrey\"},\"left_units\":\"screen\",\"level\":\"overlay\",\"line_alpha\":{\"value\":1.0},\"line_color\":{\"value\":\"black\"},\"line_dash\":[4,4],\"line_width\":{\"value\":2},\"render_mode\":\"css\",\"right_units\":\"screen\",\"top_units\":\"screen\"},\"id\":\"1063\",\"type\":\"BoxAnnotation\"},{\"attributes\":{},\"id\":\"1059\",\"type\":\"BasicTickFormatter\"},{\"attributes\":{},\"id\":\"1067\",\"type\":\"UnionRenderers\"},{\"attributes\":{},\"id\":\"1111\",\"type\":\"Selection\"},{\"attributes\":{\"data_source\":{\"id\":\"1048\",\"type\":\"ColumnDataSource\"},\"glyph\":{\"id\":\"1049\",\"type\":\"MultiLine\"},\"hover_glyph\":null,\"muted_glyph\":null,\"nonselection_glyph\":{\"id\":\"1050\",\"type\":\"MultiLine\"},\"selection_glyph\":null,\"view\":{\"id\":\"1052\",\"type\":\"CDSView\"}},\"id\":\"1051\",\"type\":\"GlyphRenderer\"},{\"attributes\":{\"callback\":null,\"data\":{\"x\":{\"__ndarray__\":\"AHj5GrEB5z+JwWjxggPnPxIL2MdUBec/m1RHniYH5z8knrZ0+AjnP63nJUvKCuc/NjGVIZwM5z+/egT4bQ7nP0jEc84/EOc/0Q3jpBES5z9bV1J74xPnP+SgwVG1Fec/beowKIcX5z/2M6D+WBnnP399D9UqG+c/CMd+q/wc5z+REO6Bzh7nPxpaXVigIOc/o6PMLnIi5z8s7TsFRCTnP7U2q9sVJuc/PoAasucn5z/HyYmIuSnnP1AT+V6LK+c/2VxoNV0t5z9iptcLLy/nP+vvRuIAMec/dDm2uNIy5z/9giWPpDTnP4bMlGV2Nuc/EBYEPEg45z+ZX3MSGjrnPyKp4ujrO+c/q/JRv7095z80PMGVjz/nP72FMGxhQec/Rs+fQjND5z/PGA8ZBUXnP1hifu/WRuc/4avtxahI5z9q9VycekrnP/M+zHJMTOc/fIg7SR5O5z8F0qof8E/nP44bGvbBUec/F2WJzJNT5z+grviiZVXnPyn4Z3k3V+c/skHXTwlZ5z87i0Ym21rnP8XUtfysXOc/Th4l035e5z/XZ5SpUGDnP2CxA4AiYuc/6fpyVvRj5z9yROIsxmXnP/uNUQOYZ+c/hNfA2Wlp5z8NITCwO2vnP5Zqn4YNbec/H7QOXd9u5z+o/X0zsXDnPzFH7QmDcuc/upBc4FR05z9D2su2JnbnP8wjO434d+c/VW2qY8p55z/ethk6nHvnP2cAiRBufec/8En45j9/5z96k2e9EYHnPwPd1pPjguc/jCZGarWE5z8VcLVAh4bnP565JBdZiOc/JwOU7SqK5z+wTAPE/IvnPzmWcprOjec/wt/hcKCP5z9LKVFHcpHnP9RywB1Ek+c/Xbwv9BWV5z/mBZ/K55bnP29PDqG5mOc/+Jh9d4ua5z+B4uxNXZznPwosXCQvnuc/k3XL+gCg5z8cvzrR0qHnP6YIqqeko+c/L1IZfnal5z+4m4hUSKfnP0Hl9yoaqec/yi5nAeyq5z9TeNbXvaznP9zBRa6Pruc/ZQu1hGGw5z/uVCRbM7LnP3eekzEFtOc/AOgCCNe15z8=\",\"dtype\":\"float64\",\"shape\":[100]},\"y\":{\"__ndarray__\":\"qqqq/9MAYUCqqqr/0wBhQKqqqv/TAGFAqqqq/9MAYUCqqqr/0wBhQKqqqv/TAGFAqqqq/9MAYUCqqqr/0wBhQKqqqv/TAGFAqqqq/9MAYUCqqqr/0wBhQKqqqv/TAGFAqqqq/9MAYUCqqqr/0wBhQKqqqv/TAGFAqqqq/9MAYUCqqqr/0wBhQKqqqv/TAGFAqqqq/9MAYUCqqqr/0wBhQKqqqv/TAGFAqqqq/9MAYUCqqqr/0wBhQKqqqv/TAGFAqqqq/9MAYUCqqqr/0wBhQKqqqv/TAGFAqqqq/9MAYUCqqqr/0wBhQKqqqv/TAGFAqqqq/9MAYUCqqqr/0wBhQKqqqv/TAGFAqqqq/9MAYUCqqqr/0wBhQKqqqv/TAGFAqqqq/9MAYUCqqqr/0wBhQKqqqv/TAGFAqqqq/9MAYUCqqqr/0wBhQKqqqv/TAGFAqqqq/9MAYUCqqqr/0wBhQKqqqv/TAGFAqqqq/9MAYUCqqqr/0wBhQKqqqv/TAGFAqqqq/9MAYUCqqqr/0wBhQKqqqv/TAGFAqqqq/9MAYUCqqqr/0wBhQKqqqv/TAGFAqqqq/9MAYUCqqqr/0wBhQKqqqv/TAGFAqqqq/9MAYUCqqqr/0wBhQKqqqv/TAGFAqqqq/9MAYUCqqqr/0wBhQKqqqv/TAGFAqqqq/9MAYUCqqqr/0wBhQKqqqv/TAGFAqqqq/9MAYUCqqqr/0wBhQKqqqv/TAGFAqqqq/9MAYUCqqqr/0wBhQKqqqv/TAGFAqqqq/9MAYUCqqqr/0wBhQKqqqv/TAGFAqqqq/9MAYUCqqqr/0wBhQKqqqv/TAGFAqqqq/9MAYUCqqqr/0wBhQKqqqv/TAGFAqqqq/9MAYUCqqqr/0wBhQKqqqv/TAGFAqqqq/9MAYUCqqqr/0wBhQKqqqv/TAGFAqqqq/9MAYUCqqqr/0wBhQKqqqv/TAGFAqqqq/9MAYUCqqqr/0wBhQKqqqv/TAGFAqqqq/9MAYUCqqqr/0wBhQKqqqv/TAGFAqqqq/9MAYUCqqqr/0wBhQKqqqv/TAGFAqqqq/9MAYUA=\",\"dtype\":\"float64\",\"shape\":[100]}},\"selected\":{\"id\":\"1092\",\"type\":\"Selection\"},\"selection_policy\":{\"id\":\"1091\",\"type\":\"UnionRenderers\"}},\"id\":\"1053\",\"type\":\"ColumnDataSource\"},{\"attributes\":{},\"id\":\"1091\",\"type\":\"UnionRenderers\"},{\"attributes\":{},\"id\":\"1027\",\"type\":\"SaveTool\"},{\"attributes\":{\"bottom_units\":\"screen\",\"fill_alpha\":{\"value\":0.5},\"fill_color\":{\"value\":\"lightgrey\"},\"left_units\":\"screen\",\"level\":\"overlay\",\"line_alpha\":{\"value\":1.0},\"line_color\":{\"value\":\"black\"},\"line_dash\":[4,4],\"line_width\":{\"value\":2},\"render_mode\":\"css\",\"right_units\":\"screen\",\"top_units\":\"screen\"},\"id\":\"1064\",\"type\":\"BoxAnnotation\"},{\"attributes\":{\"items\":[{\"id\":\"1072\",\"type\":\"LegendItem\"},{\"id\":\"1093\",\"type\":\"LegendItem\"}]},\"id\":\"1071\",\"type\":\"Legend\"},{\"attributes\":{\"active_drag\":\"auto\",\"active_inspect\":\"auto\",\"active_multi\":null,\"active_scroll\":\"auto\",\"active_tap\":\"auto\",\"tools\":[{\"id\":\"1001\",\"type\":\"HoverTool\"},{\"id\":\"1022\",\"type\":\"PanTool\"},{\"id\":\"1023\",\"type\":\"BoxZoomTool\"},{\"id\":\"1024\",\"type\":\"BoxSelectTool\"},{\"id\":\"1025\",\"type\":\"WheelZoomTool\"},{\"id\":\"1026\",\"type\":\"ResetTool\"},{\"id\":\"1027\",\"type\":\"SaveTool\"},{\"id\":\"1028\",\"type\":\"CrosshairTool\"}]},\"id\":\"1029\",\"type\":\"Toolbar\"},{\"attributes\":{\"data_source\":{\"id\":\"1073\",\"type\":\"ColumnDataSource\"},\"glyph\":{\"id\":\"1074\",\"type\":\"Line\"},\"hover_glyph\":null,\"muted_glyph\":null,\"nonselection_glyph\":{\"id\":\"1075\",\"type\":\"Line\"},\"selection_glyph\":null,\"view\":{\"id\":\"1077\",\"type\":\"CDSView\"}},\"id\":\"1076\",\"type\":\"GlyphRenderer\"},{\"attributes\":{\"fill_color\":{\"value\":\"red\"},\"line_color\":{\"value\":\"red\"},\"x\":{\"field\":\"x\"},\"y\":{\"field\":\"y\"}},\"id\":\"1039\",\"type\":\"Circle\"},{\"attributes\":{\"source\":{\"id\":\"1038\",\"type\":\"ColumnDataSource\"}},\"id\":\"1042\",\"type\":\"CDSView\"},{\"attributes\":{\"callback\":null,\"data\":{\"xs\":[[0.7188407799833999,0.7190722614833999],[0.7190722614833999,0.7193037429463561],[0.7193037429463561,0.7195352244463561],[0.7195352244463561,0.7197667059093124],[0.7197667059093124,0.7199981874093123],[0.7199981874093123,0.7202296688722686],[0.7202296688722686,0.7204611503722685],[0.7204611503722685,0.7206926318352248],[0.7206926318352248,0.7209241133352248],[0.7209241133352248,0.721155594798181],[0.721155594798181,0.721387076298181],[0.721387076298181,0.7216185577611373],[0.7216185577611373,0.7218500392611372],[0.7218500392611372,0.7220815207240935],[0.7220815207240935,0.7223130022240934],[0.7223130022240934,0.7225444836870497],[0.7225444836870497,0.7227759651870497],[0.7227759651870497,0.7230074466500059],[0.7230074466500059,0.7232389281500059],[0.7232389281500059,0.7234704096129622],[0.7234704096129622,0.7237018911129621],[0.7237018911129621,0.7239333725759184],[0.7239333725759184,0.7241648540759184],[0.7241648540759184,0.7243963355388746],[0.7243963355388746,0.7246278170388746],[0.7246278170388746,0.7248592985018308],[0.7248592985018308,0.7250907800018308],[0.7250907800018308,0.7253222614647871],[0.7253222614647871,0.725553742964787],[0.725553742964787,0.7257852244277433],[0.7257852244277433,0.7260167059277433],[0.7260167059277433,0.7262481873906995],[0.7262481873906995,0.7264796688906995],[0.7264796688906995,0.7267111503536557],[0.7267111503536557,0.7269426318536557],[0.7269426318536557,0.727174113316612],[0.727174113316612,0.7274055948166119],[0.7274055948166119,0.7276370762795682],[0.7276370762795682,0.7278685577795682],[0.7278685577795682,0.7281000392425244],[0.7281000392425244,0.7283315207425244],[0.7283315207425244,0.7285630022054806],[0.7285630022054806,0.7287944837054806],[0.7287944837054806,0.7290259651684369],[0.7290259651684369,0.7292574466684368],[0.7292574466684368,0.7294889281313931],[0.7294889281313931,0.7297204096313931],[0.7297204096313931,0.7299518910943493],[0.7299518910943493,0.7301833725943493],[0.7301833725943493,0.7304148540573056],[0.7304148540573056,0.7306463355573055],[0.7306463355573055,0.7308778170202618],[0.7308778170202618,0.7311092985202617],[0.7311092985202617,0.731340779983218],[0.731340779983218,0.731572261483218],[0.731572261483218,0.7318037429461742],[0.7318037429461742,0.7320352244461742],[0.7320352244461742,0.7322667059091305],[0.7322667059091305,0.7324981874091304],[0.7324981874091304,0.7327296688720867],[0.7327296688720867,0.7329611503720866],[0.7329611503720866,0.7331926318350429],[0.7331926318350429,0.7334241133350429],[0.7334241133350429,0.7336555947979991],[0.7336555947979991,0.7338870762979991],[0.7338870762979991,0.7341185577609554],[0.7341185577609554,0.7343500392609553],[0.7343500392609553,0.7345815207239116],[0.7345815207239116,0.7348130022239115],[0.7348130022239115,0.7350444836868678],[0.7350444836868678,0.7352759651868678],[0.7352759651868678,0.735507446649824],[0.735507446649824,0.735738928149824],[0.735738928149824,0.7359704096127803],[0.7359704096127803,0.7362018911127802],[0.7362018911127802,0.7364333725757365],[0.7364333725757365,0.7366648540757365],[0.7366648540757365,0.7368963355386927],[0.7368963355386927,0.7371278170386927],[0.7371278170386927,0.7373592985016489],[0.7373592985016489,0.7375907800016489],[0.7375907800016489,0.7378222614646052],[0.7378222614646052,0.7380537429646051],[0.7380537429646051,0.7382852244275614],[0.7382852244275614,0.7385167059275614],[0.7385167059275614,0.7387481873905176],[0.7387481873905176,0.7389796688905176],[0.7389796688905176,0.7392111503534738],[0.7392111503534738,0.7394426318534738],[0.7394426318534738,0.7396741133164301],[0.7396741133164301,0.73990559481643],[0.73990559481643,0.7401370762793863],[0.7401370762793863,0.7403685577793863],[0.7403685577793863,0.7406000392423425],[0.7406000392423425,0.7408315207423425],[0.7408315207423425,0.7410630022052987]],\"ys\":[[131.684326171875,131.684326171875],[134.00222778320312,134.00222778320312],[141.36245727539062,141.36245727539062],[133.73452758789062,133.73452758789062],[124.35093688964844,124.35093688964844],[131.16683959960938,131.16683959960938],[131.95567321777344,131.95567321777344],[134.22305297851562,134.22305297851562],[135.2184600830078,135.2184600830078],[136.5658721923828,136.5658721923828],[158.86351013183594,158.86351013183594],[143.61038208007812,143.61038208007812],[127.01898956298828,127.01898956298828],[129.49208068847656,129.49208068847656],[134.9204864501953,134.9204864501953],[145.80101013183594,145.80101013183594],[143.95326232910156,143.95326232910156],[130.11854553222656,130.11854553222656],[139.9220428466797,139.9220428466797],[143.47581481933594,143.47581481933594],[140.62191772460938,140.62191772460938],[147.89999389648438,147.89999389648438],[144.84500122070312,144.84500122070312],[135.679443359375,135.679443359375],[128.54776000976562,128.54776000976562],[134.5354766845703,134.5354766845703],[135.83523559570312,135.83523559570312],[135.2906494140625,135.2906494140625],[135.64328002929688,135.64328002929688],[135.61441040039062,135.61441040039062],[136.86598205566406,136.86598205566406],[124.3016128540039,124.3016128540039],[128.982177734375,128.982177734375],[141.3610076904297,141.3610076904297],[130.28526306152344,130.28526306152344],[125.23929595947266,125.23929595947266],[135.8852996826172,135.8852996826172],[128.99142456054688,128.99142456054688],[122.61624145507812,122.61624145507812],[154.67935180664062,154.67935180664062],[124.50833892822266,124.50833892822266],[132.17213439941406,132.17213439941406],[137.43792724609375,137.43792724609375],[117.1561508178711,117.1561508178711],[143.4724578857422,143.4724578857422],[131.8966522216797,131.8966522216797],[138.42807006835938,138.42807006835938],[157.40914916992188,157.40914916992188],[160.51620483398438,160.51620483398438],[148.99822998046875,148.99822998046875],[127.01517486572266,127.01517486572266],[129.93382263183594,129.93382263183594],[105.38713073730469,105.38713073730469],[144.72743225097656,144.72743225097656],[158.1119384765625,158.1119384765625],[101.62751770019531,101.62751770019531],[141.7168426513672,141.7168426513672],[124.87455749511719,124.87455749511719],[176.83023071289062,176.83023071289062],[129.0919952392578,129.0919952392578],[170.33152770996094,170.33152770996094],[149.741455078125,149.741455078125],[127.93281555175781,127.93281555175781],[139.56089782714844,139.56089782714844],[129.99053955078125,129.99053955078125],[144.7479705810547,144.7479705810547],[127.61465454101562,127.61465454101562],[143.16983032226562,143.16983032226562],[121.84700012207031,121.84700012207031],[115.91056823730469,115.91056823730469],[143.51617431640625,143.51617431640625],[148.29287719726562,148.29287719726562],[190.585693359375,190.585693359375],[169.91250610351562,169.91250610351562],[133.89598083496094,133.89598083496094],[124.00274658203125,124.00274658203125],[166.283935546875,166.283935546875],[124.0058822631836,124.0058822631836],[124.01769256591797,124.01769256591797],[141.4230499267578,141.4230499267578],[111.71610260009766,111.71610260009766],[126.72029876708984,126.72029876708984],[152.67398071289062,152.67398071289062],[175.89044189453125,175.89044189453125],[139.69097900390625,139.69097900390625],[123.97607421875,123.97607421875],[111.95758056640625,111.95758056640625],[119.80519104003906,119.80519104003906],[144.42811584472656,144.42811584472656],[133.82907104492188,133.82907104492188],[138.0749969482422,138.0749969482422],[88.72856903076172,88.72856903076172],[113.62405395507812,113.62405395507812],[109.29048919677734,109.29048919677734],[140.091796875,140.091796875],[124.72953796386719,124.72953796386719]]},\"selected\":{\"id\":\"1068\",\"type\":\"Selection\"},\"selection_policy\":{\"id\":\"1067\",\"type\":\"UnionRenderers\"}},\"id\":\"1043\",\"type\":\"ColumnDataSource\"},{\"attributes\":{},\"id\":\"1025\",\"type\":\"WheelZoomTool\"},{\"attributes\":{\"label\":{\"value\":\"linear fit\"},\"renderers\":[{\"id\":\"1076\",\"type\":\"GlyphRenderer\"}]},\"id\":\"1093\",\"type\":\"LegendItem\"},{\"attributes\":{\"callback\":null,\"tooltips\":[[\"x\",\"$x\"],[\"y\",\"$y\"]]},\"id\":\"1001\",\"type\":\"HoverTool\"},{\"attributes\":{\"line_alpha\":0.1,\"line_color\":\"#1f77b4\",\"x\":{\"field\":\"x\"},\"y\":{\"field\":\"y\"}},\"id\":\"1075\",\"type\":\"Line\"},{\"attributes\":{},\"id\":\"1066\",\"type\":\"Selection\"},{\"attributes\":{\"axis_label\":\"Rate  (cts/s)\",\"formatter\":{\"id\":\"1061\",\"type\":\"BasicTickFormatter\"},\"ticker\":{\"id\":\"1018\",\"type\":\"BasicTicker\"}},\"id\":\"1017\",\"type\":\"LinearAxis\"},{\"attributes\":{},\"id\":\"1010\",\"type\":\"LinearScale\"},{\"attributes\":{\"callback\":null,\"data\":{\"xs\":[[0.7189565207333999,0.7189565207333999],[0.719188002214878,0.719188002214878],[0.7194194836963561,0.7194194836963561],[0.7196509651778342,0.7196509651778342],[0.7198824466593123,0.7198824466593123],[0.7201139281407904,0.7201139281407904],[0.7203454096222686,0.7203454096222686],[0.7205768911037467,0.7205768911037467],[0.7208083725852248,0.7208083725852248],[0.7210398540667029,0.7210398540667029],[0.721271335548181,0.721271335548181],[0.7215028170296591,0.7215028170296591],[0.7217342985111372,0.7217342985111372],[0.7219657799926154,0.7219657799926154],[0.7221972614740935,0.7221972614740935],[0.7224287429555716,0.7224287429555716],[0.7226602244370497,0.7226602244370497],[0.7228917059185278,0.7228917059185278],[0.7231231874000059,0.7231231874000059],[0.723354668881484,0.723354668881484],[0.7235861503629621,0.7235861503629621],[0.7238176318444403,0.7238176318444403],[0.7240491133259184,0.7240491133259184],[0.7242805948073965,0.7242805948073965],[0.7245120762888746,0.7245120762888746],[0.7247435577703527,0.7247435577703527],[0.7249750392518308,0.7249750392518308],[0.7252065207333089,0.7252065207333089],[0.725438002214787,0.725438002214787],[0.7256694836962652,0.7256694836962652],[0.7259009651777433,0.7259009651777433],[0.7261324466592214,0.7261324466592214],[0.7263639281406995,0.7263639281406995],[0.7265954096221776,0.7265954096221776],[0.7268268911036557,0.7268268911036557],[0.7270583725851338,0.7270583725851338],[0.727289854066612,0.727289854066612],[0.7275213355480901,0.7275213355480901],[0.7277528170295682,0.7277528170295682],[0.7279842985110463,0.7279842985110463],[0.7282157799925244,0.7282157799925244],[0.7284472614740025,0.7284472614740025],[0.7286787429554806,0.7286787429554806],[0.7289102244369587,0.7289102244369587],[0.7291417059184369,0.7291417059184369],[0.729373187399915,0.729373187399915],[0.7296046688813931,0.7296046688813931],[0.7298361503628712,0.7298361503628712],[0.7300676318443493,0.7300676318443493],[0.7302991133258274,0.7302991133258274],[0.7305305948073055,0.7305305948073055],[0.7307620762887836,0.7307620762887836],[0.7309935577702618,0.7309935577702618],[0.7312250392517399,0.7312250392517399],[0.731456520733218,0.731456520733218],[0.7316880022146961,0.7316880022146961],[0.7319194836961742,0.7319194836961742],[0.7321509651776523,0.7321509651776523],[0.7323824466591304,0.7323824466591304],[0.7326139281406086,0.7326139281406086],[0.7328454096220867,0.7328454096220867],[0.7330768911035648,0.7330768911035648],[0.7333083725850429,0.7333083725850429],[0.733539854066521,0.733539854066521],[0.7337713355479991,0.7337713355479991],[0.7340028170294772,0.7340028170294772],[0.7342342985109553,0.7342342985109553],[0.7344657799924335,0.7344657799924335],[0.7346972614739116,0.7346972614739116],[0.7349287429553897,0.7349287429553897],[0.7351602244368678,0.7351602244368678],[0.7353917059183459,0.7353917059183459],[0.735623187399824,0.735623187399824],[0.7358546688813021,0.7358546688813021],[0.7360861503627802,0.7360861503627802],[0.7363176318442584,0.7363176318442584],[0.7365491133257365,0.7365491133257365],[0.7367805948072146,0.7367805948072146],[0.7370120762886927,0.7370120762886927],[0.7372435577701708,0.7372435577701708],[0.7374750392516489,0.7374750392516489],[0.737706520733127,0.737706520733127],[0.7379380022146051,0.7379380022146051],[0.7381694836960833,0.7381694836960833],[0.7384009651775614,0.7384009651775614],[0.7386324466590395,0.7386324466590395],[0.7388639281405176,0.7388639281405176],[0.7390954096219957,0.7390954096219957],[0.7393268911034738,0.7393268911034738],[0.7395583725849519,0.7395583725849519],[0.73978985406643,0.73978985406643],[0.7400213355479082,0.7400213355479082],[0.7402528170293863,0.7402528170293863],[0.7404842985108644,0.7404842985108644],[0.7407157799923425,0.7407157799923425],[0.7409472614738206,0.7409472614738206]],\"ys\":[[122.64905548095703,140.71958923339844],[124.84528350830078,143.15916442871094],[132.01470947265625,150.710205078125],[124.64666748046875,142.8223876953125],[115.41914367675781,133.28273010253906],[122.09475708007812,140.23892211914062],[122.8060302734375,141.10531616210938],[125.0176773071289,143.42843627929688],[126.15950775146484,144.27740478515625],[127.3353042602539,145.7964324951172],[149.2383270263672,168.4886932373047],[134.26817321777344,152.9525909423828],[118.13606262207031,135.90191650390625],[120.59471893310547,138.38943481445312],[125.71991729736328,144.1210479736328],[136.4192657470703,155.18275451660156],[134.6276397705078,153.2788848876953],[121.03268432617188,139.20440673828125],[130.68162536621094,149.16246032714844],[134.13790893554688,152.813720703125],[131.29156494140625,149.9522705078125],[138.356201171875,157.44378662109375],[135.49403381347656,154.1959686279297],[126.4794692993164,144.87942504882812],[119.5234375,137.57208251953125],[125.45006561279297,143.6208953857422],[126.68814849853516,144.98231506347656],[126.2094955444336,144.37181091308594],[126.53669738769531,144.74986267089844],[126.48191833496094,144.7469024658203],[127.71051025390625,146.02145385742188],[115.35514068603516,133.2480926513672],[119.95055389404297,138.01380920410156],[131.99105834960938,150.73095703125],[121.20613861083984,139.3643798828125],[116.28804016113281,134.1905517578125],[126.64109802246094,145.12950134277344],[120.01307678222656,137.9697723388672],[113.81314849853516,131.41934204101562],[145.05665588378906,164.3020477294922],[115.5546875,133.4619903564453],[123.12187957763672,141.22238159179688],[128.1925811767578,146.6832733154297],[108.0073471069336,126.3049545288086],[133.32322692871094,153.62168884277344],[121.25035095214844,142.54295349121094],[126.99714660644531,149.85899353027344],[144.71820068359375,170.10009765625],[146.9053955078125,174.12701416015625],[134.7796630859375,163.216796875],[112.99882507324219,141.03152465820312],[114.36309814453125,145.50454711914062],[90.06922149658203,120.70503997802734],[125.98956298828125,163.46530151367188],[138.4395751953125,177.7843017578125],[81.69695281982422,121.5580825805664],[118.90756225585938,164.526123046875],[103.86665344238281,145.88246154785156],[152.38592529296875,201.2745361328125],[107.31170654296875,150.87228393554688],[145.79632568359375,194.86672973632812],[127.23811340332031,172.2447967529297],[106.13148498535156,149.73414611816406],[117.7204360961914,161.40135192871094],[108.42655944824219,151.5545196533203],[122.3610610961914,167.1348876953125],[106.01535034179688,149.21395874023438],[120.580078125,165.75958251953125],[100.80410766601562,142.889892578125],[95.6269760131836,136.1941680908203],[121.11857604980469,165.9137725830078],[125.5684814453125,171.01727294921875],[165.9464874267578,215.2248992919922],[145.57080078125,194.25421142578125],[111.77605438232422,156.01589965820312],[102.35946655273438,145.64602661132812],[142.6391143798828,189.9287567138672],[102.77212524414062,145.23963928222656],[103.20140838623047,144.83396911621094],[118.80261993408203,164.04347229003906],[91.37423706054688,132.05796813964844],[104.90530395507812,148.53529357910156],[129.83006286621094,175.5178985595703],[151.62228393554688,200.15859985351562],[117.03717041015625,162.34478759765625],[102.74726867675781,145.2048797607422],[91.84777069091797,132.06739807128906],[98.93402099609375,140.67636108398438],[121.45726776123047,167.39895629882812],[112.53160858154297,155.1265411376953],[116.41513061523438,159.73486328125],[71.58583068847656,105.87130737304688],[97.2257080078125,130.02239990234375],[95.23259735107422,123.34838104248047],[125.56104278564453,154.62254333496094],[111.6295166015625,137.82955932617188]]},\"selected\":{\"id\":\"1070\",\"type\":\"Selection\"},\"selection_policy\":{\"id\":\"1069\",\"type\":\"UnionRenderers\"}},\"id\":\"1048\",\"type\":\"ColumnDataSource\"},{\"attributes\":{},\"id\":\"1008\",\"type\":\"LinearScale\"},{\"attributes\":{},\"id\":\"1026\",\"type\":\"ResetTool\"},{\"attributes\":{\"callback\":null,\"data\":{\"x\":{\"__ndarray__\":\"AHj5GrEB5z+JwWjxggPnPxIL2MdUBec/m1RHniYH5z8knrZ0+AjnP63nJUvKCuc/NjGVIZwM5z+/egT4bQ7nP0jEc84/EOc/0Q3jpBES5z9bV1J74xPnP+SgwVG1Fec/beowKIcX5z/2M6D+WBnnP399D9UqG+c/CMd+q/wc5z+REO6Bzh7nPxpaXVigIOc/o6PMLnIi5z8s7TsFRCTnP7U2q9sVJuc/PoAasucn5z/HyYmIuSnnP1AT+V6LK+c/2VxoNV0t5z9iptcLLy/nP+vvRuIAMec/dDm2uNIy5z/9giWPpDTnP4bMlGV2Nuc/EBYEPEg45z+ZX3MSGjrnPyKp4ujrO+c/q/JRv7095z80PMGVjz/nP72FMGxhQec/Rs+fQjND5z/PGA8ZBUXnP1hifu/WRuc/4avtxahI5z9q9VycekrnP/M+zHJMTOc/fIg7SR5O5z8F0qof8E/nP44bGvbBUec/F2WJzJNT5z+grviiZVXnPyn4Z3k3V+c/skHXTwlZ5z87i0Ym21rnP8XUtfysXOc/Th4l035e5z/XZ5SpUGDnP2CxA4AiYuc/6fpyVvRj5z9yROIsxmXnP/uNUQOYZ+c/hNfA2Wlp5z8NITCwO2vnP5Zqn4YNbec/H7QOXd9u5z+o/X0zsXDnPzFH7QmDcuc/upBc4FR05z9D2su2JnbnP8wjO434d+c/VW2qY8p55z/ethk6nHvnP2cAiRBufec/8En45j9/5z96k2e9EYHnPwPd1pPjguc/jCZGarWE5z8VcLVAh4bnP565JBdZiOc/JwOU7SqK5z+wTAPE/IvnPzmWcprOjec/wt/hcKCP5z9LKVFHcpHnP9RywB1Ek+c/Xbwv9BWV5z/mBZ/K55bnP29PDqG5mOc/+Jh9d4ua5z+B4uxNXZznPwosXCQvnuc/k3XL+gCg5z8cvzrR0qHnP6YIqqeko+c/L1IZfnal5z+4m4hUSKfnP0Hl9yoaqec/yi5nAeyq5z9TeNbXvaznP9zBRa6Pruc/ZQu1hGGw5z/uVCRbM7LnP3eekzEFtOc/AOgCCNe15z8=\",\"dtype\":\"float64\",\"shape\":[100]},\"y\":{\"__ndarray__\":\"Knv8KDA4YUDaZJPaETdhQIpOKozzNWFAOjjBPdU0YUDqIVjvtjNhQJoL76CYMmFASvWFUnoxYUD63hwEXDBhQKrIs7U9L2FAWrJKZx8uYUAInOEYAS1hQLiFeMriK2FAaG8PfMQqYUAYWaYtpilhQMhCPd+HKGFAeCzUkGknYUAoFmtCSyZhQNj/AfQsJWFAiOmYpQ4kYUA40y9X8CJhQOi8xgjSIWFAmKZdurMgYUBIkPRrlR9hQPh5ix13HmFAqGMiz1gdYUBXTbmAOhxhQAc3UDIcG2FAtyDn4/0ZYUBnCn6V3xhhQBf0FEfBF2FAxt2r+KIWYUB2x0KqhBVhQCax2VtmFGFA1ppwDUgTYUCGhAe/KRJhQDZunnALEWFA5lc1Iu0PYUCWQczTzg5hQEYrY4WwDWFA9hT6NpIMYUCl/pDocwthQFXoJ5pVCmFABdK+SzcJYUC1u1X9GAhhQGWl7K76BmFAFI+DYNwFYUDEeBoSvgRhQHRiscOfA2FAJExIdYECYUDUNd8mYwFhQIQfdthEAGFANAkNiib/YEDk8qM7CP5gQJTcOu3p/GBAQ8bRnsv7YEDzr2hQrfpgQKOZ/wGP+WBAU4OWs3D4YEADbS1lUvdgQLNWxBY09mBAYkBbyBX1YEASKvJ59/NgQMITiSvZ8mBAcv0f3brxYEAi57aOnPBgQNLQTUB+72BAgrrk8V/uYEAypHujQe1gQOKNElUj7GBAknepBgXrYEBBYUC45ulgQPFK12nI6GBAoTRuG6rnYEBRHgXNi+ZgQAAInH5t5WBAsPEyME/kYEBg28nhMONgQBDFYJMS4mBAwK73RPTgYEBwmI721d9gQCCCJai33mBA0Gu8WZndYECAVVMLe9xgQDA/6rxc22BA4CiBbj7aYECQEhggINlgQED8rtEB2GBA8OVFg+PWYECgz9w0xdVgQE65c+am1GBA/qIKmIjTYECujKFJatJgQF52OPtL0WBADmDPrC3QYEC+SWZeD89gQG4z/Q/xzWBAHh2UwdLMYEDOBitztMtgQH7wwSSWymBALtpY1nfJYEA=\",\"dtype\":\"float64\",\"shape\":[100]}},\"selected\":{\"id\":\"1111\",\"type\":\"Selection\"},\"selection_policy\":{\"id\":\"1110\",\"type\":\"UnionRenderers\"}},\"id\":\"1073\",\"type\":\"ColumnDataSource\"},{\"attributes\":{},\"id\":\"1061\",\"type\":\"BasicTickFormatter\"},{\"attributes\":{\"line_color\":{\"value\":\"red\"},\"xs\":{\"field\":\"xs\"},\"ys\":{\"field\":\"ys\"}},\"id\":\"1044\",\"type\":\"MultiLine\"},{\"attributes\":{\"source\":{\"id\":\"1048\",\"type\":\"ColumnDataSource\"}},\"id\":\"1052\",\"type\":\"CDSView\"},{\"attributes\":{},\"id\":\"1018\",\"type\":\"BasicTicker\"},{\"attributes\":{},\"id\":\"1068\",\"type\":\"Selection\"},{\"attributes\":{\"line_color\":\"green\",\"x\":{\"field\":\"x\"},\"y\":{\"field\":\"y\"}},\"id\":\"1054\",\"type\":\"Line\"},{\"attributes\":{\"source\":{\"id\":\"1073\",\"type\":\"ColumnDataSource\"}},\"id\":\"1077\",\"type\":\"CDSView\"},{\"attributes\":{},\"id\":\"1065\",\"type\":\"UnionRenderers\"},{\"attributes\":{},\"id\":\"1069\",\"type\":\"UnionRenderers\"},{\"attributes\":{\"data_source\":{\"id\":\"1053\",\"type\":\"ColumnDataSource\"},\"glyph\":{\"id\":\"1054\",\"type\":\"Line\"},\"hover_glyph\":null,\"muted_glyph\":null,\"nonselection_glyph\":{\"id\":\"1055\",\"type\":\"Line\"},\"selection_glyph\":null,\"view\":{\"id\":\"1057\",\"type\":\"CDSView\"}},\"id\":\"1056\",\"type\":\"GlyphRenderer\"},{\"attributes\":{\"ticker\":{\"id\":\"1013\",\"type\":\"BasicTicker\"}},\"id\":\"1016\",\"type\":\"Grid\"},{\"attributes\":{},\"id\":\"1028\",\"type\":\"CrosshairTool\"},{\"attributes\":{\"fill_alpha\":{\"value\":0.1},\"fill_color\":{\"value\":\"#1f77b4\"},\"line_alpha\":{\"value\":0.1},\"line_color\":{\"value\":\"#1f77b4\"},\"x\":{\"field\":\"x\"},\"y\":{\"field\":\"y\"}},\"id\":\"1040\",\"type\":\"Circle\"},{\"attributes\":{\"source\":{\"id\":\"1043\",\"type\":\"ColumnDataSource\"}},\"id\":\"1047\",\"type\":\"CDSView\"},{\"attributes\":{},\"id\":\"1092\",\"type\":\"Selection\"},{\"attributes\":{\"children\":[{\"id\":\"1002\",\"subtype\":\"Figure\",\"type\":\"Plot\"}]},\"id\":\"1094\",\"type\":\"Row\"},{\"attributes\":{\"data_source\":{\"id\":\"1038\",\"type\":\"ColumnDataSource\"},\"glyph\":{\"id\":\"1039\",\"type\":\"Circle\"},\"hover_glyph\":null,\"muted_glyph\":null,\"nonselection_glyph\":{\"id\":\"1040\",\"type\":\"Circle\"},\"selection_glyph\":null,\"view\":{\"id\":\"1042\",\"type\":\"CDSView\"}},\"id\":\"1041\",\"type\":\"GlyphRenderer\"},{\"attributes\":{\"below\":[{\"id\":\"1012\",\"type\":\"LinearAxis\"}],\"center\":[{\"id\":\"1016\",\"type\":\"Grid\"},{\"id\":\"1021\",\"type\":\"Grid\"},{\"id\":\"1071\",\"type\":\"Legend\"}],\"left\":[{\"id\":\"1017\",\"type\":\"LinearAxis\"}],\"renderers\":[{\"id\":\"1041\",\"type\":\"GlyphRenderer\"},{\"id\":\"1046\",\"type\":\"GlyphRenderer\"},{\"id\":\"1051\",\"type\":\"GlyphRenderer\"},{\"id\":\"1056\",\"type\":\"GlyphRenderer\"},{\"id\":\"1076\",\"type\":\"GlyphRenderer\"}],\"title\":null,\"toolbar\":{\"id\":\"1029\",\"type\":\"Toolbar\"},\"x_range\":{\"id\":\"1004\",\"type\":\"DataRange1d\"},\"x_scale\":{\"id\":\"1008\",\"type\":\"LinearScale\"},\"y_range\":{\"id\":\"1006\",\"type\":\"DataRange1d\"},\"y_scale\":{\"id\":\"1010\",\"type\":\"LinearScale\"}},\"id\":\"1002\",\"subtype\":\"Figure\",\"type\":\"Plot\"},{\"attributes\":{\"label\":{\"value\":\"constant fit\"},\"renderers\":[{\"id\":\"1056\",\"type\":\"GlyphRenderer\"}]},\"id\":\"1072\",\"type\":\"LegendItem\"}],\"root_ids\":[\"1094\"]},\"title\":\"Bokeh Application\",\"version\":\"1.4.0\"}}';\n",
       "                var render_items = [{\"docid\":\"3f5cbfd9-1df2-4446-be76-af55cfc03be2\",\"roots\":{\"1094\":\"1fed9a0f-57ee-4408-ad14-93cdbccb3c6d\"}}];\n",
       "                root.Bokeh.embed.embed_items(docs_json, render_items);\n",
       "              \n",
       "                }\n",
       "                if (root.Bokeh !== undefined) {\n",
       "                  embed_document(root);\n",
       "                } else {\n",
       "                  var attempts = 0;\n",
       "                  var timer = setInterval(function(root) {\n",
       "                    if (root.Bokeh !== undefined) {\n",
       "                      clearInterval(timer);\n",
       "                      embed_document(root);\n",
       "                    } else {\n",
       "                      attempts++;\n",
       "                      if (attempts > 100) {\n",
       "                        clearInterval(timer);\n",
       "                        console.log(\"Bokeh: ERROR: Unable to run BokehJS code because BokehJS library is missing\");\n",
       "                      }\n",
       "                    }\n",
       "                  }, 10, root)\n",
       "                }\n",
       "              })(window);\n",
       "            });\n",
       "          };\n",
       "          if (document.readyState != \"loading\") fn();\n",
       "          else document.addEventListener(\"DOMContentLoaded\", fn);\n",
       "        })();\n",
       "</script>\n",
       "<div class=\"bk-root\" id=\"1fed9a0f-57ee-4408-ad14-93cdbccb3c6d\" data-root-id=\"1094\"></div>"
      ],
      "text/plain": [
       "<IPython.core.display.HTML object>"
      ]
     },
     "metadata": {},
     "output_type": "display_data"
    }
   ],
   "source": [
    "display(HTML(l+i+d))\n"
   ]
  },
  {
   "cell_type": "code",
   "execution_count": null,
   "metadata": {},
   "outputs": [],
   "source": []
  }
 ],
 "metadata": {
  "kernelspec": {
   "display_name": "Python 3",
   "language": "python",
   "name": "python3"
  },
  "language_info": {
   "codemirror_mode": {
    "name": "ipython",
    "version": 3
   },
   "file_extension": ".py",
   "mimetype": "text/x-python",
   "name": "python",
   "nbconvert_exporter": "python",
   "pygments_lexer": "ipython3",
   "version": "3.7.6"
  }
 },
 "nbformat": 4,
 "nbformat_minor": 4
}
