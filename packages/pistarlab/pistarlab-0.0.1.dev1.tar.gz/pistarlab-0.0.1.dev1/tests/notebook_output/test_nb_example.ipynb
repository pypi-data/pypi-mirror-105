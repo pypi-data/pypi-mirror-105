{
 "cells": [
  {
   "cell_type": "markdown",
   "metadata": {},
   "source": [
    "# Unit Test Notebook"
   ]
  },
  {
   "cell_type": "code",
   "execution_count": 1,
   "metadata": {
    "execution": {
     "iopub.execute_input": "2021-05-07T06:52:33.667595Z",
     "iopub.status.busy": "2021-05-07T06:52:33.665376Z",
     "iopub.status.idle": "2021-05-07T06:52:33.671763Z",
     "shell.execute_reply": "2021-05-07T06:52:33.672623Z"
    }
   },
   "outputs": [
    {
     "name": "stdout",
     "output_type": "stream",
     "text": [
      "0\n",
      "1\n",
      "2\n",
      "3\n",
      "4\n",
      "5\n",
      "6\n",
      "7\n",
      "8\n",
      "9\n"
     ]
    }
   ],
   "source": [
    "for i in range(10):\n",
    "    print(i)"
   ]
  },
  {
   "cell_type": "code",
   "execution_count": 2,
   "metadata": {
    "execution": {
     "iopub.execute_input": "2021-05-07T06:52:33.679127Z",
     "iopub.status.busy": "2021-05-07T06:52:33.678158Z",
     "iopub.status.idle": "2021-05-07T06:52:33.680644Z",
     "shell.execute_reply": "2021-05-07T06:52:33.681542Z"
    }
   },
   "outputs": [],
   "source": [
    "assert(True)"
   ]
  }
 ],
 "metadata": {
  "language_info": {
   "codemirror_mode": {
    "name": "ipython",
    "version": 3
   },
   "file_extension": ".py",
   "mimetype": "text/x-python",
   "name": "python",
   "nbconvert_exporter": "python",
   "pygments_lexer": "ipython3",
   "version": "3.8.5"
  }
 },
 "nbformat": 4,
 "nbformat_minor": 4
}
