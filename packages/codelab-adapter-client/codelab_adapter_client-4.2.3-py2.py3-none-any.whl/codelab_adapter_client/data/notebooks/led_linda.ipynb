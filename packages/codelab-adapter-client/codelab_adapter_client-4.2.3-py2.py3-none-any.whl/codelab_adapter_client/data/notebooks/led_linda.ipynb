{
 "cells": [
  {
   "cell_type": "code",
   "execution_count": 117,
   "metadata": {},
   "outputs": [],
   "source": [
    "# pip3 install git+https://github.com/kylezimmerman/pyledshop\n",
    "from pyledshop import WifiLedShopLight, MonoEffect, CustomEffect\n",
    "import time\n",
    "# The IP assigned to the device on your network\n",
    "# I recommend setting a static IP to avoid the IP changing over time with DHCP\n",
    "light_ip = \"192.168.31.185\"  # 从IP中获取\n",
    "\n",
    "light = WifiLedShopLight(light_ip)"
   ]
  },
  {
   "cell_type": "code",
   "execution_count": 118,
   "metadata": {},
   "outputs": [],
   "source": [
    "# light.set_preset(MonoEffect.WAVE)\n",
    "# node\n",
    "from codelab_adapter_client import AdapterNode\n",
    "\n",
    "class MyNode(AdapterNode):\n",
    "    NODE_ID = \"linda/test\"\n",
    "\n",
    "    def __init__(self):\n",
    "        super().__init__()\n",
    "\n",
    "node = MyNode()\n",
    "node.receive_loop_as_thread()\n",
    "time.sleep(0.1)"
   ]
  },
  {
   "cell_type": "code",
   "execution_count": 119,
   "metadata": {},
   "outputs": [],
   "source": [
    "'''\n",
    "import time\n",
    "for i in range(10):\n",
    "    time.sleep(0.5)\n",
    "    light.toggle()\n",
    "'''\n",
    "def go():\n",
    "    light.set_brightness(255)\n",
    "    light.set_speed(255)\n",
    "    light.set_preset(MonoEffect.METEOR) # 呼吸灯\n",
    "    time.sleep(1)\n",
    "    light.set_brightness(0)"
   ]
  },
  {
   "cell_type": "code",
   "execution_count": 1,
   "metadata": {},
   "outputs": [],
   "source": [
    "# light.set_preset(MonoEffect.BREATHING) # 呼吸灯\n",
    "while True:\n",
    "    if node.linda_in([\"wand\"]):\n",
    "        go()"
   ]
  },
  {
   "cell_type": "code",
   "execution_count": null,
   "metadata": {},
   "outputs": [],
   "source": []
  }
 ],
 "metadata": {
  "kernelspec": {
   "display_name": "Python 3",
   "language": "python",
   "name": "python3"
  },
  "language_info": {
   "codemirror_mode": {
    "name": "ipython",
    "version": 3
   },
   "file_extension": ".py",
   "mimetype": "text/x-python",
   "name": "python",
   "nbconvert_exporter": "python",
   "pygments_lexer": "ipython3",
   "version": "3.8.2"
  }
 },
 "nbformat": 4,
 "nbformat_minor": 4
}
