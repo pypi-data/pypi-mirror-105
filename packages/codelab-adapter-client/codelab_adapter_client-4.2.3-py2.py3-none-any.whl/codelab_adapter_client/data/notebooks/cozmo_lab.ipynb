{
 "cells": [
  {
   "cell_type": "markdown",
   "metadata": {},
   "source": [
    "# hello world\n",
    "\n",
    "https://github.com/anki/cozmo-python-sdk/blob/master/examples/tutorials/01_basics/01_hello_world.py"
   ]
  },
  {
   "cell_type": "code",
   "execution_count": 1,
   "metadata": {},
   "outputs": [],
   "source": [
    "import cozmo\n",
    "\n",
    "\n",
    "def cozmo_program(robot: cozmo.robot.Robot):\n",
    "    robot.say_text(\"Hello World\").wait_for_completed()\n",
    "\n",
    "\n",
    "cozmo.run_program(cozmo_program)"
   ]
  },
  {
   "cell_type": "markdown",
   "metadata": {},
   "source": [
    "# set cube light\n",
    "https://github.com/anki/cozmo-python-sdk/blob/b5519aecb94f590b318eba9c8dc31c8d8eaf253f/examples/apps/color_finder.py#L470"
   ]
  },
  {
   "cell_type": "code",
   "execution_count": 2,
   "metadata": {},
   "outputs": [],
   "source": [
    "import cozmo\n",
    "import time\n",
    "\n",
    "def cozmo_program(robot: cozmo.robot.Robot):\n",
    "    # robot.say_text(\"Hello World\").wait_for_completed()\n",
    "    # robot.world.get_light_cube(1).set_lights(cozmo.lights.Light(cozmo.lights.Color(rgb=(255,0,0))))\n",
    "    # cozmo.objects.LightCube1Id\n",
    "    robot.world.get_light_cube(1).set_lights(cozmo.lights.Light(cozmo.lights.Color(rgb=(255,0,0))))\n",
    "    time.sleep(1)\n",
    "\n",
    "cozmo.run_program(cozmo_program)"
   ]
  },
  {
   "cell_type": "markdown",
   "metadata": {},
   "source": [
    "# cozmo cli\n",
    "\n",
    "https://github.com/anki/cozmo-python-sdk/blob/master/examples/apps/cli.py"
   ]
  },
  {
   "cell_type": "code",
   "execution_count": null,
   "metadata": {},
   "outputs": [],
   "source": [
    "# windows user: import pip; pip.main([\"cozmo[3dviewer]\"])\n",
    "import multiprocessing\n",
    "import time\n",
    "from IPython.terminal.embed import InteractiveShellEmbed\n",
    "\n",
    "import cozmo\n",
    "\n",
    "ipyshell = InteractiveShellEmbed()\n",
    "\n",
    "def cozmo_program(robot: cozmo.robot.Robot):\n",
    "    ipyshell()\n",
    "\n",
    "cozmo.robot.Robot.drive_off_charger_on_connect = False\n",
    "\n",
    "def main():\n",
    "    cozmo.run_program(cozmo_program, use_3d_viewer=True, use_viewer=True)\n",
    "\n",
    "p = multiprocessing.Process(target=main, args=())\n",
    "p.daemon = True\n",
    "p.run()"
   ]
  }
 ],
 "metadata": {
  "kernelspec": {
   "display_name": "Python 3",
   "language": "python",
   "name": "python3"
  },
  "language_info": {
   "codemirror_mode": {
    "name": "ipython",
    "version": 3
   },
   "file_extension": ".py",
   "mimetype": "text/x-python",
   "name": "python",
   "nbconvert_exporter": "python",
   "pygments_lexer": "ipython3",
   "version": "3.8.2"
  }
 },
 "nbformat": 4,
 "nbformat_minor": 4
}
