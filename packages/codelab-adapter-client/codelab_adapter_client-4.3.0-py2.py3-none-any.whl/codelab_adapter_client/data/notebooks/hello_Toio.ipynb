{
 "cells": [
  {
   "cell_type": "markdown",
   "id": "affiliated-entrepreneur",
   "metadata": {},
   "source": [
    "# Toio Python API\n",
    "使用 Python 同时驱动多个 Toio, 使用[toio_API](https://github.com/Yoshi-0921/toio_API), 感谢 Yoshi-0921\n",
    "\n",
    "使用时，需打开电脑蓝牙。\n",
    "\n",
    "[例子](https://github.com/Yoshi-0921/toio_API#examples)"
   ]
  },
  {
   "cell_type": "code",
   "execution_count": 1,
   "id": "virtual-instrumentation",
   "metadata": {},
   "outputs": [],
   "source": [
    "import asyncio\n",
    "\n",
    "from toio_API.scenarios import make_scenario\n",
    "from toio_API.utils.general import create_toios, discover_toios"
   ]
  },
  {
   "cell_type": "code",
   "execution_count": null,
   "id": "realistic-lover",
   "metadata": {},
   "outputs": [],
   "source": [
    "# 使用蓝牙搜索toio\n",
    "toio_addresses = await discover_toios()\n",
    "# 使用两个toio\n",
    "toios = create_toios(toio_addresses=toio_addresses, toio_names=['toio1', 'toio2'])\n",
    "# 内置行为 通过指定 scenario_name : ball_chase chase collision_avoidance run_spin spin\n",
    "# 可以自定义\n",
    "scenario = make_scenario(scenario_name='spin', toios=toios)\n",
    "# 为了方便在 Jupyter 中使用，使用似有方法\n",
    "await scenario._AbstractSenario__run() "
   ]
  }
 ],
 "metadata": {
  "kernelspec": {
   "display_name": "Python 3",
   "language": "python",
   "name": "python3"
  },
  "language_info": {
   "codemirror_mode": {
    "name": "ipython",
    "version": 3
   },
   "file_extension": ".py",
   "mimetype": "text/x-python",
   "name": "python",
   "nbconvert_exporter": "python",
   "pygments_lexer": "ipython3",
   "version": "3.8.7"
  }
 },
 "nbformat": 4,
 "nbformat_minor": 5
}
