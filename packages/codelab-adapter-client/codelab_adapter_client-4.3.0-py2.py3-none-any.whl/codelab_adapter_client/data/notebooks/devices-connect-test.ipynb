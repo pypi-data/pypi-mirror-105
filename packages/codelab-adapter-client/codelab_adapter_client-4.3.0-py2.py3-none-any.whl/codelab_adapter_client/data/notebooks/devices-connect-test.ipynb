{
 "cells": [
  {
   "cell_type": "markdown",
   "metadata": {},
   "source": [
    "# 悟空连接测试"
   ]
  },
  {
   "cell_type": "code",
   "execution_count": 6,
   "metadata": {},
   "outputs": [],
   "source": [
    "# https://github.com/marklogg/mini_demo/blob/master/test/test_connect.py\n",
    "import asyncio\n",
    "import logging\n",
    "\n",
    "import mini.mini_sdk as MiniSdk\n",
    "from mini.dns.dns_browser import WiFiDevice\n",
    "\n",
    "\"\"\"根据机器人序列号后缀搜索设备\n",
    "    搜索指定序列号(在机器人屁股后面)的机器人, 可以只输入序列号尾部字符即可,长度任意, 建议5个字符以上可以准确匹配\n",
    "\"\"\"\n",
    "device_name = \"00447\"\n",
    "\n",
    "async def test_get_device_by_name():\n",
    "    '''\n",
    "    10秒超时\n",
    "    Returns:\n",
    "        WiFiDevice: 包含机器人名称,ip,port等信息\n",
    "    '''\n",
    "    result: WiFiDevice = await MiniSdk.get_device_by_name(device_name, 10)\n",
    "    print(f\"test_get_device_by_name result:{result}\")\n",
    "    return result\n",
    "\n",
    "async def main():\n",
    "    device: WiFiDevice = await test_get_device_by_name()\n",
    "    if device:\n",
    "        print(\"发现 悟空\")\n",
    "    else:\n",
    "        print(\"未发现 悟空\")\n",
    "\n",
    "await main()"
   ]
  },
  {
   "cell_type": "markdown",
   "metadata": {},
   "source": [
    "# Cozmo 连接测试"
   ]
  },
  {
   "cell_type": "code",
   "execution_count": null,
   "metadata": {},
   "outputs": [],
   "source": [
    "import cozmo\n",
    "try:\n",
    "    cozmo.run_program(lambda robot: robot)  # 联通性测试！\n",
    "    print(\"发现 Cozmo\")\n",
    "except:\n",
    "    print(\"未发现 Cozmo\")"
   ]
  },
  {
   "cell_type": "markdown",
   "metadata": {},
   "source": [
    "# RoboMaster 连接测试"
   ]
  },
  {
   "cell_type": "code",
   "execution_count": null,
   "metadata": {},
   "outputs": [],
   "source": [
    "import robomasterpy as rm\n",
    "import socket\n",
    "try:\n",
    "    rm.Commander(timeout=7)\n",
    "    print(\"发现 RoboMaster\")\n",
    "except socket.timeout:\n",
    "    print(\"未发现 RoboMaster\")"
   ]
  },
  {
   "cell_type": "markdown",
   "metadata": {},
   "source": [
    "# Tello 连接测试"
   ]
  },
  {
   "cell_type": "code",
   "execution_count": null,
   "metadata": {},
   "outputs": [],
   "source": [
    "from djitellopy import Tello\n",
    "\n",
    "tello = Tello()\n",
    "tello.RESPONSE_TIMEOUT = 5\n",
    "try:\n",
    "    tello.connect()\n",
    "    print(\"发现 Tello\")\n",
    "except:\n",
    "    print(\"未发现 Tello\")"
   ]
  }
 ],
 "metadata": {
  "kernelspec": {
   "display_name": "Python 3",
   "language": "python",
   "name": "python3"
  },
  "language_info": {
   "codemirror_mode": {
    "name": "ipython",
    "version": 3
   },
   "file_extension": ".py",
   "mimetype": "text/x-python",
   "name": "python",
   "nbconvert_exporter": "python",
   "pygments_lexer": "ipython3",
   "version": "3.8.2"
  }
 },
 "nbformat": 4,
 "nbformat_minor": 4
}
