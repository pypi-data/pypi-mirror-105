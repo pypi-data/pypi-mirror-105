{
 "cells": [
  {
   "cell_type": "markdown",
   "id": "clean-carroll",
   "metadata": {},
   "source": [
    "# 交互式 micro:bit\n",
    "使用本机 Python 与 micro: bit 直接交互。 使用[bitio](https://github.com/whaleygeek/bitio), 感谢 whaleygeek\n",
    "\n",
    "## 使用说明\n",
    "请刷入[固件](https://github.com/whaleygeek/bitio/blob/newarch/bitio.hex)\n",
    "\n",
    "* [示例](https://github.com/whaleygeek/bitio/tree/newarch/src) "
   ]
  },
  {
   "cell_type": "code",
   "execution_count": 2,
   "id": "norwegian-recall",
   "metadata": {},
   "outputs": [],
   "source": [
    "import microbit\n",
    "# 按照提示操作"
   ]
  },
  {
   "cell_type": "code",
   "execution_count": null,
   "id": "consistent-paintball",
   "metadata": {},
   "outputs": [],
   "source": [
    "microbit.display.scroll(\"Hello\")"
   ]
  }
 ],
 "metadata": {
  "kernelspec": {
   "display_name": "Python 3",
   "language": "python",
   "name": "python3"
  },
  "language_info": {
   "codemirror_mode": {
    "name": "ipython",
    "version": 3
   },
   "file_extension": ".py",
   "mimetype": "text/x-python",
   "name": "python",
   "nbconvert_exporter": "python",
   "pygments_lexer": "ipython3",
   "version": "3.8.7"
  }
 },
 "nbformat": 4,
 "nbformat_minor": 5
}
