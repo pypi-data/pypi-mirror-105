{
 "cells": [
  {
   "cell_type": "code",
   "execution_count": 1,
   "metadata": {},
   "outputs": [
    {
     "name": "stdout",
     "output_type": "stream",
     "text": [
      "First Directory at : \\01_DEV_Function\\Shared_Function\\tests\n",
      "Load Setting OK\n",
      "Change Directory into : \\01_DEV_Function\\Shared_Function\n"
     ]
    }
   ],
   "source": [
    "import os, re,json, imp, unittest\n",
    "import pandas as pd\n",
    "\n",
    "print('First Directory at :', os.getcwd()[2:])\n",
    "\n",
    "#Load Setting File\n",
    "with open('setting.txt','r') as f:\n",
    "    setting = json.load(f)\n",
    "print('Load Setting OK')    \n",
    "\n",
    "os.chdir(re.sub(os.getcwd().split('\\\\')[-1]+'$','',os.getcwd()))\n",
    "print('Change Directory into :', os.getcwd()[2:])"
   ]
  },
  {
   "cell_type": "code",
   "execution_count": 2,
   "metadata": {},
   "outputs": [],
   "source": [
    "local_library = True\n",
    "#local_library = False\n",
    "\n",
    "if local_library : \n",
    "    da_tran_SQL = imp.load_source('da_tran_SQL', 'py_topping/data_connection/database.py').da_tran_SQL\n",
    "else :\n",
    "    from py_topping.data_connection.database import da_tran_SQL\n",
    "    \n",
    "def help_test(df_in1, df_in2) :\n",
    "    result = list()\n",
    "    expect = list()\n",
    "    for i in df_in1.columns :\n",
    "        result_list = list(df_in1[i])\n",
    "        expect_list = list(df_in2[i])\n",
    "        result_list.sort()\n",
    "        expect_list.sort()\n",
    "        result.append(result_list)\n",
    "        expect.append(expect_list)\n",
    "    return result, expect"
   ]
  },
  {
   "cell_type": "markdown",
   "metadata": {},
   "source": [
    "# MS SQL\n",
    "\n",
    "## Default MSSQL"
   ]
  },
  {
   "cell_type": "code",
   "execution_count": 3,
   "metadata": {
    "scrolled": false
   },
   "outputs": [
    {
     "name": "stderr",
     "output_type": "stream",
     "text": [
      "C:\\Users\\chanonkr\\Anaconda3\\lib\\site-packages\\sqlalchemy\\dialects\\mssql\\pymssql.py:61: DeprecationWarning: Using or importing the ABCs from 'collections' instead of from 'collections.abc' is deprecated since Python 3.3,and in 3.9 it will stop working\n",
      "  module = __import__(\"pymssql\")\n"
     ]
    },
    {
     "name": "stdout",
     "output_type": "stream",
     "text": [
      "Connection OK\n",
      "Start Filter Existing data from df at  2021-05-09 16:32:07.251883\n"
     ]
    },
    {
     "name": "stderr",
     "output_type": "stream",
     "text": [
      "."
     ]
    },
    {
     "name": "stdout",
     "output_type": "stream",
     "text": [
      "Dump data to  unit_test_git  End  2021-05-09 16:32:07.786915\n",
      "Connection OK\n",
      "Start Filter Existing data from df at  2021-05-09 16:32:08.740224\n",
      "Dump data to  unit_test_git  End  2021-05-09 16:32:08.918324\n"
     ]
    },
    {
     "name": "stderr",
     "output_type": "stream",
     "text": [
      "."
     ]
    },
    {
     "name": "stdout",
     "output_type": "stream",
     "text": [
      "Connection OK\n",
      "Start Filter Existing data from df at  2021-05-09 16:32:09.871560\n",
      "Dump data to  unit_test_git  End  2021-05-09 16:32:10.052508\n"
     ]
    },
    {
     "name": "stderr",
     "output_type": "stream",
     "text": [
      "."
     ]
    },
    {
     "name": "stdout",
     "output_type": "stream",
     "text": [
      "Connection OK\n"
     ]
    },
    {
     "name": "stderr",
     "output_type": "stream",
     "text": [
      "."
     ]
    },
    {
     "name": "stdout",
     "output_type": "stream",
     "text": [
      "Connection OK\n",
      "Start delete old data at 2021-05-09 16:32:11.885813\n",
      "Delete Last ['col1'] at 2021-05-09 16:32:11.955854\n"
     ]
    },
    {
     "name": "stderr",
     "output_type": "stream",
     "text": [
      "."
     ]
    },
    {
     "name": "stdout",
     "output_type": "stream",
     "text": [
      "Dump data to  unit_test_git  End  2021-05-09 16:32:12.092481\n",
      "Connection OK\n",
      "Start delete old data at 2021-05-09 16:32:13.023882\n",
      "Delete Last col1 at 2021-05-09 16:32:13.101025\n"
     ]
    },
    {
     "name": "stderr",
     "output_type": "stream",
     "text": [
      "."
     ]
    },
    {
     "name": "stdout",
     "output_type": "stream",
     "text": [
      "Dump data to  unit_test_git  End  2021-05-09 16:32:13.235310\n",
      "Connection OK\n",
      "Start delete old data at 2021-05-09 16:32:14.142877\n",
      "Delete Last ['col1', 'col2'] at 2021-05-09 16:32:14.225886\n"
     ]
    },
    {
     "name": "stderr",
     "output_type": "stream",
     "text": [
      "."
     ]
    },
    {
     "name": "stdout",
     "output_type": "stream",
     "text": [
      "Dump data to  unit_test_git  End  2021-05-09 16:32:14.381412\n",
      "Connection OK\n",
      "Start delete old data at 2021-05-09 16:32:15.309337\n",
      "Delete Last ['col1', 'col2', 'col3'] at 2021-05-09 16:32:15.391832\n"
     ]
    },
    {
     "name": "stderr",
     "output_type": "stream",
     "text": [
      "."
     ]
    },
    {
     "name": "stdout",
     "output_type": "stream",
     "text": [
      "Dump data to  unit_test_git  End  2021-05-09 16:32:15.538751\n",
      "Connection OK\n",
      "Start delete old data at 2021-05-09 16:32:16.508438\n",
      "Delete Last ['col1'] at 2021-05-09 16:32:16.588337\n"
     ]
    },
    {
     "name": "stderr",
     "output_type": "stream",
     "text": [
      "."
     ]
    },
    {
     "name": "stdout",
     "output_type": "stream",
     "text": [
      "Dump data to  unit_test_git  End  2021-05-09 16:32:16.722724\n",
      "Connection OK\n",
      "Drop Existing Table at  2021-05-09 16:32:17.925783\n",
      "Dump data to  unit_test_git  End  2021-05-09 16:32:18.194624\n",
      "Start delete old data at 2021-05-09 16:32:18.195626\n",
      "Delete Last ['date'] at 2021-05-09 16:32:18.267834\n"
     ]
    },
    {
     "name": "stderr",
     "output_type": "stream",
     "text": [
      "."
     ]
    },
    {
     "name": "stdout",
     "output_type": "stream",
     "text": [
      "Dump data to  unit_test_git  End  2021-05-09 16:32:18.395852\n",
      "Connection OK\n",
      "Start delete old data at 2021-05-09 16:32:19.898630\n",
      "Delete Last ['col1'] at 2021-05-09 16:32:19.974999\n",
      "DELETE FROM [unit_test_git] where ([col1] in ('4.0', '5.0', '6.0', '7.0') OR [col1] IS NULL)\n"
     ]
    },
    {
     "name": "stderr",
     "output_type": "stream",
     "text": [
      "."
     ]
    },
    {
     "name": "stdout",
     "output_type": "stream",
     "text": [
      "Dump data to  unit_test_git  End  2021-05-09 16:32:20.101934\n",
      "Connection OK\n",
      "Start delete old data at 2021-05-09 16:32:21.595974\n",
      "Delete Last ['col1', 'col2'] at 2021-05-09 16:32:21.673668\n",
      "DELETE FROM [unit_test_git] where ([col1] in ('4.0', '5.0', '6.0', '7.0') OR [col1] IS NULL) and [col2] in ('3', '4', '5')\n"
     ]
    },
    {
     "name": "stderr",
     "output_type": "stream",
     "text": [
      "."
     ]
    },
    {
     "name": "stdout",
     "output_type": "stream",
     "text": [
      "Dump data to  unit_test_git  End  2021-05-09 16:32:21.809413\n",
      "Connection OK\n"
     ]
    },
    {
     "name": "stderr",
     "output_type": "stream",
     "text": [
      "."
     ]
    },
    {
     "name": "stdout",
     "output_type": "stream",
     "text": [
      "Connection OK\n",
      "Drop Existing Table at  2021-05-09 16:32:23.818289\n"
     ]
    },
    {
     "name": "stderr",
     "output_type": "stream",
     "text": [
      "."
     ]
    },
    {
     "name": "stdout",
     "output_type": "stream",
     "text": [
      "Dump data to  unit_test_git  End  2021-05-09 16:32:24.090450\n"
     ]
    },
    {
     "name": "stderr",
     "output_type": "stream",
     "text": [
      "\n",
      "----------------------------------------------------------------------\n",
      "Ran 14 tests in 23.476s\n",
      "\n",
      "OK\n"
     ]
    },
    {
     "data": {
      "text/plain": [
       "<unittest.main.TestProgram at 0x1d4fc4554c8>"
      ]
     },
     "execution_count": 3,
     "metadata": {},
     "output_type": "execute_result"
    }
   ],
   "source": [
    "test_mssql = setting['MSSQL']\n",
    "\n",
    "class SQL_Test_class(unittest.TestCase):\n",
    "    def setUp(self):\n",
    "        self.sql = da_tran_SQL(sql_type = test_mssql['type'],\n",
    "                                host_name = test_mssql['host'],\n",
    "                                database_name = test_mssql['database'],\n",
    "                                user = test_mssql['user'],\n",
    "                                password = test_mssql['password'])\n",
    "        self.df1 = pd.DataFrame({'col1' : [1,2,3,4,5] , 'col2' : [1,1,2,2,3] , 'col3' : [1,1,1,1,1]})\n",
    "        self.df2 = pd.DataFrame({'col1' : [4,5,6,7,8] , 'col2' : [3,3,4,4,5] , 'col3' : [2,2,2,2,2]})\n",
    "        self.table_name = 'unit_test_git'\n",
    "        self.df1.to_sql(self.table_name, con = self.sql.engine, index = False, if_exists = 'replace')\n",
    "\n",
    "    def test_sp(self):\n",
    "        sql_q = \"\"\" CREATE OR ALTER PROCEDURE unit_test_git_SP (@PARAM1 AS VARCHAR(100))\n",
    "                    AS\n",
    "                    BEGIN\n",
    "                    SELECT * FROM {} WHERE col1 = @PARAM1 \n",
    "                    END\"\"\".format(self.table_name)\n",
    "        self.sql.engine.execute(sql_q)\n",
    "        df_read = self.sql.read('unit_test_git_SP', SP = True , param = {'@PARAM1' : 1})\n",
    "        expect_df = self.df1[self.df1['col1'] == 1]\n",
    "        result, expect = help_test(df_read, expect_df)\n",
    "        self.assertEqual(result, expect)\n",
    "        \n",
    "    def test_read_sql(self):\n",
    "        df_read = self.sql.read(self.table_name)\n",
    "        expect_df = self.df1\n",
    "        result, expect = help_test(df_read, expect_df)\n",
    "        self.assertEqual(result, expect)\n",
    "\n",
    "    def test_whole(self):\n",
    "        self.sql.dump_whole(self.df2, self.table_name)\n",
    "        df_read = self.sql.read(self.table_name)\n",
    "        expect_df = self.df2\n",
    "        result, expect = help_test(df_read, expect_df)\n",
    "        self.assertEqual(result, expect)\n",
    "        \n",
    "    \n",
    "    def test_replace1(self) :\n",
    "        self.sql.dump_replace(df_in = self.df2 , table_name_in = self.table_name, list_key = ['col1'])\n",
    "        df_read = self.sql.read(self.table_name)\n",
    "        expect_df = pd.DataFrame({'col1' : [1,2,3,4,5,6,7,8] , 'col2' : [1,1,2,3,3,4,4,5] , 'col3' : [1,1,1,2,2,2,2,2]})\n",
    "        result, expect = help_test(df_read, expect_df)\n",
    "        self.assertEqual(result, expect)\n",
    "        \n",
    "    def test_replace1_str(self) :\n",
    "        self.sql.dump_replace(df_in = self.df2 , table_name_in = self.table_name, list_key = 'col1')\n",
    "        df_read = self.sql.read(self.table_name)\n",
    "        expect_df = pd.DataFrame({'col1' : [1,2,3,4,5,6,7,8] , 'col2' : [1,1,2,3,3,4,4,5] , 'col3' : [1,1,1,2,2,2,2,2]})\n",
    "        result, expect = help_test(df_read, expect_df)\n",
    "        self.assertEqual(result, expect)\n",
    "\n",
    "    def test_replace2(self) :\n",
    "        self.sql.dump_replace(df_in = self.df2 , table_name_in = self.table_name, list_key = ['col1','col2'])\n",
    "        df_read = self.sql.read(self.table_name)\n",
    "        expect_df = pd.DataFrame({'col1' : [1,2,3,4,4,5,6,7,8] , 'col2' : [1,1,2,2,3,3,4,4,5] , 'col3' : [1,1,1,1,2,2,2,2,2]})\n",
    "        result, expect = help_test(df_read, expect_df)\n",
    "        self.assertEqual(result, expect)\n",
    "        \n",
    "    def test_replace3(self) :\n",
    "        self.sql.dump_replace(df_in = self.df2 , table_name_in = self.table_name, list_key = ['col1','col2','col3'])\n",
    "        df_read = self.sql.read(self.table_name)\n",
    "        expect_df = self.df1.append(self.df2)\n",
    "        result, expect = help_test(df_read, expect_df)\n",
    "        self.assertEqual(result, expect)\n",
    "\n",
    "    def test_replace_logic(self) :\n",
    "        self.sql.dump_replace(df_in = self.df2 , table_name_in = self.table_name, list_key = ['col1'],\n",
    "                             math_logic = {'col1' : {'logic' : '>', 'value' : 1}})\n",
    "        df_read = self.sql.read(self.table_name)\n",
    "        expect_df = self.df1[self.df1['col1'] <= 1].append(self.df2)\n",
    "        result, expect = help_test(df_read, expect_df)\n",
    "        self.assertEqual(result, expect)\n",
    "        \n",
    "    def test_replace_logic_date(self) :\n",
    "        df_date = pd.DataFrame({'col1' : [1,2,3,4,5], \n",
    "                                'date' : pd.date_range('2020-10-10','2020-10-14'), 'col2' :[1,1,1,1,1]})\n",
    "        \n",
    "        self.sql.dump_whole(df_date, self.table_name)\n",
    "        expect_df = df_date[df_date['date'] <= '2020-10-12']\n",
    "        df_date['col2'] = 3\n",
    "        self.sql.dump_replace(df_in = df_date , table_name_in = self.table_name, list_key = ['date'],\n",
    "                             math_logic = {'date' : {'logic' : '>', 'value' : '2020-10-12', 'type' : 'date'}})\n",
    "        df_read = self.sql.read(self.table_name)\n",
    "        expect_df = expect_df.append(df_date)\n",
    "        result, expect = help_test(df_read, expect_df)\n",
    "        self.assertEqual(result, expect)\n",
    "        \n",
    "    def test_replace3(self) :\n",
    "        self.sql.dump_replace(df_in = self.df2 , table_name_in = self.table_name, list_key = ['col1','col2','col3'])\n",
    "        df_read = self.sql.read(self.table_name)\n",
    "        expect_df = self.df1.append(self.df2)\n",
    "        result, expect = help_test(df_read, expect_df)\n",
    "        self.assertEqual(result, expect)\n",
    "\n",
    "    def test_new1_str(self) :\n",
    "        self.sql.dump_new(df_in = self.df2 , table_name_in = self.table_name, list_key = 'col1')\n",
    "        df_read = self.sql.read(self.table_name)\n",
    "        expect_df = pd.DataFrame({'col1' : [1,2,3,4,5,6,7,8] , 'col2' : [1,1,2,2,3,4,4,5] , 'col3' : [1,1,1,1,1,2,2,2]})\n",
    "        result, expect = help_test(df_read, expect_df)\n",
    "        self.assertEqual(result, expect)\n",
    "\n",
    "    def test_new1(self) :\n",
    "        self.sql.dump_new(df_in = self.df2 , table_name_in = self.table_name, list_key = ['col1'])\n",
    "        df_read = self.sql.read(self.table_name)\n",
    "        expect_df = pd.DataFrame({'col1' : [1,2,3,4,5,6,7,8] , 'col2' : [1,1,2,2,3,4,4,5] , 'col3' : [1,1,1,1,1,2,2,2]})\n",
    "        result, expect = help_test(df_read, expect_df)\n",
    "        self.assertEqual(result, expect)\n",
    "\n",
    "    def test_new2(self) :\n",
    "        self.sql.dump_new(df_in = self.df2 , table_name_in = self.table_name, list_key = ['col1','col2'], debug = False)\n",
    "        df_read = self.sql.read(self.table_name)\n",
    "        expect_df = pd.DataFrame({'col1' : [1,2,3,4,5,4,6,7,8] , 'col2' : [1,1,2,2,3,3,4,4,5] , 'col3' : [1,1,1,1,1,2,2,2,2]})\n",
    "        result, expect = help_test(df_read, expect_df)\n",
    "        self.assertEqual(result, expect)\n",
    "        \n",
    "    def test_replace_null1(self) :\n",
    "        df1_n = pd.DataFrame({'col1' : [1,None,3,4,5] , 'col2' : [1,1,2,2,3] , 'col3' : [1,1,1,1,1]})\n",
    "        df2_n = pd.DataFrame({'col1' : [4,5,6,7,None] , 'col2' : [3,3,4,4,5] , 'col3' : [2,2,2,2,2]})\n",
    "        df1_n.to_sql(self.table_name, con = self.sql.engine, index = False, if_exists = 'replace')\n",
    "        self.sql.dump_replace(df_in = df2_n , table_name_in = self.table_name, list_key = ['col1'] , debug = True)\n",
    "        df_read = self.sql.read(self.table_name).sort_values('col1').reset_index(drop = True)\n",
    "        expect_df = pd.DataFrame({'col1' : [1,3,4,5,6,7,None] , 'col2' : [1,2,3,3,4,4,5] , 'col3' : [1,1,2,2,2,2,2]})\n",
    "        result, expect = help_test(df_read.fillna(99), expect_df.fillna(99))\n",
    "        self.assertEqual(result, expect)\n",
    "\n",
    "    def test_replace_null2(self) :\n",
    "        df1_n = pd.DataFrame({'col1' : [1,None,3,4,5] , 'col2' : [1,1,2,2,3] , 'col3' : [1,1,1,1,1]})\n",
    "        df2_n = pd.DataFrame({'col1' : [4,5,6,7,None] , 'col2' : [3,3,4,4,5] , 'col3' : [2,2,2,2,2]})\n",
    "        df1_n.to_sql(self.table_name, con = self.sql.engine, index = False, if_exists = 'replace')\n",
    "        self.sql.dump_replace(df_in = df2_n , table_name_in = self.table_name, list_key = ['col1','col2'] , debug = True)\n",
    "        df_read = self.sql.read(self.table_name).sort_values('col1').reset_index(drop = True)\n",
    "        expect_df = pd.DataFrame({ 'col1' : [1,None,3,4,4,5,6,7,None] , 'col2' : [1,1,2,2,3,3,4,4,5] \n",
    "                                  ,'col3' : [1,1,1,1,2,2,2,2,2]}).sort_values('col1').reset_index(drop = True)\n",
    "\n",
    "        result, expect = help_test(df_read.fillna(99), expect_df.fillna(99))\n",
    "        self.assertEqual(result, expect)\n",
    "\n",
    "unittest.main(argv = ['first-arg-is-ignored'], exit = False)"
   ]
  },
  {
   "cell_type": "markdown",
   "metadata": {},
   "source": [
    "# Parallel MSSQL"
   ]
  },
  {
   "cell_type": "code",
   "execution_count": 4,
   "metadata": {
    "scrolled": false
   },
   "outputs": [
    {
     "name": "stdout",
     "output_type": "stream",
     "text": [
      "Connection OK\n",
      "Start Filter Existing data from df at  2021-05-09 16:32:25.132061\n"
     ]
    },
    {
     "name": "stderr",
     "output_type": "stream",
     "text": [
      "."
     ]
    },
    {
     "name": "stdout",
     "output_type": "stream",
     "text": [
      "Dump data to  unit_test_git  End  2021-05-09 16:32:25.447143\n",
      "Connection OK\n",
      "Start Filter Existing data from df at  2021-05-09 16:32:26.437345\n"
     ]
    },
    {
     "name": "stderr",
     "output_type": "stream",
     "text": [
      "."
     ]
    },
    {
     "name": "stdout",
     "output_type": "stream",
     "text": [
      "Dump data to  unit_test_git  End  2021-05-09 16:32:26.732596\n",
      "Connection OK\n",
      "Start Filter Existing data from df at  2021-05-09 16:32:27.727393\n"
     ]
    },
    {
     "name": "stderr",
     "output_type": "stream",
     "text": [
      "."
     ]
    },
    {
     "name": "stdout",
     "output_type": "stream",
     "text": [
      "Dump data to  unit_test_git  End  2021-05-09 16:32:28.028698\n",
      "Connection OK\n"
     ]
    },
    {
     "name": "stderr",
     "output_type": "stream",
     "text": [
      "."
     ]
    },
    {
     "name": "stdout",
     "output_type": "stream",
     "text": [
      "Connection OK\n",
      "Start delete old data at 2021-05-09 16:32:30.235603\n",
      "Delete Last ['col1'] at 2021-05-09 16:32:30.332610\n"
     ]
    },
    {
     "name": "stderr",
     "output_type": "stream",
     "text": [
      "."
     ]
    },
    {
     "name": "stdout",
     "output_type": "stream",
     "text": [
      "Dump data to  unit_test_git  End  2021-05-09 16:32:30.766800\n",
      "Connection OK\n",
      "Start delete old data at 2021-05-09 16:32:31.697545\n",
      "Delete Last col1 at 2021-05-09 16:32:31.781668\n"
     ]
    },
    {
     "name": "stderr",
     "output_type": "stream",
     "text": [
      "."
     ]
    },
    {
     "name": "stdout",
     "output_type": "stream",
     "text": [
      "Dump data to  unit_test_git  End  2021-05-09 16:32:32.151576\n",
      "Connection OK\n",
      "Start delete old data at 2021-05-09 16:32:33.085621\n",
      "Delete Last ['col1', 'col2'] at 2021-05-09 16:32:33.172078\n"
     ]
    },
    {
     "name": "stderr",
     "output_type": "stream",
     "text": [
      "."
     ]
    },
    {
     "name": "stdout",
     "output_type": "stream",
     "text": [
      "Dump data to  unit_test_git  End  2021-05-09 16:32:33.563232\n",
      "Connection OK\n",
      "Start delete old data at 2021-05-09 16:32:34.822695\n",
      "Delete Last ['col1', 'col2', 'col3'] at 2021-05-09 16:32:34.907019\n"
     ]
    },
    {
     "name": "stderr",
     "output_type": "stream",
     "text": [
      "."
     ]
    },
    {
     "name": "stdout",
     "output_type": "stream",
     "text": [
      "Dump data to  unit_test_git  End  2021-05-09 16:32:35.264033\n",
      "Connection OK\n",
      "Start delete old data at 2021-05-09 16:32:36.197730\n",
      "Delete Last ['col1'] at 2021-05-09 16:32:36.269537\n"
     ]
    },
    {
     "name": "stderr",
     "output_type": "stream",
     "text": [
      "."
     ]
    },
    {
     "name": "stdout",
     "output_type": "stream",
     "text": [
      "Dump data to  unit_test_git  End  2021-05-09 16:32:36.670332\n",
      "Connection OK\n",
      "Drop Existing Table at  2021-05-09 16:32:37.636704\n",
      "Dump data to  unit_test_git  End  2021-05-09 16:32:38.082186\n",
      "Start delete old data at 2021-05-09 16:32:38.083220\n",
      "Delete Last ['date'] at 2021-05-09 16:32:38.160467\n",
      "DELETE FROM [unit_test_git] where CAST([date] AS date) > '2020-10-12'\n"
     ]
    },
    {
     "name": "stderr",
     "output_type": "stream",
     "text": [
      "."
     ]
    },
    {
     "name": "stdout",
     "output_type": "stream",
     "text": [
      "Dump data to  unit_test_git  End  2021-05-09 16:32:38.419836\n",
      "Connection OK\n",
      "Start delete old data at 2021-05-09 16:32:39.909250\n",
      "Delete Last ['col1'] at 2021-05-09 16:32:39.990101\n",
      "DELETE FROM [unit_test_git] where ([col1] in ('4.0', '5.0', '6.0', '7.0') OR [col1] IS NULL)\n"
     ]
    },
    {
     "name": "stderr",
     "output_type": "stream",
     "text": [
      "."
     ]
    },
    {
     "name": "stdout",
     "output_type": "stream",
     "text": [
      "Dump data to  unit_test_git  End  2021-05-09 16:32:40.381776\n",
      "Connection OK\n",
      "Start delete old data at 2021-05-09 16:32:41.841747\n",
      "Delete Last ['col1', 'col2'] at 2021-05-09 16:32:41.917523\n",
      "DELETE FROM [unit_test_git] where ([col1] in ('4.0', '5.0', '6.0', '7.0') OR [col1] IS NULL) and [col2] in ('3', '4', '5')\n"
     ]
    },
    {
     "name": "stderr",
     "output_type": "stream",
     "text": [
      "."
     ]
    },
    {
     "name": "stdout",
     "output_type": "stream",
     "text": [
      "Dump data to  unit_test_git  End  2021-05-09 16:32:42.297758\n",
      "Connection OK\n"
     ]
    },
    {
     "name": "stderr",
     "output_type": "stream",
     "text": [
      "."
     ]
    },
    {
     "name": "stdout",
     "output_type": "stream",
     "text": [
      "Connection OK\n",
      "Drop Existing Table at  2021-05-09 16:32:44.200839\n"
     ]
    },
    {
     "name": "stderr",
     "output_type": "stream",
     "text": [
      "."
     ]
    },
    {
     "name": "stdout",
     "output_type": "stream",
     "text": [
      "Dump data to  unit_test_git  End  2021-05-09 16:32:44.663932\n"
     ]
    },
    {
     "name": "stderr",
     "output_type": "stream",
     "text": [
      "\n",
      "----------------------------------------------------------------------\n",
      "Ran 14 tests in 20.521s\n",
      "\n",
      "OK\n"
     ]
    },
    {
     "data": {
      "text/plain": [
       "<unittest.main.TestProgram at 0x1d4fc719148>"
      ]
     },
     "execution_count": 4,
     "metadata": {},
     "output_type": "execute_result"
    }
   ],
   "source": [
    "test_mssql = setting['MSSQL']\n",
    "\n",
    "class SQL_Test_class(unittest.TestCase):\n",
    "    def setUp(self):\n",
    "        self.sql = da_tran_SQL(sql_type = test_mssql['type'],\n",
    "                                host_name = test_mssql['host'],\n",
    "                                database_name = test_mssql['database'],\n",
    "                                user = test_mssql['user'],\n",
    "                                password = test_mssql['password'],\n",
    "                                partition_size = 2, \n",
    "                                parallel_dump = True, \n",
    "                                max_parallel = 2)\n",
    "        \n",
    "        self.df1 = pd.DataFrame({'col1' : [1,2,3,4,5] , 'col2' : [1,1,2,2,3] , 'col3' : [1,1,1,1,1]})\n",
    "        self.df2 = pd.DataFrame({'col1' : [4,5,6,7,8] , 'col2' : [3,3,4,4,5] , 'col3' : [2,2,2,2,2]})\n",
    "        self.table_name = 'unit_test_git'\n",
    "        self.df1.to_sql(self.table_name, con = self.sql.engine, index = False, if_exists = 'replace')\n",
    "        self.sql.parallel_dump = True\n",
    "        self.sql.max_parallel = 2\n",
    "        self.sql.partition_size = 2\n",
    "\n",
    "    def test_sp(self):\n",
    "        sql_q = \"\"\" CREATE OR ALTER PROCEDURE unit_test_git_SP (@PARAM1 AS VARCHAR(100))\n",
    "                    AS\n",
    "                    BEGIN\n",
    "                    SELECT * FROM {} WHERE col1 = @PARAM1 \n",
    "                    END\"\"\".format(self.table_name)\n",
    "        self.sql.engine.execute(sql_q)\n",
    "        df_read = self.sql.read('unit_test_git_SP', SP = True , param = {'@PARAM1' : 1})\n",
    "        expect_df = self.df1[self.df1['col1'] == 1]\n",
    "        result, expect = help_test(df_read, expect_df)\n",
    "        self.assertEqual(result, expect)\n",
    "        \n",
    "    def test_read_sql(self):\n",
    "        df_read = self.sql.read(self.table_name)\n",
    "        expect_df = self.df1\n",
    "        result, expect = help_test(df_read, expect_df)\n",
    "        self.assertEqual(result, expect)\n",
    "\n",
    "    def test_whole(self):\n",
    "        self.sql.dump_whole(self.df2, self.table_name)\n",
    "        df_read = self.sql.read(self.table_name)\n",
    "        expect_df = self.df2\n",
    "        result, expect = help_test(df_read, expect_df)\n",
    "        self.assertEqual(result, expect)\n",
    "        \n",
    "    \n",
    "    def test_replace1(self) :\n",
    "        self.sql.dump_replace(df_in = self.df2 , table_name_in = self.table_name, list_key = ['col1'])\n",
    "        df_read = self.sql.read(self.table_name)\n",
    "        expect_df = pd.DataFrame({'col1' : [1,2,3,4,5,6,7,8] , 'col2' : [1,1,2,3,3,4,4,5] , 'col3' : [1,1,1,2,2,2,2,2]})\n",
    "        result, expect = help_test(df_read, expect_df)\n",
    "        self.assertEqual(result, expect)\n",
    "        \n",
    "    def test_replace1_str(self) :\n",
    "        self.sql.dump_replace(df_in = self.df2 , table_name_in = self.table_name, list_key = 'col1')\n",
    "        df_read = self.sql.read(self.table_name)\n",
    "        expect_df = pd.DataFrame({'col1' : [1,2,3,4,5,6,7,8] , 'col2' : [1,1,2,3,3,4,4,5] , 'col3' : [1,1,1,2,2,2,2,2]})\n",
    "        result, expect = help_test(df_read, expect_df)\n",
    "        self.assertEqual(result, expect)\n",
    "\n",
    "    def test_replace2(self) :\n",
    "        self.sql.dump_replace(df_in = self.df2 , table_name_in = self.table_name, list_key = ['col1','col2'])\n",
    "        df_read = self.sql.read(self.table_name)\n",
    "        expect_df = pd.DataFrame({'col1' : [1,2,3,4,4,5,6,7,8] , 'col2' : [1,1,2,2,3,3,4,4,5] , 'col3' : [1,1,1,1,2,2,2,2,2]})\n",
    "        result, expect = help_test(df_read, expect_df)\n",
    "        self.assertEqual(result, expect)\n",
    "        \n",
    "    def test_replace3(self) :\n",
    "        self.sql.dump_replace(df_in = self.df2 , table_name_in = self.table_name, list_key = ['col1','col2','col3'])\n",
    "        df_read = self.sql.read(self.table_name)\n",
    "        expect_df = self.df1.append(self.df2)\n",
    "        result, expect = help_test(df_read, expect_df)\n",
    "        self.assertEqual(result, expect)\n",
    "\n",
    "    def test_replace_logic(self) :\n",
    "        self.sql.dump_replace(df_in = self.df2 , table_name_in = self.table_name, list_key = ['col1'],\n",
    "                             math_logic = {'col1' : {'logic' : '>', 'value' : 1}})\n",
    "        df_read = self.sql.read(self.table_name)\n",
    "        expect_df = self.df1[self.df1['col1'] <= 1].append(self.df2)\n",
    "        result, expect = help_test(df_read, expect_df)\n",
    "        self.assertEqual(result, expect)\n",
    "        \n",
    "    def test_replace_logic_date(self) :\n",
    "        df_date = pd.DataFrame({'col1' : [1,2,3,4,5], \n",
    "                                'date' : pd.date_range('2020-10-10','2020-10-14'), 'col2' :[1,1,1,1,1]})\n",
    "        self.sql.dump_whole(df_date, self.table_name)\n",
    "        expect_df = df_date[df_date['date'] <= '2020-10-12']\n",
    "        df_date['col2'] = 3\n",
    "        self.sql.dump_replace(df_in = df_date , table_name_in = self.table_name, list_key = ['date'],\n",
    "                             math_logic = {'date' : {'logic' : '>', 'value' : '2020-10-12', 'type' : 'date'}},debug = True)\n",
    "        df_read = self.sql.read(self.table_name)\n",
    "        expect_df = expect_df.append(df_date)\n",
    "        result, expect = help_test(df_read, expect_df)\n",
    "        self.assertEqual(result, expect)\n",
    "        \n",
    "    def test_replace3(self) :\n",
    "        self.sql.dump_replace(df_in = self.df2 , table_name_in = self.table_name, list_key = ['col1','col2','col3'])\n",
    "        df_read = self.sql.read(self.table_name)\n",
    "        expect_df = self.df1.append(self.df2)\n",
    "        result, expect = help_test(df_read, expect_df)\n",
    "        self.assertEqual(result, expect)\n",
    "\n",
    "    def test_new1_str(self) :\n",
    "        self.sql.dump_new(df_in = self.df2 , table_name_in = self.table_name, list_key = 'col1')\n",
    "        df_read = self.sql.read(self.table_name)\n",
    "        expect_df = pd.DataFrame({'col1' : [1,2,3,4,5,6,7,8] , 'col2' : [1,1,2,2,3,4,4,5] , 'col3' : [1,1,1,1,1,2,2,2]})\n",
    "        result, expect = help_test(df_read, expect_df)\n",
    "        self.assertEqual(result, expect)\n",
    "\n",
    "    def test_new1(self) :\n",
    "        self.sql.dump_new(df_in = self.df2 , table_name_in = self.table_name, list_key = ['col1'])\n",
    "        df_read = self.sql.read(self.table_name)\n",
    "        expect_df = pd.DataFrame({'col1' : [1,2,3,4,5,6,7,8] , 'col2' : [1,1,2,2,3,4,4,5] , 'col3' : [1,1,1,1,1,2,2,2]})\n",
    "        result, expect = help_test(df_read, expect_df)\n",
    "        self.assertEqual(result, expect)\n",
    "\n",
    "    def test_new2(self) :\n",
    "        self.sql.dump_new(df_in = self.df2 , table_name_in = self.table_name, list_key = ['col1','col2'], debug = False)\n",
    "        df_read = self.sql.read(self.table_name)\n",
    "        expect_df = pd.DataFrame({'col1' : [1,2,3,4,5,4,6,7,8] , 'col2' : [1,1,2,2,3,3,4,4,5] , 'col3' : [1,1,1,1,1,2,2,2,2]})\n",
    "        result, expect = help_test(df_read, expect_df)\n",
    "        self.assertEqual(result, expect)\n",
    "        \n",
    "    def test_replace_null1(self) :\n",
    "        df1_n = pd.DataFrame({'col1' : [1,None,3,4,5] , 'col2' : [1,1,2,2,3] , 'col3' : [1,1,1,1,1]})\n",
    "        df2_n = pd.DataFrame({'col1' : [4,5,6,7,None] , 'col2' : [3,3,4,4,5] , 'col3' : [2,2,2,2,2]})\n",
    "        df1_n.to_sql(self.table_name, con = self.sql.engine, index = False, if_exists = 'replace')\n",
    "        self.sql.dump_replace(df_in = df2_n , table_name_in = self.table_name, list_key = ['col1'] , debug = True)\n",
    "        df_read = self.sql.read(self.table_name).sort_values('col1').reset_index(drop = True)\n",
    "        expect_df = pd.DataFrame({'col1' : [1,3,4,5,6,7,None] , 'col2' : [1,2,3,3,4,4,5] , 'col3' : [1,1,2,2,2,2,2]})\n",
    "        result, expect = help_test(df_read.fillna(99), expect_df.fillna(99))\n",
    "        self.assertEqual(result, expect)\n",
    "\n",
    "    def test_replace_null2(self) :\n",
    "        df1_n = pd.DataFrame({'col1' : [1,None,3,4,5] , 'col2' : [1,1,2,2,3] , 'col3' : [1,1,1,1,1]})\n",
    "        df2_n = pd.DataFrame({'col1' : [4,5,6,7,None] , 'col2' : [3,3,4,4,5] , 'col3' : [2,2,2,2,2]})\n",
    "        df1_n.to_sql(self.table_name, con = self.sql.engine, index = False, if_exists = 'replace')\n",
    "        self.sql.dump_replace(df_in = df2_n , table_name_in = self.table_name, list_key = ['col1','col2'] , debug = True)\n",
    "        df_read = self.sql.read(self.table_name).sort_values('col1').reset_index(drop = True)\n",
    "        expect_df = pd.DataFrame({ 'col1' : [1,None,3,4,4,5,6,7,None] , 'col2' : [1,1,2,2,3,3,4,4,5] \n",
    "                                  ,'col3' : [1,1,1,1,2,2,2,2,2]}).sort_values('col1').reset_index(drop = True)\n",
    "\n",
    "        result, expect = help_test(df_read.fillna(99), expect_df.fillna(99))\n",
    "        self.assertEqual(result, expect)\n",
    "\n",
    "unittest.main(argv = ['first-arg-is-ignored'], exit = False)"
   ]
  },
  {
   "cell_type": "markdown",
   "metadata": {},
   "source": [
    "## ODBC MSSQL"
   ]
  },
  {
   "cell_type": "code",
   "execution_count": 5,
   "metadata": {},
   "outputs": [
    {
     "name": "stdout",
     "output_type": "stream",
     "text": [
      "Connection OK\n"
     ]
    },
    {
     "name": "stderr",
     "output_type": "stream",
     "text": [
      "."
     ]
    },
    {
     "name": "stdout",
     "output_type": "stream",
     "text": [
      "Start Filter Existing data from df at  2021-05-09 16:32:48.442719\n",
      "Dump data to  unit_test_git  End  2021-05-09 16:32:48.569990\n",
      "Connection OK\n"
     ]
    },
    {
     "name": "stderr",
     "output_type": "stream",
     "text": [
      "."
     ]
    },
    {
     "name": "stdout",
     "output_type": "stream",
     "text": [
      "Start Filter Existing data from df at  2021-05-09 16:32:49.389020\n",
      "Dump data to  unit_test_git  End  2021-05-09 16:32:49.514683\n",
      "Connection OK\n"
     ]
    },
    {
     "name": "stderr",
     "output_type": "stream",
     "text": [
      "."
     ]
    },
    {
     "name": "stdout",
     "output_type": "stream",
     "text": [
      "Start Filter Existing data from df at  2021-05-09 16:32:50.254901\n",
      "Dump data to  unit_test_git  End  2021-05-09 16:32:50.384985\n",
      "Connection OK\n"
     ]
    },
    {
     "name": "stderr",
     "output_type": "stream",
     "text": [
      "."
     ]
    },
    {
     "name": "stdout",
     "output_type": "stream",
     "text": [
      "Connection OK\n"
     ]
    },
    {
     "name": "stderr",
     "output_type": "stream",
     "text": [
      "."
     ]
    },
    {
     "name": "stdout",
     "output_type": "stream",
     "text": [
      "Start delete old data at 2021-05-09 16:32:51.940832\n",
      "Delete Last ['col1'] at 2021-05-09 16:32:51.978586\n",
      "Dump data to  unit_test_git  End  2021-05-09 16:32:52.077511\n",
      "Connection OK\n"
     ]
    },
    {
     "name": "stderr",
     "output_type": "stream",
     "text": [
      "."
     ]
    },
    {
     "name": "stdout",
     "output_type": "stream",
     "text": [
      "Start delete old data at 2021-05-09 16:32:52.857472\n",
      "Delete Last col1 at 2021-05-09 16:32:52.887833\n",
      "Dump data to  unit_test_git  End  2021-05-09 16:32:52.973725\n",
      "Connection OK\n"
     ]
    },
    {
     "name": "stderr",
     "output_type": "stream",
     "text": [
      "."
     ]
    },
    {
     "name": "stdout",
     "output_type": "stream",
     "text": [
      "Start delete old data at 2021-05-09 16:32:53.840317\n",
      "Delete Last ['col1', 'col2'] at 2021-05-09 16:32:53.874870\n",
      "Dump data to  unit_test_git  End  2021-05-09 16:32:53.965505\n",
      "Connection OK\n"
     ]
    },
    {
     "name": "stderr",
     "output_type": "stream",
     "text": [
      "."
     ]
    },
    {
     "name": "stdout",
     "output_type": "stream",
     "text": [
      "Start delete old data at 2021-05-09 16:32:54.641508\n",
      "Delete Last ['col1', 'col2', 'col3'] at 2021-05-09 16:32:54.678553\n",
      "Dump data to  unit_test_git  End  2021-05-09 16:32:54.764134\n",
      "Connection OK\n"
     ]
    },
    {
     "name": "stderr",
     "output_type": "stream",
     "text": [
      "."
     ]
    },
    {
     "name": "stdout",
     "output_type": "stream",
     "text": [
      "Start delete old data at 2021-05-09 16:32:55.740710\n",
      "Delete Last ['col1'] at 2021-05-09 16:32:55.773914\n",
      "Dump data to  unit_test_git  End  2021-05-09 16:32:55.862787\n",
      "Connection OK\n",
      "Drop Existing Table at  2021-05-09 16:32:56.579146\n",
      "Dump data to  unit_test_git  End  2021-05-09 16:32:56.734741\n",
      "Start delete old data at 2021-05-09 16:32:56.735686\n",
      "Delete Last ['date'] at 2021-05-09 16:32:56.771040\n"
     ]
    },
    {
     "name": "stderr",
     "output_type": "stream",
     "text": [
      "."
     ]
    },
    {
     "name": "stdout",
     "output_type": "stream",
     "text": [
      "Dump data to  unit_test_git  End  2021-05-09 16:32:56.854425\n",
      "Connection OK\n"
     ]
    },
    {
     "name": "stderr",
     "output_type": "stream",
     "text": [
      "."
     ]
    },
    {
     "name": "stdout",
     "output_type": "stream",
     "text": [
      "Start delete old data at 2021-05-09 16:32:58.154020\n",
      "Delete Last ['col1'] at 2021-05-09 16:32:58.195592\n",
      "DELETE FROM [unit_test_git] where ([col1] in ('4.0', '5.0', '6.0', '7.0') OR [col1] IS NULL)\n",
      "Dump data to  unit_test_git  End  2021-05-09 16:32:58.292625\n",
      "Connection OK\n"
     ]
    },
    {
     "name": "stderr",
     "output_type": "stream",
     "text": [
      "."
     ]
    },
    {
     "name": "stdout",
     "output_type": "stream",
     "text": [
      "Start delete old data at 2021-05-09 16:32:59.549855\n",
      "Delete Last ['col1', 'col2'] at 2021-05-09 16:32:59.589728\n",
      "DELETE FROM [unit_test_git] where ([col1] in ('4.0', '5.0', '6.0', '7.0') OR [col1] IS NULL) and [col2] in ('3', '4', '5')\n",
      "Dump data to  unit_test_git  End  2021-05-09 16:32:59.677046\n",
      "Connection OK\n"
     ]
    },
    {
     "name": "stderr",
     "output_type": "stream",
     "text": [
      "."
     ]
    },
    {
     "name": "stdout",
     "output_type": "stream",
     "text": [
      "Connection OK\n"
     ]
    },
    {
     "name": "stderr",
     "output_type": "stream",
     "text": [
      "."
     ]
    },
    {
     "name": "stdout",
     "output_type": "stream",
     "text": [
      "Drop Existing Table at  2021-05-09 16:33:01.111973\n",
      "Dump data to  unit_test_git  End  2021-05-09 16:33:01.268957\n"
     ]
    },
    {
     "name": "stderr",
     "output_type": "stream",
     "text": [
      "\n",
      "----------------------------------------------------------------------\n",
      "Ran 14 tests in 16.535s\n",
      "\n",
      "OK\n"
     ]
    },
    {
     "data": {
      "text/plain": [
       "<unittest.main.TestProgram at 0x1d4fc42ea48>"
      ]
     },
     "execution_count": 5,
     "metadata": {},
     "output_type": "execute_result"
    }
   ],
   "source": [
    "test_mssql = setting['MSSQL']\n",
    "\n",
    "class SQL_Test_class(unittest.TestCase):\n",
    "    def setUp(self):\n",
    "        self.sql = da_tran_SQL(sql_type = test_mssql['type'],\n",
    "                                host_name = test_mssql['host'],\n",
    "                                database_name = test_mssql['database'],\n",
    "                                user = test_mssql['user'],\n",
    "                                password = test_mssql['password'],\n",
    "                                driver = 'pyodbc', parameter = 'driver=SQL+Server')\n",
    "        self.df1 = pd.DataFrame({'col1' : [1,2,3,4,5] , 'col2' : [1,1,2,2,3] , 'col3' : [1,1,1,1,1]})\n",
    "        self.df2 = pd.DataFrame({'col1' : [4,5,6,7,8] , 'col2' : [3,3,4,4,5] , 'col3' : [2,2,2,2,2]})\n",
    "        self.table_name = 'unit_test_git'\n",
    "        self.df1.to_sql(self.table_name, con = self.sql.engine, index = False, if_exists = 'replace')\n",
    "\n",
    "    def test_sp(self):\n",
    "        sql_q = \"\"\" CREATE OR ALTER PROCEDURE unit_test_git_SP (@PARAM1 AS VARCHAR(100))\n",
    "                    AS\n",
    "                    BEGIN\n",
    "                    SELECT * FROM {} WHERE col1 = @PARAM1 \n",
    "                    END\"\"\".format(self.table_name)\n",
    "        self.sql.engine.execute(sql_q)\n",
    "        df_read = self.sql.read('unit_test_git_SP', SP = True , param = {'@PARAM1' : 1})\n",
    "        expect_df = self.df1[self.df1['col1'] == 1]\n",
    "        result, expect = help_test(df_read, expect_df)\n",
    "        self.assertEqual(result, expect)\n",
    "        \n",
    "    def test_read_sql(self):\n",
    "        df_read = self.sql.read(self.table_name)\n",
    "        expect_df = self.df1\n",
    "        result, expect = help_test(df_read, expect_df)\n",
    "        self.assertEqual(result, expect)\n",
    "\n",
    "    def test_whole(self):\n",
    "        self.sql.dump_whole(self.df2, self.table_name)\n",
    "        df_read = self.sql.read(self.table_name)\n",
    "        expect_df = self.df2\n",
    "        result, expect = help_test(df_read, expect_df)\n",
    "        self.assertEqual(result, expect)\n",
    "        \n",
    "    \n",
    "    def test_replace1(self) :\n",
    "        self.sql.dump_replace(df_in = self.df2 , table_name_in = self.table_name, list_key = ['col1'])\n",
    "        df_read = self.sql.read(self.table_name)\n",
    "        expect_df = pd.DataFrame({'col1' : [1,2,3,4,5,6,7,8] , 'col2' : [1,1,2,3,3,4,4,5] , 'col3' : [1,1,1,2,2,2,2,2]})\n",
    "        result, expect = help_test(df_read, expect_df)\n",
    "        self.assertEqual(result, expect)\n",
    "        \n",
    "    def test_replace1_str(self) :\n",
    "        self.sql.dump_replace(df_in = self.df2 , table_name_in = self.table_name, list_key = 'col1')\n",
    "        df_read = self.sql.read(self.table_name)\n",
    "        expect_df = pd.DataFrame({'col1' : [1,2,3,4,5,6,7,8] , 'col2' : [1,1,2,3,3,4,4,5] , 'col3' : [1,1,1,2,2,2,2,2]})\n",
    "        result, expect = help_test(df_read, expect_df)\n",
    "        self.assertEqual(result, expect)\n",
    "\n",
    "    def test_replace2(self) :\n",
    "        self.sql.dump_replace(df_in = self.df2 , table_name_in = self.table_name, list_key = ['col1','col2'])\n",
    "        df_read = self.sql.read(self.table_name)\n",
    "        expect_df = pd.DataFrame({'col1' : [1,2,3,4,4,5,6,7,8] , 'col2' : [1,1,2,2,3,3,4,4,5] , 'col3' : [1,1,1,1,2,2,2,2,2]})\n",
    "        result, expect = help_test(df_read, expect_df)\n",
    "        self.assertEqual(result, expect)\n",
    "        \n",
    "    def test_replace3(self) :\n",
    "        self.sql.dump_replace(df_in = self.df2 , table_name_in = self.table_name, list_key = ['col1','col2','col3'])\n",
    "        df_read = self.sql.read(self.table_name)\n",
    "        expect_df = self.df1.append(self.df2)\n",
    "        result, expect = help_test(df_read, expect_df)\n",
    "        self.assertEqual(result, expect)\n",
    "\n",
    "    def test_replace_logic(self) :\n",
    "        self.sql.dump_replace(df_in = self.df2 , table_name_in = self.table_name, list_key = ['col1'],\n",
    "                             math_logic = {'col1' : {'logic' : '>', 'value' : 1}})\n",
    "        df_read = self.sql.read(self.table_name)\n",
    "        expect_df = self.df1[self.df1['col1'] <= 1].append(self.df2)\n",
    "        result, expect = help_test(df_read, expect_df)\n",
    "        self.assertEqual(result, expect)\n",
    "        \n",
    "    def test_replace_logic_date(self) :\n",
    "        df_date = pd.DataFrame({'col1' : [1,2,3,4,5], \n",
    "                                'date' : pd.date_range('2020-10-10','2020-10-14'), 'col2' :[1,1,1,1,1]})\n",
    "        \n",
    "        self.sql.dump_whole(df_date, self.table_name)\n",
    "        expect_df = df_date[df_date['date'] <= '2020-10-12']\n",
    "        df_date['col2'] = 3\n",
    "        self.sql.dump_replace(df_in = df_date , table_name_in = self.table_name, list_key = ['date'],\n",
    "                             math_logic = {'date' : {'logic' : '>', 'value' : '2020-10-12', 'type' : 'date'}})\n",
    "        df_read = self.sql.read(self.table_name)\n",
    "        expect_df = expect_df.append(df_date)\n",
    "        result, expect = help_test(df_read, expect_df)\n",
    "        self.assertEqual(result, expect)\n",
    "        \n",
    "    def test_replace3(self) :\n",
    "        self.sql.dump_replace(df_in = self.df2 , table_name_in = self.table_name, list_key = ['col1','col2','col3'])\n",
    "        df_read = self.sql.read(self.table_name)\n",
    "        expect_df = self.df1.append(self.df2)\n",
    "        result, expect = help_test(df_read, expect_df)\n",
    "        self.assertEqual(result, expect)\n",
    "\n",
    "    def test_new1_str(self) :\n",
    "        self.sql.dump_new(df_in = self.df2 , table_name_in = self.table_name, list_key = 'col1')\n",
    "        df_read = self.sql.read(self.table_name)\n",
    "        expect_df = pd.DataFrame({'col1' : [1,2,3,4,5,6,7,8] , 'col2' : [1,1,2,2,3,4,4,5] , 'col3' : [1,1,1,1,1,2,2,2]})\n",
    "        result, expect = help_test(df_read, expect_df)\n",
    "        self.assertEqual(result, expect)\n",
    "\n",
    "    def test_new1(self) :\n",
    "        self.sql.dump_new(df_in = self.df2 , table_name_in = self.table_name, list_key = ['col1'])\n",
    "        df_read = self.sql.read(self.table_name)\n",
    "        expect_df = pd.DataFrame({'col1' : [1,2,3,4,5,6,7,8] , 'col2' : [1,1,2,2,3,4,4,5] , 'col3' : [1,1,1,1,1,2,2,2]})\n",
    "        result, expect = help_test(df_read, expect_df)\n",
    "        self.assertEqual(result, expect)\n",
    "\n",
    "    def test_new2(self) :\n",
    "        self.sql.dump_new(df_in = self.df2 , table_name_in = self.table_name, list_key = ['col1','col2'], debug = False)\n",
    "        df_read = self.sql.read(self.table_name)\n",
    "        expect_df = pd.DataFrame({'col1' : [1,2,3,4,5,4,6,7,8] , 'col2' : [1,1,2,2,3,3,4,4,5] , 'col3' : [1,1,1,1,1,2,2,2,2]})\n",
    "        result, expect = help_test(df_read, expect_df)\n",
    "        self.assertEqual(result, expect)\n",
    "        \n",
    "    def test_replace_null1(self) :\n",
    "        df1_n = pd.DataFrame({'col1' : [1,None,3,4,5] , 'col2' : [1,1,2,2,3] , 'col3' : [1,1,1,1,1]})\n",
    "        df2_n = pd.DataFrame({'col1' : [4,5,6,7,None] , 'col2' : [3,3,4,4,5] , 'col3' : [2,2,2,2,2]})\n",
    "        df1_n.to_sql(self.table_name, con = self.sql.engine, index = False, if_exists = 'replace')\n",
    "        self.sql.dump_replace(df_in = df2_n , table_name_in = self.table_name, list_key = ['col1'] , debug = True)\n",
    "        df_read = self.sql.read(self.table_name).sort_values('col1').reset_index(drop = True)\n",
    "        expect_df = pd.DataFrame({'col1' : [1,3,4,5,6,7,None] , 'col2' : [1,2,3,3,4,4,5] , 'col3' : [1,1,2,2,2,2,2]})\n",
    "        result, expect = help_test(df_read.fillna(99), expect_df.fillna(99))\n",
    "        self.assertEqual(result, expect)\n",
    "\n",
    "    def test_replace_null2(self) :\n",
    "        df1_n = pd.DataFrame({'col1' : [1,None,3,4,5] , 'col2' : [1,1,2,2,3] , 'col3' : [1,1,1,1,1]})\n",
    "        df2_n = pd.DataFrame({'col1' : [4,5,6,7,None] , 'col2' : [3,3,4,4,5] , 'col3' : [2,2,2,2,2]})\n",
    "        df1_n.to_sql(self.table_name, con = self.sql.engine, index = False, if_exists = 'replace')\n",
    "        self.sql.dump_replace(df_in = df2_n , table_name_in = self.table_name, list_key = ['col1','col2'] , debug = True)\n",
    "        df_read = self.sql.read(self.table_name).sort_values('col1').reset_index(drop = True)\n",
    "        expect_df = pd.DataFrame({ 'col1' : [1,None,3,4,4,5,6,7,None] , 'col2' : [1,1,2,2,3,3,4,4,5] \n",
    "                                  ,'col3' : [1,1,1,1,2,2,2,2,2]}).sort_values('col1').reset_index(drop = True)\n",
    "\n",
    "        result, expect = help_test(df_read.fillna(99), expect_df.fillna(99))\n",
    "        self.assertEqual(result, expect)\n",
    "\n",
    "unittest.main(argv = ['first-arg-is-ignored'], exit = False)"
   ]
  },
  {
   "cell_type": "markdown",
   "metadata": {},
   "source": [
    "# MYSQL\n",
    "## Default MYSQL"
   ]
  },
  {
   "cell_type": "code",
   "execution_count": 6,
   "metadata": {
    "scrolled": false
   },
   "outputs": [
    {
     "name": "stdout",
     "output_type": "stream",
     "text": [
      "Connection OK\n",
      "Start Filter Existing data from df at  2021-05-09 16:33:02.599914\n",
      "Dump data to  unit_test_git  End  2021-05-09 16:33:02.798593\n"
     ]
    },
    {
     "name": "stderr",
     "output_type": "stream",
     "text": [
      "."
     ]
    },
    {
     "name": "stdout",
     "output_type": "stream",
     "text": [
      "Connection OK\n",
      "Start Filter Existing data from df at  2021-05-09 16:33:03.903249\n",
      "Dump data to  unit_test_git  End  2021-05-09 16:33:04.101085\n"
     ]
    },
    {
     "name": "stderr",
     "output_type": "stream",
     "text": [
      "."
     ]
    },
    {
     "name": "stdout",
     "output_type": "stream",
     "text": [
      "Connection OK\n",
      "Start Filter Existing data from df at  2021-05-09 16:33:05.057359\n"
     ]
    },
    {
     "name": "stderr",
     "output_type": "stream",
     "text": [
      "."
     ]
    },
    {
     "name": "stdout",
     "output_type": "stream",
     "text": [
      "Dump data to  unit_test_git  End  2021-05-09 16:33:05.266428\n",
      "Connection OK\n"
     ]
    },
    {
     "name": "stderr",
     "output_type": "stream",
     "text": [
      "."
     ]
    },
    {
     "name": "stdout",
     "output_type": "stream",
     "text": [
      "Connection OK\n",
      "Start delete old data at 2021-05-09 16:33:08.039418\n",
      "Delete Last ['col1'] at 2021-05-09 16:33:08.129532\n"
     ]
    },
    {
     "name": "stderr",
     "output_type": "stream",
     "text": [
      "."
     ]
    },
    {
     "name": "stdout",
     "output_type": "stream",
     "text": [
      "Dump data to  unit_test_git  End  2021-05-09 16:33:08.270772\n",
      "Connection OK\n",
      "Start delete old data at 2021-05-09 16:33:09.286303\n",
      "Delete Last col1 at 2021-05-09 16:33:09.378472\n"
     ]
    },
    {
     "name": "stderr",
     "output_type": "stream",
     "text": [
      "."
     ]
    },
    {
     "name": "stdout",
     "output_type": "stream",
     "text": [
      "Dump data to  unit_test_git  End  2021-05-09 16:33:09.535532\n",
      "Connection OK\n",
      "Start delete old data at 2021-05-09 16:33:10.664142\n",
      "Delete Last ['col1', 'col2'] at 2021-05-09 16:33:10.757861\n"
     ]
    },
    {
     "name": "stderr",
     "output_type": "stream",
     "text": [
      "."
     ]
    },
    {
     "name": "stdout",
     "output_type": "stream",
     "text": [
      "Dump data to  unit_test_git  End  2021-05-09 16:33:10.908866\n",
      "Connection OK\n",
      "Start delete old data at 2021-05-09 16:33:11.776112\n",
      "Delete Last ['col1', 'col2', 'col3'] at 2021-05-09 16:33:11.847357\n"
     ]
    },
    {
     "name": "stderr",
     "output_type": "stream",
     "text": [
      "."
     ]
    },
    {
     "name": "stdout",
     "output_type": "stream",
     "text": [
      "Dump data to  unit_test_git  End  2021-05-09 16:33:11.981402\n",
      "Connection OK\n",
      "Start delete old data at 2021-05-09 16:33:12.970393\n",
      "Delete Last ['col1'] at 2021-05-09 16:33:13.056176\n"
     ]
    },
    {
     "name": "stderr",
     "output_type": "stream",
     "text": [
      "."
     ]
    },
    {
     "name": "stdout",
     "output_type": "stream",
     "text": [
      "Dump data to  unit_test_git  End  2021-05-09 16:33:13.201814\n",
      "Connection OK\n",
      "Drop Existing Table at  2021-05-09 16:33:14.041775\n",
      "Dump data to  unit_test_git  End  2021-05-09 16:33:14.328017\n",
      "Start delete old data at 2021-05-09 16:33:14.329822\n",
      "Delete Last ['date'] at 2021-05-09 16:33:14.401280\n",
      "Dump data to  unit_test_git  End  2021-05-09 16:33:14.523103\n"
     ]
    },
    {
     "name": "stderr",
     "output_type": "stream",
     "text": [
      "."
     ]
    },
    {
     "name": "stdout",
     "output_type": "stream",
     "text": [
      "Connection OK\n",
      "Start delete old data at 2021-05-09 16:33:15.879452\n",
      "Delete Last ['col1'] at 2021-05-09 16:33:15.956578\n",
      "DELETE FROM unit_test_git where (col1 in ('4.0', '5.0', '6.0', '7.0') OR col1 IS NULL)\n"
     ]
    },
    {
     "name": "stderr",
     "output_type": "stream",
     "text": [
      "."
     ]
    },
    {
     "name": "stdout",
     "output_type": "stream",
     "text": [
      "Dump data to  unit_test_git  End  2021-05-09 16:33:16.087479\n",
      "Connection OK\n",
      "Start delete old data at 2021-05-09 16:33:17.566514\n",
      "Delete Last ['col1', 'col2'] at 2021-05-09 16:33:17.656244\n",
      "DELETE FROM unit_test_git where (col1 in ('4.0', '5.0', '6.0', '7.0') OR col1 IS NULL) and col2 in ('3', '4', '5')\n"
     ]
    },
    {
     "name": "stderr",
     "output_type": "stream",
     "text": [
      "."
     ]
    },
    {
     "name": "stdout",
     "output_type": "stream",
     "text": [
      "Dump data to  unit_test_git  End  2021-05-09 16:33:17.796313\n",
      "Connection OK\n"
     ]
    },
    {
     "name": "stderr",
     "output_type": "stream",
     "text": [
      "."
     ]
    },
    {
     "name": "stdout",
     "output_type": "stream",
     "text": [
      "Connection OK\n",
      "Drop Existing Table at  2021-05-09 16:33:20.156343\n"
     ]
    },
    {
     "name": "stderr",
     "output_type": "stream",
     "text": [
      "."
     ]
    },
    {
     "name": "stdout",
     "output_type": "stream",
     "text": [
      "Dump data to  unit_test_git  End  2021-05-09 16:33:20.502102\n"
     ]
    },
    {
     "name": "stderr",
     "output_type": "stream",
     "text": [
      "\n",
      "----------------------------------------------------------------------\n",
      "Ran 14 tests in 19.155s\n",
      "\n",
      "OK\n"
     ]
    },
    {
     "data": {
      "text/plain": [
       "<unittest.main.TestProgram at 0x1d4fc748f88>"
      ]
     },
     "execution_count": 6,
     "metadata": {},
     "output_type": "execute_result"
    }
   ],
   "source": [
    "test_mysql = setting['MYSQL']\n",
    "    \n",
    "class SQL_Test_class(unittest.TestCase):\n",
    "    def setUp(self):\n",
    "        self.sql = da_tran_SQL(sql_type = test_mysql['type'],\n",
    "                                host_name = test_mysql['host'],\n",
    "                                database_name = test_mysql['database'],\n",
    "                                user = test_mysql['user'],\n",
    "                                password = test_mysql['password'])\n",
    "        self.df1 = pd.DataFrame({'col1' : [1,2,3,4,5] , 'col2' : [1,1,2,2,3] , 'col3' : [1,1,1,1,1]})\n",
    "        self.df2 = pd.DataFrame({'col1' : [4,5,6,7,8] , 'col2' : [3,3,4,4,5] , 'col3' : [2,2,2,2,2]})\n",
    "        self.table_name = 'unit_test_git'\n",
    "        self.df1.to_sql(self.table_name, con = self.sql.engine, index = False, if_exists = 'replace')\n",
    "\n",
    "    def test_sp(self):\n",
    "        sql_q = \"\"\" drop procedure if exists unit_test_git_SP;\"\"\"\n",
    "        self.sql.engine.execute(sql_q)\n",
    "        sql_q = \"\"\" CREATE PROCEDURE unit_test_git_SP\n",
    "                    (PARAM1 VARCHAR(100))\n",
    "                    BEGIN\n",
    "                    SELECT * FROM {} WHERE col1 = PARAM1 ;\n",
    "                    end;\"\"\".format(self.table_name)\n",
    "        self.sql.engine.execute(sql_q)\n",
    "        df_read = self.sql.read('unit_test_git_SP', SP = True , param = {'PARAM1' : 1})\n",
    "        expect_df = self.df1[self.df1['col1'] == 1]\n",
    "        result, expect = help_test(df_read, expect_df)\n",
    "        self.assertEqual(result, expect)\n",
    "\n",
    "\n",
    "    def test_read_sql(self):\n",
    "        df_read = self.sql.read(self.table_name)\n",
    "        expect_df = self.df1\n",
    "        result, expect = help_test(df_read, expect_df)\n",
    "        self.assertEqual(result, expect)\n",
    "\n",
    "    def test_whole(self):\n",
    "        self.sql.dump_whole(self.df2, self.table_name)\n",
    "        df_read = self.sql.read(self.table_name)\n",
    "        expect_df = self.df2\n",
    "        result, expect = help_test(df_read, expect_df)\n",
    "        self.assertEqual(result, expect)\n",
    "\n",
    "    def test_replace1(self) :\n",
    "        self.sql.dump_replace(df_in = self.df2 , table_name_in = self.table_name, list_key = ['col1'])\n",
    "        df_read = self.sql.read(self.table_name)\n",
    "        expect_df = pd.DataFrame({'col1' : [1,2,3,4,5,6,7,8] , 'col2' : [1,1,2,3,3,4,4,5] , 'col3' : [1,1,1,2,2,2,2,2]})\n",
    "        result, expect = help_test(df_read, expect_df)\n",
    "        self.assertEqual(result, expect)\n",
    "\n",
    "    def test_replace1_str(self) :\n",
    "        self.sql.dump_replace(df_in = self.df2 , table_name_in = self.table_name, list_key = 'col1')\n",
    "        df_read = self.sql.read(self.table_name)\n",
    "        expect_df = pd.DataFrame({'col1' : [1,2,3,4,5,6,7,8] , 'col2' : [1,1,2,3,3,4,4,5] , 'col3' : [1,1,1,2,2,2,2,2]})\n",
    "        result, expect = help_test(df_read, expect_df)\n",
    "        self.assertEqual(result, expect)\n",
    "\n",
    "    def test_replace2(self) :\n",
    "        self.sql.dump_replace(df_in = self.df2 , table_name_in = self.table_name, list_key = ['col1','col2'])\n",
    "        df_read = self.sql.read(self.table_name)\n",
    "        expect_df = pd.DataFrame({'col1' : [1,2,3,4,4,5,6,7,8] , 'col2' : [1,1,2,2,3,3,4,4,5] , 'col3' : [1,1,1,1,2,2,2,2,2]})\n",
    "        result, expect = help_test(df_read, expect_df)\n",
    "        self.assertEqual(result, expect)\n",
    "        \n",
    "    def test_replace3(self) :\n",
    "        self.sql.dump_replace(df_in = self.df2 , table_name_in = self.table_name, list_key = ['col1','col2','col3'])\n",
    "        df_read = self.sql.read(self.table_name)\n",
    "        expect_df = self.df1.append(self.df2)\n",
    "        result, expect = help_test(df_read, expect_df)\n",
    "        self.assertEqual(result, expect)\n",
    "\n",
    "    def test_replace_logic(self) :\n",
    "        self.sql.dump_replace(df_in = self.df2 , table_name_in = self.table_name, list_key = ['col1'],\n",
    "                             math_logic = {'col1' : {'logic' : '>', 'value' : 1}})\n",
    "        df_read = self.sql.read(self.table_name)\n",
    "        expect_df = self.df1[self.df1['col1'] <= 1].append(self.df2)\n",
    "        result, expect = help_test(df_read, expect_df)\n",
    "        self.assertEqual(result, expect)\n",
    "        \n",
    "    def test_replace_logic_date(self) :\n",
    "        df_date = pd.DataFrame({'col1' : [1,2,3,4,5], \n",
    "                                'date' : pd.date_range('2020-10-10','2020-10-14'), 'col2' :[1,1,1,1,1]})\n",
    "        self.sql.dump_whole(df_date, self.table_name)\n",
    "        expect_df = df_date[df_date['date'] <= '2020-10-12']\n",
    "        df_date['col2'] = 3\n",
    "        self.sql.dump_replace(df_in = df_date , table_name_in = self.table_name, list_key = ['date'],\n",
    "                             math_logic = {'date' : {'logic' : '>', 'value' : '2020-10-12', 'type' : 'date'}})\n",
    "        df_read = self.sql.read(self.table_name)\n",
    "        expect_df = expect_df.append(df_date)\n",
    "        result, expect = help_test(df_read, expect_df)\n",
    "        self.assertEqual(result, expect)\n",
    "        \n",
    "    def test_replace3(self) :\n",
    "        self.sql.dump_replace(df_in = self.df2 , table_name_in = self.table_name, list_key = ['col1','col2','col3'])\n",
    "        df_read = self.sql.read(self.table_name)\n",
    "        expect_df = self.df1.append(self.df2)\n",
    "        result, expect = help_test(df_read, expect_df)\n",
    "        self.assertEqual(result, expect)\n",
    "\n",
    "    def test_new1_str(self) :\n",
    "        self.sql.dump_new(df_in = self.df2 , table_name_in = self.table_name, list_key = 'col1')\n",
    "        df_read = self.sql.read(self.table_name)\n",
    "        expect_df = pd.DataFrame({'col1' : [1,2,3,4,5,6,7,8] , 'col2' : [1,1,2,2,3,4,4,5] , 'col3' : [1,1,1,1,1,2,2,2]})\n",
    "        result, expect = help_test(df_read, expect_df)\n",
    "        self.assertEqual(result, expect)\n",
    "\n",
    "    def test_new1(self) :\n",
    "        self.sql.dump_new(df_in = self.df2 , table_name_in = self.table_name, list_key = ['col1'])\n",
    "        df_read = self.sql.read(self.table_name)\n",
    "        expect_df = pd.DataFrame({'col1' : [1,2,3,4,5,6,7,8] , 'col2' : [1,1,2,2,3,4,4,5] , 'col3' : [1,1,1,1,1,2,2,2]})\n",
    "        result, expect = help_test(df_read, expect_df)\n",
    "        self.assertEqual(result, expect)\n",
    "\n",
    "    def test_new2(self) :\n",
    "        self.sql.dump_new(df_in = self.df2 , table_name_in = self.table_name, list_key = ['col1','col2'], debug = False)\n",
    "        df_read = self.sql.read(self.table_name)\n",
    "        expect_df = pd.DataFrame({'col1' : [1,2,3,4,5,4,6,7,8] , 'col2' : [1,1,2,2,3,3,4,4,5] , 'col3' : [1,1,1,1,1,2,2,2,2]})\n",
    "        result, expect = help_test(df_read, expect_df)\n",
    "        self.assertEqual(result, expect)\n",
    "\n",
    "    def test_replace_null1(self) :\n",
    "        df1_n = pd.DataFrame({'col1' : [1,None,3,4,5] , 'col2' : [1,1,2,2,3] , 'col3' : [1,1,1,1,1]})\n",
    "        df2_n = pd.DataFrame({'col1' : [4,5,6,7,None] , 'col2' : [3,3,4,4,5] , 'col3' : [2,2,2,2,2]})\n",
    "        df1_n.to_sql(self.table_name, con = self.sql.engine, index = False, if_exists = 'replace')\n",
    "        self.sql.dump_replace(df_in = df2_n , table_name_in = self.table_name, list_key = ['col1'] , debug = True)\n",
    "        df_read = self.sql.read(self.table_name).sort_values('col1').reset_index(drop = True)\n",
    "        expect_df = pd.DataFrame({'col1' : [1,3,4,5,6,7,None] , 'col2' : [1,2,3,3,4,4,5] , 'col3' : [1,1,2,2,2,2,2]})\n",
    "        result, expect = help_test(df_read.fillna(99), expect_df.fillna(99))\n",
    "        self.assertEqual(result, expect)\n",
    "\n",
    "    def test_replace_null2(self) :\n",
    "        df1_n = pd.DataFrame({'col1' : [1,None,3,4,5] , 'col2' : [1,1,2,2,3] , 'col3' : [1,1,1,1,1]})\n",
    "        df2_n = pd.DataFrame({'col1' : [4,5,6,7,None] , 'col2' : [3,3,4,4,5] , 'col3' : [2,2,2,2,2]})\n",
    "        df1_n.to_sql(self.table_name, con = self.sql.engine, index = False, if_exists = 'replace')\n",
    "        self.sql.dump_replace(df_in = df2_n , table_name_in = self.table_name, list_key = ['col1','col2'] , debug = True)\n",
    "        df_read = self.sql.read(self.table_name).sort_values('col1').reset_index(drop = True)\n",
    "        expect_df = pd.DataFrame({ 'col1' : [1,None,3,4,4,5,6,7,None] , 'col2' : [1,1,2,2,3,3,4,4,5] \n",
    "                                  ,'col3' : [1,1,1,1,2,2,2,2,2]}).sort_values('col1').reset_index(drop = True)\n",
    "\n",
    "        result, expect = help_test(df_read.fillna(99), expect_df.fillna(99))\n",
    "        self.assertEqual(result, expect)\n",
    "\n",
    "unittest.main(argv = ['first-arg-is-ignored'], exit = False)"
   ]
  },
  {
   "cell_type": "markdown",
   "metadata": {},
   "source": [
    "## Parallel MYSQL"
   ]
  },
  {
   "cell_type": "code",
   "execution_count": 7,
   "metadata": {
    "scrolled": false
   },
   "outputs": [
    {
     "name": "stdout",
     "output_type": "stream",
     "text": [
      "Connection OK\n",
      "Start Filter Existing data from df at  2021-05-09 16:33:21.683011\n"
     ]
    },
    {
     "name": "stderr",
     "output_type": "stream",
     "text": [
      "."
     ]
    },
    {
     "name": "stdout",
     "output_type": "stream",
     "text": [
      "Dump data to  unit_test_git  End  2021-05-09 16:33:22.002360\n",
      "Connection OK\n",
      "Start Filter Existing data from df at  2021-05-09 16:33:23.044502\n"
     ]
    },
    {
     "name": "stderr",
     "output_type": "stream",
     "text": [
      "."
     ]
    },
    {
     "name": "stdout",
     "output_type": "stream",
     "text": [
      "Dump data to  unit_test_git  End  2021-05-09 16:33:23.362046\n",
      "Connection OK\n",
      "Start Filter Existing data from df at  2021-05-09 16:33:24.418409\n"
     ]
    },
    {
     "name": "stderr",
     "output_type": "stream",
     "text": [
      "."
     ]
    },
    {
     "name": "stdout",
     "output_type": "stream",
     "text": [
      "Dump data to  unit_test_git  End  2021-05-09 16:33:24.720868\n",
      "Connection OK\n"
     ]
    },
    {
     "name": "stderr",
     "output_type": "stream",
     "text": [
      "."
     ]
    },
    {
     "name": "stdout",
     "output_type": "stream",
     "text": [
      "Connection OK\n",
      "Start delete old data at 2021-05-09 16:33:26.593082\n",
      "Delete Last ['col1'] at 2021-05-09 16:33:26.662347\n"
     ]
    },
    {
     "name": "stderr",
     "output_type": "stream",
     "text": [
      "."
     ]
    },
    {
     "name": "stdout",
     "output_type": "stream",
     "text": [
      "Dump data to  unit_test_git  End  2021-05-09 16:33:27.039634\n",
      "Connection OK\n",
      "Start delete old data at 2021-05-09 16:33:27.938687\n",
      "Delete Last col1 at 2021-05-09 16:33:28.011193\n"
     ]
    },
    {
     "name": "stderr",
     "output_type": "stream",
     "text": [
      "."
     ]
    },
    {
     "name": "stdout",
     "output_type": "stream",
     "text": [
      "Dump data to  unit_test_git  End  2021-05-09 16:33:28.432791\n",
      "Connection OK\n",
      "Start delete old data at 2021-05-09 16:33:29.336433\n",
      "Delete Last ['col1', 'col2'] at 2021-05-09 16:33:29.410882\n"
     ]
    },
    {
     "name": "stderr",
     "output_type": "stream",
     "text": [
      "."
     ]
    },
    {
     "name": "stdout",
     "output_type": "stream",
     "text": [
      "Dump data to  unit_test_git  End  2021-05-09 16:33:29.810429\n",
      "Connection OK\n",
      "Start delete old data at 2021-05-09 16:33:30.788969\n",
      "Delete Last ['col1', 'col2', 'col3'] at 2021-05-09 16:33:30.873158\n"
     ]
    },
    {
     "name": "stderr",
     "output_type": "stream",
     "text": [
      "."
     ]
    },
    {
     "name": "stdout",
     "output_type": "stream",
     "text": [
      "Dump data to  unit_test_git  End  2021-05-09 16:33:31.270606\n",
      "Connection OK\n",
      "Start delete old data at 2021-05-09 16:33:32.302923\n",
      "Delete Last ['col1'] at 2021-05-09 16:33:32.412773\n"
     ]
    },
    {
     "name": "stderr",
     "output_type": "stream",
     "text": [
      "."
     ]
    },
    {
     "name": "stdout",
     "output_type": "stream",
     "text": [
      "Dump data to  unit_test_git  End  2021-05-09 16:33:32.834472\n",
      "Connection OK\n",
      "Drop Existing Table at  2021-05-09 16:33:33.845140\n",
      "Dump data to  unit_test_git  End  2021-05-09 16:33:34.331955\n",
      "Start delete old data at 2021-05-09 16:33:34.332961\n",
      "Delete Last ['date'] at 2021-05-09 16:33:34.405023\n"
     ]
    },
    {
     "name": "stderr",
     "output_type": "stream",
     "text": [
      "."
     ]
    },
    {
     "name": "stdout",
     "output_type": "stream",
     "text": [
      "Dump data to  unit_test_git  End  2021-05-09 16:33:34.699009\n",
      "Connection OK\n",
      "Start delete old data at 2021-05-09 16:33:36.018300\n",
      "Delete Last ['col1'] at 2021-05-09 16:33:36.098153\n",
      "DELETE FROM unit_test_git where (col1 in ('4.0', '5.0', '6.0', '7.0') OR col1 IS NULL)\n"
     ]
    },
    {
     "name": "stderr",
     "output_type": "stream",
     "text": [
      "."
     ]
    },
    {
     "name": "stdout",
     "output_type": "stream",
     "text": [
      "Dump data to  unit_test_git  End  2021-05-09 16:33:36.485897\n",
      "Connection OK\n",
      "Start delete old data at 2021-05-09 16:33:37.820626\n",
      "Delete Last ['col1', 'col2'] at 2021-05-09 16:33:37.893735\n",
      "DELETE FROM unit_test_git where (col1 in ('4.0', '5.0', '6.0', '7.0') OR col1 IS NULL) and col2 in ('3', '4', '5')\n"
     ]
    },
    {
     "name": "stderr",
     "output_type": "stream",
     "text": [
      "."
     ]
    },
    {
     "name": "stdout",
     "output_type": "stream",
     "text": [
      "Dump data to  unit_test_git  End  2021-05-09 16:33:38.279172\n",
      "Connection OK\n"
     ]
    },
    {
     "name": "stderr",
     "output_type": "stream",
     "text": [
      "."
     ]
    },
    {
     "name": "stdout",
     "output_type": "stream",
     "text": [
      "Connection OK\n",
      "Drop Existing Table at  2021-05-09 16:33:40.491269\n"
     ]
    },
    {
     "name": "stderr",
     "output_type": "stream",
     "text": [
      "."
     ]
    },
    {
     "name": "stdout",
     "output_type": "stream",
     "text": [
      "Dump data to  unit_test_git  End  2021-05-09 16:33:41.031152\n"
     ]
    },
    {
     "name": "stderr",
     "output_type": "stream",
     "text": [
      "\n",
      "----------------------------------------------------------------------\n",
      "Ran 14 tests in 20.482s\n",
      "\n",
      "OK\n"
     ]
    },
    {
     "data": {
      "text/plain": [
       "<unittest.main.TestProgram at 0x1d4fc2f7c08>"
      ]
     },
     "execution_count": 7,
     "metadata": {},
     "output_type": "execute_result"
    }
   ],
   "source": [
    "test_mysql = setting['MYSQL']\n",
    "    \n",
    "class SQL_Test_class(unittest.TestCase):\n",
    "    def setUp(self):\n",
    "        self.sql = da_tran_SQL(sql_type = test_mysql['type'],\n",
    "                                host_name = test_mysql['host'],\n",
    "                                database_name = test_mysql['database'],\n",
    "                                user = test_mysql['user'],\n",
    "                                password = test_mysql['password'],\n",
    "                                partition_size = 2, \n",
    "                                parallel_dump = True, \n",
    "                                max_parallel = 2)\n",
    "        \n",
    "        self.df1 = pd.DataFrame({'col1' : [1,2,3,4,5] , 'col2' : [1,1,2,2,3] , 'col3' : [1,1,1,1,1]})\n",
    "        self.df2 = pd.DataFrame({'col1' : [4,5,6,7,8] , 'col2' : [3,3,4,4,5] , 'col3' : [2,2,2,2,2]})\n",
    "        self.table_name = 'unit_test_git'\n",
    "        self.df1.to_sql(self.table_name, con = self.sql.engine, index = False, if_exists = 'replace')\n",
    "\n",
    "    def test_sp(self):\n",
    "        sql_q = \"\"\" drop procedure if exists unit_test_git_SP;\"\"\"\n",
    "        self.sql.engine.execute(sql_q)\n",
    "        sql_q = \"\"\" CREATE PROCEDURE unit_test_git_SP\n",
    "                    (PARAM1 VARCHAR(100))\n",
    "                    BEGIN\n",
    "                    SELECT * FROM {} WHERE col1 = PARAM1 ;\n",
    "                    end;\"\"\".format(self.table_name)\n",
    "        self.sql.engine.execute(sql_q)\n",
    "        df_read = self.sql.read('unit_test_git_SP', SP = True , param = {'PARAM1' : 1})\n",
    "        expect_df = self.df1[self.df1['col1'] == 1]\n",
    "        result, expect = help_test(df_read, expect_df)\n",
    "        self.assertEqual(result, expect)\n",
    "\n",
    "\n",
    "    def test_read_sql(self):\n",
    "        df_read = self.sql.read(self.table_name)\n",
    "        expect_df = self.df1\n",
    "        result, expect = help_test(df_read, expect_df)\n",
    "        self.assertEqual(result, expect)\n",
    "\n",
    "    def test_whole(self):\n",
    "        self.sql.dump_whole(self.df2, self.table_name)\n",
    "        df_read = self.sql.read(self.table_name)\n",
    "        expect_df = self.df2\n",
    "        result, expect = help_test(df_read, expect_df)\n",
    "        self.assertEqual(result, expect)\n",
    "\n",
    "    def test_replace1(self) :\n",
    "        self.sql.dump_replace(df_in = self.df2 , table_name_in = self.table_name, list_key = ['col1'])\n",
    "        df_read = self.sql.read(self.table_name)\n",
    "        expect_df = pd.DataFrame({'col1' : [1,2,3,4,5,6,7,8] , 'col2' : [1,1,2,3,3,4,4,5] , 'col3' : [1,1,1,2,2,2,2,2]})\n",
    "        result, expect = help_test(df_read, expect_df)\n",
    "        self.assertEqual(result, expect)\n",
    "\n",
    "    def test_replace1_str(self) :\n",
    "        self.sql.dump_replace(df_in = self.df2 , table_name_in = self.table_name, list_key = 'col1')\n",
    "        df_read = self.sql.read(self.table_name)\n",
    "        expect_df = pd.DataFrame({'col1' : [1,2,3,4,5,6,7,8] , 'col2' : [1,1,2,3,3,4,4,5] , 'col3' : [1,1,1,2,2,2,2,2]})\n",
    "        result, expect = help_test(df_read, expect_df)\n",
    "        self.assertEqual(result, expect)\n",
    "\n",
    "    def test_replace2(self) :\n",
    "        self.sql.dump_replace(df_in = self.df2 , table_name_in = self.table_name, list_key = ['col1','col2'])\n",
    "        df_read = self.sql.read(self.table_name)\n",
    "        expect_df = pd.DataFrame({'col1' : [1,2,3,4,4,5,6,7,8] , 'col2' : [1,1,2,2,3,3,4,4,5] , 'col3' : [1,1,1,1,2,2,2,2,2]})\n",
    "        result, expect = help_test(df_read, expect_df)\n",
    "        self.assertEqual(result, expect)\n",
    "        \n",
    "    def test_replace3(self) :\n",
    "        self.sql.dump_replace(df_in = self.df2 , table_name_in = self.table_name, list_key = ['col1','col2','col3'])\n",
    "        df_read = self.sql.read(self.table_name)\n",
    "        expect_df = self.df1.append(self.df2)\n",
    "        result, expect = help_test(df_read, expect_df)\n",
    "        self.assertEqual(result, expect)\n",
    "\n",
    "    def test_replace_logic(self) :\n",
    "        self.sql.dump_replace(df_in = self.df2 , table_name_in = self.table_name, list_key = ['col1'],\n",
    "                             math_logic = {'col1' : {'logic' : '>', 'value' : 1}})\n",
    "        df_read = self.sql.read(self.table_name)\n",
    "        expect_df = self.df1[self.df1['col1'] <= 1].append(self.df2)\n",
    "        result, expect = help_test(df_read, expect_df)\n",
    "        self.assertEqual(result, expect)\n",
    "        \n",
    "    def test_replace_logic_date(self) :\n",
    "        df_date = pd.DataFrame({'col1' : [1,2,3,4,5], \n",
    "                                'date' : pd.date_range('2020-10-10','2020-10-14'), 'col2' :[1,1,1,1,1]})\n",
    "        self.sql.dump_whole(df_date, self.table_name)\n",
    "        expect_df = df_date[df_date['date'] <= '2020-10-12']\n",
    "        df_date['col2'] = 3\n",
    "        self.sql.dump_replace(df_in = df_date , table_name_in = self.table_name, list_key = ['date'],\n",
    "                             math_logic = {'date' : {'logic' : '>', 'value' : '2020-10-12', 'type' : 'date'}})\n",
    "        df_read = self.sql.read(self.table_name)\n",
    "        expect_df = expect_df.append(df_date)\n",
    "        result, expect = help_test(df_read, expect_df)\n",
    "        self.assertEqual(result, expect)\n",
    "        \n",
    "    def test_replace3(self) :\n",
    "        self.sql.dump_replace(df_in = self.df2 , table_name_in = self.table_name, list_key = ['col1','col2','col3'])\n",
    "        df_read = self.sql.read(self.table_name)\n",
    "        expect_df = self.df1.append(self.df2)\n",
    "        result, expect = help_test(df_read, expect_df)\n",
    "        self.assertEqual(result, expect)\n",
    "\n",
    "    def test_new1_str(self) :\n",
    "        self.sql.dump_new(df_in = self.df2 , table_name_in = self.table_name, list_key = 'col1')\n",
    "        df_read = self.sql.read(self.table_name)\n",
    "        expect_df = pd.DataFrame({'col1' : [1,2,3,4,5,6,7,8] , 'col2' : [1,1,2,2,3,4,4,5] , 'col3' : [1,1,1,1,1,2,2,2]})\n",
    "        result, expect = help_test(df_read, expect_df)\n",
    "        self.assertEqual(result, expect)\n",
    "\n",
    "    def test_new1(self) :\n",
    "        self.sql.dump_new(df_in = self.df2 , table_name_in = self.table_name, list_key = ['col1'])\n",
    "        df_read = self.sql.read(self.table_name)\n",
    "        expect_df = pd.DataFrame({'col1' : [1,2,3,4,5,6,7,8] , 'col2' : [1,1,2,2,3,4,4,5] , 'col3' : [1,1,1,1,1,2,2,2]})\n",
    "        result, expect = help_test(df_read, expect_df)\n",
    "        self.assertEqual(result, expect)\n",
    "\n",
    "    def test_new2(self) :\n",
    "        self.sql.dump_new(df_in = self.df2 , table_name_in = self.table_name, list_key = ['col1','col2'], debug = False)\n",
    "        df_read = self.sql.read(self.table_name)\n",
    "        expect_df = pd.DataFrame({'col1' : [1,2,3,4,5,4,6,7,8] , 'col2' : [1,1,2,2,3,3,4,4,5] , 'col3' : [1,1,1,1,1,2,2,2,2]})\n",
    "        result, expect = help_test(df_read, expect_df)\n",
    "        self.assertEqual(result, expect)\n",
    "\n",
    "    def test_replace_null1(self) :\n",
    "        df1_n = pd.DataFrame({'col1' : [1,None,3,4,5] , 'col2' : [1,1,2,2,3] , 'col3' : [1,1,1,1,1]})\n",
    "        df2_n = pd.DataFrame({'col1' : [4,5,6,7,None] , 'col2' : [3,3,4,4,5] , 'col3' : [2,2,2,2,2]})\n",
    "        df1_n.to_sql(self.table_name, con = self.sql.engine, index = False, if_exists = 'replace')\n",
    "        self.sql.dump_replace(df_in = df2_n , table_name_in = self.table_name, list_key = ['col1'] , debug = True)\n",
    "        df_read = self.sql.read(self.table_name).sort_values('col1').reset_index(drop = True)\n",
    "        expect_df = pd.DataFrame({'col1' : [1,3,4,5,6,7,None] , 'col2' : [1,2,3,3,4,4,5] , 'col3' : [1,1,2,2,2,2,2]})\n",
    "        result, expect = help_test(df_read.fillna(99), expect_df.fillna(99))\n",
    "        self.assertEqual(result, expect)\n",
    "\n",
    "    def test_replace_null2(self) :\n",
    "        df1_n = pd.DataFrame({'col1' : [1,None,3,4,5] , 'col2' : [1,1,2,2,3] , 'col3' : [1,1,1,1,1]})\n",
    "        df2_n = pd.DataFrame({'col1' : [4,5,6,7,None] , 'col2' : [3,3,4,4,5] , 'col3' : [2,2,2,2,2]})\n",
    "        df1_n.to_sql(self.table_name, con = self.sql.engine, index = False, if_exists = 'replace')\n",
    "        self.sql.dump_replace(df_in = df2_n , table_name_in = self.table_name, list_key = ['col1','col2'] , debug = True)\n",
    "        df_read = self.sql.read(self.table_name).sort_values('col1').reset_index(drop = True)\n",
    "        expect_df = pd.DataFrame({ 'col1' : [1,None,3,4,4,5,6,7,None] , 'col2' : [1,1,2,2,3,3,4,4,5] \n",
    "                                  ,'col3' : [1,1,1,1,2,2,2,2,2]}).sort_values('col1').reset_index(drop = True)\n",
    "\n",
    "        result, expect = help_test(df_read.fillna(99), expect_df.fillna(99))\n",
    "        self.assertEqual(result, expect)\n",
    "\n",
    "unittest.main(argv = ['first-arg-is-ignored'], exit = False)"
   ]
  },
  {
   "cell_type": "markdown",
   "metadata": {},
   "source": [
    "# PostgreSQL\n",
    "## Default PostgreSQL"
   ]
  },
  {
   "cell_type": "code",
   "execution_count": 8,
   "metadata": {
    "scrolled": false
   },
   "outputs": [
    {
     "name": "stdout",
     "output_type": "stream",
     "text": [
      "Connection OK\n",
      "Start Filter Existing data from df at  2021-05-09 16:34:00.316341\n",
      "Dump data to  unit_test_git  End  2021-05-09 16:34:02.900893\n"
     ]
    },
    {
     "name": "stderr",
     "output_type": "stream",
     "text": [
      "."
     ]
    },
    {
     "name": "stdout",
     "output_type": "stream",
     "text": [
      "Connection OK\n",
      "Start Filter Existing data from df at  2021-05-09 16:34:19.443975\n",
      "Dump data to  unit_test_git  End  2021-05-09 16:34:21.962341\n"
     ]
    },
    {
     "name": "stderr",
     "output_type": "stream",
     "text": [
      "."
     ]
    },
    {
     "name": "stdout",
     "output_type": "stream",
     "text": [
      "Connection OK\n",
      "Start Filter Existing data from df at  2021-05-09 16:34:38.595584\n",
      "Dump data to  unit_test_git  End  2021-05-09 16:34:41.130989\n"
     ]
    },
    {
     "name": "stderr",
     "output_type": "stream",
     "text": [
      "."
     ]
    },
    {
     "name": "stdout",
     "output_type": "stream",
     "text": [
      "Connection OK\n"
     ]
    },
    {
     "name": "stderr",
     "output_type": "stream",
     "text": [
      "."
     ]
    },
    {
     "name": "stdout",
     "output_type": "stream",
     "text": [
      "Connection OK\n",
      "Start delete old data at 2021-05-09 16:35:13.973038\n",
      "Delete Last ['col1'] at 2021-05-09 16:35:14.820196\n",
      "Dump data to  unit_test_git  End  2021-05-09 16:35:16.515967\n"
     ]
    },
    {
     "name": "stderr",
     "output_type": "stream",
     "text": [
      "."
     ]
    },
    {
     "name": "stdout",
     "output_type": "stream",
     "text": [
      "Connection OK\n",
      "Start delete old data at 2021-05-09 16:35:32.149423\n",
      "Delete Last col1 at 2021-05-09 16:35:32.983679\n",
      "Dump data to  unit_test_git  End  2021-05-09 16:35:34.659341\n"
     ]
    },
    {
     "name": "stderr",
     "output_type": "stream",
     "text": [
      "."
     ]
    },
    {
     "name": "stdout",
     "output_type": "stream",
     "text": [
      "Connection OK\n",
      "Start delete old data at 2021-05-09 16:35:49.757166\n",
      "Delete Last ['col1', 'col2'] at 2021-05-09 16:35:50.559808\n",
      "Dump data to  unit_test_git  End  2021-05-09 16:35:52.172295\n"
     ]
    },
    {
     "name": "stderr",
     "output_type": "stream",
     "text": [
      "."
     ]
    },
    {
     "name": "stdout",
     "output_type": "stream",
     "text": [
      "Connection OK\n",
      "Start delete old data at 2021-05-09 16:36:08.090516\n",
      "Delete Last ['col1', 'col2', 'col3'] at 2021-05-09 16:36:08.911569\n",
      "Dump data to  unit_test_git  End  2021-05-09 16:36:10.556093\n"
     ]
    },
    {
     "name": "stderr",
     "output_type": "stream",
     "text": [
      "."
     ]
    },
    {
     "name": "stdout",
     "output_type": "stream",
     "text": [
      "Connection OK\n",
      "Start delete old data at 2021-05-09 16:36:25.500420\n",
      "Delete Last ['col1'] at 2021-05-09 16:36:26.294108\n",
      "Dump data to  unit_test_git  End  2021-05-09 16:36:27.886648\n"
     ]
    },
    {
     "name": "stderr",
     "output_type": "stream",
     "text": [
      "."
     ]
    },
    {
     "name": "stdout",
     "output_type": "stream",
     "text": [
      "Connection OK\n",
      "Drop Existing Table at  2021-05-09 16:36:43.252162\n",
      "Dump data to  unit_test_git  End  2021-05-09 16:36:46.544485\n",
      "Start delete old data at 2021-05-09 16:36:46.545522\n",
      "Delete Last ['date'] at 2021-05-09 16:36:47.370065\n",
      "Dump data to  unit_test_git  End  2021-05-09 16:36:49.006188\n"
     ]
    },
    {
     "name": "stderr",
     "output_type": "stream",
     "text": [
      "."
     ]
    },
    {
     "name": "stdout",
     "output_type": "stream",
     "text": [
      "Connection OK\n",
      "Start delete old data at 2021-05-09 16:37:13.278232\n",
      "Delete Last ['col1'] at 2021-05-09 16:37:14.089954\n",
      "DELETE FROM \"unit_test_git\" where (\"col1\" in ('4.0', '5.0', '6.0', '7.0') OR \"col1\" IS NULL)\n",
      "Dump data to  unit_test_git  End  2021-05-09 16:37:15.717771\n"
     ]
    },
    {
     "name": "stderr",
     "output_type": "stream",
     "text": [
      "."
     ]
    },
    {
     "name": "stdout",
     "output_type": "stream",
     "text": [
      "Connection OK\n",
      "Start delete old data at 2021-05-09 16:37:40.565335\n",
      "Delete Last ['col1', 'col2'] at 2021-05-09 16:37:41.401204\n",
      "DELETE FROM \"unit_test_git\" where (\"col1\" in ('4.0', '5.0', '6.0', '7.0') OR \"col1\" IS NULL) and \"col2\" in ('3', '4', '5')\n",
      "Dump data to  unit_test_git  End  2021-05-09 16:37:43.070481\n"
     ]
    },
    {
     "name": "stderr",
     "output_type": "stream",
     "text": [
      "."
     ]
    },
    {
     "name": "stdout",
     "output_type": "stream",
     "text": [
      "Connection OK\n",
      "Drop Existing Table at  2021-05-09 16:38:00.348459\n",
      "Dump data to  unit_test_git  End  2021-05-09 16:38:03.964938\n"
     ]
    },
    {
     "name": "stderr",
     "output_type": "stream",
     "text": [
      ".\n",
      "----------------------------------------------------------------------\n",
      "Ran 13 tests in 263.309s\n",
      "\n",
      "OK\n"
     ]
    },
    {
     "data": {
      "text/plain": [
       "<unittest.main.TestProgram at 0x1d4fc544648>"
      ]
     },
     "execution_count": 8,
     "metadata": {},
     "output_type": "execute_result"
    }
   ],
   "source": [
    "test_postgresql = setting['POSTGRESQL']\n",
    "\n",
    "class SQL_Test_class(unittest.TestCase):\n",
    "    def setUp(self):\n",
    "        self.sql = da_tran_SQL(sql_type = test_postgresql['type'],\n",
    "                                host_name = test_postgresql['host'],\n",
    "                                database_name = test_postgresql['database'],\n",
    "                                user = test_postgresql['user'],\n",
    "                                password = test_postgresql['password'])\n",
    "        self.df1 = pd.DataFrame({'col1' : [1,2,3,4,5] , 'col2' : [1,1,2,2,3] , 'col3' : [1,1,1,1,1]})\n",
    "        self.df2 = pd.DataFrame({'col1' : [4,5,6,7,8] , 'col2' : [3,3,4,4,5] , 'col3' : [2,2,2,2,2]})\n",
    "        self.table_name = 'unit_test_git'\n",
    "        self.df1.to_sql(self.table_name, con = self.sql.engine, index = False, if_exists = 'replace')\n",
    "\n",
    "#     def test_sp(self):\n",
    "#         sql_q = \"\"\" CREATE OR REPLACE PROCEDURE unit_test_git_SP (PARAM1 INT)\n",
    "#                     RETURNS TABLE (col1 int, col2 int, col3 int)\n",
    "#                     language plpgsql\n",
    "#                     AS $$\n",
    "#                     BEGIN\n",
    "#                     RETURN QUERY(SELECT * FROM {} WHERE col1 = PARAM1) ;\n",
    "#                     END ; $$\"\"\".format(self.table_name)\n",
    "#         self.sql.engine.execute(sql_q)\n",
    "#         df_read = self.sql.read('unit_test_git_SP', SP = True , param = {'PARAM1' : 1})\n",
    "#         expect_df = self.df1[self.df1['col1'] == 1]\n",
    "#         result, expect = help_test(df_read, expect_df)\n",
    "#         self.assertEqual(result, expect)\n",
    "        \n",
    "    def test_read_sql(self):\n",
    "        df_read = self.sql.read(self.table_name)\n",
    "        expect_df = self.df1\n",
    "        result, expect = help_test(df_read, expect_df)\n",
    "        self.assertEqual(result, expect)\n",
    "\n",
    "    def test_whole(self):\n",
    "        self.sql.dump_whole(self.df2, self.table_name)\n",
    "        df_read = self.sql.read(self.table_name)\n",
    "        expect_df = self.df2\n",
    "        result, expect = help_test(df_read, expect_df)\n",
    "        self.assertEqual(result, expect)\n",
    "        \n",
    "    def test_replace1(self) :\n",
    "        self.sql.dump_replace(df_in = self.df2 , table_name_in = self.table_name, list_key = ['col1'])\n",
    "        df_read = self.sql.read(self.table_name)\n",
    "        expect_df = pd.DataFrame({'col1' : [1,2,3,4,5,6,7,8] , 'col2' : [1,1,2,3,3,4,4,5] , 'col3' : [1,1,1,2,2,2,2,2]})\n",
    "        result, expect = help_test(df_read, expect_df)\n",
    "        self.assertEqual(result, expect)\n",
    "\n",
    "    def test_replace1_str(self) :\n",
    "        self.sql.dump_replace(df_in = self.df2 , table_name_in = self.table_name, list_key = 'col1')\n",
    "        df_read = self.sql.read(self.table_name)\n",
    "        expect_df = pd.DataFrame({'col1' : [1,2,3,4,5,6,7,8] , 'col2' : [1,1,2,3,3,4,4,5] , 'col3' : [1,1,1,2,2,2,2,2]})\n",
    "        result, expect = help_test(df_read, expect_df)\n",
    "        self.assertEqual(result, expect)\n",
    "\n",
    "    def test_replace2(self) :\n",
    "        self.sql.dump_replace(df_in = self.df2 , table_name_in = self.table_name, list_key = ['col1','col2'])\n",
    "        df_read = self.sql.read(self.table_name)\n",
    "        expect_df = pd.DataFrame({'col1' : [1,2,3,4,4,5,6,7,8] , 'col2' : [1,1,2,2,3,3,4,4,5] , 'col3' : [1,1,1,1,2,2,2,2,2]})\n",
    "        result, expect = help_test(df_read, expect_df)\n",
    "        self.assertEqual(result, expect)\n",
    "        \n",
    "    def test_replace3(self) :\n",
    "        self.sql.dump_replace(df_in = self.df2 , table_name_in = self.table_name, list_key = ['col1','col2','col3'])\n",
    "        df_read = self.sql.read(self.table_name)\n",
    "        expect_df = self.df1.append(self.df2)\n",
    "        result, expect = help_test(df_read, expect_df)\n",
    "        self.assertEqual(result, expect)\n",
    "\n",
    "    def test_replace_logic(self) :\n",
    "        self.sql.dump_replace(df_in = self.df2 , table_name_in = self.table_name, list_key = ['col1'],\n",
    "                             math_logic = {'col1' : {'logic' : '>', 'value' : 1}})\n",
    "        df_read = self.sql.read(self.table_name)\n",
    "        expect_df = self.df1[self.df1['col1'] <= 1].append(self.df2)\n",
    "        result, expect = help_test(df_read, expect_df)\n",
    "        self.assertEqual(result, expect)\n",
    "        \n",
    "    def test_replace_logic_date(self) :\n",
    "        df_date = pd.DataFrame({'col1' : [1,2,3,4,5], \n",
    "                                'date' : pd.date_range('2020-10-10','2020-10-14'), 'col2' :[1,1,1,1,1]})\n",
    "        \n",
    "        self.sql.dump_whole(df_date, self.table_name)\n",
    "        expect_df = df_date[df_date['date'] <= '2020-10-12']\n",
    "        df_date['col2'] = 3\n",
    "        self.sql.dump_replace(df_in = df_date , table_name_in = self.table_name, list_key = ['date'],\n",
    "                             math_logic = {'date' : {'logic' : '>', 'value' : '2020-10-12', 'type' : 'date'}})\n",
    "        df_read = self.sql.read(self.table_name)\n",
    "        expect_df = expect_df.append(df_date)\n",
    "        result, expect = help_test(df_read, expect_df)\n",
    "        self.assertEqual(result, expect)\n",
    "        \n",
    "    def test_replace3(self) :\n",
    "        self.sql.dump_replace(df_in = self.df2 , table_name_in = self.table_name, list_key = ['col1','col2','col3'])\n",
    "        df_read = self.sql.read(self.table_name)\n",
    "        expect_df = self.df1.append(self.df2)\n",
    "        result, expect = help_test(df_read, expect_df)\n",
    "        self.assertEqual(result, expect)\n",
    "\n",
    "    def test_new1_str(self) :\n",
    "        self.sql.dump_new(df_in = self.df2 , table_name_in = self.table_name, list_key = 'col1')\n",
    "        df_read = self.sql.read(self.table_name)\n",
    "        expect_df = pd.DataFrame({'col1' : [1,2,3,4,5,6,7,8] , 'col2' : [1,1,2,2,3,4,4,5] , 'col3' : [1,1,1,1,1,2,2,2]})\n",
    "        result, expect = help_test(df_read, expect_df)\n",
    "        self.assertEqual(result, expect)\n",
    "\n",
    "    def test_new1(self) :\n",
    "        self.sql.dump_new(df_in = self.df2 , table_name_in = self.table_name, list_key = ['col1'])\n",
    "        df_read = self.sql.read(self.table_name)\n",
    "        expect_df = pd.DataFrame({'col1' : [1,2,3,4,5,6,7,8] , 'col2' : [1,1,2,2,3,4,4,5] , 'col3' : [1,1,1,1,1,2,2,2]})\n",
    "        result, expect = help_test(df_read, expect_df)\n",
    "        self.assertEqual(result, expect)\n",
    "\n",
    "    def test_new2(self) :\n",
    "        self.sql.dump_new(df_in = self.df2 , table_name_in = self.table_name, list_key = ['col1','col2'], debug = False)\n",
    "        df_read = self.sql.read(self.table_name)\n",
    "        expect_df = pd.DataFrame({'col1' : [1,2,3,4,5,4,6,7,8] , 'col2' : [1,1,2,2,3,3,4,4,5] , 'col3' : [1,1,1,1,1,2,2,2,2]})\n",
    "        result, expect = help_test(df_read, expect_df)\n",
    "        self.assertEqual(result, expect)\n",
    "        \n",
    "    def test_replace_null1(self) :\n",
    "        df1_n = pd.DataFrame({'col1' : [1,None,3,4,5] , 'col2' : [1,1,2,2,3] , 'col3' : [1,1,1,1,1]})\n",
    "        df2_n = pd.DataFrame({'col1' : [4,5,6,7,None] , 'col2' : [3,3,4,4,5] , 'col3' : [2,2,2,2,2]})\n",
    "        df1_n.to_sql(self.table_name, con = self.sql.engine, index = False, if_exists = 'replace')\n",
    "        self.sql.dump_replace(df_in = df2_n , table_name_in = self.table_name, list_key = ['col1'] , debug = True)\n",
    "        df_read = self.sql.read(self.table_name).sort_values('col1').reset_index(drop = True)\n",
    "        expect_df = pd.DataFrame({'col1' : [1,3,4,5,6,7,None] , 'col2' : [1,2,3,3,4,4,5] , 'col3' : [1,1,2,2,2,2,2]})\n",
    "        result, expect = help_test(df_read.fillna(99), expect_df.fillna(99))\n",
    "        self.assertEqual(result, expect)\n",
    "\n",
    "    def test_replace_null2(self) :\n",
    "        df1_n = pd.DataFrame({'col1' : [1,None,3,4,5] , 'col2' : [1,1,2,2,3] , 'col3' : [1,1,1,1,1]})\n",
    "        df2_n = pd.DataFrame({'col1' : [4,5,6,7,None] , 'col2' : [3,3,4,4,5] , 'col3' : [2,2,2,2,2]})\n",
    "        df1_n.to_sql(self.table_name, con = self.sql.engine, index = False, if_exists = 'replace')\n",
    "        self.sql.dump_replace(df_in = df2_n , table_name_in = self.table_name, list_key = ['col1','col2'] , debug = True)\n",
    "        df_read = self.sql.read(self.table_name).sort_values('col1').reset_index(drop = True)\n",
    "        expect_df = pd.DataFrame({ 'col1' : [1,None,3,4,4,5,6,7,None] , 'col2' : [1,1,2,2,3,3,4,4,5] \n",
    "                                  ,'col3' : [1,1,1,1,2,2,2,2,2]}).sort_values('col1').reset_index(drop = True)\n",
    "\n",
    "        result, expect = help_test(df_read.fillna(99), expect_df.fillna(99))\n",
    "        self.assertEqual(result, expect)\n",
    "        \n",
    "unittest.main(argv = ['first-arg-is-ignored'], exit = False)"
   ]
  },
  {
   "cell_type": "markdown",
   "metadata": {},
   "source": [
    "## Parallel PostgreSQL"
   ]
  },
  {
   "cell_type": "code",
   "execution_count": 9,
   "metadata": {},
   "outputs": [
    {
     "name": "stdout",
     "output_type": "stream",
     "text": [
      "Connection OK\n",
      "Start Filter Existing data from df at  2021-05-09 16:38:20.960896\n",
      "Dump data to  unit_test_git  End  2021-05-09 16:38:25.376006\n"
     ]
    },
    {
     "name": "stderr",
     "output_type": "stream",
     "text": [
      "."
     ]
    },
    {
     "name": "stdout",
     "output_type": "stream",
     "text": [
      "Connection OK\n",
      "Start Filter Existing data from df at  2021-05-09 16:38:42.627041\n",
      "Dump data to  unit_test_git  End  2021-05-09 16:38:47.074026\n"
     ]
    },
    {
     "name": "stderr",
     "output_type": "stream",
     "text": [
      "."
     ]
    },
    {
     "name": "stdout",
     "output_type": "stream",
     "text": [
      "Connection OK\n",
      "Start Filter Existing data from df at  2021-05-09 16:39:03.665870\n",
      "Dump data to  unit_test_git  End  2021-05-09 16:39:07.909443\n"
     ]
    },
    {
     "name": "stderr",
     "output_type": "stream",
     "text": [
      "."
     ]
    },
    {
     "name": "stdout",
     "output_type": "stream",
     "text": [
      "Connection OK\n"
     ]
    },
    {
     "name": "stderr",
     "output_type": "stream",
     "text": [
      "."
     ]
    },
    {
     "name": "stdout",
     "output_type": "stream",
     "text": [
      "Connection OK\n",
      "Start delete old data at 2021-05-09 16:39:39.348325\n",
      "Delete Last ['col1'] at 2021-05-09 16:39:40.200887\n",
      "Dump data to  unit_test_git  End  2021-05-09 16:39:45.286635\n"
     ]
    },
    {
     "name": "stderr",
     "output_type": "stream",
     "text": [
      "."
     ]
    },
    {
     "name": "stdout",
     "output_type": "stream",
     "text": [
      "Connection OK\n",
      "Start delete old data at 2021-05-09 16:40:01.855268\n",
      "Delete Last col1 at 2021-05-09 16:40:02.744869\n",
      "Dump data to  unit_test_git  End  2021-05-09 16:40:07.981273\n"
     ]
    },
    {
     "name": "stderr",
     "output_type": "stream",
     "text": [
      "."
     ]
    },
    {
     "name": "stdout",
     "output_type": "stream",
     "text": [
      "Connection OK\n",
      "Start delete old data at 2021-05-09 16:40:24.100596\n",
      "Delete Last ['col1', 'col2'] at 2021-05-09 16:40:24.961356\n",
      "Dump data to  unit_test_git  End  2021-05-09 16:40:30.185362\n"
     ]
    },
    {
     "name": "stderr",
     "output_type": "stream",
     "text": [
      "."
     ]
    },
    {
     "name": "stdout",
     "output_type": "stream",
     "text": [
      "Connection OK\n",
      "Start delete old data at 2021-05-09 16:40:46.303624\n",
      "Delete Last ['col1', 'col2', 'col3'] at 2021-05-09 16:40:47.163799\n",
      "Dump data to  unit_test_git  End  2021-05-09 16:40:52.333297\n"
     ]
    },
    {
     "name": "stderr",
     "output_type": "stream",
     "text": [
      "."
     ]
    },
    {
     "name": "stdout",
     "output_type": "stream",
     "text": [
      "Connection OK\n",
      "Start delete old data at 2021-05-09 16:41:08.457593\n",
      "Delete Last ['col1'] at 2021-05-09 16:41:09.287422\n",
      "Dump data to  unit_test_git  End  2021-05-09 16:41:14.448570\n"
     ]
    },
    {
     "name": "stderr",
     "output_type": "stream",
     "text": [
      "."
     ]
    },
    {
     "name": "stdout",
     "output_type": "stream",
     "text": [
      "Connection OK\n",
      "Drop Existing Table at  2021-05-09 16:41:30.767177\n",
      "Dump data to  unit_test_git  End  2021-05-09 16:41:36.616276\n",
      "Start delete old data at 2021-05-09 16:41:36.618271\n",
      "Delete Last ['date'] at 2021-05-09 16:41:37.492933\n",
      "Dump data to  unit_test_git  End  2021-05-09 16:41:40.914860\n"
     ]
    },
    {
     "name": "stderr",
     "output_type": "stream",
     "text": [
      "."
     ]
    },
    {
     "name": "stdout",
     "output_type": "stream",
     "text": [
      "Connection OK\n",
      "Start delete old data at 2021-05-09 16:42:06.577577\n",
      "Delete Last ['col1'] at 2021-05-09 16:42:07.449323\n",
      "DELETE FROM \"unit_test_git\" where (\"col1\" in ('4.0', '5.0', '6.0', '7.0') OR \"col1\" IS NULL)\n",
      "Dump data to  unit_test_git  End  2021-05-09 16:42:12.427350\n"
     ]
    },
    {
     "name": "stderr",
     "output_type": "stream",
     "text": [
      "."
     ]
    },
    {
     "name": "stdout",
     "output_type": "stream",
     "text": [
      "Connection OK\n",
      "Start delete old data at 2021-05-09 16:42:37.774360\n",
      "Delete Last ['col1', 'col2'] at 2021-05-09 16:42:38.630517\n",
      "DELETE FROM \"unit_test_git\" where (\"col1\" in ('4.0', '5.0', '6.0', '7.0') OR \"col1\" IS NULL) and \"col2\" in ('3', '4', '5')\n",
      "Dump data to  unit_test_git  End  2021-05-09 16:42:43.708439\n"
     ]
    },
    {
     "name": "stderr",
     "output_type": "stream",
     "text": [
      "."
     ]
    },
    {
     "name": "stdout",
     "output_type": "stream",
     "text": [
      "Connection OK\n",
      "Drop Existing Table at  2021-05-09 16:42:58.783113\n",
      "Dump data to  unit_test_git  End  2021-05-09 16:43:04.373376\n"
     ]
    },
    {
     "name": "stderr",
     "output_type": "stream",
     "text": [
      ".\n",
      "----------------------------------------------------------------------\n",
      "Ran 13 tests in 300.162s\n",
      "\n",
      "OK\n"
     ]
    },
    {
     "data": {
      "text/plain": [
       "<unittest.main.TestProgram at 0x1d4fc72b8c8>"
      ]
     },
     "execution_count": 9,
     "metadata": {},
     "output_type": "execute_result"
    }
   ],
   "source": [
    "test_postgresql = setting['POSTGRESQL']\n",
    "\n",
    "class SQL_Test_class(unittest.TestCase):\n",
    "    def setUp(self):\n",
    "        self.sql = da_tran_SQL(sql_type = test_postgresql['type'],\n",
    "                                host_name = test_postgresql['host'],\n",
    "                                database_name = test_postgresql['database'],\n",
    "                                user = test_postgresql['user'],\n",
    "                                password = test_postgresql['password'],\n",
    "                                partition_size = 2, \n",
    "                                parallel_dump = True, \n",
    "                                max_parallel = 2)\n",
    "        \n",
    "        self.df1 = pd.DataFrame({'col1' : [1,2,3,4,5] , 'col2' : [1,1,2,2,3] , 'col3' : [1,1,1,1,1]})\n",
    "        self.df2 = pd.DataFrame({'col1' : [4,5,6,7,8] , 'col2' : [3,3,4,4,5] , 'col3' : [2,2,2,2,2]})\n",
    "        self.table_name = 'unit_test_git'\n",
    "        self.df1.to_sql(self.table_name, con = self.sql.engine, index = False, if_exists = 'replace')\n",
    "\n",
    "#     def test_sp(self):\n",
    "#         sql_q = \"\"\" CREATE OR REPLACE PROCEDURE unit_test_git_SP (PARAM1 INT)\n",
    "#                     RETURNS TABLE (col1 int, col2 int, col3 int)\n",
    "#                     language plpgsql\n",
    "#                     AS $$\n",
    "#                     BEGIN\n",
    "#                     RETURN QUERY(SELECT * FROM {} WHERE col1 = PARAM1) ;\n",
    "#                     END ; $$\"\"\".format(self.table_name)\n",
    "#         self.sql.engine.execute(sql_q)\n",
    "#         df_read = self.sql.read('unit_test_git_SP', SP = True , param = {'PARAM1' : 1})\n",
    "#         expect_df = self.df1[self.df1['col1'] == 1]\n",
    "#         result, expect = help_test(df_read, expect_df)\n",
    "#         self.assertEqual(result, expect)\n",
    "        \n",
    "    def test_read_sql(self):\n",
    "        df_read = self.sql.read(self.table_name)\n",
    "        expect_df = self.df1\n",
    "        result, expect = help_test(df_read, expect_df)\n",
    "        self.assertEqual(result, expect)\n",
    "\n",
    "    def test_whole(self):\n",
    "        self.sql.dump_whole(self.df2, self.table_name)\n",
    "        df_read = self.sql.read(self.table_name)\n",
    "        expect_df = self.df2\n",
    "        result, expect = help_test(df_read, expect_df)\n",
    "        self.assertEqual(result, expect)\n",
    "        \n",
    "    def test_replace1(self) :\n",
    "        self.sql.dump_replace(df_in = self.df2 , table_name_in = self.table_name, list_key = ['col1'])\n",
    "        df_read = self.sql.read(self.table_name)\n",
    "        expect_df = pd.DataFrame({'col1' : [1,2,3,4,5,6,7,8] , 'col2' : [1,1,2,3,3,4,4,5] , 'col3' : [1,1,1,2,2,2,2,2]})\n",
    "        result, expect = help_test(df_read, expect_df)\n",
    "        self.assertEqual(result, expect)\n",
    "\n",
    "    def test_replace1_str(self) :\n",
    "        self.sql.dump_replace(df_in = self.df2 , table_name_in = self.table_name, list_key = 'col1')\n",
    "        df_read = self.sql.read(self.table_name)\n",
    "        expect_df = pd.DataFrame({'col1' : [1,2,3,4,5,6,7,8] , 'col2' : [1,1,2,3,3,4,4,5] , 'col3' : [1,1,1,2,2,2,2,2]})\n",
    "        result, expect = help_test(df_read, expect_df)\n",
    "        self.assertEqual(result, expect)\n",
    "\n",
    "    def test_replace2(self) :\n",
    "        self.sql.dump_replace(df_in = self.df2 , table_name_in = self.table_name, list_key = ['col1','col2'])\n",
    "        df_read = self.sql.read(self.table_name)\n",
    "        expect_df = pd.DataFrame({'col1' : [1,2,3,4,4,5,6,7,8] , 'col2' : [1,1,2,2,3,3,4,4,5] , 'col3' : [1,1,1,1,2,2,2,2,2]})\n",
    "        result, expect = help_test(df_read, expect_df)\n",
    "        self.assertEqual(result, expect)\n",
    "        \n",
    "    def test_replace3(self) :\n",
    "        self.sql.dump_replace(df_in = self.df2 , table_name_in = self.table_name, list_key = ['col1','col2','col3'])\n",
    "        df_read = self.sql.read(self.table_name)\n",
    "        expect_df = self.df1.append(self.df2)\n",
    "        result, expect = help_test(df_read, expect_df)\n",
    "        self.assertEqual(result, expect)\n",
    "\n",
    "    def test_replace_logic(self) :\n",
    "        self.sql.dump_replace(df_in = self.df2 , table_name_in = self.table_name, list_key = ['col1'],\n",
    "                             math_logic = {'col1' : {'logic' : '>', 'value' : 1}})\n",
    "        df_read = self.sql.read(self.table_name)\n",
    "        expect_df = self.df1[self.df1['col1'] <= 1].append(self.df2)\n",
    "        result, expect = help_test(df_read, expect_df)\n",
    "        self.assertEqual(result, expect)\n",
    "        \n",
    "    def test_replace_logic_date(self) :\n",
    "        df_date = pd.DataFrame({'col1' : [1,2,3,4,5], \n",
    "                                'date' : pd.date_range('2020-10-10','2020-10-14'), 'col2' :[1,1,1,1,1]})\n",
    "        \n",
    "        self.sql.dump_whole(df_date, self.table_name)\n",
    "        expect_df = df_date[df_date['date'] <= '2020-10-12']\n",
    "        df_date['col2'] = 3\n",
    "        self.sql.dump_replace(df_in = df_date , table_name_in = self.table_name, list_key = ['date'],\n",
    "                             math_logic = {'date' : {'logic' : '>', 'value' : '2020-10-12', 'type' : 'date'}})\n",
    "        df_read = self.sql.read(self.table_name)\n",
    "        expect_df = expect_df.append(df_date)\n",
    "        result, expect = help_test(df_read, expect_df)\n",
    "        self.assertEqual(result, expect)\n",
    "        \n",
    "    def test_replace3(self) :\n",
    "        self.sql.dump_replace(df_in = self.df2 , table_name_in = self.table_name, list_key = ['col1','col2','col3'])\n",
    "        df_read = self.sql.read(self.table_name)\n",
    "        expect_df = self.df1.append(self.df2)\n",
    "        result, expect = help_test(df_read, expect_df)\n",
    "        self.assertEqual(result, expect)\n",
    "\n",
    "    def test_new1_str(self) :\n",
    "        self.sql.dump_new(df_in = self.df2 , table_name_in = self.table_name, list_key = 'col1')\n",
    "        df_read = self.sql.read(self.table_name)\n",
    "        expect_df = pd.DataFrame({'col1' : [1,2,3,4,5,6,7,8] , 'col2' : [1,1,2,2,3,4,4,5] , 'col3' : [1,1,1,1,1,2,2,2]})\n",
    "        result, expect = help_test(df_read, expect_df)\n",
    "        self.assertEqual(result, expect)\n",
    "\n",
    "    def test_new1(self) :\n",
    "        self.sql.dump_new(df_in = self.df2 , table_name_in = self.table_name, list_key = ['col1'])\n",
    "        df_read = self.sql.read(self.table_name)\n",
    "        expect_df = pd.DataFrame({'col1' : [1,2,3,4,5,6,7,8] , 'col2' : [1,1,2,2,3,4,4,5] , 'col3' : [1,1,1,1,1,2,2,2]})\n",
    "        result, expect = help_test(df_read, expect_df)\n",
    "        self.assertEqual(result, expect)\n",
    "\n",
    "    def test_new2(self) :\n",
    "        self.sql.dump_new(df_in = self.df2 , table_name_in = self.table_name, list_key = ['col1','col2'], debug = False)\n",
    "        df_read = self.sql.read(self.table_name)\n",
    "        expect_df = pd.DataFrame({'col1' : [1,2,3,4,5,4,6,7,8] , 'col2' : [1,1,2,2,3,3,4,4,5] , 'col3' : [1,1,1,1,1,2,2,2,2]})\n",
    "        result, expect = help_test(df_read, expect_df)\n",
    "        self.assertEqual(result, expect)\n",
    "\n",
    "    def test_replace_null1(self) :\n",
    "        df1_n = pd.DataFrame({'col1' : [1,None,3,4,5] , 'col2' : [1,1,2,2,3] , 'col3' : [1,1,1,1,1]})\n",
    "        df2_n = pd.DataFrame({'col1' : [4,5,6,7,None] , 'col2' : [3,3,4,4,5] , 'col3' : [2,2,2,2,2]})\n",
    "        df1_n.to_sql(self.table_name, con = self.sql.engine, index = False, if_exists = 'replace')\n",
    "        self.sql.dump_replace(df_in = df2_n , table_name_in = self.table_name, list_key = ['col1'] , debug = True)\n",
    "        df_read = self.sql.read(self.table_name).sort_values('col1').reset_index(drop = True)\n",
    "        expect_df = pd.DataFrame({'col1' : [1,3,4,5,6,7,None] , 'col2' : [1,2,3,3,4,4,5] , 'col3' : [1,1,2,2,2,2,2]})\n",
    "        result, expect = help_test(df_read.fillna(99), expect_df.fillna(99))\n",
    "        self.assertEqual(result, expect)\n",
    "\n",
    "    def test_replace_null2(self) :\n",
    "        df1_n = pd.DataFrame({'col1' : [1,None,3,4,5] , 'col2' : [1,1,2,2,3] , 'col3' : [1,1,1,1,1]})\n",
    "        df2_n = pd.DataFrame({'col1' : [4,5,6,7,None] , 'col2' : [3,3,4,4,5] , 'col3' : [2,2,2,2,2]})\n",
    "        df1_n.to_sql(self.table_name, con = self.sql.engine, index = False, if_exists = 'replace')\n",
    "        self.sql.dump_replace(df_in = df2_n , table_name_in = self.table_name, list_key = ['col1','col2'] , debug = True)\n",
    "        df_read = self.sql.read(self.table_name).sort_values('col1').reset_index(drop = True)\n",
    "        expect_df = pd.DataFrame({ 'col1' : [1,None,3,4,4,5,6,7,None] , 'col2' : [1,1,2,2,3,3,4,4,5] \n",
    "                                  ,'col3' : [1,1,1,1,2,2,2,2,2]}).sort_values('col1').reset_index(drop = True)\n",
    "\n",
    "        result, expect = help_test(df_read.fillna(99), expect_df.fillna(99))\n",
    "        self.assertEqual(result, expect)\n",
    "        \n",
    "unittest.main(argv = ['first-arg-is-ignored'], exit = False)"
   ]
  },
  {
   "cell_type": "markdown",
   "metadata": {},
   "source": [
    "# SQLite\n",
    "## Default SQLite : No Datetime in SQLite"
   ]
  },
  {
   "cell_type": "code",
   "execution_count": 10,
   "metadata": {
    "scrolled": false
   },
   "outputs": [
    {
     "name": "stderr",
     "output_type": "stream",
     "text": [
      "....."
     ]
    },
    {
     "name": "stdout",
     "output_type": "stream",
     "text": [
      "Connection OK\n",
      "Start Filter Existing data from df at  2021-05-09 16:43:05.334766\n",
      "Dump data to  unit_test_git  End  2021-05-09 16:43:05.346696\n",
      "Connection OK\n",
      "Start Filter Existing data from df at  2021-05-09 16:43:05.377641\n",
      "Dump data to  unit_test_git  End  2021-05-09 16:43:05.387585\n",
      "Connection OK\n",
      "Start Filter Existing data from df at  2021-05-09 16:43:05.418539\n",
      "Dump data to  unit_test_git  End  2021-05-09 16:43:05.430507\n",
      "Connection OK\n",
      "Connection OK\n",
      "Start delete old data at 2021-05-09 16:43:05.481335\n",
      "Delete Last ['col1'] at 2021-05-09 16:43:05.485324\n",
      "Dump data to  unit_test_git  End  2021-05-09 16:43:05.491309\n",
      "Connection OK\n"
     ]
    },
    {
     "name": "stderr",
     "output_type": "stream",
     "text": [
      "....."
     ]
    },
    {
     "name": "stdout",
     "output_type": "stream",
     "text": [
      "Start delete old data at 2021-05-09 16:43:05.517246\n",
      "Delete Last col1 at 2021-05-09 16:43:05.521117\n",
      "Dump data to  unit_test_git  End  2021-05-09 16:43:05.528115\n",
      "Connection OK\n",
      "Start delete old data at 2021-05-09 16:43:05.559033\n",
      "Delete Last ['col1', 'col2'] at 2021-05-09 16:43:05.564035\n",
      "Dump data to  unit_test_git  End  2021-05-09 16:43:05.569977\n",
      "Connection OK\n",
      "Start delete old data at 2021-05-09 16:43:05.594865\n",
      "Delete Last ['col1', 'col2', 'col3'] at 2021-05-09 16:43:05.595862\n",
      "Dump data to  unit_test_git  End  2021-05-09 16:43:05.601885\n",
      "Connection OK\n",
      "Start delete old data at 2021-05-09 16:43:05.628128\n",
      "Delete Last ['col1'] at 2021-05-09 16:43:05.632117\n",
      "Dump data to  unit_test_git  End  2021-05-09 16:43:05.638145\n",
      "Connection OK\n",
      "Start delete old data at 2021-05-09 16:43:05.681024\n",
      "Delete Last ['col1'] at 2021-05-09 16:43:05.685032\n",
      "DELETE FROM [unit_test_git] where ([col1] in ('4.0', '5.0', '6.0', '7.0') OR [col1] IS NULL)\n",
      "Dump data to  unit_test_git  End  2021-05-09 16:43:05.690992\n",
      "Connection OK\n"
     ]
    },
    {
     "name": "stderr",
     "output_type": "stream",
     "text": [
      ".."
     ]
    },
    {
     "name": "stdout",
     "output_type": "stream",
     "text": [
      "Start delete old data at 2021-05-09 16:43:05.737029\n",
      "Delete Last ['col1', 'col2'] at 2021-05-09 16:43:05.740978\n",
      "DELETE FROM [unit_test_git] where ([col1] in ('4.0', '5.0', '6.0', '7.0') OR [col1] IS NULL) and [col2] in ('3', '4', '5')\n",
      "Dump data to  unit_test_git  End  2021-05-09 16:43:05.746975\n",
      "Connection OK\n",
      "Drop Existing Table at  2021-05-09 16:43:05.773248\n",
      "Dump data to  unit_test_git  End  2021-05-09 16:43:05.786018\n"
     ]
    },
    {
     "name": "stderr",
     "output_type": "stream",
     "text": [
      "\n",
      "----------------------------------------------------------------------\n",
      "Ran 12 tests in 0.538s\n",
      "\n",
      "OK\n"
     ]
    },
    {
     "data": {
      "text/plain": [
       "<unittest.main.TestProgram at 0x1d4fd2f2d08>"
      ]
     },
     "execution_count": 10,
     "metadata": {},
     "output_type": "execute_result"
    }
   ],
   "source": [
    "class SQL_Test_class(unittest.TestCase):\n",
    "    def setUp(self):\n",
    "        self.sql = da_tran_SQL(sql_type = 'sqlite', \n",
    "                    host_name = 'test.db', \n",
    "                    database_name = '', \n",
    "                    user = '', \n",
    "                    password = '' )\n",
    "        self.df1 = pd.DataFrame({'col1' : [1,2,3,4,5] , 'col2' : [1,1,2,2,3] , 'col3' : [1,1,1,1,1]})\n",
    "        self.df2 = pd.DataFrame({'col1' : [4,5,6,7,8] , 'col2' : [3,3,4,4,5] , 'col3' : [2,2,2,2,2]})\n",
    "        self.table_name = 'unit_test_git'\n",
    "        self.df1.to_sql(self.table_name, con = self.sql.engine, index = False, if_exists = 'replace')\n",
    "        \n",
    "    def test_read_sql(self):\n",
    "        df_read = self.sql.read(self.table_name)\n",
    "        expect_df = self.df1\n",
    "        result, expect = help_test(df_read, expect_df)\n",
    "        self.assertEqual(result, expect)\n",
    "\n",
    "    def test_whole(self):\n",
    "        self.sql.dump_whole(self.df2, self.table_name)\n",
    "        df_read = self.sql.read(self.table_name)\n",
    "        expect_df = self.df2\n",
    "        result, expect = help_test(df_read, expect_df)\n",
    "        self.assertEqual(result, expect)\n",
    "        \n",
    "    \n",
    "    def test_replace1(self) :\n",
    "        self.sql.dump_replace(df_in = self.df2 , table_name_in = self.table_name, list_key = ['col1'])\n",
    "        df_read = self.sql.read(self.table_name)\n",
    "        expect_df = pd.DataFrame({'col1' : [1,2,3,4,5,6,7,8] , 'col2' : [1,1,2,3,3,4,4,5] , 'col3' : [1,1,1,2,2,2,2,2]})\n",
    "        result, expect = help_test(df_read, expect_df)\n",
    "        self.assertEqual(result, expect)\n",
    "        \n",
    "    def test_replace1_str(self) :\n",
    "        self.sql.dump_replace(df_in = self.df2 , table_name_in = self.table_name, list_key = 'col1')\n",
    "        df_read = self.sql.read(self.table_name)\n",
    "        expect_df = pd.DataFrame({'col1' : [1,2,3,4,5,6,7,8] , 'col2' : [1,1,2,3,3,4,4,5] , 'col3' : [1,1,1,2,2,2,2,2]})\n",
    "        result, expect = help_test(df_read, expect_df)\n",
    "        self.assertEqual(result, expect)\n",
    "\n",
    "    def test_replace2(self) :\n",
    "        self.sql.dump_replace(df_in = self.df2 , table_name_in = self.table_name, list_key = ['col1','col2'])\n",
    "        df_read = self.sql.read(self.table_name)\n",
    "        expect_df = pd.DataFrame({'col1' : [1,2,3,4,4,5,6,7,8] , 'col2' : [1,1,2,2,3,3,4,4,5] , 'col3' : [1,1,1,1,2,2,2,2,2]})\n",
    "        result, expect = help_test(df_read, expect_df)\n",
    "        self.assertEqual(result, expect)\n",
    "        \n",
    "    def test_replace3(self) :\n",
    "        self.sql.dump_replace(df_in = self.df2 , table_name_in = self.table_name, list_key = ['col1','col2','col3'])\n",
    "        df_read = self.sql.read(self.table_name)\n",
    "        expect_df = self.df1.append(self.df2)\n",
    "        result, expect = help_test(df_read, expect_df)\n",
    "        self.assertEqual(result, expect)\n",
    "\n",
    "    def test_replace_logic(self) :\n",
    "        self.sql.dump_replace(df_in = self.df2 , table_name_in = self.table_name, list_key = ['col1'],\n",
    "                             math_logic = {'col1' : {'logic' : '>', 'value' : 1}})\n",
    "        df_read = self.sql.read(self.table_name)\n",
    "        expect_df = self.df1[self.df1['col1'] <= 1].append(self.df2)\n",
    "        result, expect = help_test(df_read, expect_df)\n",
    "        self.assertEqual(result, expect)\n",
    "        \n",
    "    def test_replace3(self) :\n",
    "        self.sql.dump_replace(df_in = self.df2 , table_name_in = self.table_name, list_key = ['col1','col2','col3'])\n",
    "        df_read = self.sql.read(self.table_name)\n",
    "        expect_df = self.df1.append(self.df2)\n",
    "        result, expect = help_test(df_read, expect_df)\n",
    "        self.assertEqual(result, expect)\n",
    "\n",
    "    def test_new1_str(self) :\n",
    "        self.sql.dump_new(df_in = self.df2 , table_name_in = self.table_name, list_key = 'col1')\n",
    "        df_read = self.sql.read(self.table_name)\n",
    "        expect_df = pd.DataFrame({'col1' : [1,2,3,4,5,6,7,8] , 'col2' : [1,1,2,2,3,4,4,5] , 'col3' : [1,1,1,1,1,2,2,2]})\n",
    "        result, expect = help_test(df_read, expect_df)\n",
    "        self.assertEqual(result, expect)\n",
    "\n",
    "    def test_new1(self) :\n",
    "        self.sql.dump_new(df_in = self.df2 , table_name_in = self.table_name, list_key = ['col1'])\n",
    "        df_read = self.sql.read(self.table_name)\n",
    "        expect_df = pd.DataFrame({'col1' : [1,2,3,4,5,6,7,8] , 'col2' : [1,1,2,2,3,4,4,5] , 'col3' : [1,1,1,1,1,2,2,2]})\n",
    "        result, expect = help_test(df_read, expect_df)\n",
    "        self.assertEqual(result, expect)\n",
    "\n",
    "    def test_new2(self) :\n",
    "        self.sql.dump_new(df_in = self.df2 , table_name_in = self.table_name, list_key = ['col1','col2'], debug = False)\n",
    "        df_read = self.sql.read(self.table_name)\n",
    "        expect_df = pd.DataFrame({'col1' : [1,2,3,4,5,4,6,7,8] , 'col2' : [1,1,2,2,3,3,4,4,5] , 'col3' : [1,1,1,1,1,2,2,2,2]})\n",
    "        result, expect = help_test(df_read, expect_df)\n",
    "        self.assertEqual(result, expect)\n",
    "        \n",
    "    def test_replace_null1(self) :\n",
    "        df1_n = pd.DataFrame({'col1' : [1,None,3,4,5] , 'col2' : [1,1,2,2,3] , 'col3' : [1,1,1,1,1]})\n",
    "        df2_n = pd.DataFrame({'col1' : [4,5,6,7,None] , 'col2' : [3,3,4,4,5] , 'col3' : [2,2,2,2,2]})\n",
    "        df1_n.to_sql(self.table_name, con = self.sql.engine, index = False, if_exists = 'replace')\n",
    "        self.sql.dump_replace(df_in = df2_n , table_name_in = self.table_name, list_key = ['col1'] , debug = True)\n",
    "        df_read = self.sql.read(self.table_name).sort_values('col1').reset_index(drop = True)\n",
    "        expect_df = pd.DataFrame({'col1' : [1,3,4,5,6,7,None] , 'col2' : [1,2,3,3,4,4,5] , 'col3' : [1,1,2,2,2,2,2]})\n",
    "        result, expect = help_test(df_read.fillna(99), expect_df.fillna(99))\n",
    "        self.assertEqual(result, expect)\n",
    "\n",
    "    def test_replace_null2(self) :\n",
    "        df1_n = pd.DataFrame({'col1' : [1,None,3,4,5] , 'col2' : [1,1,2,2,3] , 'col3' : [1,1,1,1,1]})\n",
    "        df2_n = pd.DataFrame({'col1' : [4,5,6,7,None] , 'col2' : [3,3,4,4,5] , 'col3' : [2,2,2,2,2]})\n",
    "        df1_n.to_sql(self.table_name, con = self.sql.engine, index = False, if_exists = 'replace')\n",
    "        self.sql.dump_replace(df_in = df2_n , table_name_in = self.table_name, list_key = ['col1','col2'] , debug = True)\n",
    "        df_read = self.sql.read(self.table_name).sort_values('col1').reset_index(drop = True)\n",
    "        expect_df = pd.DataFrame({ 'col1' : [1,None,3,4,4,5,6,7,None] , 'col2' : [1,1,2,2,3,3,4,4,5] \n",
    "                                  ,'col3' : [1,1,1,1,2,2,2,2,2]}).sort_values('col1').reset_index(drop = True)\n",
    "\n",
    "        result, expect = help_test(df_read.fillna(99), expect_df.fillna(99))\n",
    "        self.assertEqual(result, expect)\n",
    "\n",
    "unittest.main(argv = ['first-arg-is-ignored'], exit = False)"
   ]
  }
 ],
 "metadata": {
  "kernelspec": {
   "display_name": "Python 3",
   "language": "python",
   "name": "python3"
  },
  "language_info": {
   "codemirror_mode": {
    "name": "ipython",
    "version": 3
   },
   "file_extension": ".py",
   "mimetype": "text/x-python",
   "name": "python",
   "nbconvert_exporter": "python",
   "pygments_lexer": "ipython3",
   "version": "3.7.6"
  }
 },
 "nbformat": 4,
 "nbformat_minor": 4
}
