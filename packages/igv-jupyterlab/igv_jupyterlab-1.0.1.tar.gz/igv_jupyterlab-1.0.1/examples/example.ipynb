{
 "cells": [
  {
   "cell_type": "code",
   "execution_count": 4,
   "id": "26e2c37f-47b1-4d0f-bea2-440738ce8183",
   "metadata": {},
   "outputs": [
    {
     "data": {
      "application/vnd.jupyter.widget-view+json": {
       "model_id": "a3381ade4b4d4b2aa6ffed0e54421dd9",
       "version_major": 2,
       "version_minor": 0
      },
      "text/plain": [
       "IGV(id='igv_426438', initialConfig={'id': 'igv_426438', 'locus': '', 'reference': {'name': 'Human (GRCh38/hg38…"
      ]
     },
     "metadata": {},
     "output_type": "display_data"
    }
   ],
   "source": [
    "from igv_jupyterlab import IGV\n",
    "\n",
    "# At minimum, IGV requires a single argument, genome.\n",
    "\n",
    "# For supported genomes, a simple name may be supplied.\n",
    "IGV(genome=\"hg19\")\n",
    "\n",
    "# For all other genomes, we must construct a configuration object.\n",
    "# A helper method supplied to make this easier.\n",
    "genome = IGV.create_genome(\n",
    "    name=\"Human (GRCh38/hg38)\",\n",
    "    fasta_url=\"https://s3.amazonaws.com/igv.broadinstitute.org/genomes/seq/hg38/hg38.fa\",\n",
    "    index_url=\"https://s3.amazonaws.com/igv.broadinstitute.org/genomes/seq/hg38/hg38.fa.fai\",\n",
    "    cytoband_url=\"https://s3.amazonaws.com/igv.broadinstitute.org/annotations/hg38/cytoBandIdeo.txt\",\n",
    ")\n",
    "\n",
    "igv = IGV(genome=genome)\n",
    "\n",
    "display(igv)"
   ]
  },
  {
   "cell_type": "code",
   "execution_count": null,
   "id": "bc32d3d1-3b13-4695-ae67-aa937ff11807",
   "metadata": {},
   "outputs": [],
   "source": []
  },
  {
   "cell_type": "code",
   "execution_count": 5,
   "id": "2018d52f-fb36-497f-bd23-640b7f859247",
   "metadata": {},
   "outputs": [
    {
     "name": "stdout",
     "output_type": "stream",
     "text": [
      "\u001b[0m\u001b[01;34mbin\u001b[0m/                 \u001b[01;34mhome\u001b[0m/            \u001b[01;34mlost+found\u001b[0m/   \u001b[01;34mproc\u001b[0m/  \u001b[01;34msys\u001b[0m/\n",
      "\u001b[01;34mboot\u001b[0m/                \u001b[01;36minitrd.img\u001b[0m@      \u001b[01;34mmedia\u001b[0m/        \u001b[01;34mroot\u001b[0m/  \u001b[30;42mtmp\u001b[0m/\n",
      "\u001b[01;34mBootsector_Backups\u001b[0m/  \u001b[01;36minitrd.img.old\u001b[0m@  \u001b[01;34mmnt\u001b[0m/          \u001b[01;34mrun\u001b[0m/   \u001b[01;34musr\u001b[0m/\n",
      "\u001b[01;34mdata\u001b[0m/                \u001b[01;34mlib\u001b[0m/             \u001b[01;34mnfs\u001b[0m/          \u001b[01;34msbin\u001b[0m/  \u001b[01;34mvar\u001b[0m/\n",
      "\u001b[01;34mdev\u001b[0m/                 \u001b[01;34mlib32\u001b[0m/           \u001b[01;34mnonexistent\u001b[0m/  \u001b[01;34msnap\u001b[0m/  \u001b[01;36mvmlinuz\u001b[0m@\n",
      "\u001b[01;34metc\u001b[0m/                 \u001b[01;34mlib64\u001b[0m/           \u001b[01;34mopt\u001b[0m/          \u001b[01;34msrv\u001b[0m/   \u001b[01;36mvmlinuz.old\u001b[0m@\n"
     ]
    }
   ],
   "source": [
    "ls /"
   ]
  },
  {
   "cell_type": "code",
   "execution_count": null,
   "id": "768ebb29",
   "metadata": {},
   "outputs": [],
   "source": []
  }
 ],
 "metadata": {
  "kernelspec": {
   "display_name": "Python 3",
   "language": "python",
   "name": "python3"
  },
  "language_info": {
   "codemirror_mode": {
    "name": "ipython",
    "version": 3
   },
   "file_extension": ".py",
   "mimetype": "text/x-python",
   "name": "python",
   "nbconvert_exporter": "python",
   "pygments_lexer": "ipython3",
   "version": "3.8.8"
  }
 },
 "nbformat": 4,
 "nbformat_minor": 5
}
