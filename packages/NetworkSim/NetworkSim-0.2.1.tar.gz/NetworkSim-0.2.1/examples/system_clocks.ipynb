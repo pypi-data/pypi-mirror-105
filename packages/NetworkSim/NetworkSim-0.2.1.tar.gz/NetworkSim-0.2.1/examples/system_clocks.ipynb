{
 "cells": [
  {
   "cell_type": "code",
   "execution_count": 1,
   "metadata": {},
   "outputs": [
    {
     "name": "stdout",
     "output_type": "stream",
     "text": [
      "/Users/nicochung/Documents/GitHub/Fourth-Year-Project/NetworkSim\n"
     ]
    }
   ],
   "source": [
    "cd .."
   ]
  },
  {
   "cell_type": "code",
   "execution_count": 2,
   "metadata": {
    "pycharm": {
     "is_executing": false
    }
   },
   "outputs": [],
   "source": [
    "from NetworkSim.simulation.tools.clock import TransmitterDataClock\n",
    "from NetworkSim.simulation.tools.clock import ControlClock\n",
    "import simpy"
   ]
  },
  {
   "cell_type": "code",
   "execution_count": 3,
   "metadata": {
    "pycharm": {
     "is_executing": false,
     "name": "#%%\n"
    }
   },
   "outputs": [],
   "source": [
    "dc1 = TransmitterDataClock()\n",
    "cc1 = ControlClock()"
   ]
  },
  {
   "cell_type": "code",
   "execution_count": 4,
   "metadata": {
    "pycharm": {
     "is_executing": false,
     "name": "#%%\n"
    }
   },
   "outputs": [],
   "source": [
    "def clock(env):\n",
    "    while True:\n",
    "        print(f'Data ticks at {env.now}')\n",
    "        yield env.timeout(dc1.clock_cycle)"
   ]
  },
  {
   "cell_type": "code",
   "execution_count": 5,
   "metadata": {},
   "outputs": [],
   "source": [
    "def control_clock(env):\n",
    "    while True:\n",
    "        print(f'Control ticks at {env.now}')\n",
    "        yield env.timeout(cc1.clock_cycle)"
   ]
  },
  {
   "cell_type": "code",
   "execution_count": 6,
   "metadata": {},
   "outputs": [
    {
     "data": {
      "text/plain": [
       "4"
      ]
     },
     "execution_count": 6,
     "metadata": {},
     "output_type": "execute_result"
    }
   ],
   "source": [
    "dc1.model.get_max_data_packet_num_on_ring()"
   ]
  },
  {
   "cell_type": "code",
   "execution_count": 7,
   "metadata": {},
   "outputs": [
    {
     "data": {
      "text/plain": [
       "100"
      ]
     },
     "execution_count": 7,
     "metadata": {},
     "output_type": "execute_result"
    }
   ],
   "source": [
    "dc1.model.network.num_nodes"
   ]
  },
  {
   "cell_type": "code",
   "execution_count": 8,
   "metadata": {},
   "outputs": [
    {
     "data": {
      "text/plain": [
       "2000"
      ]
     },
     "execution_count": 8,
     "metadata": {},
     "output_type": "execute_result"
    }
   ],
   "source": [
    "cc1.model.get_max_control_packet_num_on_ring()"
   ]
  },
  {
   "cell_type": "code",
   "execution_count": 9,
   "metadata": {},
   "outputs": [
    {
     "data": {
      "text/plain": [
       "6.0"
      ]
     },
     "execution_count": 9,
     "metadata": {},
     "output_type": "execute_result"
    }
   ],
   "source": [
    "dc1.get_clock_cycle()"
   ]
  },
  {
   "cell_type": "code",
   "execution_count": 10,
   "metadata": {},
   "outputs": [
    {
     "data": {
      "text/plain": [
       "0.3"
      ]
     },
     "execution_count": 10,
     "metadata": {},
     "output_type": "execute_result"
    }
   ],
   "source": [
    "cc1.get_clock_cycle()"
   ]
  },
  {
   "cell_type": "code",
   "execution_count": 11,
   "metadata": {
    "pycharm": {
     "is_executing": false,
     "name": "#%%\n"
    }
   },
   "outputs": [
    {
     "name": "stdout",
     "output_type": "stream",
     "text": [
      "Data ticks at 0\n",
      "Control ticks at 0\n",
      "Control ticks at 0.3\n",
      "Control ticks at 0.6\n",
      "Control ticks at 0.8999999999999999\n",
      "Control ticks at 1.2\n",
      "Control ticks at 1.5\n",
      "Control ticks at 1.8\n",
      "Control ticks at 2.1\n",
      "Control ticks at 2.4\n",
      "Control ticks at 2.6999999999999997\n",
      "Control ticks at 2.9999999999999996\n",
      "Control ticks at 3.2999999999999994\n",
      "Control ticks at 3.599999999999999\n",
      "Control ticks at 3.899999999999999\n",
      "Control ticks at 4.199999999999999\n",
      "Control ticks at 4.499999999999999\n",
      "Control ticks at 4.799999999999999\n",
      "Control ticks at 5.099999999999999\n",
      "Control ticks at 5.399999999999999\n",
      "Control ticks at 5.699999999999998\n",
      "Control ticks at 5.999999999999998\n",
      "Data ticks at 6.0\n",
      "Control ticks at 6.299999999999998\n",
      "Control ticks at 6.599999999999998\n",
      "Control ticks at 6.899999999999998\n",
      "Control ticks at 7.1999999999999975\n",
      "Control ticks at 7.499999999999997\n",
      "Control ticks at 7.799999999999997\n",
      "Control ticks at 8.099999999999998\n",
      "Control ticks at 8.399999999999999\n",
      "Control ticks at 8.7\n",
      "Control ticks at 9.0\n",
      "Control ticks at 9.3\n",
      "Control ticks at 9.600000000000001\n",
      "Control ticks at 9.900000000000002\n",
      "Control ticks at 10.200000000000003\n",
      "Control ticks at 10.500000000000004\n",
      "Control ticks at 10.800000000000004\n",
      "Control ticks at 11.100000000000005\n",
      "Control ticks at 11.400000000000006\n",
      "Control ticks at 11.700000000000006\n",
      "Data ticks at 12.0\n",
      "Control ticks at 12.000000000000007\n",
      "Control ticks at 12.300000000000008\n",
      "Control ticks at 12.600000000000009\n",
      "Control ticks at 12.90000000000001\n",
      "Control ticks at 13.20000000000001\n",
      "Control ticks at 13.50000000000001\n",
      "Control ticks at 13.800000000000011\n",
      "Control ticks at 14.100000000000012\n",
      "Control ticks at 14.400000000000013\n",
      "Control ticks at 14.700000000000014\n",
      "Control ticks at 15.000000000000014\n",
      "Control ticks at 15.300000000000015\n",
      "Control ticks at 15.600000000000016\n",
      "Control ticks at 15.900000000000016\n",
      "Control ticks at 16.200000000000017\n",
      "Control ticks at 16.500000000000018\n",
      "Control ticks at 16.80000000000002\n",
      "Control ticks at 17.10000000000002\n",
      "Control ticks at 17.40000000000002\n",
      "Control ticks at 17.70000000000002\n",
      "Data ticks at 18.0\n",
      "Control ticks at 18.00000000000002\n",
      "Control ticks at 18.300000000000022\n",
      "Control ticks at 18.600000000000023\n",
      "Control ticks at 18.900000000000023\n",
      "Control ticks at 19.200000000000024\n",
      "Control ticks at 19.500000000000025\n",
      "Control ticks at 19.800000000000026\n",
      "Control ticks at 20.100000000000026\n",
      "Control ticks at 20.400000000000027\n",
      "Control ticks at 20.700000000000028\n",
      "Control ticks at 21.00000000000003\n",
      "Control ticks at 21.30000000000003\n",
      "Control ticks at 21.60000000000003\n",
      "Control ticks at 21.90000000000003\n",
      "Control ticks at 22.20000000000003\n",
      "Control ticks at 22.500000000000032\n",
      "Control ticks at 22.800000000000033\n",
      "Control ticks at 23.100000000000033\n",
      "Control ticks at 23.400000000000034\n",
      "Control ticks at 23.700000000000035\n",
      "Data ticks at 24.0\n",
      "Control ticks at 24.000000000000036\n",
      "Control ticks at 24.300000000000036\n",
      "Control ticks at 24.600000000000037\n",
      "Control ticks at 24.900000000000038\n",
      "Control ticks at 25.20000000000004\n",
      "Control ticks at 25.50000000000004\n",
      "Control ticks at 25.80000000000004\n",
      "Control ticks at 26.10000000000004\n",
      "Control ticks at 26.40000000000004\n",
      "Control ticks at 26.700000000000042\n",
      "Control ticks at 27.000000000000043\n",
      "Control ticks at 27.300000000000043\n",
      "Control ticks at 27.600000000000044\n",
      "Control ticks at 27.900000000000045\n",
      "Control ticks at 28.200000000000045\n",
      "Control ticks at 28.500000000000046\n",
      "Control ticks at 28.800000000000047\n",
      "Control ticks at 29.100000000000048\n",
      "Control ticks at 29.40000000000005\n",
      "Control ticks at 29.70000000000005\n",
      "Data ticks at 30.0\n",
      "Control ticks at 30.00000000000005\n",
      "Control ticks at 30.30000000000005\n",
      "Control ticks at 30.60000000000005\n",
      "Control ticks at 30.900000000000052\n",
      "Control ticks at 31.200000000000053\n",
      "Control ticks at 31.500000000000053\n",
      "Control ticks at 31.800000000000054\n",
      "Control ticks at 32.10000000000005\n",
      "Control ticks at 32.40000000000005\n",
      "Control ticks at 32.700000000000045\n",
      "Control ticks at 33.00000000000004\n",
      "Control ticks at 33.30000000000004\n",
      "Control ticks at 33.60000000000004\n",
      "Control ticks at 33.900000000000034\n",
      "Control ticks at 34.20000000000003\n",
      "Control ticks at 34.50000000000003\n",
      "Control ticks at 34.800000000000026\n",
      "Control ticks at 35.10000000000002\n",
      "Control ticks at 35.40000000000002\n",
      "Control ticks at 35.70000000000002\n",
      "Data ticks at 36.0\n",
      "Control ticks at 36.000000000000014\n",
      "Control ticks at 36.30000000000001\n",
      "Control ticks at 36.60000000000001\n",
      "Control ticks at 36.900000000000006\n",
      "Control ticks at 37.2\n",
      "Control ticks at 37.5\n",
      "Control ticks at 37.8\n",
      "Control ticks at 38.099999999999994\n",
      "Control ticks at 38.39999999999999\n",
      "Control ticks at 38.69999999999999\n",
      "Control ticks at 38.999999999999986\n",
      "Control ticks at 39.29999999999998\n",
      "Control ticks at 39.59999999999998\n",
      "Control ticks at 39.89999999999998\n",
      "Control ticks at 40.199999999999974\n",
      "Control ticks at 40.49999999999997\n",
      "Control ticks at 40.79999999999997\n",
      "Control ticks at 41.099999999999966\n",
      "Control ticks at 41.39999999999996\n",
      "Control ticks at 41.69999999999996\n",
      "Control ticks at 41.99999999999996\n",
      "Data ticks at 42.0\n",
      "Control ticks at 42.299999999999955\n",
      "Control ticks at 42.59999999999995\n",
      "Control ticks at 42.89999999999995\n",
      "Control ticks at 43.199999999999946\n",
      "Control ticks at 43.49999999999994\n",
      "Control ticks at 43.79999999999994\n",
      "Control ticks at 44.09999999999994\n",
      "Control ticks at 44.399999999999935\n",
      "Control ticks at 44.69999999999993\n",
      "Control ticks at 44.99999999999993\n",
      "Control ticks at 45.299999999999926\n",
      "Control ticks at 45.59999999999992\n",
      "Control ticks at 45.89999999999992\n",
      "Control ticks at 46.19999999999992\n",
      "Control ticks at 46.499999999999915\n",
      "Control ticks at 46.79999999999991\n",
      "Control ticks at 47.09999999999991\n",
      "Control ticks at 47.399999999999906\n",
      "Control ticks at 47.6999999999999\n",
      "Control ticks at 47.9999999999999\n",
      "Data ticks at 48.0\n",
      "Control ticks at 48.2999999999999\n",
      "Control ticks at 48.599999999999895\n",
      "Control ticks at 48.89999999999989\n",
      "Control ticks at 49.19999999999989\n",
      "Control ticks at 49.499999999999886\n",
      "Control ticks at 49.79999999999988\n",
      "Control ticks at 50.09999999999988\n",
      "Control ticks at 50.39999999999988\n",
      "Control ticks at 50.699999999999875\n",
      "Control ticks at 50.99999999999987\n",
      "Control ticks at 51.29999999999987\n",
      "Control ticks at 51.599999999999866\n",
      "Control ticks at 51.899999999999864\n",
      "Control ticks at 52.19999999999986\n",
      "Control ticks at 52.49999999999986\n",
      "Control ticks at 52.799999999999855\n",
      "Control ticks at 53.09999999999985\n",
      "Control ticks at 53.39999999999985\n",
      "Control ticks at 53.69999999999985\n",
      "Control ticks at 53.999999999999844\n",
      "Data ticks at 54.0\n",
      "Control ticks at 54.29999999999984\n",
      "Control ticks at 54.59999999999984\n",
      "Control ticks at 54.899999999999835\n",
      "Control ticks at 55.19999999999983\n",
      "Control ticks at 55.49999999999983\n",
      "Control ticks at 55.79999999999983\n",
      "Control ticks at 56.099999999999824\n",
      "Control ticks at 56.39999999999982\n",
      "Control ticks at 56.69999999999982\n",
      "Control ticks at 56.999999999999815\n",
      "Control ticks at 57.29999999999981\n",
      "Control ticks at 57.59999999999981\n",
      "Control ticks at 57.89999999999981\n",
      "Control ticks at 58.199999999999804\n",
      "Control ticks at 58.4999999999998\n",
      "Control ticks at 58.7999999999998\n",
      "Control ticks at 59.099999999999795\n",
      "Control ticks at 59.39999999999979\n",
      "Control ticks at 59.69999999999979\n",
      "Control ticks at 59.99999999999979\n",
      "Data ticks at 60.0\n",
      "Control ticks at 60.299999999999784\n",
      "Control ticks at 60.59999999999978\n",
      "Control ticks at 60.89999999999978\n",
      "Control ticks at 61.199999999999775\n",
      "Control ticks at 61.49999999999977\n",
      "Control ticks at 61.79999999999977\n",
      "Control ticks at 62.09999999999977\n",
      "Control ticks at 62.399999999999764\n",
      "Control ticks at 62.69999999999976\n",
      "Control ticks at 62.99999999999976\n",
      "Control ticks at 63.299999999999756\n",
      "Control ticks at 63.59999999999975\n",
      "Control ticks at 63.89999999999975\n",
      "Control ticks at 64.19999999999975\n",
      "Control ticks at 64.49999999999974\n",
      "Control ticks at 64.79999999999974\n",
      "Control ticks at 65.09999999999974\n",
      "Control ticks at 65.39999999999974\n",
      "Control ticks at 65.69999999999973\n",
      "Control ticks at 65.99999999999973\n",
      "Data ticks at 66.0\n",
      "Control ticks at 66.29999999999973\n",
      "Control ticks at 66.59999999999972\n",
      "Control ticks at 66.89999999999972\n",
      "Control ticks at 67.19999999999972\n",
      "Control ticks at 67.49999999999972\n",
      "Control ticks at 67.79999999999971\n",
      "Control ticks at 68.09999999999971\n",
      "Control ticks at 68.39999999999971\n",
      "Control ticks at 68.6999999999997\n",
      "Control ticks at 68.9999999999997\n",
      "Control ticks at 69.2999999999997\n",
      "Control ticks at 69.5999999999997\n",
      "Control ticks at 69.8999999999997\n",
      "Control ticks at 70.19999999999969\n",
      "Control ticks at 70.49999999999969\n",
      "Control ticks at 70.79999999999968\n",
      "Control ticks at 71.09999999999968\n",
      "Control ticks at 71.39999999999968\n",
      "Control ticks at 71.69999999999968\n",
      "Control ticks at 71.99999999999967\n",
      "Data ticks at 72.0\n",
      "Control ticks at 72.29999999999967\n",
      "Control ticks at 72.59999999999967\n",
      "Control ticks at 72.89999999999966\n",
      "Control ticks at 73.19999999999966\n",
      "Control ticks at 73.49999999999966\n",
      "Control ticks at 73.79999999999966\n",
      "Control ticks at 74.09999999999965\n",
      "Control ticks at 74.39999999999965\n",
      "Control ticks at 74.69999999999965\n",
      "Control ticks at 74.99999999999964\n",
      "Control ticks at 75.29999999999964\n",
      "Control ticks at 75.59999999999964\n",
      "Control ticks at 75.89999999999964\n",
      "Control ticks at 76.19999999999963\n",
      "Control ticks at 76.49999999999963\n",
      "Control ticks at 76.79999999999963\n",
      "Control ticks at 77.09999999999962\n",
      "Control ticks at 77.39999999999962\n",
      "Control ticks at 77.69999999999962\n",
      "Control ticks at 77.99999999999962\n",
      "Data ticks at 78.0\n",
      "Control ticks at 78.29999999999961\n",
      "Control ticks at 78.59999999999961\n",
      "Control ticks at 78.89999999999961\n",
      "Control ticks at 79.1999999999996\n",
      "Control ticks at 79.4999999999996\n",
      "Control ticks at 79.7999999999996\n",
      "Control ticks at 80.0999999999996\n",
      "Control ticks at 80.3999999999996\n",
      "Control ticks at 80.69999999999959\n",
      "Control ticks at 80.99999999999959\n",
      "Control ticks at 81.29999999999959\n",
      "Control ticks at 81.59999999999958\n",
      "Control ticks at 81.89999999999958\n",
      "Control ticks at 82.19999999999958\n",
      "Control ticks at 82.49999999999957\n",
      "Control ticks at 82.79999999999957\n",
      "Control ticks at 83.09999999999957\n",
      "Control ticks at 83.39999999999957\n",
      "Control ticks at 83.69999999999956\n",
      "Control ticks at 83.99999999999956\n",
      "Data ticks at 84.0\n",
      "Control ticks at 84.29999999999956\n",
      "Control ticks at 84.59999999999955\n",
      "Control ticks at 84.89999999999955\n",
      "Control ticks at 85.19999999999955\n",
      "Control ticks at 85.49999999999955\n",
      "Control ticks at 85.79999999999954\n",
      "Control ticks at 86.09999999999954\n",
      "Control ticks at 86.39999999999954\n",
      "Control ticks at 86.69999999999953\n",
      "Control ticks at 86.99999999999953\n",
      "Control ticks at 87.29999999999953\n",
      "Control ticks at 87.59999999999953\n",
      "Control ticks at 87.89999999999952\n",
      "Control ticks at 88.19999999999952\n",
      "Control ticks at 88.49999999999952\n",
      "Control ticks at 88.79999999999951\n",
      "Control ticks at 89.09999999999951\n",
      "Control ticks at 89.39999999999951\n",
      "Control ticks at 89.6999999999995\n",
      "Control ticks at 89.9999999999995\n",
      "Data ticks at 90.0\n",
      "Control ticks at 90.2999999999995\n",
      "Control ticks at 90.5999999999995\n",
      "Control ticks at 90.8999999999995\n",
      "Control ticks at 91.19999999999949\n",
      "Control ticks at 91.49999999999949\n",
      "Control ticks at 91.79999999999949\n",
      "Control ticks at 92.09999999999948\n",
      "Control ticks at 92.39999999999948\n",
      "Control ticks at 92.69999999999948\n",
      "Control ticks at 92.99999999999947\n",
      "Control ticks at 93.29999999999947\n",
      "Control ticks at 93.59999999999947\n",
      "Control ticks at 93.89999999999947\n",
      "Control ticks at 94.19999999999946\n",
      "Control ticks at 94.49999999999946\n",
      "Control ticks at 94.79999999999946\n",
      "Control ticks at 95.09999999999945\n",
      "Control ticks at 95.39999999999945\n",
      "Control ticks at 95.69999999999945\n",
      "Control ticks at 95.99999999999945\n",
      "Data ticks at 96.0\n",
      "Control ticks at 96.29999999999944\n",
      "Control ticks at 96.59999999999944\n",
      "Control ticks at 96.89999999999944\n",
      "Control ticks at 97.19999999999943\n",
      "Control ticks at 97.49999999999943\n",
      "Control ticks at 97.79999999999943\n",
      "Control ticks at 98.09999999999943\n",
      "Control ticks at 98.39999999999942\n",
      "Control ticks at 98.69999999999942\n",
      "Control ticks at 98.99999999999942\n",
      "Control ticks at 99.29999999999941\n",
      "Control ticks at 99.59999999999941\n",
      "Control ticks at 99.89999999999941\n"
     ]
    }
   ],
   "source": [
    "env = simpy.Environment()\n",
    "env.process(clock(env))\n",
    "env.process(control_clock(env))\n",
    "env.run(until=100)\n",
    "\n"
   ]
  },
  {
   "cell_type": "code",
   "execution_count": null,
   "metadata": {},
   "outputs": [],
   "source": []
  }
 ],
 "metadata": {
  "kernelspec": {
   "display_name": "Anaconda (FYP)",
   "language": "python",
   "name": "fyp"
  },
  "language_info": {
   "codemirror_mode": {
    "name": "ipython",
    "version": 3
   },
   "file_extension": ".py",
   "mimetype": "text/x-python",
   "name": "python",
   "nbconvert_exporter": "python",
   "pygments_lexer": "ipython3",
   "version": "3.7.9"
  },
  "pycharm": {
   "stem_cell": {
    "cell_type": "raw",
    "metadata": {
     "collapsed": false
    },
    "source": []
   }
  }
 },
 "nbformat": 4,
 "nbformat_minor": 1
}
