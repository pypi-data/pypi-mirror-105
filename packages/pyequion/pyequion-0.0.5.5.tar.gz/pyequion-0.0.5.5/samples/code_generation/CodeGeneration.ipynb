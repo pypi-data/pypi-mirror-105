{
 "metadata": {
  "language_info": {
   "codemirror_mode": {
    "name": "ipython",
    "version": 3
   },
   "file_extension": ".py",
   "mimetype": "text/x-python",
   "name": "python",
   "nbconvert_exporter": "python",
   "pygments_lexer": "ipython3",
   "version": "3.6.8-final"
  },
  "orig_nbformat": 2,
  "kernelspec": {
   "name": "python3",
   "display_name": "Python 3",
   "language": "python"
  }
 },
 "nbformat": 4,
 "nbformat_minor": 2,
 "cells": [
  {
   "source": [
    "import pyequion\n",
    "import sympy\n",
    "import scipy\n",
    "%load_ext Cython"
   ],
   "cell_type": "code",
   "metadata": {},
   "execution_count": 1,
   "outputs": []
  },
  {
   "source": [
    "## Create a system and save it to a C file"
   ],
   "cell_type": "markdown",
   "metadata": {}
  },
  {
   "cell_type": "code",
   "execution_count": 2,
   "metadata": {},
   "outputs": [],
   "source": [
    "sys_eq = pyequion.create_equilibrium(['NaHCO3', 'CaCl2'])\n",
    "pyequion.save_res_to_c_code(sys_eq, 'dummy', 'calc_cnv_res_equilibrium_NaHCO3_CaCl2', \n",
    "    # fixed_temperature=25.0\n",
    ")\n"
   ]
  },
  {
   "source": [
    "Check the file system for the created header and source files\n",
    "\n",
    "## Generating Cython module for calling the C code\n",
    "\n",
    "Reference: https://www.sympy.org/scipy-2017-codegen-tutorial/\n",
    "\n",
    "1. Firstly a magic cell is used to create the build configuration file\n",
    "1. Nextly, the cython file that will bridge the python interpreter with the c-function is defined and make it available to python interpreter"
   ],
   "cell_type": "markdown",
   "metadata": {}
  },
  {
   "cell_type": "code",
   "execution_count": 3,
   "metadata": {},
   "outputs": [
    {
     "output_type": "stream",
     "name": "stdout",
     "text": [
      "Overwriting calc_cnv_res_equilibrium_NaHCO3_CaCl2.pyxbld\n"
     ]
    }
   ],
   "source": [
    "%%writefile calc_cnv_res_equilibrium_NaHCO3_CaCl2.pyxbld\n",
    "import numpy\n",
    "\n",
    "#            module name specified by `%%cython_pyximport` magic\n",
    "#            |        just `modname + \".pyx\"`\n",
    "#            |        |\n",
    "def make_ext(modname, pyxfilename):\n",
    "    from setuptools.extension import Extension\n",
    "    return Extension(modname,\n",
    "                     sources=[pyxfilename, 'calc_cnv_res_equilibrium_NaHCO3_CaCl2.c'],\n",
    "                     include_dirs=['.', numpy.get_include()])"
   ]
  },
  {
   "cell_type": "code",
   "execution_count": 4,
   "metadata": {},
   "outputs": [],
   "source": [
    "%%cython_pyximport calc_cnv_res_equilibrium_NaHCO3_CaCl2\n",
    "import numpy as np\n",
    "cimport numpy as cnp # cimport gives us access to NumPy's C API\n",
    "\n",
    "# here we just replicate the function signature from the header\n",
    "cdef extern from \"calc_cnv_res_equilibrium_NaHCO3_CaCl2.h\":\n",
    "    void calc_cnv_res_equilibrium_NaHCO3_CaCl2(double T, double *concs, double *x, double *res)\n",
    "\n",
    "# here is the \"wrapper\" signature that conforms to the odeint interface\n",
    "def cy_calc_cnv_res_equilibrium_NaHCO3_CaCl2(double T, cnp.ndarray[cnp.double_t, ndim=1] concs, cnp.ndarray[cnp.double_t, ndim=1] x):\n",
    "    # preallocate our output array\n",
    "    cdef cnp.ndarray[cnp.double_t, ndim=1] res = np.empty(x.size, dtype=np.double)\n",
    "    # now call the C function\n",
    "    calc_cnv_res_equilibrium_NaHCO3_CaCl2(<double> T, <double *> concs.data, <double *> x.data, <double *> res.data)\n",
    "    # return the result\n",
    "    return res"
   ]
  },
  {
   "cell_type": "code",
   "execution_count": 5,
   "metadata": {},
   "outputs": [],
   "source": [
    "def wrapper_py_res_func(x, T, concs):\n",
    "    return cy_calc_cnv_res_equilibrium_NaHCO3_CaCl2(T, concs, x)"
   ]
  },
  {
   "cell_type": "code",
   "execution_count": 6,
   "metadata": {},
   "outputs": [
    {
     "output_type": "execute_result",
     "data": {
      "text/plain": [
       "array([-5.68434189e-14,  4.44089210e-16,  0.00000000e+00,  2.84217094e-14,\n",
       "        0.00000000e+00,  7.77156117e-16,  0.00000000e+00,  1.77635684e-15,\n",
       "        0.00000000e+00, -2.27373675e-13,  9.99000000e+00,  9.99000000e+00,\n",
       "        4.99500000e+00,  9.99000000e+00,  0.00000000e+00])"
      ]
     },
     "metadata": {},
     "execution_count": 6
    }
   ],
   "source": [
    "sol = pyequion.solve_solution({'NaHCO3': 10, 'CaCl2': 5})\n",
    "cy_calc_cnv_res_equilibrium_NaHCO3_CaCl2(25.0+273.15, np.array([10.0, 5.0]), sol.x)"
   ]
  },
  {
   "source": [
    "## Generating C Code for the Jacobian"
   ],
   "cell_type": "markdown",
   "metadata": {}
  },
  {
   "cell_type": "code",
   "execution_count": 7,
   "metadata": {
    "tags": []
   },
   "outputs": [],
   "source": [
    "pyequion.save_jacobian_of_res_to_c_code(sys_eq, 'dummy', 'calc_cnv_jac_equilibrium_NaHCO3_CaCl2', \n",
    "    # fixed_temperature=25.0\n",
    ")\n"
   ]
  },
  {
   "cell_type": "code",
   "execution_count": 8,
   "metadata": {},
   "outputs": [
    {
     "output_type": "stream",
     "name": "stdout",
     "text": [
      "Overwriting calc_cnv_jac_equilibrium_NaHCO3_CaCl2.pyxbld\n"
     ]
    }
   ],
   "source": [
    "%%writefile calc_cnv_jac_equilibrium_NaHCO3_CaCl2.pyxbld\n",
    "import numpy\n",
    "\n",
    "#            module name specified by `%%cython_pyximport` magic\n",
    "#            |        just `modname + \".pyx\"`\n",
    "#            |        |\n",
    "def make_ext(modname, pyxfilename):\n",
    "    from setuptools.extension import Extension\n",
    "    return Extension(modname,\n",
    "                     sources=[pyxfilename, 'calc_cnv_jac_equilibrium_NaHCO3_CaCl2.c'],\n",
    "                     include_dirs=['.', numpy.get_include()])"
   ]
  },
  {
   "cell_type": "code",
   "execution_count": 9,
   "metadata": {},
   "outputs": [],
   "source": [
    "%%cython_pyximport calc_cnv_jac_equilibrium_NaHCO3_CaCl2\n",
    "import numpy as np\n",
    "cimport numpy as cnp # cimport gives us access to NumPy's C API\n",
    "\n",
    "# here we just replicate the function signature from the header\n",
    "cdef extern from \"calc_cnv_jac_equilibrium_NaHCO3_CaCl2.h\":\n",
    "    void calc_cnv_jac_equilibrium_NaHCO3_CaCl2(double T, double *x, double *res)\n",
    "\n",
    "# here is the \"wrapper\" signature that conforms to the odeint interface\n",
    "def cy_calc_cnv_jac_equilibrium_NaHCO3_CaCl2(double T, cnp.ndarray[cnp.double_t, ndim=1] x):\n",
    "    # preallocate our output array\n",
    "    cdef cnp.ndarray[cnp.double_t, ndim=1] J = np.empty((x.size*x.size), dtype=np.double)\n",
    "    # now call the C function\n",
    "    calc_cnv_jac_equilibrium_NaHCO3_CaCl2(<double> T, <double *> x.data, <double *> J.data)\n",
    "    # return the result\n",
    "\n",
    "    mat_J = J.reshape((x.size, -1))\n",
    "    return mat_J"
   ]
  },
  {
   "cell_type": "code",
   "execution_count": 10,
   "metadata": {},
   "outputs": [],
   "source": [
    "def wrapper_py_jac_func(x, T, concs):\n",
    "    return cy_calc_cnv_jac_equilibrium_NaHCO3_CaCl2(T, x)"
   ]
  },
  {
   "cell_type": "code",
   "execution_count": 11,
   "metadata": {},
   "outputs": [],
   "source": [
    "sol = pyequion.solve_solution({'NaHCO3': 10, 'CaCl2': 5})"
   ]
  },
  {
   "cell_type": "code",
   "execution_count": 12,
   "metadata": {},
   "outputs": [
    {
     "output_type": "execute_result",
     "data": {
      "text/plain": [
       "array([[ 0.        , -0.97797761, -0.97797761,  0.02202239,  0.        ,\n",
       "         0.02202239,  0.08808954,  0.02202239,  0.        ,  0.        ,\n",
       "         0.08808954,  0.02202239,  0.        ,  0.02202239,  0.02202239],\n",
       "       [-1.        , -0.02361803, -0.02361803,  0.97638197,  0.        ,\n",
       "         0.97638197, -0.09447213, -0.02361803,  0.        ,  0.        ,\n",
       "        -0.09447213, -0.02361803,  0.        , -0.02361803, -0.02361803],\n",
       "       [ 0.        , -0.0029818 , -1.0029818 ,  0.9970182 , -1.        ,\n",
       "        -0.0029818 , -0.01192722, -0.0029818 ,  0.        ,  0.        ,\n",
       "        -0.01192722, -0.0029818 ,  0.        , -0.0029818 , -0.0029818 ],\n",
       "       [ 0.        , -0.04311272,  0.95688728, -0.04311272,  0.        ,\n",
       "        -1.04311272,  0.8275491 , -0.04311272,  0.        ,  0.        ,\n",
       "        -0.1724509 , -0.04311272,  0.        , -0.04311272, -0.04311272],\n",
       "       [ 0.        , -0.0447669 , -0.0447669 ,  0.9552331 ,  0.        ,\n",
       "        -0.0447669 ,  0.82093239, -1.0447669 ,  0.        ,  0.        ,\n",
       "        -0.17906761, -0.0447669 ,  0.        , -0.0447669 , -0.0447669 ],\n",
       "       [ 0.        , -0.06971256, -0.06971256,  1.93028744,  0.        ,\n",
       "        -0.06971256,  0.72114975, -0.06971256, -1.        ,  0.        ,\n",
       "        -0.27885025, -0.06971256,  0.        , -0.06971256, -0.06971256],\n",
       "       [ 0.        ,  0.02075136, -0.97924864,  0.02075136,  0.        ,\n",
       "        -0.97924864,  0.08300543,  0.02075136,  0.        ,  1.        ,\n",
       "         0.08300543,  0.02075136,  0.        ,  0.02075136,  0.02075136],\n",
       "       [ 0.        , -0.02411852, -1.02411852, -0.02411852,  0.        ,\n",
       "        -0.02411852, -0.09647406, -0.02411852,  0.        ,  0.        ,\n",
       "         0.90352594, -1.02411852,  0.        , -0.02411852, -0.02411852],\n",
       "       [ 0.        , -0.09138075, -0.09138075, -0.09138075,  0.        ,\n",
       "        -0.09138075,  0.634477  , -0.09138075,  0.        ,  0.        ,\n",
       "         0.634477  , -0.09138075, -1.        , -0.09138075, -0.09138075],\n",
       "       [ 0.        , -0.0464731 , -0.0464731 , -0.0464731 ,  0.        ,\n",
       "         0.9535269 , -0.1858924 , -0.0464731 ,  0.        ,  0.        ,\n",
       "         0.8141076 , -0.0464731 ,  0.        , -1.0464731 , -0.0464731 ],\n",
       "       [-0.00230259,  0.        ,  0.        , -0.00230259, -0.00230259,\n",
       "         0.        ,  0.        , -0.00230259, -0.00460517,  0.        ,\n",
       "         0.        ,  0.        ,  0.        ,  0.        ,  0.        ],\n",
       "       [-0.00230259,  0.        ,  0.        ,  0.        ,  0.        ,\n",
       "        -0.00230259, -0.00230259, -0.00230259, -0.00230259, -0.00230259,\n",
       "         0.        ,  0.        , -0.00230259, -0.00230259,  0.        ],\n",
       "       [ 0.        ,  0.        ,  0.        ,  0.        ,  0.        ,\n",
       "         0.        ,  0.        ,  0.        ,  0.        ,  0.        ,\n",
       "        -0.00230259, -0.00230259, -0.00230259, -0.00230259,  0.        ],\n",
       "       [ 0.        ,  0.        ,  0.        ,  0.        ,  0.        ,\n",
       "         0.        ,  0.        ,  0.        ,  0.        ,  0.        ,\n",
       "         0.        ,  0.        ,  0.        ,  0.        , -0.00230259],\n",
       "       [ 0.        , -0.00230259,  0.00230259,  0.00230259,  0.        ,\n",
       "        -0.00230259, -0.00460517, -0.00230259,  0.        ,  0.        ,\n",
       "         0.00460517,  0.00230259,  0.        ,  0.00230259, -0.00230259]])"
      ]
     },
     "metadata": {},
     "execution_count": 12
    }
   ],
   "source": [
    "J = cy_calc_cnv_jac_equilibrium_NaHCO3_CaCl2(25, np.full(15, -3.0))\n",
    "J.shape\n",
    "J"
   ]
  },
  {
   "cell_type": "code",
   "execution_count": 13,
   "metadata": {},
   "outputs": [],
   "source": [
    "## Solving the system\n",
    "\n"
   ]
  },
  {
   "cell_type": "code",
   "execution_count": 14,
   "metadata": {},
   "outputs": [
    {
     "output_type": "execute_result",
     "data": {
      "text/plain": [
       "array([-3, -3, -3, -3, -3, -3, -3, -3, -3, -3, -3, -3, -3, -3, -3])"
      ]
     },
     "metadata": {},
     "execution_count": 14
    }
   ],
   "source": [
    "np.full(15, -3)"
   ]
  },
  {
   "cell_type": "code",
   "execution_count": 11,
   "metadata": {},
   "outputs": [
    {
     "output_type": "execute_result",
     "data": {
      "text/plain": [
       "['NaHCO3',\n",
       " 'OH-',\n",
       " 'H+',\n",
       " 'Na+',\n",
       " 'NaOH',\n",
       " 'HCO3-',\n",
       " 'CO3--',\n",
       " 'NaCO3-',\n",
       " 'Na2CO3',\n",
       " 'CO2',\n",
       " 'Ca++',\n",
       " 'CaOH+',\n",
       " 'CaCO3',\n",
       " 'CaHCO3+',\n",
       " 'Cl-',\n",
       " 'H2O']"
      ]
     },
     "metadata": {},
     "execution_count": 11
    }
   ],
   "source": []
  },
  {
   "cell_type": "code",
   "execution_count": 15,
   "metadata": {},
   "outputs": [
    {
     "output_type": "execute_result",
     "data": {
      "text/plain": [
       "    fjac: array([[ 0.00000000e+00,  9.99999992e-01,  0.00000000e+00,\n",
       "         0.00000000e+00,  0.00000000e+00,  0.00000000e+00,\n",
       "         0.00000000e+00,  0.00000000e+00,  0.00000000e+00,\n",
       "         0.00000000e+00,  8.87383607e-05,  8.87383607e-05,\n",
       "         0.00000000e+00,  0.00000000e+00,  0.00000000e+00],\n",
       "       [-1.00000000e+00, -4.07451850e-14, -3.41143460e-07,\n",
       "        -4.53142697e-06, -4.79142557e-06, -7.45642413e-06,\n",
       "         2.36144688e-06, -2.45265355e-06, -9.71015202e-06,\n",
       "        -4.83215964e-06,  2.29286940e-10,  2.29286940e-10,\n",
       "         0.00000000e+00,  0.00000000e+00, -2.37473280e-06],\n",
       "       [-2.04965197e-06,  2.00890275e-14, -4.99999326e-01,\n",
       "         5.00001731e-01,  2.36539103e-06,  3.68102530e-06,\n",
       "        -5.00000660e-01, -4.99998283e-01,  4.79362690e-06,\n",
       "         2.38550029e-06, -1.13192465e-10, -1.13192465e-10,\n",
       "         0.00000000e+00,  0.00000000e+00,  1.20238230e-06],\n",
       "       [ 8.18558193e-06, -8.84827294e-07, -3.18104067e-01,\n",
       "        -9.33160640e-02, -4.11758287e-01, -8.32378051e-01,\n",
       "         1.02359040e-01,  1.22420881e-01,  4.04651972e-02,\n",
       "         2.01370990e-02,  9.93383757e-03,  3.73550375e-05,\n",
       "         0.00000000e+00,  0.00000000e+00, -9.89672810e-03],\n",
       "       [ 1.53683141e-06, -3.49438172e-07,  8.05487726e-01,\n",
       "         2.73519139e-01, -1.62610551e-01, -3.28721338e-01,\n",
       "        -2.69947212e-01, -2.62022893e-01,  1.59835342e-02,\n",
       "         7.95404528e-03,  3.92309570e-03,  1.47522208e-05,\n",
       "         0.00000000e+00,  0.00000000e+00, -3.90767999e-03],\n",
       "       [ 7.66897039e-07, -1.15382430e-06, -6.57673805e-12,\n",
       "         5.97445842e-01,  3.03342728e-03, -5.48239757e-03,\n",
       "         5.76085537e-01,  2.13595479e-02,  5.27386992e-02,\n",
       "        -5.54627905e-01,  5.79347209e-04,  1.24231951e-02,\n",
       "         0.00000000e+00,  0.00000000e+00,  1.18438603e-02],\n",
       "       [-1.18551328e-05, -3.61220064e-07, -1.19161527e-10,\n",
       "         2.34242643e-01,  3.40577916e-01, -1.12559696e-01,\n",
       "        -3.53808607e-02,  2.69635208e-01,  8.05617067e-01,\n",
       "         3.05044410e-01,  1.04970107e-02, -6.42639167e-03,\n",
       "         0.00000000e+00,  0.00000000e+00, -1.70292162e-02],\n",
       "       [ 3.45306262e-06, -3.58237168e-07, -1.59475484e-11,\n",
       "        -9.10647559e-02,  8.29463925e-01, -4.31411292e-01,\n",
       "         1.03130776e-02, -1.01381243e-01, -3.07761927e-01,\n",
       "        -1.11662997e-01,  1.40481678e-03,  2.63218776e-03,\n",
       "         0.00000000e+00,  0.00000000e+00,  1.28767446e-03],\n",
       "       [ 1.31523927e-06, -6.36534027e-05, -7.78861348e-09,\n",
       "         1.56627740e-01, -2.28303758e-06,  1.65413827e-02,\n",
       "         5.49524077e-03,  1.51131170e-01, -1.73283435e-01,\n",
       "         1.51056023e-01,  6.86104125e-01,  3.12113824e-02,\n",
       "         0.00000000e+00,  0.00000000e+00, -6.54037621e-01],\n",
       "       [-1.66201262e-08, -1.80577497e-06, -7.26419296e-11,\n",
       "         4.19132847e-03, -3.81954582e-07, -6.94082009e-10,\n",
       "        -5.77397036e-01,  5.81588382e-01, -4.18715934e-03,\n",
       "        -5.72757749e-01,  6.39906926e-03,  1.39503595e-02,\n",
       "         0.00000000e+00,  0.00000000e+00,  6.74666161e-03],\n",
       "       [-1.68045491e-06,  1.48435824e-05,  2.16300542e-09,\n",
       "         4.69400874e-01, -7.54697117e-06,  9.28472331e-09,\n",
       "         1.10017802e-05,  4.69391545e-01, -4.69082314e-01,\n",
       "         4.84963195e-01, -1.90540574e-01,  2.32670057e-02,\n",
       "        -2.22267644e-02,  0.00000000e+00,  2.58390761e-01],\n",
       "       [ 1.36679692e-06,  9.80158719e-05,  6.10061335e-09,\n",
       "         3.85561135e-02,  2.34650045e-05,  4.26062198e-08,\n",
       "        -2.68172505e-04,  3.88228969e-02, -3.88126642e-02,\n",
       "         1.38537963e-02, -5.37407078e-01, -5.67141962e-01,\n",
       "         2.68736608e-01,  0.00000000e+00, -5.59135082e-01],\n",
       "       [ 6.73146689e-07,  1.59166101e-05,  3.00590056e-09,\n",
       "         4.11430765e-05,  6.46402839e-06,  1.15251966e-08,\n",
       "         4.03936774e-05,  6.52617330e-08, -1.14052721e-04,\n",
       "        -4.15196775e-03, -2.64791775e-01,  8.54261678e-02,\n",
       "        -9.20411038e-01,  0.00000000e+00, -2.74616009e-01],\n",
       "       [ 7.59212150e-07, -4.01335286e-05,  4.15187586e-09,\n",
       "         3.87504806e-04, -1.85142357e-06, -2.24523092e-09,\n",
       "         3.86795007e-04, -6.44981809e-08, -3.55999654e-04,\n",
       "         1.14268315e-02, -3.65741499e-01,  8.18009582e-01,\n",
       "         2.83072656e-01,  0.00000000e+00, -3.41807476e-01],\n",
       "       [ 0.00000000e+00,  0.00000000e+00,  0.00000000e+00,\n",
       "         0.00000000e+00,  0.00000000e+00,  0.00000000e+00,\n",
       "         0.00000000e+00,  0.00000000e+00,  0.00000000e+00,\n",
       "         0.00000000e+00,  0.00000000e+00,  0.00000000e+00,\n",
       "         0.00000000e+00,  1.00000000e+00,  0.00000000e+00]])\n",
       "     fun: array([ 0.00000000e+00,  0.00000000e+00,  0.00000000e+00, -1.42108547e-14,\n",
       "        0.00000000e+00,  1.66533454e-15,  0.00000000e+00,  0.00000000e+00,\n",
       "        0.00000000e+00,  0.00000000e+00, -3.46944695e-18,  0.00000000e+00,\n",
       "        0.00000000e+00,  0.00000000e+00,  5.20417043e-18])\n",
       " message: 'The solution converged.'\n",
       "    nfev: 2\n",
       "    njev: 1\n",
       "     qtf: array([ 4.44088898e-16,  5.68443786e-14,  1.33223055e-14, -7.66075579e-15,\n",
       "        5.24433267e-15,  1.43121832e-13, -6.23093339e-14,  2.22854435e-14,\n",
       "       -2.96145643e-14,  1.31382233e-13, -9.60924319e-14, -1.98401192e-15,\n",
       "        9.47892591e-16, -2.58872935e-15,  0.00000000e+00])\n",
       "       r: array([-1.00000001e+00, -2.58384736e-06, -3.26897376e-08,  9.75056250e-01,\n",
       "       -1.00735262e-12,  9.76825658e-01, -5.79221420e-04, -1.51987292e-05,\n",
       "       -6.90786933e-12, -4.19598445e-08, -4.56665627e-02, -1.08469601e-07,\n",
       "       -2.86907050e-08, -7.58286072e-04, -2.50535259e-02,  9.99997552e-01,\n",
       "        9.99995870e-01, -2.36519337e-02,  3.41143460e-07, -2.19580986e-02,\n",
       "       -5.75279810e-04, -9.60672381e-06,  7.45642413e-06,  2.36144678e-06,\n",
       "       -4.32853173e-02,  2.34988026e-06,  9.71015195e-06, -7.13573746e-04,\n",
       "       -2.37377246e-02,  2.00000202e+00, -5.19774698e-01,  4.99999326e-01,\n",
       "       -1.83803620e-02,  4.99553110e-01, -1.44199053e-05, -3.68102530e-06,\n",
       "       -5.00000660e-01, -5.36216295e-01,  4.99998197e-01, -4.79362686e-06,\n",
       "       -6.03849616e-04, -1.98738554e-02, -2.31628590e+00,  3.18104067e-01,\n",
       "        8.45023283e-02, -1.29515492e+00,  4.11806289e-01,  8.32378050e-01,\n",
       "        1.02359022e-01,  3.27070968e-01, -1.22420539e-01, -4.04652092e-02,\n",
       "       -1.77488776e-02,  7.93691193e-02, -8.05487726e-01,  1.81640571e-02,\n",
       "       -2.01485754e-01,  1.62619535e-01,  3.28721338e-01, -2.69947219e-01,\n",
       "       -2.11169578e-01,  2.62022957e-01, -1.59835390e-02, -7.50852202e-03,\n",
       "        1.49014397e-02, -1.72154733e+00,  6.47908982e-01, -3.02909857e-03,\n",
       "        5.48239722e-03,  5.76079663e-01, -4.66229984e-01, -2.13595133e-02,\n",
       "       -5.27427158e-02,  5.54860799e-01,  7.43599454e-03,  1.26521674e+00,\n",
       "       -3.40647696e-01,  1.12559695e-01, -3.53778220e-02,  1.16969861e+00,\n",
       "       -2.69635710e-01, -8.05614989e-01, -3.08542528e-01, -1.14949854e-01,\n",
       "       -8.29443673e-01,  4.31411292e-01,  1.03118330e-02, -4.59696147e-01,\n",
       "        1.01381388e-01,  3.07761076e-01,  1.12676251e-01,  3.34816195e-02,\n",
       "       -1.65414191e-02,  5.48048250e-03,  1.10973590e-01, -1.51131245e-01,\n",
       "        1.73273344e-01, -1.51603362e-01,  1.27528358e-02, -5.77403633e-01,\n",
       "        4.77447407e-03, -5.81588381e-01,  4.18264894e-03,  5.72752553e-01,\n",
       "       -1.61152229e-04,  4.72072736e-01, -4.69391561e-01,  4.69081978e-01,\n",
       "       -4.85096922e-01, -1.62940433e-02, -3.88229777e-02,  3.89091440e-02,\n",
       "       -1.40240424e-02,  1.32527496e-02,  3.84018319e-04,  4.54863040e-03,\n",
       "        6.52697149e-03, -1.24477234e-02,  7.36148025e-03, -2.30258509e-02])\n",
       "  status: 1\n",
       " success: True\n",
       "       x: array([-4.41410428, -5.986602  , -7.88445742, -2.00194266, -8.30714557,\n",
       "       -2.03389701, -4.23809309, -5.21713241, -7.94810423, -3.68749322,\n",
       "       -2.34133052, -7.36356081, -3.85258587, -3.51907119, -2.        ])"
      ]
     },
     "metadata": {},
     "execution_count": 15
    }
   ],
   "source": [
    "concs = np.array([10e-3,5e-3])\n",
    "root_sol = scipy.optimize.root(wrapper_py_res_func, sol.x, args=(25+273.15, concs), jac=wrapper_py_jac_func)\n",
    "root_sol"
   ]
  },
  {
   "cell_type": "code",
   "execution_count": 16,
   "metadata": {},
   "outputs": [
    {
     "output_type": "execute_result",
     "data": {
      "text/plain": [
       "array([-5.68434189e-14,  4.44089210e-16,  0.00000000e+00,  2.84217094e-14,\n",
       "        0.00000000e+00,  7.77156117e-16,  0.00000000e+00,  1.77635684e-15,\n",
       "        0.00000000e+00, -2.27373675e-13, -1.73472348e-18, -1.73472348e-18,\n",
       "       -2.60208521e-18,  0.00000000e+00,  0.00000000e+00])"
      ]
     },
     "metadata": {},
     "execution_count": 16
    }
   ],
   "source": [
    "wrapper_py_jac_func(np.full(15,-3.0), 25+273.15, concs)\n",
    "# wrapper_py_res_func(np.full(15,-3.0), 25+273.15, concs)\n",
    "wrapper_py_res_func(sol.x, 25+273.15, concs)"
   ]
  },
  {
   "cell_type": "code",
   "execution_count": 17,
   "metadata": {},
   "outputs": [
    {
     "output_type": "execute_result",
     "data": {
      "text/plain": [
       "array([-4.41410428, -5.986602  , -7.88445742, -2.00194266, -8.30714557,\n",
       "       -2.03389701, -4.23809309, -5.21713241, -7.94810423, -3.68749322,\n",
       "       -2.34133052, -7.36356081, -3.85258587, -3.51907119, -2.        ])"
      ]
     },
     "metadata": {},
     "execution_count": 17
    }
   ],
   "source": [
    "sol.x"
   ]
  },
  {
   "cell_type": "code",
   "execution_count": 18,
   "metadata": {},
   "outputs": [
    {
     "output_type": "execute_result",
     "data": {
      "text/plain": [
       "array([-5.68434189e-14,  4.44089210e-16,  0.00000000e+00,  2.84217094e-14,\n",
       "        0.00000000e+00,  7.77156117e-16,  0.00000000e+00,  1.77635684e-15,\n",
       "        0.00000000e+00, -2.27373675e-13, -1.73472348e-18, -1.73472348e-18,\n",
       "       -2.60208521e-18,  0.00000000e+00,  0.00000000e+00])"
      ]
     },
     "metadata": {},
     "execution_count": 18
    }
   ],
   "source": [
    "cy_calc_cnv_res_equilibrium_NaHCO3_CaCl2(25+273.15, concs, sol.x)"
   ]
  },
  {
   "cell_type": "code",
   "execution_count": 21,
   "metadata": {},
   "outputs": [
    {
     "output_type": "execute_result",
     "data": {
      "text/plain": [
       "array([0.01 , 0.005])"
      ]
     },
     "metadata": {},
     "execution_count": 21
    }
   ],
   "source": [
    "concs"
   ]
  },
  {
   "cell_type": "code",
   "execution_count": 20,
   "metadata": {},
   "outputs": [
    {
     "output_type": "execute_result",
     "data": {
      "text/plain": [
       "0.01"
      ]
     },
     "metadata": {},
     "execution_count": 20
    }
   ],
   "source": [
    "10e-3"
   ]
  },
  {
   "cell_type": "code",
   "execution_count": null,
   "metadata": {},
   "outputs": [],
   "source": []
  }
 ]
}