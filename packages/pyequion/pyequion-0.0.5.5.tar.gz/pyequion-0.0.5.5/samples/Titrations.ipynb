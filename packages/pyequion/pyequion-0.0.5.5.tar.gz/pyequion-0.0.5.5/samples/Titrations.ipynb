{
 "cells": [
  {
   "cell_type": "markdown",
   "id": "following-portrait",
   "metadata": {},
   "source": [
    "# Titrations\n"
   ]
  },
  {
   "cell_type": "code",
   "execution_count": 1,
   "id": "educational-ferry",
   "metadata": {},
   "outputs": [],
   "source": [
    "import pyequion\n",
    "import numpy as np\n",
    "import matplotlib.pyplot as plt"
   ]
  },
  {
   "cell_type": "code",
   "execution_count": 2,
   "id": "yellow-proceeding",
   "metadata": {},
   "outputs": [
    {
     "name": "stdout",
     "output_type": "stream",
     "text": [
      "Solution Results:\n",
      "\tpH = 6.99254 \n",
      "\tsc = 1185.79816 uS/cm\n",
      "\tI = 10.00011 mmol/L\n",
      "\tDIC = nan mmol/L\n",
      "Saturation Index:\n",
      "\tHalite: -5.65997008937817\n",
      "Ionic Activity Product:\n",
      "\tHalite: 8.128864991535856e-05\n",
      "Precipitation concentration:\n",
      "\tHalite: 0.0 mM\n"
     ]
    }
   ],
   "source": [
    "sol = pyequion.solve_solution({'NaOH': 10, 'HCl': 10})\n",
    "pyequion.print_solution(sol)"
   ]
  },
  {
   "cell_type": "markdown",
   "id": "eleven-dining",
   "metadata": {},
   "source": [
    "## Titration curve: Strong Acid vs Strong Base"
   ]
  },
  {
   "cell_type": "code",
   "execution_count": 3,
   "id": "occupied-drawing",
   "metadata": {},
   "outputs": [
    {
     "data": {
      "text/plain": [
       "Text(0, 0.5, 'pH')"
      ]
     },
     "execution_count": 3,
     "metadata": {},
     "output_type": "execute_result"
    },
    {
     "data": {
      "image/png": "[encoded data removed]",
      "text/plain": [
       "<Figure size 432x288 with 1 Axes>"
      ]
     },
     "metadata": {
      "needs_background": "light"
     },
     "output_type": "display_data"
    }
   ],
   "source": [
    "cHCl = 5\n",
    "npt = 101\n",
    "NaOH_span = np.linspace(1e-5, 15, npt)\n",
    "sol_span = [pyequion.solve_solution({'NaOH': naoh, 'HCl': 10}) for naoh in NaOH_span]\n",
    "pH_span = np.array([sol.pH for sol in sol_span])\n",
    "plt.plot(NaOH_span, pH_span)\n",
    "plt.xlabel('[HCl] (mM)')\n",
    "plt.ylabel('pH')"
   ]
  },
  {
   "cell_type": "markdown",
   "id": "continuing-rubber",
   "metadata": {},
   "source": [
    "## Titration curve: Strong Acid as analyte adding Strong Base\n",
    "\n",
    "A becker contains HCl in a concentration of 5mM and a total volume of 500mL. Create the tritant curve for additions of NaOH with a concentration of 100mM.\n",
    "\n",
    "The equivalent point, in which [HCl] = [NaOH], requires a addition of:\n",
    "\n",
    "$$\\Delta V_{NaOH} = \\dfrac{[HCl]_0 V_0} {[NaOH]_0}$$"
   ]
  },
  {
   "cell_type": "code",
   "execution_count": 4,
   "id": "chemical-involvement",
   "metadata": {},
   "outputs": [
    {
     "data": {
      "text/plain": [
       "Text(0.5, 1.0, 'Titration of HCl with NaOH')"
      ]
     },
     "execution_count": 4,
     "metadata": {},
     "output_type": "execute_result"
    },
    {
     "data": {
      "image/png": "[encoded data removed]",
      "text/plain": [
       "<Figure size 432x288 with 1 Axes>"
      ]
     },
     "metadata": {
      "needs_background": "light"
     },
     "output_type": "display_data"
    }
   ],
   "source": [
    "cNaOH_0 = 100 #mM of solution to be added\n",
    "cHCl_0 = 5 #mM HCl concentration in the becker\n",
    "V_0 = 0.5 #L volume in Liters in the start\n",
    "npts = 101\n",
    "added_vol_of_tritant_span = np.linspace(1e-5, 50e-3, npts)\n",
    "\n",
    "equiv_delta_v = cHCl_0*V_0 / (cNaOH_0)\n",
    "\n",
    "nHCl_0 = cHCl_0 * V_0\n",
    "HCl_concs = nHCl_0 / (V_0 + added_vol_of_tritant_span)\n",
    "NaOH_concs = (cNaOH_0 * added_vol_of_tritant_span) / (V_0 + added_vol_of_tritant_span)\n",
    "\n",
    "sol_span = [pyequion.solve_solution({'NaOH': NaOH_concs[i], 'HCl': HCl_concs[i]}) for i in range(npts)]\n",
    "pH_span = np.array([sol.pH for sol in sol_span])\n",
    "plt.plot(added_vol_of_tritant_span*1e3, pH_span)\n",
    "plt.plot(equiv_delta_v*1e3, 7.0, 'og', ms=10)\n",
    "plt.xlabel('added volume of tritant (mL)')\n",
    "plt.ylabel('pH')\n",
    "plt.title('Titration of HCl with NaOH')"
   ]
  },
  {
   "cell_type": "markdown",
   "id": "played-journalism",
   "metadata": {},
   "source": [
    "### Checking the pH closing equation form"
   ]
  },
  {
   "cell_type": "code",
   "execution_count": 8,
   "id": "removable-member",
   "metadata": {},
   "outputs": [
    {
     "data": {
      "text/plain": [
       "{'NaOH': 1.3644800822775605e-07,\n",
       " 'OH-': 3.445392999518957e-07,\n",
       " 'H+': 1.3867150907038283e-07,\n",
       " 'Na+': 2.464212404560354,\n",
       " 'Cl-': 2.464212198692563,\n",
       " 'H2O': 1.0}"
      ]
     },
     "execution_count": 8,
     "metadata": {},
     "output_type": "execute_result"
    }
   ],
   "source": [
    "sol = pyequion.solve_solution({'NaOH': 10, 'HCl': 2}, close_type='PH', pH_fixed=7.0)\n",
    "sol.concentrations"
   ]
  },
  {
   "cell_type": "markdown",
   "id": "declared-instruction",
   "metadata": {},
   "source": [
    "## Titration of a weak acid with a strong base\n",
    "\n",
    "TO DO: Skoog or https://www.khanacademy.org/test-prep/mcat/chemical-processes/titrations-and-solubility-equilibria/a/acid-base-titration-curves#:~:text=A%20titration%20curve%20is%20a,is%20added%20from%20the%20burette.&text=2)%20The%20pH%20of%20the,base%20used%20in%20the%20titration."
   ]
  },
  {
   "cell_type": "code",
   "execution_count": null,
   "id": "different-august",
   "metadata": {},
   "outputs": [],
   "source": []
  }
 ],
 "metadata": {
  "hide_input": false,
  "kernelspec": {
   "display_name": "Python 3",
   "language": "python",
   "name": "python3"
  },
  "language_info": {
   "codemirror_mode": {
    "name": "ipython",
    "version": 3
   },
   "file_extension": ".py",
   "mimetype": "text/x-python",
   "name": "python",
   "nbconvert_exporter": "python",
   "pygments_lexer": "ipython3",
   "version": "3.7.3"
  },
  "toc": {
   "base_numbering": 1,
   "nav_menu": {},
   "number_sections": true,
   "sideBar": true,
   "skip_h1_title": false,
   "title_cell": "Table of Contents",
   "title_sidebar": "Contents",
   "toc_cell": false,
   "toc_position": {},
   "toc_section_display": true,
   "toc_window_display": false
  }
 },
 "nbformat": 4,
 "nbformat_minor": 5
}
