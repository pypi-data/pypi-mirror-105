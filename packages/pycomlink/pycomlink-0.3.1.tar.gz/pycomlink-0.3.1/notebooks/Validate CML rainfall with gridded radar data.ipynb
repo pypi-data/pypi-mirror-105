{
 "cells": [
  {
   "cell_type": "code",
   "execution_count": 1,
   "metadata": {},
   "outputs": [],
   "source": [
    "%load_ext autoreload\n",
    "%autoreload 2"
   ]
  },
  {
   "cell_type": "code",
   "execution_count": 2,
   "metadata": {},
   "outputs": [],
   "source": [
    "%matplotlib widget"
   ]
  },
  {
   "cell_type": "code",
   "execution_count": 11,
   "metadata": {},
   "outputs": [],
   "source": [
    "import pycomlink as pycml\n",
    "import xarray as xr\n",
    "import matplotlib.pyplot as plt"
   ]
  },
  {
   "cell_type": "code",
   "execution_count": 4,
   "metadata": {},
   "outputs": [
    {
     "name": "stdout",
     "output_type": "stream",
     "text": [
      "388 CMLs read in\n",
      "CPU times: user 7.87 s, sys: 593 ms, total: 8.46 s\n",
      "Wall time: 10 s\n"
     ]
    }
   ],
   "source": [
    "%%time\n",
    "cml_list = pycml.io.read_from_cmlh5(\n",
    "    '/Users/chwala-c/Dropbox/code/comlink/pycomlink_stuff/example_data/example_cml_with_R_for_Erik.h5')"
   ]
  },
  {
   "cell_type": "code",
   "execution_count": 5,
   "metadata": {},
   "outputs": [
    {
     "data": {
      "text/plain": [
       "<xarray.Dataset>\n",
       "Dimensions:          (time: 72, x: 900, y: 900)\n",
       "Coordinates:\n",
       "  * x                (x) float64 -523.5 -522.5 -521.5 ... 373.5 374.5 375.5\n",
       "  * y                (y) float64 -4.659e+03 -4.658e+03 ... -3.761e+03 -3.76e+03\n",
       "    latitudes        (y, x) float64 ...\n",
       "    longitudes       (y, x) float64 ...\n",
       "  * time             (time) datetime64[ns] 2016-11-05T00:50:00 ... 2016-11-07T23:50:00\n",
       "Data variables:\n",
       "    rainfall_amount  (time, y, x) float32 ...\n",
       "    radolan_grid     float64 ...\n",
       "Attributes:\n",
       "    title:        RADOLAN RW rainfall data\n",
       "    source:       ftp://ftp-cdc.dwd.de/pub/CDC/grids_germany/hourly/radolan/\n",
       "    institution:  DWD\n",
       "    history:      Created at 2018-01-27 04:14:35.717004\n",
       "    Conventions:  CF-1.6"
      ]
     },
     "execution_count": 5,
     "metadata": {},
     "output_type": "execute_result"
    }
   ],
   "source": [
    "ds_radolan = xr.open_dataset(\n",
    "    '/pd/data/regclim_data/gridded_data/precipitation/RADOLAN/RADOLAN_RW/RADOLAN_RW_2016.nc')\n",
    "# Trim date range to date range of CMLs\n",
    "ds_radolan = ds_radolan.sel(time=slice(cml_list[0].channel_1.data.index[0],\n",
    "                                       cml_list[0].channel_1.data.index[-1]))\n",
    "ds_radolan"
   ]
  },
  {
   "cell_type": "code",
   "execution_count": 12,
   "metadata": {},
   "outputs": [
    {
     "data": {
      "text/plain": [
       "<xarray.Dataset>\n",
       "Dimensions:          (time: 72, x: 900, y: 900)\n",
       "Coordinates:\n",
       "  * x                (x) float64 -523.5 -522.5 -521.5 ... 373.5 374.5 375.5\n",
       "  * y                (y) float64 -4.659e+03 -4.658e+03 ... -3.761e+03 -3.76e+03\n",
       "    latitudes        (y, x) float64 46.95 46.95 46.95 ... 54.73 54.73 54.73\n",
       "    longitudes       (y, x) float64 3.589 3.601 3.613 3.625 ... 15.67 15.69 15.7\n",
       "  * time             (time) datetime64[ns] 2016-11-05T00:50:00 ... 2016-11-07T23:50:00\n",
       "Data variables:\n",
       "    rainfall_amount  (time, y, x) float32 ...\n",
       "    radolan_grid     float64 ...\n",
       "Attributes:\n",
       "    title:        RADOLAN RW rainfall data\n",
       "    source:       ftp://ftp-cdc.dwd.de/pub/CDC/grids_germany/hourly/radolan/\n",
       "    institution:  DWD\n",
       "    history:      Created at 2018-01-27 04:14:35.717004\n",
       "    Conventions:  CF-1.6"
      ]
     },
     "execution_count": 12,
     "metadata": {},
     "output_type": "execute_result"
    }
   ],
   "source": [
    "ds_radolan"
   ]
  },
  {
   "cell_type": "code",
   "execution_count": 6,
   "metadata": {},
   "outputs": [],
   "source": [
    "validator = pycml.validation.validator.GridValidator(xr_ds=ds_radolan)"
   ]
  },
  {
   "cell_type": "code",
   "execution_count": 7,
   "metadata": {},
   "outputs": [
    {
     "name": "stderr",
     "output_type": "stream",
     "text": [
      "/Users/chwala-c/miniconda2/lib/python2.7/site-packages/matplotlib/__init__.py:941: MatplotlibDeprecationWarning: nbagg.transparent is deprecated and ignored. Use figure.facecolor instead.\n",
      "  mplDeprecation)\n"
     ]
    },
    {
     "data": {
      "text/html": [
       "<p>Failed to display Jupyter Widget of type <code>FigureCanvasNbAgg</code>.</p>\n",
       "<p>\n",
       "  If you're reading this message in the Jupyter Notebook or JupyterLab Notebook, it may mean\n",
       "  that the widgets JavaScript is still loading. If this message persists, it\n",
       "  likely means that the widgets JavaScript library is either not installed or\n",
       "  not enabled. See the <a href=\"https://ipywidgets.readthedocs.io/en/stable/user_install.html\">Jupyter\n",
       "  Widgets Documentation</a> for setup instructions.\n",
       "</p>\n",
       "<p>\n",
       "  If you're reading this message in another frontend (for example, a static\n",
       "  rendering on GitHub or <a href=\"https://nbviewer.jupyter.org/\">NBViewer</a>),\n",
       "  it may mean that your frontend doesn't currently support widgets.\n",
       "</p>\n"
      ],
      "text/plain": [
       "FigureCanvasNbAgg()"
      ]
     },
     "metadata": {},
     "output_type": "execute_result"
    },
    {
     "data": {
      "text/plain": [
       "[<matplotlib.axes._subplots.AxesSubplot at 0x11647b8d0>]"
      ]
     },
     "execution_count": 7,
     "metadata": {},
     "output_type": "execute_result"
    }
   ],
   "source": [
    "cml = cml_list[3]\n",
    "\n",
    "df_radolan_at_cml = validator.get_time_series(cml, 'rainfall_amount')\n",
    "\n",
    "fig, ax = plt.subplots(2, 1, sharex=True)\n",
    "df_radolan_at_cml.plot(ax=ax[0])\n",
    "cml.plot_data(['txrx'], ax=ax[1])"
   ]
  },
  {
   "cell_type": "code",
   "execution_count": 13,
   "metadata": {},
   "outputs": [
    {
     "data": {
      "text/html": [
       "<p>Failed to display Jupyter Widget of type <code>FigureCanvasNbAgg</code>.</p>\n",
       "<p>\n",
       "  If you're reading this message in the Jupyter Notebook or JupyterLab Notebook, it may mean\n",
       "  that the widgets JavaScript is still loading. If this message persists, it\n",
       "  likely means that the widgets JavaScript library is either not installed or\n",
       "  not enabled. See the <a href=\"https://ipywidgets.readthedocs.io/en/stable/user_install.html\">Jupyter\n",
       "  Widgets Documentation</a> for setup instructions.\n",
       "</p>\n",
       "<p>\n",
       "  If you're reading this message in another frontend (for example, a static\n",
       "  rendering on GitHub or <a href=\"https://nbviewer.jupyter.org/\">NBViewer</a>),\n",
       "  it may mean that your frontend doesn't currently support widgets.\n",
       "</p>\n"
      ],
      "text/plain": [
       "FigureCanvasNbAgg()"
      ]
     },
     "metadata": {},
     "output_type": "execute_result"
    }
   ],
   "source": [
    "ax = validator.plot_intersections(cml_list[10])"
   ]
  },
  {
   "cell_type": "code",
   "execution_count": 14,
   "metadata": {},
   "outputs": [
    {
     "data": {
      "text/plain": [
       "0.9999104013670284"
      ]
     },
     "execution_count": 14,
     "metadata": {},
     "output_type": "execute_result"
    }
   ],
   "source": [
    "validator.intersect_weights.sum()"
   ]
  },
  {
   "cell_type": "code",
   "execution_count": null,
   "metadata": {},
   "outputs": [],
   "source": []
  }
 ],
 "metadata": {
  "kernelspec": {
   "display_name": "Python 2",
   "language": "python",
   "name": "python2"
  },
  "language_info": {
   "codemirror_mode": {
    "name": "ipython",
    "version": 2
   },
   "file_extension": ".py",
   "mimetype": "text/x-python",
   "name": "python",
   "nbconvert_exporter": "python",
   "pygments_lexer": "ipython2",
   "version": "2.7.15"
  }
 },
 "nbformat": 4,
 "nbformat_minor": 2
}
