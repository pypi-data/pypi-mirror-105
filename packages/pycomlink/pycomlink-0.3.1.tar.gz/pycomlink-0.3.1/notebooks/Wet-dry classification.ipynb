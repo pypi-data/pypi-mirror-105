{
 "cells": [
  {
   "cell_type": "code",
   "execution_count": 1,
   "metadata": {},
   "outputs": [],
   "source": [
    "%matplotlib widget"
   ]
  },
  {
   "cell_type": "code",
   "execution_count": 2,
   "metadata": {},
   "outputs": [],
   "source": [
    "import pycomlink as pycml\n",
    "import numpy as np"
   ]
  },
  {
   "cell_type": "code",
   "execution_count": 3,
   "metadata": {},
   "outputs": [
    {
     "name": "stderr",
     "output_type": "stream",
     "text": [
      "100%|██████████| 75/75 [00:00<00:00, 75.32it/s]\n"
     ]
    }
   ],
   "source": [
    "cml_list = pycml.io.examples.get_75_cmls()"
   ]
  },
  {
   "cell_type": "code",
   "execution_count": 4,
   "metadata": {},
   "outputs": [],
   "source": [
    "for cml in cml_list:\n",
    "    cml['tsl'] = cml.tsl.where(cml.tsl != 255.0)\n",
    "    cml['rsl'] = cml.rsl.where(cml.rsl != -99.9)\n",
    "    cml['trsl'] = cml.tsl - cml.rsl"
   ]
  },
  {
   "cell_type": "code",
   "execution_count": 5,
   "metadata": {},
   "outputs": [
    {
     "data": {
      "application/vnd.jupyter.widget-view+json": {
       "model_id": "7c5f94f996464586a4ab35e69c121d63",
       "version_major": 2,
       "version_minor": 0
      },
      "text/plain": [
       "Canvas(toolbar=Toolbar(toolitems=[('Home', 'Reset original view', 'home', 'home'), ('Back', 'Back to previous …"
      ]
     },
     "metadata": {},
     "output_type": "display_data"
    }
   ],
   "source": [
    "cml.trsl.plot.line(x='time', figsize=(10,3));"
   ]
  },
  {
   "cell_type": "markdown",
   "metadata": {},
   "source": [
    "## Wet-dry classification using rolling std-dev and CNN method"
   ]
  },
  {
   "cell_type": "code",
   "execution_count": 6,
   "metadata": {},
   "outputs": [],
   "source": [
    "cml['wet'] = cml.trsl.rolling(time=60, center=True).std() > 0.8"
   ]
  },
  {
   "cell_type": "code",
   "execution_count": 7,
   "metadata": {},
   "outputs": [
    {
     "name": "stderr",
     "output_type": "stream",
     "text": [
      "/Users/chwala-c/mambaforge/envs/pycomlink-dev/lib/python3.7/site-packages/tensorflow/python/framework/dtypes.py:516: FutureWarning: Passing (type, 1) or '1type' as a synonym of type is deprecated; in a future version of numpy, it will be understood as (type, (1,)) / '(1,)type'.\n",
      "  _np_qint8 = np.dtype([(\"qint8\", np.int8, 1)])\n",
      "/Users/chwala-c/mambaforge/envs/pycomlink-dev/lib/python3.7/site-packages/tensorflow/python/framework/dtypes.py:517: FutureWarning: Passing (type, 1) or '1type' as a synonym of type is deprecated; in a future version of numpy, it will be understood as (type, (1,)) / '(1,)type'.\n",
      "  _np_quint8 = np.dtype([(\"quint8\", np.uint8, 1)])\n",
      "/Users/chwala-c/mambaforge/envs/pycomlink-dev/lib/python3.7/site-packages/tensorflow/python/framework/dtypes.py:518: FutureWarning: Passing (type, 1) or '1type' as a synonym of type is deprecated; in a future version of numpy, it will be understood as (type, (1,)) / '(1,)type'.\n",
      "  _np_qint16 = np.dtype([(\"qint16\", np.int16, 1)])\n",
      "/Users/chwala-c/mambaforge/envs/pycomlink-dev/lib/python3.7/site-packages/tensorflow/python/framework/dtypes.py:519: FutureWarning: Passing (type, 1) or '1type' as a synonym of type is deprecated; in a future version of numpy, it will be understood as (type, (1,)) / '(1,)type'.\n",
      "  _np_quint16 = np.dtype([(\"quint16\", np.uint16, 1)])\n",
      "/Users/chwala-c/mambaforge/envs/pycomlink-dev/lib/python3.7/site-packages/tensorflow/python/framework/dtypes.py:520: FutureWarning: Passing (type, 1) or '1type' as a synonym of type is deprecated; in a future version of numpy, it will be understood as (type, (1,)) / '(1,)type'.\n",
      "  _np_qint32 = np.dtype([(\"qint32\", np.int32, 1)])\n",
      "/Users/chwala-c/mambaforge/envs/pycomlink-dev/lib/python3.7/site-packages/tensorflow/python/framework/dtypes.py:525: FutureWarning: Passing (type, 1) or '1type' as a synonym of type is deprecated; in a future version of numpy, it will be understood as (type, (1,)) / '(1,)type'.\n",
      "  np_resource = np.dtype([(\"resource\", np.ubyte, 1)])\n"
     ]
    },
    {
     "name": "stdout",
     "output_type": "stream",
     "text": [
      "WARNING:tensorflow:From /Users/chwala-c/code/pycomlink/pycomlink/processing/wet_dry/cnn.py:6: The name tf.keras.backend.set_session is deprecated. Please use tf.compat.v1.keras.backend.set_session instead.\n",
      "\n"
     ]
    },
    {
     "name": "stderr",
     "output_type": "stream",
     "text": [
      "/Users/chwala-c/mambaforge/envs/pycomlink-dev/lib/python3.7/site-packages/tensorboard/compat/tensorflow_stub/dtypes.py:541: FutureWarning: Passing (type, 1) or '1type' as a synonym of type is deprecated; in a future version of numpy, it will be understood as (type, (1,)) / '(1,)type'.\n",
      "  _np_qint8 = np.dtype([(\"qint8\", np.int8, 1)])\n",
      "/Users/chwala-c/mambaforge/envs/pycomlink-dev/lib/python3.7/site-packages/tensorboard/compat/tensorflow_stub/dtypes.py:542: FutureWarning: Passing (type, 1) or '1type' as a synonym of type is deprecated; in a future version of numpy, it will be understood as (type, (1,)) / '(1,)type'.\n",
      "  _np_quint8 = np.dtype([(\"quint8\", np.uint8, 1)])\n",
      "/Users/chwala-c/mambaforge/envs/pycomlink-dev/lib/python3.7/site-packages/tensorboard/compat/tensorflow_stub/dtypes.py:543: FutureWarning: Passing (type, 1) or '1type' as a synonym of type is deprecated; in a future version of numpy, it will be understood as (type, (1,)) / '(1,)type'.\n",
      "  _np_qint16 = np.dtype([(\"qint16\", np.int16, 1)])\n",
      "/Users/chwala-c/mambaforge/envs/pycomlink-dev/lib/python3.7/site-packages/tensorboard/compat/tensorflow_stub/dtypes.py:544: FutureWarning: Passing (type, 1) or '1type' as a synonym of type is deprecated; in a future version of numpy, it will be understood as (type, (1,)) / '(1,)type'.\n",
      "  _np_quint16 = np.dtype([(\"quint16\", np.uint16, 1)])\n",
      "/Users/chwala-c/mambaforge/envs/pycomlink-dev/lib/python3.7/site-packages/tensorboard/compat/tensorflow_stub/dtypes.py:545: FutureWarning: Passing (type, 1) or '1type' as a synonym of type is deprecated; in a future version of numpy, it will be understood as (type, (1,)) / '(1,)type'.\n",
      "  _np_qint32 = np.dtype([(\"qint32\", np.int32, 1)])\n",
      "/Users/chwala-c/mambaforge/envs/pycomlink-dev/lib/python3.7/site-packages/tensorboard/compat/tensorflow_stub/dtypes.py:550: FutureWarning: Passing (type, 1) or '1type' as a synonym of type is deprecated; in a future version of numpy, it will be understood as (type, (1,)) / '(1,)type'.\n",
      "  np_resource = np.dtype([(\"resource\", np.ubyte, 1)])\n"
     ]
    },
    {
     "name": "stdout",
     "output_type": "stream",
     "text": [
      "WARNING:tensorflow:From /Users/chwala-c/mambaforge/envs/pycomlink-dev/lib/python3.7/site-packages/tensorflow/python/ops/nn_impl.py:180: add_dispatch_support.<locals>.wrapper (from tensorflow.python.ops.array_ops) is deprecated and will be removed in a future version.\n",
      "Instructions for updating:\n",
      "Use tf.where in 2.0, which has the same broadcast rule as np.where\n"
     ]
    }
   ],
   "source": [
    "from pycomlink.processing.wet_dry.cnn import cnn_wet_dry\n",
    "\n",
    "wet_cnn = cnn_wet_dry(\n",
    "    trsl_channel_1=cml.trsl.isel(channel_id=0),\n",
    "    trsl_channel_2=cml.trsl.isel(channel_id=1),\n",
    ")\n",
    "cml['wet_cnn'] = (('channel_id', 'time'), np.stack([wet_cnn, wet_cnn]))"
   ]
  },
  {
   "cell_type": "code",
   "execution_count": 9,
   "metadata": {},
   "outputs": [
    {
     "data": {
      "text/html": [
       "<div><svg style=\"position: absolute; width: 0; height: 0; overflow: hidden\">\n",
       "<defs>\n",
       "<symbol id=\"icon-database\" viewBox=\"0 0 32 32\">\n",
       "<path d=\"M16 0c-8.837 0-16 2.239-16 5v4c0 2.761 7.163 5 16 5s16-2.239 16-5v-4c0-2.761-7.163-5-16-5z\"></path>\n",
       "<path d=\"M16 17c-8.837 0-16-2.239-16-5v6c0 2.761 7.163 5 16 5s16-2.239 16-5v-6c0 2.761-7.163 5-16 5z\"></path>\n",
       "<path d=\"M16 26c-8.837 0-16-2.239-16-5v6c0 2.761 7.163 5 16 5s16-2.239 16-5v-6c0 2.761-7.163 5-16 5z\"></path>\n",
       "</symbol>\n",
       "<symbol id=\"icon-file-text2\" viewBox=\"0 0 32 32\">\n",
       "<path d=\"M28.681 7.159c-0.694-0.947-1.662-2.053-2.724-3.116s-2.169-2.030-3.116-2.724c-1.612-1.182-2.393-1.319-2.841-1.319h-15.5c-1.378 0-2.5 1.121-2.5 2.5v27c0 1.378 1.122 2.5 2.5 2.5h23c1.378 0 2.5-1.122 2.5-2.5v-19.5c0-0.448-0.137-1.23-1.319-2.841zM24.543 5.457c0.959 0.959 1.712 1.825 2.268 2.543h-4.811v-4.811c0.718 0.556 1.584 1.309 2.543 2.268zM28 29.5c0 0.271-0.229 0.5-0.5 0.5h-23c-0.271 0-0.5-0.229-0.5-0.5v-27c0-0.271 0.229-0.5 0.5-0.5 0 0 15.499-0 15.5 0v7c0 0.552 0.448 1 1 1h7v19.5z\"></path>\n",
       "<path d=\"M23 26h-14c-0.552 0-1-0.448-1-1s0.448-1 1-1h14c0.552 0 1 0.448 1 1s-0.448 1-1 1z\"></path>\n",
       "<path d=\"M23 22h-14c-0.552 0-1-0.448-1-1s0.448-1 1-1h14c0.552 0 1 0.448 1 1s-0.448 1-1 1z\"></path>\n",
       "<path d=\"M23 18h-14c-0.552 0-1-0.448-1-1s0.448-1 1-1h14c0.552 0 1 0.448 1 1s-0.448 1-1 1z\"></path>\n",
       "</symbol>\n",
       "</defs>\n",
       "</svg>\n",
       "<style>/* CSS stylesheet for displaying xarray objects in jupyterlab.\n",
       " *\n",
       " */\n",
       "\n",
       ":root {\n",
       "  --xr-font-color0: var(--jp-content-font-color0, rgba(0, 0, 0, 1));\n",
       "  --xr-font-color2: var(--jp-content-font-color2, rgba(0, 0, 0, 0.54));\n",
       "  --xr-font-color3: var(--jp-content-font-color3, rgba(0, 0, 0, 0.38));\n",
       "  --xr-border-color: var(--jp-border-color2, #e0e0e0);\n",
       "  --xr-disabled-color: var(--jp-layout-color3, #bdbdbd);\n",
       "  --xr-background-color: var(--jp-layout-color0, white);\n",
       "  --xr-background-color-row-even: var(--jp-layout-color1, white);\n",
       "  --xr-background-color-row-odd: var(--jp-layout-color2, #eeeeee);\n",
       "}\n",
       "\n",
       "html[theme=dark],\n",
       "body.vscode-dark {\n",
       "  --xr-font-color0: rgba(255, 255, 255, 1);\n",
       "  --xr-font-color2: rgba(255, 255, 255, 0.54);\n",
       "  --xr-font-color3: rgba(255, 255, 255, 0.38);\n",
       "  --xr-border-color: #1F1F1F;\n",
       "  --xr-disabled-color: #515151;\n",
       "  --xr-background-color: #111111;\n",
       "  --xr-background-color-row-even: #111111;\n",
       "  --xr-background-color-row-odd: #313131;\n",
       "}\n",
       "\n",
       ".xr-wrap {\n",
       "  display: block;\n",
       "  min-width: 300px;\n",
       "  max-width: 700px;\n",
       "}\n",
       "\n",
       ".xr-text-repr-fallback {\n",
       "  /* fallback to plain text repr when CSS is not injected (untrusted notebook) */\n",
       "  display: none;\n",
       "}\n",
       "\n",
       ".xr-header {\n",
       "  padding-top: 6px;\n",
       "  padding-bottom: 6px;\n",
       "  margin-bottom: 4px;\n",
       "  border-bottom: solid 1px var(--xr-border-color);\n",
       "}\n",
       "\n",
       ".xr-header > div,\n",
       ".xr-header > ul {\n",
       "  display: inline;\n",
       "  margin-top: 0;\n",
       "  margin-bottom: 0;\n",
       "}\n",
       "\n",
       ".xr-obj-type,\n",
       ".xr-array-name {\n",
       "  margin-left: 2px;\n",
       "  margin-right: 10px;\n",
       "}\n",
       "\n",
       ".xr-obj-type {\n",
       "  color: var(--xr-font-color2);\n",
       "}\n",
       "\n",
       ".xr-sections {\n",
       "  padding-left: 0 !important;\n",
       "  display: grid;\n",
       "  grid-template-columns: 150px auto auto 1fr 20px 20px;\n",
       "}\n",
       "\n",
       ".xr-section-item {\n",
       "  display: contents;\n",
       "}\n",
       "\n",
       ".xr-section-item input {\n",
       "  display: none;\n",
       "}\n",
       "\n",
       ".xr-section-item input + label {\n",
       "  color: var(--xr-disabled-color);\n",
       "}\n",
       "\n",
       ".xr-section-item input:enabled + label {\n",
       "  cursor: pointer;\n",
       "  color: var(--xr-font-color2);\n",
       "}\n",
       "\n",
       ".xr-section-item input:enabled + label:hover {\n",
       "  color: var(--xr-font-color0);\n",
       "}\n",
       "\n",
       ".xr-section-summary {\n",
       "  grid-column: 1;\n",
       "  color: var(--xr-font-color2);\n",
       "  font-weight: 500;\n",
       "}\n",
       "\n",
       ".xr-section-summary > span {\n",
       "  display: inline-block;\n",
       "  padding-left: 0.5em;\n",
       "}\n",
       "\n",
       ".xr-section-summary-in:disabled + label {\n",
       "  color: var(--xr-font-color2);\n",
       "}\n",
       "\n",
       ".xr-section-summary-in + label:before {\n",
       "  display: inline-block;\n",
       "  content: '►';\n",
       "  font-size: 11px;\n",
       "  width: 15px;\n",
       "  text-align: center;\n",
       "}\n",
       "\n",
       ".xr-section-summary-in:disabled + label:before {\n",
       "  color: var(--xr-disabled-color);\n",
       "}\n",
       "\n",
       ".xr-section-summary-in:checked + label:before {\n",
       "  content: '▼';\n",
       "}\n",
       "\n",
       ".xr-section-summary-in:checked + label > span {\n",
       "  display: none;\n",
       "}\n",
       "\n",
       ".xr-section-summary,\n",
       ".xr-section-inline-details {\n",
       "  padding-top: 4px;\n",
       "  padding-bottom: 4px;\n",
       "}\n",
       "\n",
       ".xr-section-inline-details {\n",
       "  grid-column: 2 / -1;\n",
       "}\n",
       "\n",
       ".xr-section-details {\n",
       "  display: none;\n",
       "  grid-column: 1 / -1;\n",
       "  margin-bottom: 5px;\n",
       "}\n",
       "\n",
       ".xr-section-summary-in:checked ~ .xr-section-details {\n",
       "  display: contents;\n",
       "}\n",
       "\n",
       ".xr-array-wrap {\n",
       "  grid-column: 1 / -1;\n",
       "  display: grid;\n",
       "  grid-template-columns: 20px auto;\n",
       "}\n",
       "\n",
       ".xr-array-wrap > label {\n",
       "  grid-column: 1;\n",
       "  vertical-align: top;\n",
       "}\n",
       "\n",
       ".xr-preview {\n",
       "  color: var(--xr-font-color3);\n",
       "}\n",
       "\n",
       ".xr-array-preview,\n",
       ".xr-array-data {\n",
       "  padding: 0 5px !important;\n",
       "  grid-column: 2;\n",
       "}\n",
       "\n",
       ".xr-array-data,\n",
       ".xr-array-in:checked ~ .xr-array-preview {\n",
       "  display: none;\n",
       "}\n",
       "\n",
       ".xr-array-in:checked ~ .xr-array-data,\n",
       ".xr-array-preview {\n",
       "  display: inline-block;\n",
       "}\n",
       "\n",
       ".xr-dim-list {\n",
       "  display: inline-block !important;\n",
       "  list-style: none;\n",
       "  padding: 0 !important;\n",
       "  margin: 0;\n",
       "}\n",
       "\n",
       ".xr-dim-list li {\n",
       "  display: inline-block;\n",
       "  padding: 0;\n",
       "  margin: 0;\n",
       "}\n",
       "\n",
       ".xr-dim-list:before {\n",
       "  content: '(';\n",
       "}\n",
       "\n",
       ".xr-dim-list:after {\n",
       "  content: ')';\n",
       "}\n",
       "\n",
       ".xr-dim-list li:not(:last-child):after {\n",
       "  content: ',';\n",
       "  padding-right: 5px;\n",
       "}\n",
       "\n",
       ".xr-has-index {\n",
       "  font-weight: bold;\n",
       "}\n",
       "\n",
       ".xr-var-list,\n",
       ".xr-var-item {\n",
       "  display: contents;\n",
       "}\n",
       "\n",
       ".xr-var-item > div,\n",
       ".xr-var-item label,\n",
       ".xr-var-item > .xr-var-name span {\n",
       "  background-color: var(--xr-background-color-row-even);\n",
       "  margin-bottom: 0;\n",
       "}\n",
       "\n",
       ".xr-var-item > .xr-var-name:hover span {\n",
       "  padding-right: 5px;\n",
       "}\n",
       "\n",
       ".xr-var-list > li:nth-child(odd) > div,\n",
       ".xr-var-list > li:nth-child(odd) > label,\n",
       ".xr-var-list > li:nth-child(odd) > .xr-var-name span {\n",
       "  background-color: var(--xr-background-color-row-odd);\n",
       "}\n",
       "\n",
       ".xr-var-name {\n",
       "  grid-column: 1;\n",
       "}\n",
       "\n",
       ".xr-var-dims {\n",
       "  grid-column: 2;\n",
       "}\n",
       "\n",
       ".xr-var-dtype {\n",
       "  grid-column: 3;\n",
       "  text-align: right;\n",
       "  color: var(--xr-font-color2);\n",
       "}\n",
       "\n",
       ".xr-var-preview {\n",
       "  grid-column: 4;\n",
       "}\n",
       "\n",
       ".xr-var-name,\n",
       ".xr-var-dims,\n",
       ".xr-var-dtype,\n",
       ".xr-preview,\n",
       ".xr-attrs dt {\n",
       "  white-space: nowrap;\n",
       "  overflow: hidden;\n",
       "  text-overflow: ellipsis;\n",
       "  padding-right: 10px;\n",
       "}\n",
       "\n",
       ".xr-var-name:hover,\n",
       ".xr-var-dims:hover,\n",
       ".xr-var-dtype:hover,\n",
       ".xr-attrs dt:hover {\n",
       "  overflow: visible;\n",
       "  width: auto;\n",
       "  z-index: 1;\n",
       "}\n",
       "\n",
       ".xr-var-attrs,\n",
       ".xr-var-data {\n",
       "  display: none;\n",
       "  background-color: var(--xr-background-color) !important;\n",
       "  padding-bottom: 5px !important;\n",
       "}\n",
       "\n",
       ".xr-var-attrs-in:checked ~ .xr-var-attrs,\n",
       ".xr-var-data-in:checked ~ .xr-var-data {\n",
       "  display: block;\n",
       "}\n",
       "\n",
       ".xr-var-data > table {\n",
       "  float: right;\n",
       "}\n",
       "\n",
       ".xr-var-name span,\n",
       ".xr-var-data,\n",
       ".xr-attrs {\n",
       "  padding-left: 25px !important;\n",
       "}\n",
       "\n",
       ".xr-attrs,\n",
       ".xr-var-attrs,\n",
       ".xr-var-data {\n",
       "  grid-column: 1 / -1;\n",
       "}\n",
       "\n",
       "dl.xr-attrs {\n",
       "  padding: 0;\n",
       "  margin: 0;\n",
       "  display: grid;\n",
       "  grid-template-columns: 125px auto;\n",
       "}\n",
       "\n",
       ".xr-attrs dt,\n",
       ".xr-attrs dd {\n",
       "  padding: 0;\n",
       "  margin: 0;\n",
       "  float: left;\n",
       "  padding-right: 10px;\n",
       "  width: auto;\n",
       "}\n",
       "\n",
       ".xr-attrs dt {\n",
       "  font-weight: normal;\n",
       "  grid-column: 1;\n",
       "}\n",
       "\n",
       ".xr-attrs dt:hover span {\n",
       "  display: inline-block;\n",
       "  background: var(--xr-background-color);\n",
       "  padding-right: 10px;\n",
       "}\n",
       "\n",
       ".xr-attrs dd {\n",
       "  grid-column: 2;\n",
       "  white-space: pre-wrap;\n",
       "  word-break: break-all;\n",
       "}\n",
       "\n",
       ".xr-icon-database,\n",
       ".xr-icon-file-text2 {\n",
       "  display: inline-block;\n",
       "  vertical-align: middle;\n",
       "  width: 1em;\n",
       "  height: 1.5em !important;\n",
       "  stroke-width: 0;\n",
       "  stroke: currentColor;\n",
       "  fill: currentColor;\n",
       "}\n",
       "</style><pre class='xr-text-repr-fallback'>&lt;xarray.Dataset&gt;\n",
       "Dimensions:           (channel_id: 2, time: 2674)\n",
       "Coordinates:\n",
       "  * time              (time) datetime64[ns] 2017-06-28T00:00:08.354864128 ......\n",
       "  * channel_id        (channel_id) object &#x27;channel_1&#x27; &#x27;channel_2&#x27;\n",
       "    cml_id            |S17 b&#x27;SY5903_2_SY5797_3&#x27;\n",
       "    site_a_latitude   float64 50.31\n",
       "    site_b_latitude   float64 50.32\n",
       "    site_a_longitude  float64 50.4\n",
       "    site_b_longitude  float64 50.32\n",
       "    frequency         (channel_id) float64 38.68 37.42\n",
       "    polarization      |S1 b&#x27;V&#x27;\n",
       "    length            float64 2.673\n",
       "Data variables:\n",
       "    tsl               (channel_id, time) float64 10.0 10.0 10.0 ... 10.0 10.0\n",
       "    rsl               (channel_id, time) float64 -42.6 -42.6 ... -41.6 -41.6\n",
       "    trsl              (channel_id, time) float64 52.6 52.6 52.6 ... 51.6 51.6\n",
       "    wet               (channel_id, time) bool False False False ... False False\n",
       "    wet_cnn           (channel_id, time) float64 nan nan nan nan ... nan nan nan</pre><div class='xr-wrap' hidden><div class='xr-header'><div class='xr-obj-type'>xarray.Dataset</div></div><ul class='xr-sections'><li class='xr-section-item'><input id='section-8d1877a0-7e92-4ac5-9c24-9e2725ca7f8d' class='xr-section-summary-in' type='checkbox' disabled ><label for='section-8d1877a0-7e92-4ac5-9c24-9e2725ca7f8d' class='xr-section-summary'  title='Expand/collapse section'>Dimensions:</label><div class='xr-section-inline-details'><ul class='xr-dim-list'><li><span class='xr-has-index'>channel_id</span>: 2</li><li><span class='xr-has-index'>time</span>: 2674</li></ul></div><div class='xr-section-details'></div></li><li class='xr-section-item'><input id='section-16c8be89-85a1-4ffd-8108-0c771adfbd6b' class='xr-section-summary-in' type='checkbox'  checked><label for='section-16c8be89-85a1-4ffd-8108-0c771adfbd6b' class='xr-section-summary' >Coordinates: <span>(10)</span></label><div class='xr-section-inline-details'></div><div class='xr-section-details'><ul class='xr-var-list'><li class='xr-var-item'><div class='xr-var-name'><span class='xr-has-index'>time</span></div><div class='xr-var-dims'>(time)</div><div class='xr-var-dtype'>datetime64[ns]</div><div class='xr-var-preview xr-preview'>2017-06-28T00:00:08.354864128 .....</div><input id='attrs-f7abb262-b52e-468d-805e-2ce1d74124a9' class='xr-var-attrs-in' type='checkbox' disabled><label for='attrs-f7abb262-b52e-468d-805e-2ce1d74124a9' title='Show/Hide attributes'><svg class='icon xr-icon-file-text2'><use xlink:href='#icon-file-text2'></use></svg></label><input id='data-a24428e5-3145-4bad-974c-55cbd28e0b80' class='xr-var-data-in' type='checkbox'><label for='data-a24428e5-3145-4bad-974c-55cbd28e0b80' title='Show/Hide data repr'><svg class='icon xr-icon-database'><use xlink:href='#icon-database'></use></svg></label><div class='xr-var-attrs'><dl class='xr-attrs'></dl></div><div class='xr-var-data'><pre>array([&#x27;2017-06-28T00:00:08.354864128&#x27;, &#x27;2017-06-28T00:01:08.324538880&#x27;,\n",
       "       &#x27;2017-06-28T00:02:08.345145088&#x27;, ..., &#x27;2017-06-29T23:57:08.302257920&#x27;,\n",
       "       &#x27;2017-06-29T23:58:08.331244032&#x27;, &#x27;2017-06-29T23:59:08.311895040&#x27;],\n",
       "      dtype=&#x27;datetime64[ns]&#x27;)</pre></div></li><li class='xr-var-item'><div class='xr-var-name'><span class='xr-has-index'>channel_id</span></div><div class='xr-var-dims'>(channel_id)</div><div class='xr-var-dtype'>object</div><div class='xr-var-preview xr-preview'>&#x27;channel_1&#x27; &#x27;channel_2&#x27;</div><input id='attrs-986fca5b-ef18-44e9-9d3d-d8d44e91cde7' class='xr-var-attrs-in' type='checkbox' disabled><label for='attrs-986fca5b-ef18-44e9-9d3d-d8d44e91cde7' title='Show/Hide attributes'><svg class='icon xr-icon-file-text2'><use xlink:href='#icon-file-text2'></use></svg></label><input id='data-19fa1f51-e99e-464d-9037-45d209158ca1' class='xr-var-data-in' type='checkbox'><label for='data-19fa1f51-e99e-464d-9037-45d209158ca1' title='Show/Hide data repr'><svg class='icon xr-icon-database'><use xlink:href='#icon-database'></use></svg></label><div class='xr-var-attrs'><dl class='xr-attrs'></dl></div><div class='xr-var-data'><pre>array([&#x27;channel_1&#x27;, &#x27;channel_2&#x27;], dtype=object)</pre></div></li><li class='xr-var-item'><div class='xr-var-name'><span>cml_id</span></div><div class='xr-var-dims'>()</div><div class='xr-var-dtype'>|S17</div><div class='xr-var-preview xr-preview'>b&#x27;SY5903_2_SY5797_3&#x27;</div><input id='attrs-f3c67fd4-0a5b-4d1d-8b63-cd16667f6a27' class='xr-var-attrs-in' type='checkbox' disabled><label for='attrs-f3c67fd4-0a5b-4d1d-8b63-cd16667f6a27' title='Show/Hide attributes'><svg class='icon xr-icon-file-text2'><use xlink:href='#icon-file-text2'></use></svg></label><input id='data-7a6115df-d06e-451e-b4d1-5e5fb566599d' class='xr-var-data-in' type='checkbox'><label for='data-7a6115df-d06e-451e-b4d1-5e5fb566599d' title='Show/Hide data repr'><svg class='icon xr-icon-database'><use xlink:href='#icon-database'></use></svg></label><div class='xr-var-attrs'><dl class='xr-attrs'></dl></div><div class='xr-var-data'><pre>array(b&#x27;SY5903_2_SY5797_3&#x27;, dtype=&#x27;|S17&#x27;)</pre></div></li><li class='xr-var-item'><div class='xr-var-name'><span>site_a_latitude</span></div><div class='xr-var-dims'>()</div><div class='xr-var-dtype'>float64</div><div class='xr-var-preview xr-preview'>50.31</div><input id='attrs-8707ff61-7a6b-417c-931b-1b035f25a32b' class='xr-var-attrs-in' type='checkbox' disabled><label for='attrs-8707ff61-7a6b-417c-931b-1b035f25a32b' title='Show/Hide attributes'><svg class='icon xr-icon-file-text2'><use xlink:href='#icon-file-text2'></use></svg></label><input id='data-1153e5a4-dc1a-41f8-b013-eff9b2d65d89' class='xr-var-data-in' type='checkbox'><label for='data-1153e5a4-dc1a-41f8-b013-eff9b2d65d89' title='Show/Hide data repr'><svg class='icon xr-icon-database'><use xlink:href='#icon-database'></use></svg></label><div class='xr-var-attrs'><dl class='xr-attrs'></dl></div><div class='xr-var-data'><pre>array(50.3144)</pre></div></li><li class='xr-var-item'><div class='xr-var-name'><span>site_b_latitude</span></div><div class='xr-var-dims'>()</div><div class='xr-var-dtype'>float64</div><div class='xr-var-preview xr-preview'>50.32</div><input id='attrs-ea5776a3-4348-4d61-bdc0-ca4dbb8e48c6' class='xr-var-attrs-in' type='checkbox' disabled><label for='attrs-ea5776a3-4348-4d61-bdc0-ca4dbb8e48c6' title='Show/Hide attributes'><svg class='icon xr-icon-file-text2'><use xlink:href='#icon-file-text2'></use></svg></label><input id='data-11aaaa43-bb82-4650-9948-513d93f93d52' class='xr-var-data-in' type='checkbox'><label for='data-11aaaa43-bb82-4650-9948-513d93f93d52' title='Show/Hide data repr'><svg class='icon xr-icon-database'><use xlink:href='#icon-database'></use></svg></label><div class='xr-var-attrs'><dl class='xr-attrs'></dl></div><div class='xr-var-data'><pre>array(50.3186)</pre></div></li><li class='xr-var-item'><div class='xr-var-name'><span>site_a_longitude</span></div><div class='xr-var-dims'>()</div><div class='xr-var-dtype'>float64</div><div class='xr-var-preview xr-preview'>50.4</div><input id='attrs-b5a9c641-518b-42bf-8e5c-87319a7863fb' class='xr-var-attrs-in' type='checkbox' disabled><label for='attrs-b5a9c641-518b-42bf-8e5c-87319a7863fb' title='Show/Hide attributes'><svg class='icon xr-icon-file-text2'><use xlink:href='#icon-file-text2'></use></svg></label><input id='data-afc6e356-a852-47a8-bc43-23e0811ba744' class='xr-var-data-in' type='checkbox'><label for='data-afc6e356-a852-47a8-bc43-23e0811ba744' title='Show/Hide data repr'><svg class='icon xr-icon-database'><use xlink:href='#icon-database'></use></svg></label><div class='xr-var-attrs'><dl class='xr-attrs'></dl></div><div class='xr-var-data'><pre>array(50.4013)</pre></div></li><li class='xr-var-item'><div class='xr-var-name'><span>site_b_longitude</span></div><div class='xr-var-dims'>()</div><div class='xr-var-dtype'>float64</div><div class='xr-var-preview xr-preview'>50.32</div><input id='attrs-b13e80c8-0e83-4b3a-8e45-f2cc4484fa9b' class='xr-var-attrs-in' type='checkbox' disabled><label for='attrs-b13e80c8-0e83-4b3a-8e45-f2cc4484fa9b' title='Show/Hide attributes'><svg class='icon xr-icon-file-text2'><use xlink:href='#icon-file-text2'></use></svg></label><input id='data-b61f6db9-4fb1-404a-944f-55b4ee3e9af0' class='xr-var-data-in' type='checkbox'><label for='data-b61f6db9-4fb1-404a-944f-55b4ee3e9af0' title='Show/Hide data repr'><svg class='icon xr-icon-database'><use xlink:href='#icon-database'></use></svg></label><div class='xr-var-attrs'><dl class='xr-attrs'></dl></div><div class='xr-var-data'><pre>array(50.3186)</pre></div></li><li class='xr-var-item'><div class='xr-var-name'><span>frequency</span></div><div class='xr-var-dims'>(channel_id)</div><div class='xr-var-dtype'>float64</div><div class='xr-var-preview xr-preview'>38.68 37.42</div><input id='attrs-22547aca-a649-4619-8429-1412fcf4c011' class='xr-var-attrs-in' type='checkbox' disabled><label for='attrs-22547aca-a649-4619-8429-1412fcf4c011' title='Show/Hide attributes'><svg class='icon xr-icon-file-text2'><use xlink:href='#icon-file-text2'></use></svg></label><input id='data-04f54c7f-c0ea-41d3-8477-98cbc1765cc7' class='xr-var-data-in' type='checkbox'><label for='data-04f54c7f-c0ea-41d3-8477-98cbc1765cc7' title='Show/Hide data repr'><svg class='icon xr-icon-database'><use xlink:href='#icon-database'></use></svg></label><div class='xr-var-attrs'><dl class='xr-attrs'></dl></div><div class='xr-var-data'><pre>array([38.682, 37.422])</pre></div></li><li class='xr-var-item'><div class='xr-var-name'><span>polarization</span></div><div class='xr-var-dims'>()</div><div class='xr-var-dtype'>|S1</div><div class='xr-var-preview xr-preview'>b&#x27;V&#x27;</div><input id='attrs-0a167c34-54b8-429c-b853-9c2f8aa5b96f' class='xr-var-attrs-in' type='checkbox' disabled><label for='attrs-0a167c34-54b8-429c-b853-9c2f8aa5b96f' title='Show/Hide attributes'><svg class='icon xr-icon-file-text2'><use xlink:href='#icon-file-text2'></use></svg></label><input id='data-17adea41-10fb-40f2-bf19-b4011543d597' class='xr-var-data-in' type='checkbox'><label for='data-17adea41-10fb-40f2-bf19-b4011543d597' title='Show/Hide data repr'><svg class='icon xr-icon-database'><use xlink:href='#icon-database'></use></svg></label><div class='xr-var-attrs'><dl class='xr-attrs'></dl></div><div class='xr-var-data'><pre>array(b&#x27;V&#x27;, dtype=&#x27;|S1&#x27;)</pre></div></li><li class='xr-var-item'><div class='xr-var-name'><span>length</span></div><div class='xr-var-dims'>()</div><div class='xr-var-dtype'>float64</div><div class='xr-var-preview xr-preview'>2.673</div><input id='attrs-7580daab-2b07-4220-bb92-3f0e6704bc64' class='xr-var-attrs-in' type='checkbox' disabled><label for='attrs-7580daab-2b07-4220-bb92-3f0e6704bc64' title='Show/Hide attributes'><svg class='icon xr-icon-file-text2'><use xlink:href='#icon-file-text2'></use></svg></label><input id='data-16cf6384-e484-4d1a-8a95-f89f370bfdd5' class='xr-var-data-in' type='checkbox'><label for='data-16cf6384-e484-4d1a-8a95-f89f370bfdd5' title='Show/Hide data repr'><svg class='icon xr-icon-database'><use xlink:href='#icon-database'></use></svg></label><div class='xr-var-attrs'><dl class='xr-attrs'></dl></div><div class='xr-var-data'><pre>array(2.67250819)</pre></div></li></ul></div></li><li class='xr-section-item'><input id='section-02bb0c69-e462-47cf-a442-20860a149e6f' class='xr-section-summary-in' type='checkbox'  checked><label for='section-02bb0c69-e462-47cf-a442-20860a149e6f' class='xr-section-summary' >Data variables: <span>(5)</span></label><div class='xr-section-inline-details'></div><div class='xr-section-details'><ul class='xr-var-list'><li class='xr-var-item'><div class='xr-var-name'><span>tsl</span></div><div class='xr-var-dims'>(channel_id, time)</div><div class='xr-var-dtype'>float64</div><div class='xr-var-preview xr-preview'>10.0 10.0 10.0 ... 10.0 10.0 10.0</div><input id='attrs-1b223a30-bee0-431c-99fa-4ba196b8581f' class='xr-var-attrs-in' type='checkbox' disabled><label for='attrs-1b223a30-bee0-431c-99fa-4ba196b8581f' title='Show/Hide attributes'><svg class='icon xr-icon-file-text2'><use xlink:href='#icon-file-text2'></use></svg></label><input id='data-e5771082-fbf5-4a94-86ee-5b4d0e1a2011' class='xr-var-data-in' type='checkbox'><label for='data-e5771082-fbf5-4a94-86ee-5b4d0e1a2011' title='Show/Hide data repr'><svg class='icon xr-icon-database'><use xlink:href='#icon-database'></use></svg></label><div class='xr-var-attrs'><dl class='xr-attrs'></dl></div><div class='xr-var-data'><pre>array([[10., 10., 10., ..., 10., 10., 10.],\n",
       "       [10., 10., 10., ..., 10., 10., 10.]])</pre></div></li><li class='xr-var-item'><div class='xr-var-name'><span>rsl</span></div><div class='xr-var-dims'>(channel_id, time)</div><div class='xr-var-dtype'>float64</div><div class='xr-var-preview xr-preview'>-42.6 -42.6 -42.6 ... -41.6 -41.6</div><input id='attrs-45697424-707b-4e7b-8757-e701639ed3b0' class='xr-var-attrs-in' type='checkbox' disabled><label for='attrs-45697424-707b-4e7b-8757-e701639ed3b0' title='Show/Hide attributes'><svg class='icon xr-icon-file-text2'><use xlink:href='#icon-file-text2'></use></svg></label><input id='data-90e6d95f-e1a1-4eec-b418-c49e3f339357' class='xr-var-data-in' type='checkbox'><label for='data-90e6d95f-e1a1-4eec-b418-c49e3f339357' title='Show/Hide data repr'><svg class='icon xr-icon-database'><use xlink:href='#icon-database'></use></svg></label><div class='xr-var-attrs'><dl class='xr-attrs'></dl></div><div class='xr-var-data'><pre>array([[-42.6, -42.6, -42.6, ..., -42.6, -42.6, -42.6],\n",
       "       [-41.6, -41.6, -41.6, ..., -41.6, -41.6, -41.6]])</pre></div></li><li class='xr-var-item'><div class='xr-var-name'><span>trsl</span></div><div class='xr-var-dims'>(channel_id, time)</div><div class='xr-var-dtype'>float64</div><div class='xr-var-preview xr-preview'>52.6 52.6 52.6 ... 51.6 51.6 51.6</div><input id='attrs-b77df48a-c02d-4951-a339-4cc627e5f1d2' class='xr-var-attrs-in' type='checkbox' disabled><label for='attrs-b77df48a-c02d-4951-a339-4cc627e5f1d2' title='Show/Hide attributes'><svg class='icon xr-icon-file-text2'><use xlink:href='#icon-file-text2'></use></svg></label><input id='data-84ff3e46-e40b-4af3-9750-9c3e1214bca2' class='xr-var-data-in' type='checkbox'><label for='data-84ff3e46-e40b-4af3-9750-9c3e1214bca2' title='Show/Hide data repr'><svg class='icon xr-icon-database'><use xlink:href='#icon-database'></use></svg></label><div class='xr-var-attrs'><dl class='xr-attrs'></dl></div><div class='xr-var-data'><pre>array([[52.6, 52.6, 52.6, ..., 52.6, 52.6, 52.6],\n",
       "       [51.6, 51.6, 51.6, ..., 51.6, 51.6, 51.6]])</pre></div></li><li class='xr-var-item'><div class='xr-var-name'><span>wet</span></div><div class='xr-var-dims'>(channel_id, time)</div><div class='xr-var-dtype'>bool</div><div class='xr-var-preview xr-preview'>False False False ... False False</div><input id='attrs-f52edf8c-d992-4cb0-9954-6d5ec1130c32' class='xr-var-attrs-in' type='checkbox' disabled><label for='attrs-f52edf8c-d992-4cb0-9954-6d5ec1130c32' title='Show/Hide attributes'><svg class='icon xr-icon-file-text2'><use xlink:href='#icon-file-text2'></use></svg></label><input id='data-08df49ec-2f61-4bb7-a211-c4642bda10e0' class='xr-var-data-in' type='checkbox'><label for='data-08df49ec-2f61-4bb7-a211-c4642bda10e0' title='Show/Hide data repr'><svg class='icon xr-icon-database'><use xlink:href='#icon-database'></use></svg></label><div class='xr-var-attrs'><dl class='xr-attrs'></dl></div><div class='xr-var-data'><pre>array([[False, False, False, ..., False, False, False],\n",
       "       [False, False, False, ..., False, False, False]])</pre></div></li><li class='xr-var-item'><div class='xr-var-name'><span>wet_cnn</span></div><div class='xr-var-dims'>(channel_id, time)</div><div class='xr-var-dtype'>float64</div><div class='xr-var-preview xr-preview'>nan nan nan nan ... nan nan nan nan</div><input id='attrs-dc6bea1e-6556-4eb9-bb31-3b62cb4c8746' class='xr-var-attrs-in' type='checkbox' disabled><label for='attrs-dc6bea1e-6556-4eb9-bb31-3b62cb4c8746' title='Show/Hide attributes'><svg class='icon xr-icon-file-text2'><use xlink:href='#icon-file-text2'></use></svg></label><input id='data-7f573d7a-ffe3-48d9-94de-592d5d4b2943' class='xr-var-data-in' type='checkbox'><label for='data-7f573d7a-ffe3-48d9-94de-592d5d4b2943' title='Show/Hide data repr'><svg class='icon xr-icon-database'><use xlink:href='#icon-database'></use></svg></label><div class='xr-var-attrs'><dl class='xr-attrs'></dl></div><div class='xr-var-data'><pre>array([[nan, nan, nan, ..., nan, nan, nan],\n",
       "       [nan, nan, nan, ..., nan, nan, nan]])</pre></div></li></ul></div></li><li class='xr-section-item'><input id='section-674abdbc-7c0b-4b50-ba66-41cbd0d90a9e' class='xr-section-summary-in' type='checkbox' disabled ><label for='section-674abdbc-7c0b-4b50-ba66-41cbd0d90a9e' class='xr-section-summary'  title='Expand/collapse section'>Attributes: <span>(0)</span></label><div class='xr-section-inline-details'></div><div class='xr-section-details'><dl class='xr-attrs'></dl></div></li></ul></div></div>"
      ],
      "text/plain": [
       "<xarray.Dataset>\n",
       "Dimensions:           (channel_id: 2, time: 2674)\n",
       "Coordinates:\n",
       "  * time              (time) datetime64[ns] 2017-06-28T00:00:08.354864128 ......\n",
       "  * channel_id        (channel_id) object 'channel_1' 'channel_2'\n",
       "    cml_id            |S17 b'SY5903_2_SY5797_3'\n",
       "    site_a_latitude   float64 50.31\n",
       "    site_b_latitude   float64 50.32\n",
       "    site_a_longitude  float64 50.4\n",
       "    site_b_longitude  float64 50.32\n",
       "    frequency         (channel_id) float64 38.68 37.42\n",
       "    polarization      |S1 b'V'\n",
       "    length            float64 2.673\n",
       "Data variables:\n",
       "    tsl               (channel_id, time) float64 10.0 10.0 10.0 ... 10.0 10.0\n",
       "    rsl               (channel_id, time) float64 -42.6 -42.6 ... -41.6 -41.6\n",
       "    trsl              (channel_id, time) float64 52.6 52.6 52.6 ... 51.6 51.6\n",
       "    wet               (channel_id, time) bool False False False ... False False\n",
       "    wet_cnn           (channel_id, time) float64 nan nan nan nan ... nan nan nan"
      ]
     },
     "execution_count": 9,
     "metadata": {},
     "output_type": "execute_result"
    }
   ],
   "source": [
    "cml"
   ]
  },
  {
   "cell_type": "code",
   "execution_count": 10,
   "metadata": {},
   "outputs": [
    {
     "data": {
      "application/vnd.jupyter.widget-view+json": {
       "model_id": "8bc6e1ee6dab4fccbf9ebe3470078a45",
       "version_major": 2,
       "version_minor": 0
      },
      "text/plain": [
       "Canvas(toolbar=Toolbar(toolitems=[('Home', 'Reset original view', 'home', 'home'), ('Back', 'Back to previous …"
      ]
     },
     "metadata": {},
     "output_type": "display_data"
    }
   ],
   "source": [
    "import matplotlib.pyplot as plt\n",
    "\n",
    "#cml = cml_list[0]\n",
    "#cml['trsl'] = cml.tsl - cml.rsl\n",
    "\n",
    "fig, ax = plt.subplots(3, 1, figsize=(12,5), sharex=True)\n",
    "\n",
    "cml.trsl.plot.line(x='time', ax=ax[0])\n",
    "cml.wet_cnn.plot.line(x='time', ax=ax[1])\n",
    "(cml.trsl.rolling(time=60, center=True).std()).plot.line(x='time', ax=ax[2])\n",
    "ax[0].set_title('trsl')\n",
    "ax[1].set_title('cnn wet-dry')\n",
    "ax[2].set_title('rolling std_dev');"
   ]
  },
  {
   "cell_type": "code",
   "execution_count": 11,
   "metadata": {},
   "outputs": [
    {
     "data": {
      "application/vnd.jupyter.widget-view+json": {
       "model_id": "d81075b1c94b48f3a04dea687d971cf1",
       "version_major": 2,
       "version_minor": 0
      },
      "text/plain": [
       "Canvas(toolbar=Toolbar(toolitems=[('Home', 'Reset original view', 'home', 'home'), ('Back', 'Back to previous …"
      ]
     },
     "metadata": {},
     "output_type": "display_data"
    }
   ],
   "source": [
    "fig, ax = plt.subplots(figsize=(10,3))\n",
    "\n",
    "cml['baseline'] = pycml.processing.baseline.baseline_constant(rsl=cml.trsl, wet=cml.wet)\n",
    "cml.trsl.plot.line(x='time', alpha=0.5)\n",
    "plt.gca().set_prop_cycle(None)\n",
    "cml.baseline.plot.line(x='time');"
   ]
  },
  {
   "cell_type": "code",
   "execution_count": 12,
   "metadata": {},
   "outputs": [],
   "source": [
    "cml['waa'] = pycml.processing.wet_antenna.waa_schleiss_2013(\n",
    "    rsl=cml.trsl, \n",
    "    baseline=cml.baseline, \n",
    "    wet=cml.wet, \n",
    "    waa_max=2.2, \n",
    "    delta_t=1, \n",
    "    tau=15,\n",
    ")"
   ]
  },
  {
   "cell_type": "code",
   "execution_count": 16,
   "metadata": {},
   "outputs": [
    {
     "data": {
      "application/vnd.jupyter.widget-view+json": {
       "model_id": "fee18a8b25a54b7a880feae780145d78",
       "version_major": 2,
       "version_minor": 0
      },
      "text/plain": [
       "Canvas(toolbar=Toolbar(toolitems=[('Home', 'Reset original view', 'home', 'home'), ('Back', 'Back to previous …"
      ]
     },
     "metadata": {},
     "output_type": "display_data"
    },
    {
     "data": {
      "text/plain": [
       "Text(0, 0.5, 'path attenuation')"
      ]
     },
     "execution_count": 16,
     "metadata": {},
     "output_type": "execute_result"
    }
   ],
   "source": [
    "fig, axs = plt.subplots(2, 1, figsize=(10,5), sharex=True)\n",
    "\n",
    "plt.sca(axs[0])\n",
    "cml['baseline'] = pycml.processing.baseline.baseline_constant(rsl=cml.trsl, wet=cml.wet)\n",
    "cml.trsl.plot.line(x='time', alpha=0.5)\n",
    "plt.gca().set_prop_cycle(None)\n",
    "cml.baseline.plot.line(x='time', linestyle=':');\n",
    "plt.gca().set_prop_cycle(None)\n",
    "(cml.baseline + cml.waa).plot.line(x='time');\n",
    "plt.ylabel('TRSL')\n",
    "\n",
    "plt.sca(axs[1])\n",
    "cml['A'] = cml.trsl - cml.baseline - cml.waa\n",
    "cml['A'] = cml.A.where(cml.A > 0, 0)\n",
    "(cml.A + cml.waa).plot.line(x='time', linestyle=':');\n",
    "plt.gca().set_prop_cycle(None)\n",
    "cml.A.plot.line(x='time');\n",
    "plt.ylabel('path attenuation')"
   ]
  },
  {
   "cell_type": "code",
   "execution_count": null,
   "metadata": {},
   "outputs": [],
   "source": []
  },
  {
   "cell_type": "code",
   "execution_count": null,
   "metadata": {},
   "outputs": [],
   "source": []
  },
  {
   "cell_type": "code",
   "execution_count": 23,
   "metadata": {},
   "outputs": [],
   "source": [
    "# non working try with `xr.apply_ufunc`\n",
    "\n",
    "# def baseline_constant(rsl, wet):\n",
    "#     \"\"\" Some docstring \"\"\"\n",
    "#     return _numba_baseline_constant(\n",
    "#         np.asarray(rsl, dtype=np.float64),\n",
    "#         np.asarray(wet, dtype=np.float64),\n",
    "#     )\n",
    "\n",
    "\n",
    "# xr.apply_ufunc(\n",
    "#     baseline_constant,\n",
    "#     cml.trsl,\n",
    "#     cml.wet,\n",
    "#     input_core_dims=[['channel_id', 'time'], ['channel_id', 'time']],\n",
    "#     output_core_dims=[['channel_id', 'time']],\n",
    "#     exclude_dims=set(('time', )),\n",
    "# )"
   ]
  },
  {
   "cell_type": "code",
   "execution_count": 24,
   "metadata": {},
   "outputs": [],
   "source": [
    "# xr.apply_ufunc(\n",
    "#     interp1d_np,  # first the function\n",
    "#     air.isel(time=0, lon=0),  # now arguments in the order expected by 'interp1_np'\n",
    "#     air.lat,\n",
    "#     newlat,\n",
    "#     input_core_dims=[[\"lat\"], [\"lat\"], []],  # list with one entry per arg\n",
    "#     output_core_dims=[[\"lat\"]],\n",
    "#     exclude_dims=set((\"lat\",)),  # dimensions allowed to change size. Must be set!\n",
    "# )"
   ]
  },
  {
   "cell_type": "code",
   "execution_count": 15,
   "metadata": {},
   "outputs": [],
   "source": [
    "cml.trsl.plot.line(x='time')\n",
    "cml.baseline.plot.line(x='time');"
   ]
  },
  {
   "cell_type": "code",
   "execution_count": 26,
   "metadata": {},
   "outputs": [
    {
     "data": {
      "image/png": "[encoded data removed]",
      "text/plain": [
       "<Figure size 432x288 with 1 Axes>"
      ]
     },
     "metadata": {
      "needs_background": "light"
     },
     "output_type": "display_data"
    }
   ],
   "source": [
    "cml['A_obs'] = (cml.trsl - cml.baseline)\n",
    "cml['A_obs'] = cml.A_obs.where(cml.A_obs >=0, 0)\n",
    "cml.A_obs.plot.line(x='time');"
   ]
  },
  {
   "cell_type": "code",
   "execution_count": 27,
   "metadata": {},
   "outputs": [],
   "source": [
    "# TODO: Allow to pass several channels and handle the required 1D array of frequencies\n",
    "cml['waa'] = ('channel_id', 'time'), np.stack([\n",
    "    pycml.processing.wet_antenna.waa_leijnse_2008_from_A_obs(\n",
    "        A_obs=cml_ch.A_obs.values, \n",
    "        f_Hz=cml_ch.frequency.values*1e9, \n",
    "        L_km=cml_ch.length.values,\n",
    "    ) for channel_name, cml_ch in cml.groupby('channel_id')\n",
    "])"
   ]
  },
  {
   "cell_type": "code",
   "execution_count": 28,
   "metadata": {},
   "outputs": [
    {
     "data": {
      "image/png": "[encoded data removed]",
      "text/plain": [
       "<Figure size 432x288 with 1 Axes>"
      ]
     },
     "metadata": {
      "needs_background": "light"
     },
     "output_type": "display_data"
    }
   ],
   "source": [
    "cml.waa.plot.line(x='time');"
   ]
  },
  {
   "cell_type": "code",
   "execution_count": 81,
   "metadata": {},
   "outputs": [
    {
     "ename": "NameError",
     "evalue": "name 'xarray_loop_vars_over_dim' is not defined",
     "output_type": "error",
     "traceback": [
      "\u001b[0;31m---------------------------------------------------------------------------\u001b[0m",
      "\u001b[0;31mNameError\u001b[0m                                 Traceback (most recent call last)",
      "\u001b[0;32m<ipython-input-81-2eee42174245>\u001b[0m in \u001b[0;36m<module>\u001b[0;34m()\u001b[0m\n\u001b[1;32m      1\u001b[0m \u001b[0;31m# Tried the WIP decorrator here as a function, but this does not work because\u001b[0m\u001b[0;34m\u001b[0m\u001b[0;34m\u001b[0m\u001b[0;34m\u001b[0m\u001b[0m\n\u001b[1;32m      2\u001b[0m \u001b[0;31m# the function called insided would also need to be wrapped\u001b[0m\u001b[0;34m\u001b[0m\u001b[0;34m\u001b[0m\u001b[0;34m\u001b[0m\u001b[0m\n\u001b[0;32m----> 3\u001b[0;31m waa_leijnse_2008_from_A_obs = xarray_loop_vars_over_dim(vars_to_loop=['A_obs', 'f_Hz'], loop_dim='channel_id')(\n\u001b[0m\u001b[1;32m      4\u001b[0m     \u001b[0mpycml\u001b[0m\u001b[0;34m.\u001b[0m\u001b[0mprocessing\u001b[0m\u001b[0;34m.\u001b[0m\u001b[0mwet_antenna\u001b[0m\u001b[0;34m.\u001b[0m\u001b[0mwaa_leijnse_2008_from_A_obs\u001b[0m\u001b[0;34m\u001b[0m\u001b[0;34m\u001b[0m\u001b[0m\n\u001b[1;32m      5\u001b[0m )\n",
      "\u001b[0;31mNameError\u001b[0m: name 'xarray_loop_vars_over_dim' is not defined"
     ]
    }
   ],
   "source": [
    "# Tried the WIP decorrator here as a function, but this does not work because \n",
    "# the function called insided would also need to be wrapped\n",
    "waa_leijnse_2008_from_A_obs = xarray_loop_vars_over_dim(vars_to_loop=['A_obs', 'f_Hz'], loop_dim='channel_id')(\n",
    "    pycml.processing.wet_antenna.waa_leijnse_2008_from_A_obs\n",
    ")\n",
    "\n",
    "waa_leijnse_2008_from_A_obs(\n",
    "    A_obs=cml.A_obs.values, \n",
    "    f_Hz=cml.frequency.values*1e9, \n",
    "    L_km=cml.length.values,driv\n",
    ")"
   ]
  },
  {
   "cell_type": "code",
   "execution_count": 30,
   "metadata": {},
   "outputs": [
    {
     "data": {
      "image/png": "[encoded data removed]",
      "text/plain": [
       "<Figure size 432x288 with 1 Axes>"
      ]
     },
     "metadata": {
      "needs_background": "light"
     },
     "output_type": "display_data"
    }
   ],
   "source": [
    "cml['A_rain'] = cml.A_obs - cml.waa\n",
    "cml.A_obs.plot.line(x='time');\n",
    "cml.A_rain.plot.line(x='time');"
   ]
  },
  {
   "cell_type": "code",
   "execution_count": 31,
   "metadata": {},
   "outputs": [],
   "source": [
    "# TODO: Same as above, but also make units of L and f consistenst\n",
    "cml['R'] = ('channel_id', 'time'), np.stack([\n",
    "    pycml.processing.k_R_relation.calc_R_from_A(\n",
    "        A=cml_ch.A_obs.values, \n",
    "        L=cml_ch.length.values,\n",
    "        f_GHz=cml_ch.frequency.values,\n",
    "    ) for channel_name, cml_ch in cml.groupby('channel_id')\n",
    "])"
   ]
  },
  {
   "cell_type": "code",
   "execution_count": 32,
   "metadata": {},
   "outputs": [
    {
     "data": {
      "image/png": "[encoded data removed]",
      "text/plain": [
       "<Figure size 432x288 with 1 Axes>"
      ]
     },
     "metadata": {
      "needs_background": "light"
     },
     "output_type": "display_data"
    }
   ],
   "source": [
    "cml.R.plot.line(x='time');"
   ]
  },
  {
   "cell_type": "code",
   "execution_count": 33,
   "metadata": {},
   "outputs": [
    {
     "data": {
      "image/png": "[encoded data removed]",
      "text/plain": [
       "<Figure size 432x288 with 1 Axes>"
      ]
     },
     "metadata": {
      "needs_background": "light"
     },
     "output_type": "display_data"
    }
   ],
   "source": [
    "cml.R.cumsum(dim='time').plot.line(x='time');"
   ]
  },
  {
   "cell_type": "code",
   "execution_count": 34,
   "metadata": {},
   "outputs": [
    {
     "data": {
      "image/png": "[encoded data removed]",
      "text/plain": [
       "<Figure size 432x288 with 1 Axes>"
      ]
     },
     "metadata": {
      "needs_background": "light"
     },
     "output_type": "display_data"
    }
   ],
   "source": [
    "cml.R.resample(time='1h').mean().cumsum(dim='time').plot.line(x='time');"
   ]
  },
  {
   "cell_type": "code",
   "execution_count": 35,
   "metadata": {},
   "outputs": [
    {
     "data": {
      "text/html": [
       "<pre>&lt;xarray.Dataset&gt;\n",
       "Dimensions:           (channel_id: 2, time: 2750)\n",
       "Coordinates:\n",
       "    polarization      |S1 b&#x27;V&#x27;\n",
       "    cml_id            |S17 b&#x27;MY1394_2_MY2336_4&#x27;\n",
       "    length            float64 13.48\n",
       "    site_b_latitude   float64 50.38\n",
       "    site_a_latitude   float64 50.26\n",
       "    site_a_longitude  float64 50.91\n",
       "    site_b_longitude  float64 50.38\n",
       "  * time              (time) datetime64[ns] 2017-06-28T00:00:10.241754112 ... 2017-06-29T23:59:10.229434880\n",
       "  * channel_id        (channel_id) object &#x27;channel_1&#x27; &#x27;channel_2&#x27;\n",
       "    frequency         (channel_id) float64 18.2 19.2\n",
       "Data variables:\n",
       "    tsl               (channel_id, time) float64 14.0 14.0 14.0 ... 14.0 13.0\n",
       "    rsl               (channel_id, time) float64 -47.0 -47.0 ... -47.0 -47.0\n",
       "    trsl              (channel_id, time) float64 61.0 61.0 61.0 ... 61.0 60.0\n",
       "    wet               (channel_id, time) bool False False False ... False False\n",
       "    baseline          (channel_id, time) float64 61.0 61.0 61.0 ... 61.0 60.0\n",
       "    A_obs             (channel_id, time) float64 0.0 0.0 0.0 0.0 ... 0.0 0.0 0.0\n",
       "    waa               (channel_id, time) float64 0.0 0.0 0.0 0.0 ... 0.0 0.0 0.0\n",
       "    A_rain            (channel_id, time) float64 0.0 0.0 0.0 0.0 ... 0.0 0.0 0.0\n",
       "    R                 (channel_id, time) float64 0.0 0.0 0.0 0.0 ... 0.0 0.0 0.0</pre>"
      ],
      "text/plain": [
       "<xarray.Dataset>\n",
       "Dimensions:           (channel_id: 2, time: 2750)\n",
       "Coordinates:\n",
       "    polarization      |S1 b'V'\n",
       "    cml_id            |S17 b'MY1394_2_MY2336_4'\n",
       "    length            float64 13.48\n",
       "    site_b_latitude   float64 50.38\n",
       "    site_a_latitude   float64 50.26\n",
       "    site_a_longitude  float64 50.91\n",
       "    site_b_longitude  float64 50.38\n",
       "  * time              (time) datetime64[ns] 2017-06-28T00:00:10.241754112 ... 2017-06-29T23:59:10.229434880\n",
       "  * channel_id        (channel_id) object 'channel_1' 'channel_2'\n",
       "    frequency         (channel_id) float64 18.2 19.2\n",
       "Data variables:\n",
       "    tsl               (channel_id, time) float64 14.0 14.0 14.0 ... 14.0 13.0\n",
       "    rsl               (channel_id, time) float64 -47.0 -47.0 ... -47.0 -47.0\n",
       "    trsl              (channel_id, time) float64 61.0 61.0 61.0 ... 61.0 60.0\n",
       "    wet               (channel_id, time) bool False False False ... False False\n",
       "    baseline          (channel_id, time) float64 61.0 61.0 61.0 ... 61.0 60.0\n",
       "    A_obs             (channel_id, time) float64 0.0 0.0 0.0 0.0 ... 0.0 0.0 0.0\n",
       "    waa               (channel_id, time) float64 0.0 0.0 0.0 0.0 ... 0.0 0.0 0.0\n",
       "    A_rain            (channel_id, time) float64 0.0 0.0 0.0 0.0 ... 0.0 0.0 0.0\n",
       "    R                 (channel_id, time) float64 0.0 0.0 0.0 0.0 ... 0.0 0.0 0.0"
      ]
     },
     "execution_count": 35,
     "metadata": {},
     "output_type": "execute_result"
    }
   ],
   "source": [
    "cml"
   ]
  },
  {
   "cell_type": "code",
   "execution_count": null,
   "metadata": {},
   "outputs": [],
   "source": []
  }
 ],
 "metadata": {
  "kernelspec": {
   "display_name": "Python 3",
   "language": "python",
   "name": "python3"
  },
  "language_info": {
   "codemirror_mode": {
    "name": "ipython",
    "version": 3
   },
   "file_extension": ".py",
   "mimetype": "text/x-python",
   "name": "python",
   "nbconvert_exporter": "python",
   "pygments_lexer": "ipython3",
   "version": "3.7.10"
  }
 },
 "nbformat": 4,
 "nbformat_minor": 4
}
